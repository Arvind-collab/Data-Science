{
 "cells": [
  {
   "cell_type": "markdown",
   "metadata": {},
   "source": [
    "<table align=\"center\" width=100%>\n",
    "    <tr>\n",
    "        <td width=\"15%\">\n",
    "            <img src=\"edaicon.png\">\n",
    "        </td>\n",
    "        <td>\n",
    "            <div align=\"center\">\n",
    "                <font color=\"#21618C\" size=24px>\n",
    "                    <b>Exploratory Data Analysis\n",
    "                    </b>\n",
    "                </font>\n",
    "            </div>\n",
    "        </td>\n",
    "    </tr>\n",
    "</table>"
   ]
  },
  {
   "cell_type": "markdown",
   "metadata": {},
   "source": [
    "## Problem Statement\n",
    "\n",
    "The zomato exploratory data analysis is for the foodies to find the best restaurants, value for money restaurants in their locality. It also helps to find their required cuisines in their locality.  "
   ]
  },
  {
   "cell_type": "markdown",
   "metadata": {},
   "source": [
    "## Data Definition\n",
    "\n",
    "**res_id**: The code given to a restaurant (Categorical) \n",
    "\n",
    "**name**: Name of the restaurant (Categorical)\n",
    "\n",
    "**establishment**: Represents the type of establishment (Categorical)\n",
    "\n",
    "**url**: The website of the restaurant (Categorical)\n",
    "\n",
    "**address**: The address of the restaurant (Categorical)\n",
    "\n",
    "**city**: City in which the restaurant located (Categorical)\n",
    "\n",
    "**city_id**: The code given to a city (Categorical)\n",
    "\n",
    "**locality**: Locality of the restaurant (Categorical)\n",
    "\n",
    "**latitude**: Latitude of the restaurant (Categorical)\n",
    "\n",
    "**longitude**: Longitude of the restaurant (Categorical)\n",
    "\n",
    "**zipcode**: Zipcode of the city in which the restaurant located (Categorical)\n",
    "\n",
    "**country_id**: Country code in which the restaurant located (Categorical)\n",
    "\n",
    "**locality_verbose**: Locality along with the city in which the restaurant located (Categorical)\n",
    "\n",
    "**cuisines**: The cuisines a restaurant serves (Categorical)\n",
    "\n",
    "**timings**: The working hours of a restaurant (Categorical)\n",
    "\n",
    "**average_cost_for_two**: The average amount expected for 2 people (Numerical)\n",
    "\n",
    "**price_range**: The categories for average cost (Categories - 1,2,3,4) (Categorical)\n",
    "\n",
    "**currency**: The currency in which a customer pays (Categorical)\n",
    "\n",
    "**highlights**: The facilities of the restaurant (Categorical)\n",
    "\n",
    "**aggregate_rating**: The overall rating a restaurant has got (Numerical) \n",
    "\n",
    "**rating_text**: Categorized ratings (Categorical)\n",
    "\n",
    "**votes**: Number of votes received by the restaurant from customers (Numerical)\n",
    "\n",
    "**photo_count**: The number of photos of a restaurant (Numerical)\n",
    "\n",
    "**opentable_support**: Restaurant reservation from Opentable (Categorical)\n",
    "\n",
    "**delivery**: The restaurant deliver an order or not (Categorical)\n",
    "\n",
    "**takeaway**: The restaurant allows  a 'takeaway' of an order or not (Categorical)"
   ]
  },
  {
   "cell_type": "markdown",
   "metadata": {},
   "source": [
    "## Table of Contents\n",
    "\n",
    "1. **[Import Libraries](#import_lib)** \n",
    "2. **[Set Options](#set_options)** \n",
    "3. **[Read Data](#Read_Data)** \n",
    "4. **[Understand  and Prepare the Data](#Understand_Data)**\n",
    "5. **[Understand the variables](#Understanding_variables)**\n",
    "6. **[Check for Missing Values](#missing)**\n",
    "7. **[Study Correlation](#correlation)**\n",
    "8. **[Detect Outliers](#outliers)**\n",
    "9. **[Create a new variable 'region'](#region)**\n",
    "10. **[Some more analysis](#more)** \n"
   ]
  },
  {
   "cell_type": "markdown",
   "metadata": {},
   "source": [
    "<a id='import_lib'></a>\n",
    "## 1. Import Libraries"
   ]
  },
  {
   "cell_type": "markdown",
   "metadata": {},
   "source": [
    "<table align =\"left\">\n",
    "    <tr>\n",
    "        <td width=\"8%\">\n",
    "            <img src=\"todo.png\">\n",
    "        </td>\n",
    "        <td>\n",
    "            <div align=\"left\", style=\"font-size:120%\">\n",
    "                <font color=\"#21618C\">\n",
    "                    <b> Import the required libraries and functions\n",
    "                    </b>\n",
    "                </font>\n",
    "            </div>\n",
    "        </td>\n",
    "    </tr>\n",
    "</table>"
   ]
  },
  {
   "cell_type": "code",
   "execution_count": 1,
   "metadata": {},
   "outputs": [],
   "source": [
    "import seaborn as sns\n",
    "import matplotlib.pyplot as plt\n",
    "import pandas as pd\n",
    "import numpy as np\n",
    "import os"
   ]
  },
  {
   "cell_type": "markdown",
   "metadata": {},
   "source": [
    "<a id='set_options'></a>\n",
    "## 2. Set Options"
   ]
  },
  {
   "cell_type": "markdown",
   "metadata": {},
   "source": [
    "<table align=\"left\">\n",
    "    <tr>\n",
    "        <td width=\"8%\">\n",
    "            <img src=\"todo.png\">\n",
    "        </td>\n",
    "        <td>\n",
    "            <div align=\"left\", style=\"font-size:120%\">\n",
    "                <font color=\"#21618C\">\n",
    "                    <b>Make necessary changes to :<br><br>\n",
    "Set the working directory              \n",
    "                    </b>\n",
    "                </font>\n",
    "            </div>\n",
    "        </td>\n",
    "    </tr>\n",
    "</table>"
   ]
  },
  {
   "cell_type": "code",
   "execution_count": 2,
   "metadata": {},
   "outputs": [
    {
     "data": {
      "text/plain": [
       "'C:\\\\Users\\\\Kejri\\\\Downloads\\\\files\\\\Capstone'"
      ]
     },
     "execution_count": 2,
     "metadata": {},
     "output_type": "execute_result"
    }
   ],
   "source": [
    "os.chdir('C:\\\\Users\\\\Kejri\\\\Downloads\\\\files\\\\Capstone')\n",
    "os.getcwd()"
   ]
  },
  {
   "cell_type": "markdown",
   "metadata": {},
   "source": [
    "<a id='Read_Data'></a>\n",
    "## 3. Read Data"
   ]
  },
  {
   "cell_type": "code",
   "execution_count": 3,
   "metadata": {},
   "outputs": [],
   "source": [
    "df_restaurants = pd.read_csv('ZomatoRestaurantsIndia.csv')"
   ]
  },
  {
   "cell_type": "markdown",
   "metadata": {},
   "source": [
    "<a id='Understand_Data'></a>\n",
    "## 4. Understand  and Prepare the Data"
   ]
  },
  {
   "cell_type": "markdown",
   "metadata": {},
   "source": [
    "A well-prepared data proves beneficial for analysis as it limits errors and inaccuracies that can occur during analysis. The processed data is more accessible to users.<br> <br>\n",
    "                         Data understanding is the process of getting familiar with the data, to identify data type, to discover first insights into the data, or to detect interesting subsets to form hypotheses about hidden information. Whereas, data preparation is the process of cleaning and transforming raw data before analysis. It is an important step before processing and often involves reformatting data, making corrections to data. <br> <br>\n",
    "                        Data preparation is often a lengthy process, but it is essential as a prerequisite to put data in context to get insights and eliminate bias resulting from poor data quality."
   ]
  },
  {
   "cell_type": "markdown",
   "metadata": {},
   "source": [
    "<table align=\"left\">\n",
    "    <tr>\n",
    "        <td width=\"8%\">\n",
    "            <img src=\"todo.png\">\n",
    "        </td>\n",
    "        <td>\n",
    "            <div align=\"left\", style=\"font-size:120%\">\n",
    "                <font color=\"#21618C\">\n",
    "                    <b> Analyze and prepare data:<br>\n",
    "                        1. Check dimensions of the dataframe <br>\n",
    "                        2. View the head of the data<br>\n",
    "                        3. Note the redundant variables and drop them <br>\n",
    "                        4. Check the data types. Refer to data definition to ensure your data types are correct. If data types are not as per business context, change the data types as per requirement <br>\n",
    "                        5. Check for duplicates<br>\n",
    "                        Note: It is an art to explore data and one will need more and more practice to gain expertise in this area\n",
    "                    </b>\n",
    "                </font>\n",
    "            </div>\n",
    "        </td>\n",
    "    </tr>\n",
    "</table>"
   ]
  },
  {
   "cell_type": "markdown",
   "metadata": {},
   "source": [
    "### -------------------------*** Provide the inference's from the output of every code executed.***----------------------------"
   ]
  },
  {
   "cell_type": "markdown",
   "metadata": {},
   "source": [
    "**1. Check dimensions of the dataframe in terms of rows and columns**"
   ]
  },
  {
   "cell_type": "code",
   "execution_count": 4,
   "metadata": {},
   "outputs": [
    {
     "data": {
      "text/plain": [
       "(211944, 26)"
      ]
     },
     "execution_count": 4,
     "metadata": {},
     "output_type": "execute_result"
    }
   ],
   "source": [
    "df_restaurants.shape"
   ]
  },
  {
   "cell_type": "code",
   "execution_count": 5,
   "metadata": {},
   "outputs": [
    {
     "name": "stdout",
     "output_type": "stream",
     "text": [
      "<class 'pandas.core.frame.DataFrame'>\n",
      "RangeIndex: 211944 entries, 0 to 211943\n",
      "Data columns (total 26 columns):\n",
      "res_id                  211944 non-null int64\n",
      "name                    211944 non-null object\n",
      "establishment           207117 non-null object\n",
      "url                     211944 non-null object\n",
      "address                 211810 non-null object\n",
      "city                    211944 non-null object\n",
      "city_id                 211944 non-null int64\n",
      "locality                211944 non-null object\n",
      "latitude                211944 non-null float64\n",
      "longitude               211944 non-null float64\n",
      "zipcode                 48757 non-null object\n",
      "country_id              211944 non-null int64\n",
      "locality_verbose        211944 non-null object\n",
      "cuisines                210553 non-null object\n",
      "timings                 208070 non-null object\n",
      "average_cost_for_two    211944 non-null int64\n",
      "price_range             211944 non-null int64\n",
      "currency                211944 non-null object\n",
      "highlights              209875 non-null object\n",
      "aggregate_rating        211944 non-null float64\n",
      "rating_text             211944 non-null object\n",
      "votes                   211944 non-null int64\n",
      "photo_count             211944 non-null int64\n",
      "opentable_support       211896 non-null float64\n",
      "delivery                211944 non-null int64\n",
      "takeaway                211944 non-null int64\n",
      "dtypes: float64(4), int64(9), object(13)\n",
      "memory usage: 42.0+ MB\n"
     ]
    }
   ],
   "source": [
    "df_restaurants.info()"
   ]
  },
  {
   "cell_type": "code",
   "execution_count": 6,
   "metadata": {},
   "outputs": [
    {
     "name": "stdout",
     "output_type": "stream",
     "text": [
      "The dataframe has 211944 rows and 26 columns. Also in some columns, such as, 'establishment', 'zipcode', 'highlights' etc., the number of rows are less.\n"
     ]
    }
   ],
   "source": [
    "print('The dataframe has 211944 rows and 26 columns. Also in some columns, such as, \\'establishment\\', \\'zipcode\\', \\'highlights\\' etc., the number of rows are less.')"
   ]
  },
  {
   "cell_type": "markdown",
   "metadata": {},
   "source": [
    "**2. View the head of the data**"
   ]
  },
  {
   "cell_type": "code",
   "execution_count": 7,
   "metadata": {},
   "outputs": [
    {
     "data": {
      "text/html": [
       "<div>\n",
       "<style scoped>\n",
       "    .dataframe tbody tr th:only-of-type {\n",
       "        vertical-align: middle;\n",
       "    }\n",
       "\n",
       "    .dataframe tbody tr th {\n",
       "        vertical-align: top;\n",
       "    }\n",
       "\n",
       "    .dataframe thead th {\n",
       "        text-align: right;\n",
       "    }\n",
       "</style>\n",
       "<table border=\"1\" class=\"dataframe\">\n",
       "  <thead>\n",
       "    <tr style=\"text-align: right;\">\n",
       "      <th></th>\n",
       "      <th>res_id</th>\n",
       "      <th>name</th>\n",
       "      <th>establishment</th>\n",
       "      <th>url</th>\n",
       "      <th>address</th>\n",
       "      <th>city</th>\n",
       "      <th>city_id</th>\n",
       "      <th>locality</th>\n",
       "      <th>latitude</th>\n",
       "      <th>longitude</th>\n",
       "      <th>...</th>\n",
       "      <th>price_range</th>\n",
       "      <th>currency</th>\n",
       "      <th>highlights</th>\n",
       "      <th>aggregate_rating</th>\n",
       "      <th>rating_text</th>\n",
       "      <th>votes</th>\n",
       "      <th>photo_count</th>\n",
       "      <th>opentable_support</th>\n",
       "      <th>delivery</th>\n",
       "      <th>takeaway</th>\n",
       "    </tr>\n",
       "  </thead>\n",
       "  <tbody>\n",
       "    <tr>\n",
       "      <td>0</td>\n",
       "      <td>3400299</td>\n",
       "      <td>Bikanervala</td>\n",
       "      <td>Quick Bites</td>\n",
       "      <td>https://www.zomato.com/agra/bikanervala-khanda...</td>\n",
       "      <td>Kalyani Point, Near Tulsi Cinema, Bypass Road,...</td>\n",
       "      <td>Agra</td>\n",
       "      <td>34</td>\n",
       "      <td>Khandari</td>\n",
       "      <td>27.211450</td>\n",
       "      <td>78.002381</td>\n",
       "      <td>...</td>\n",
       "      <td>2</td>\n",
       "      <td>Rs.</td>\n",
       "      <td>Lunch, Takeaway Available, Credit Card, Dinner...</td>\n",
       "      <td>4.4</td>\n",
       "      <td>Very Good</td>\n",
       "      <td>814</td>\n",
       "      <td>154</td>\n",
       "      <td>0.0</td>\n",
       "      <td>-1</td>\n",
       "      <td>-1</td>\n",
       "    </tr>\n",
       "    <tr>\n",
       "      <td>1</td>\n",
       "      <td>3400005</td>\n",
       "      <td>Mama Chicken Mama Franky House</td>\n",
       "      <td>Quick Bites</td>\n",
       "      <td>https://www.zomato.com/agra/mama-chicken-mama-...</td>\n",
       "      <td>Main Market, Sadar Bazaar, Agra Cantt, Agra</td>\n",
       "      <td>Agra</td>\n",
       "      <td>34</td>\n",
       "      <td>Agra Cantt</td>\n",
       "      <td>27.160569</td>\n",
       "      <td>78.011583</td>\n",
       "      <td>...</td>\n",
       "      <td>2</td>\n",
       "      <td>Rs.</td>\n",
       "      <td>Delivery, No Alcohol Available, Dinner, Takeaw...</td>\n",
       "      <td>4.4</td>\n",
       "      <td>Very Good</td>\n",
       "      <td>1203</td>\n",
       "      <td>161</td>\n",
       "      <td>0.0</td>\n",
       "      <td>-1</td>\n",
       "      <td>-1</td>\n",
       "    </tr>\n",
       "    <tr>\n",
       "      <td>2</td>\n",
       "      <td>3401013</td>\n",
       "      <td>Bhagat Halwai</td>\n",
       "      <td>Quick Bites</td>\n",
       "      <td>https://www.zomato.com/agra/bhagat-halwai-2-sh...</td>\n",
       "      <td>62/1, Near Easy Day, West Shivaji Nagar, Goalp...</td>\n",
       "      <td>Agra</td>\n",
       "      <td>34</td>\n",
       "      <td>Shahganj</td>\n",
       "      <td>27.182938</td>\n",
       "      <td>77.979684</td>\n",
       "      <td>...</td>\n",
       "      <td>1</td>\n",
       "      <td>Rs.</td>\n",
       "      <td>No Alcohol Available, Dinner, Takeaway Availab...</td>\n",
       "      <td>4.2</td>\n",
       "      <td>Very Good</td>\n",
       "      <td>801</td>\n",
       "      <td>107</td>\n",
       "      <td>0.0</td>\n",
       "      <td>1</td>\n",
       "      <td>-1</td>\n",
       "    </tr>\n",
       "    <tr>\n",
       "      <td>3</td>\n",
       "      <td>3400290</td>\n",
       "      <td>Bhagat Halwai</td>\n",
       "      <td>Quick Bites</td>\n",
       "      <td>https://www.zomato.com/agra/bhagat-halwai-civi...</td>\n",
       "      <td>Near Anjana Cinema, Nehru Nagar, Civil Lines, ...</td>\n",
       "      <td>Agra</td>\n",
       "      <td>34</td>\n",
       "      <td>Civil Lines</td>\n",
       "      <td>27.205668</td>\n",
       "      <td>78.004799</td>\n",
       "      <td>...</td>\n",
       "      <td>1</td>\n",
       "      <td>Rs.</td>\n",
       "      <td>Takeaway Available, Credit Card, Lunch, Delive...</td>\n",
       "      <td>4.3</td>\n",
       "      <td>Very Good</td>\n",
       "      <td>693</td>\n",
       "      <td>157</td>\n",
       "      <td>0.0</td>\n",
       "      <td>1</td>\n",
       "      <td>-1</td>\n",
       "    </tr>\n",
       "    <tr>\n",
       "      <td>4</td>\n",
       "      <td>3401744</td>\n",
       "      <td>The Salt Cafe Kitchen &amp; Bar</td>\n",
       "      <td>Casual Dining</td>\n",
       "      <td>https://www.zomato.com/agra/the-salt-cafe-kitc...</td>\n",
       "      <td>1C,3rd Floor, Fatehabad Road, Tajganj, Agra</td>\n",
       "      <td>Agra</td>\n",
       "      <td>34</td>\n",
       "      <td>Tajganj</td>\n",
       "      <td>27.157709</td>\n",
       "      <td>78.052421</td>\n",
       "      <td>...</td>\n",
       "      <td>3</td>\n",
       "      <td>Rs.</td>\n",
       "      <td>Lunch, Serves Alcohol, Cash, Credit Card, Dinn...</td>\n",
       "      <td>4.9</td>\n",
       "      <td>Excellent</td>\n",
       "      <td>470</td>\n",
       "      <td>291</td>\n",
       "      <td>0.0</td>\n",
       "      <td>1</td>\n",
       "      <td>-1</td>\n",
       "    </tr>\n",
       "  </tbody>\n",
       "</table>\n",
       "<p>5 rows × 26 columns</p>\n",
       "</div>"
      ],
      "text/plain": [
       "    res_id                            name  establishment  \\\n",
       "0  3400299                     Bikanervala    Quick Bites   \n",
       "1  3400005  Mama Chicken Mama Franky House    Quick Bites   \n",
       "2  3401013                   Bhagat Halwai    Quick Bites   \n",
       "3  3400290                   Bhagat Halwai    Quick Bites   \n",
       "4  3401744     The Salt Cafe Kitchen & Bar  Casual Dining   \n",
       "\n",
       "                                                 url  \\\n",
       "0  https://www.zomato.com/agra/bikanervala-khanda...   \n",
       "1  https://www.zomato.com/agra/mama-chicken-mama-...   \n",
       "2  https://www.zomato.com/agra/bhagat-halwai-2-sh...   \n",
       "3  https://www.zomato.com/agra/bhagat-halwai-civi...   \n",
       "4  https://www.zomato.com/agra/the-salt-cafe-kitc...   \n",
       "\n",
       "                                             address  city  city_id  \\\n",
       "0  Kalyani Point, Near Tulsi Cinema, Bypass Road,...  Agra       34   \n",
       "1        Main Market, Sadar Bazaar, Agra Cantt, Agra  Agra       34   \n",
       "2  62/1, Near Easy Day, West Shivaji Nagar, Goalp...  Agra       34   \n",
       "3  Near Anjana Cinema, Nehru Nagar, Civil Lines, ...  Agra       34   \n",
       "4        1C,3rd Floor, Fatehabad Road, Tajganj, Agra  Agra       34   \n",
       "\n",
       "      locality   latitude  longitude  ... price_range  currency  \\\n",
       "0     Khandari  27.211450  78.002381  ...           2       Rs.   \n",
       "1   Agra Cantt  27.160569  78.011583  ...           2       Rs.   \n",
       "2     Shahganj  27.182938  77.979684  ...           1       Rs.   \n",
       "3  Civil Lines  27.205668  78.004799  ...           1       Rs.   \n",
       "4      Tajganj  27.157709  78.052421  ...           3       Rs.   \n",
       "\n",
       "                                          highlights aggregate_rating  \\\n",
       "0  Lunch, Takeaway Available, Credit Card, Dinner...              4.4   \n",
       "1  Delivery, No Alcohol Available, Dinner, Takeaw...              4.4   \n",
       "2  No Alcohol Available, Dinner, Takeaway Availab...              4.2   \n",
       "3  Takeaway Available, Credit Card, Lunch, Delive...              4.3   \n",
       "4  Lunch, Serves Alcohol, Cash, Credit Card, Dinn...              4.9   \n",
       "\n",
       "  rating_text  votes  photo_count opentable_support delivery  takeaway  \n",
       "0   Very Good    814          154               0.0       -1        -1  \n",
       "1   Very Good   1203          161               0.0       -1        -1  \n",
       "2   Very Good    801          107               0.0        1        -1  \n",
       "3   Very Good    693          157               0.0        1        -1  \n",
       "4   Excellent    470          291               0.0        1        -1  \n",
       "\n",
       "[5 rows x 26 columns]"
      ]
     },
     "execution_count": 7,
     "metadata": {},
     "output_type": "execute_result"
    }
   ],
   "source": [
    "df_restaurants.head(5)"
   ]
  },
  {
   "cell_type": "code",
   "execution_count": 8,
   "metadata": {},
   "outputs": [
    {
     "name": "stdout",
     "output_type": "stream",
     "text": [
      "Each locality has a latitude and longitude, that lie in a certain city and a certain country; Has various restaurant names which have an address and url to their website and many more such variables\n"
     ]
    }
   ],
   "source": [
    "print('Each locality has a latitude and longitude, that lie in a certain city and a certain country; Has various restaurant names which have an address and url to their website and many more such variables')"
   ]
  },
  {
   "cell_type": "markdown",
   "metadata": {},
   "source": [
    "**3. Note the redundant variables and drop them**"
   ]
  },
  {
   "cell_type": "code",
   "execution_count": 9,
   "metadata": {},
   "outputs": [
    {
     "data": {
      "text/plain": [
       "0"
      ]
     },
     "execution_count": 9,
     "metadata": {},
     "output_type": "execute_result"
    }
   ],
   "source": [
    "df_restaurants.columns.duplicated().sum()"
   ]
  },
  {
   "cell_type": "code",
   "execution_count": 10,
   "metadata": {},
   "outputs": [],
   "source": [
    "#i=0\n",
    "#for var in df_restaurants_copy.columns:\n",
    "#    print(i+1,\". \",var, \": \", df_restaurants_copy[var].unique())\n",
    "#    i+=1"
   ]
  },
  {
   "cell_type": "code",
   "execution_count": 11,
   "metadata": {},
   "outputs": [
    {
     "data": {
      "text/plain": [
       "(array(['Rs.'], dtype=object), 211944)"
      ]
     },
     "execution_count": 11,
     "metadata": {},
     "output_type": "execute_result"
    }
   ],
   "source": [
    "df_restaurants['currency'].unique(), df_restaurants['currency'].shape[0]"
   ]
  },
  {
   "cell_type": "code",
   "execution_count": 12,
   "metadata": {},
   "outputs": [
    {
     "data": {
      "text/plain": [
       "(array([1], dtype=int64), 211944)"
      ]
     },
     "execution_count": 12,
     "metadata": {},
     "output_type": "execute_result"
    }
   ],
   "source": [
    "df_restaurants['country_id'].unique(), df_restaurants['currency'].shape[0]"
   ]
  },
  {
   "cell_type": "code",
   "execution_count": 13,
   "metadata": {},
   "outputs": [
    {
     "data": {
      "text/plain": [
       "(48, 211944)"
      ]
     },
     "execution_count": 13,
     "metadata": {},
     "output_type": "execute_result"
    }
   ],
   "source": [
    "df_restaurants['opentable_support'].isna().sum(), df_restaurants['currency'].shape[0]"
   ]
  },
  {
   "cell_type": "code",
   "execution_count": 14,
   "metadata": {},
   "outputs": [],
   "source": [
    "df_restaurants_copy = df_restaurants.drop(['locality_verbose','currency','country_id','takeaway','res_id'], axis=1).copy()"
   ]
  },
  {
   "cell_type": "code",
   "execution_count": 15,
   "metadata": {},
   "outputs": [
    {
     "name": "stdout",
     "output_type": "stream",
     "text": [
      "We have two separate columns 'locality' and 'city', we can later derive 'locality_verbose' from these two, so we drop 'locality_verbose', since we might later need to make analysis city or locality wise also. Also, since 'currency', 'country_id', 'takeaway' has same value for all restaurants, i.e, Rs., 1, -1 respectively, we decide to drop these. Also, 'res_id' would not be needed since we don't have any other dataframe to map to and we have default index for this dataframe as well, so we drop this also.\n"
     ]
    }
   ],
   "source": [
    "print('We have two separate columns \\'locality\\' and \\'city\\', we can later derive \\'locality_verbose\\' from these two, so we drop \\'locality_verbose\\', since we might later need to make analysis city or locality wise also. Also, since \\'currency\\', \\'country_id\\', \\'takeaway\\' has same value for all restaurants, i.e, Rs., 1, -1 respectively, we decide to drop these. Also, \\'res_id\\' would not be needed since we don\\'t have any other dataframe to map to and we have default index for this dataframe as well, so we drop this also.')"
   ]
  },
  {
   "cell_type": "markdown",
   "metadata": {},
   "source": [
    "**4. Check the data types. Refer to data definition to ensure your data types are correct. If data types are not as per business context, change the data types as per requirement**\n"
   ]
  },
  {
   "cell_type": "code",
   "execution_count": 16,
   "metadata": {},
   "outputs": [
    {
     "data": {
      "text/plain": [
       "name                     object\n",
       "establishment            object\n",
       "url                      object\n",
       "address                  object\n",
       "city                     object\n",
       "city_id                   int64\n",
       "locality                 object\n",
       "latitude                float64\n",
       "longitude               float64\n",
       "zipcode                  object\n",
       "cuisines                 object\n",
       "timings                  object\n",
       "average_cost_for_two      int64\n",
       "price_range               int64\n",
       "highlights               object\n",
       "aggregate_rating        float64\n",
       "rating_text              object\n",
       "votes                     int64\n",
       "photo_count               int64\n",
       "opentable_support       float64\n",
       "delivery                  int64\n",
       "dtype: object"
      ]
     },
     "execution_count": 16,
     "metadata": {},
     "output_type": "execute_result"
    }
   ],
   "source": [
    "df_restaurants_copy.dtypes"
   ]
  },
  {
   "cell_type": "code",
   "execution_count": 17,
   "metadata": {},
   "outputs": [
    {
     "name": "stdout",
     "output_type": "stream",
     "text": [
      "Here, we have searched for datatypes that have been described as numerical in data definition, but wrongly made categorical in dataframe. No such variable found. Regarding variables that have been marked as categorical in data definition, but are not 'object' data type in dataframe, all such variables can be excluded in numerical calculations on dataframe, so no need to convert them to object.\n"
     ]
    }
   ],
   "source": [
    "print('Here, we have searched for datatypes that have been described as numerical in data definition, but wrongly made categorical in dataframe. No such variable found. Regarding variables that have been marked as categorical in data definition, but are not \\'object\\' data type in dataframe, all such variables can be excluded in numerical calculations on dataframe, so no need to convert them to object.')"
   ]
  },
  {
   "cell_type": "markdown",
   "metadata": {},
   "source": [
    "#### Change the incorrect data type"
   ]
  },
  {
   "cell_type": "code",
   "execution_count": 18,
   "metadata": {},
   "outputs": [],
   "source": [
    "#df_restaurants_copy[['city_id','latitude','longitude','price_range','opentable_support','delivery']] = df_restaurants_copy[['city_id','latitude','longitude','price_range','opentable_support','delivery']].astype('object')"
   ]
  },
  {
   "cell_type": "code",
   "execution_count": 19,
   "metadata": {},
   "outputs": [
    {
     "name": "stdout",
     "output_type": "stream",
     "text": [
      "All datatypes which are numerical in data definition, are also numerical in dataframe\n"
     ]
    }
   ],
   "source": [
    "print('All datatypes which are numerical in data definition, are also numerical in dataframe')"
   ]
  },
  {
   "cell_type": "markdown",
   "metadata": {},
   "source": [
    "**5. Check for Duplicates**"
   ]
  },
  {
   "cell_type": "code",
   "execution_count": 20,
   "metadata": {},
   "outputs": [
    {
     "data": {
      "text/plain": [
       "151527"
      ]
     },
     "execution_count": 20,
     "metadata": {},
     "output_type": "execute_result"
    }
   ],
   "source": [
    "df_restaurants_copy.duplicated().sum()"
   ]
  },
  {
   "cell_type": "code",
   "execution_count": 21,
   "metadata": {},
   "outputs": [
    {
     "data": {
      "text/html": [
       "<div>\n",
       "<style scoped>\n",
       "    .dataframe tbody tr th:only-of-type {\n",
       "        vertical-align: middle;\n",
       "    }\n",
       "\n",
       "    .dataframe tbody tr th {\n",
       "        vertical-align: top;\n",
       "    }\n",
       "\n",
       "    .dataframe thead th {\n",
       "        text-align: right;\n",
       "    }\n",
       "</style>\n",
       "<table border=\"1\" class=\"dataframe\">\n",
       "  <thead>\n",
       "    <tr style=\"text-align: right;\">\n",
       "      <th></th>\n",
       "      <th>name</th>\n",
       "      <th>establishment</th>\n",
       "      <th>url</th>\n",
       "      <th>address</th>\n",
       "      <th>city</th>\n",
       "      <th>city_id</th>\n",
       "      <th>locality</th>\n",
       "      <th>latitude</th>\n",
       "      <th>longitude</th>\n",
       "      <th>zipcode</th>\n",
       "      <th>...</th>\n",
       "      <th>timings</th>\n",
       "      <th>average_cost_for_two</th>\n",
       "      <th>price_range</th>\n",
       "      <th>highlights</th>\n",
       "      <th>aggregate_rating</th>\n",
       "      <th>rating_text</th>\n",
       "      <th>votes</th>\n",
       "      <th>photo_count</th>\n",
       "      <th>opentable_support</th>\n",
       "      <th>delivery</th>\n",
       "    </tr>\n",
       "  </thead>\n",
       "  <tbody>\n",
       "    <tr>\n",
       "      <td>0</td>\n",
       "      <td>Bikanervala</td>\n",
       "      <td>Quick Bites</td>\n",
       "      <td>https://www.zomato.com/agra/bikanervala-khanda...</td>\n",
       "      <td>Kalyani Point, Near Tulsi Cinema, Bypass Road,...</td>\n",
       "      <td>Agra</td>\n",
       "      <td>34</td>\n",
       "      <td>Khandari</td>\n",
       "      <td>27.211450</td>\n",
       "      <td>78.002381</td>\n",
       "      <td>NaN</td>\n",
       "      <td>...</td>\n",
       "      <td>8:30am – 10:30pm (Mon-Sun)</td>\n",
       "      <td>700</td>\n",
       "      <td>2</td>\n",
       "      <td>Lunch, Takeaway Available, Credit Card, Dinner...</td>\n",
       "      <td>4.4</td>\n",
       "      <td>Very Good</td>\n",
       "      <td>814</td>\n",
       "      <td>154</td>\n",
       "      <td>0.0</td>\n",
       "      <td>-1</td>\n",
       "    </tr>\n",
       "    <tr>\n",
       "      <td>1</td>\n",
       "      <td>Mama Chicken Mama Franky House</td>\n",
       "      <td>Quick Bites</td>\n",
       "      <td>https://www.zomato.com/agra/mama-chicken-mama-...</td>\n",
       "      <td>Main Market, Sadar Bazaar, Agra Cantt, Agra</td>\n",
       "      <td>Agra</td>\n",
       "      <td>34</td>\n",
       "      <td>Agra Cantt</td>\n",
       "      <td>27.160569</td>\n",
       "      <td>78.011583</td>\n",
       "      <td>282001</td>\n",
       "      <td>...</td>\n",
       "      <td>12:30PM to 12Midnight (Mon, Wed, Thu, Fri, Sat...</td>\n",
       "      <td>600</td>\n",
       "      <td>2</td>\n",
       "      <td>Delivery, No Alcohol Available, Dinner, Takeaw...</td>\n",
       "      <td>4.4</td>\n",
       "      <td>Very Good</td>\n",
       "      <td>1203</td>\n",
       "      <td>161</td>\n",
       "      <td>0.0</td>\n",
       "      <td>-1</td>\n",
       "    </tr>\n",
       "    <tr>\n",
       "      <td>2</td>\n",
       "      <td>Bhagat Halwai</td>\n",
       "      <td>Quick Bites</td>\n",
       "      <td>https://www.zomato.com/agra/bhagat-halwai-2-sh...</td>\n",
       "      <td>62/1, Near Easy Day, West Shivaji Nagar, Goalp...</td>\n",
       "      <td>Agra</td>\n",
       "      <td>34</td>\n",
       "      <td>Shahganj</td>\n",
       "      <td>27.182938</td>\n",
       "      <td>77.979684</td>\n",
       "      <td>282010</td>\n",
       "      <td>...</td>\n",
       "      <td>9:30 AM to 11 PM</td>\n",
       "      <td>300</td>\n",
       "      <td>1</td>\n",
       "      <td>No Alcohol Available, Dinner, Takeaway Availab...</td>\n",
       "      <td>4.2</td>\n",
       "      <td>Very Good</td>\n",
       "      <td>801</td>\n",
       "      <td>107</td>\n",
       "      <td>0.0</td>\n",
       "      <td>1</td>\n",
       "    </tr>\n",
       "    <tr>\n",
       "      <td>3</td>\n",
       "      <td>Bhagat Halwai</td>\n",
       "      <td>Quick Bites</td>\n",
       "      <td>https://www.zomato.com/agra/bhagat-halwai-civi...</td>\n",
       "      <td>Near Anjana Cinema, Nehru Nagar, Civil Lines, ...</td>\n",
       "      <td>Agra</td>\n",
       "      <td>34</td>\n",
       "      <td>Civil Lines</td>\n",
       "      <td>27.205668</td>\n",
       "      <td>78.004799</td>\n",
       "      <td>282002</td>\n",
       "      <td>...</td>\n",
       "      <td>8am – 11pm (Mon-Sun)</td>\n",
       "      <td>300</td>\n",
       "      <td>1</td>\n",
       "      <td>Takeaway Available, Credit Card, Lunch, Delive...</td>\n",
       "      <td>4.3</td>\n",
       "      <td>Very Good</td>\n",
       "      <td>693</td>\n",
       "      <td>157</td>\n",
       "      <td>0.0</td>\n",
       "      <td>1</td>\n",
       "    </tr>\n",
       "    <tr>\n",
       "      <td>4</td>\n",
       "      <td>The Salt Cafe Kitchen &amp; Bar</td>\n",
       "      <td>Casual Dining</td>\n",
       "      <td>https://www.zomato.com/agra/the-salt-cafe-kitc...</td>\n",
       "      <td>1C,3rd Floor, Fatehabad Road, Tajganj, Agra</td>\n",
       "      <td>Agra</td>\n",
       "      <td>34</td>\n",
       "      <td>Tajganj</td>\n",
       "      <td>27.157709</td>\n",
       "      <td>78.052421</td>\n",
       "      <td>NaN</td>\n",
       "      <td>...</td>\n",
       "      <td>11:30 AM to 11:30 PM</td>\n",
       "      <td>1000</td>\n",
       "      <td>3</td>\n",
       "      <td>Lunch, Serves Alcohol, Cash, Credit Card, Dinn...</td>\n",
       "      <td>4.9</td>\n",
       "      <td>Excellent</td>\n",
       "      <td>470</td>\n",
       "      <td>291</td>\n",
       "      <td>0.0</td>\n",
       "      <td>1</td>\n",
       "    </tr>\n",
       "    <tr>\n",
       "      <td>...</td>\n",
       "      <td>...</td>\n",
       "      <td>...</td>\n",
       "      <td>...</td>\n",
       "      <td>...</td>\n",
       "      <td>...</td>\n",
       "      <td>...</td>\n",
       "      <td>...</td>\n",
       "      <td>...</td>\n",
       "      <td>...</td>\n",
       "      <td>...</td>\n",
       "      <td>...</td>\n",
       "      <td>...</td>\n",
       "      <td>...</td>\n",
       "      <td>...</td>\n",
       "      <td>...</td>\n",
       "      <td>...</td>\n",
       "      <td>...</td>\n",
       "      <td>...</td>\n",
       "      <td>...</td>\n",
       "      <td>...</td>\n",
       "      <td>...</td>\n",
       "    </tr>\n",
       "    <tr>\n",
       "      <td>211902</td>\n",
       "      <td>Jassi De Parathe</td>\n",
       "      <td>Quick Bites</td>\n",
       "      <td>https://www.zomato.com/vadodara/jassi-de-parat...</td>\n",
       "      <td>Near Kalaniketan, R.C Dutt Road, Alkapuri, Vad...</td>\n",
       "      <td>Vadodara</td>\n",
       "      <td>32</td>\n",
       "      <td>Alkapuri</td>\n",
       "      <td>22.310642</td>\n",
       "      <td>73.166323</td>\n",
       "      <td>NaN</td>\n",
       "      <td>...</td>\n",
       "      <td>11am – 11:30pm (Mon-Sun)</td>\n",
       "      <td>600</td>\n",
       "      <td>2</td>\n",
       "      <td>Dinner, Cash, Takeaway Available, Credit Card,...</td>\n",
       "      <td>4.8</td>\n",
       "      <td>Excellent</td>\n",
       "      <td>1799</td>\n",
       "      <td>356</td>\n",
       "      <td>0.0</td>\n",
       "      <td>1</td>\n",
       "    </tr>\n",
       "    <tr>\n",
       "      <td>211903</td>\n",
       "      <td>22nd Parallel</td>\n",
       "      <td>Casual Dining</td>\n",
       "      <td>https://www.zomato.com/vadodara/22nd-parallel-...</td>\n",
       "      <td>1st Floor, Tapan Complex, Besides M Cube Mall,...</td>\n",
       "      <td>Vadodara</td>\n",
       "      <td>32</td>\n",
       "      <td>Alkapuri</td>\n",
       "      <td>22.308296</td>\n",
       "      <td>73.167887</td>\n",
       "      <td>NaN</td>\n",
       "      <td>...</td>\n",
       "      <td>11 AM to 11 PM</td>\n",
       "      <td>400</td>\n",
       "      <td>2</td>\n",
       "      <td>Dinner, Takeaway Available, Credit Card, Lunch...</td>\n",
       "      <td>4.6</td>\n",
       "      <td>Excellent</td>\n",
       "      <td>996</td>\n",
       "      <td>253</td>\n",
       "      <td>0.0</td>\n",
       "      <td>1</td>\n",
       "    </tr>\n",
       "    <tr>\n",
       "      <td>211908</td>\n",
       "      <td>Jassi De Parathe</td>\n",
       "      <td>Quick Bites</td>\n",
       "      <td>https://www.zomato.com/vadodara/jassi-de-parat...</td>\n",
       "      <td>Near Kalaniketan, R.C Dutt Road, Alkapuri, Vad...</td>\n",
       "      <td>Vadodara</td>\n",
       "      <td>32</td>\n",
       "      <td>Alkapuri</td>\n",
       "      <td>22.310642</td>\n",
       "      <td>73.166323</td>\n",
       "      <td>NaN</td>\n",
       "      <td>...</td>\n",
       "      <td>11am – 11:30pm (Mon-Sun)</td>\n",
       "      <td>600</td>\n",
       "      <td>2</td>\n",
       "      <td>Dinner, Cash, Takeaway Available, Credit Card,...</td>\n",
       "      <td>4.8</td>\n",
       "      <td>Excellent</td>\n",
       "      <td>1799</td>\n",
       "      <td>356</td>\n",
       "      <td>0.0</td>\n",
       "      <td>1</td>\n",
       "    </tr>\n",
       "    <tr>\n",
       "      <td>211920</td>\n",
       "      <td>Chhappanbhog Restaurant &amp; Banquets</td>\n",
       "      <td>Casual Dining</td>\n",
       "      <td>https://www.zomato.com/vadodara/chhappanbhog-r...</td>\n",
       "      <td>88, Sampatrao Colony , Productivity Road, Alka...</td>\n",
       "      <td>Vadodara</td>\n",
       "      <td>32</td>\n",
       "      <td>Alkapuri</td>\n",
       "      <td>22.309575</td>\n",
       "      <td>73.174743</td>\n",
       "      <td>390007</td>\n",
       "      <td>...</td>\n",
       "      <td>11 AM to 3 PM, 7 PM to 10:30 PM (Mon), 11 AM t...</td>\n",
       "      <td>600</td>\n",
       "      <td>2</td>\n",
       "      <td>Dinner, Takeaway Available, Credit Card, Lunch...</td>\n",
       "      <td>3.7</td>\n",
       "      <td>Good</td>\n",
       "      <td>1294</td>\n",
       "      <td>123</td>\n",
       "      <td>0.0</td>\n",
       "      <td>-1</td>\n",
       "    </tr>\n",
       "    <tr>\n",
       "      <td>211925</td>\n",
       "      <td>The Grand Thakar</td>\n",
       "      <td>Casual Dining</td>\n",
       "      <td>https://www.zomato.com/vadodara/the-grand-thak...</td>\n",
       "      <td>3rd Floor, Shreem Shalini Mall, Opposite Conqu...</td>\n",
       "      <td>Vadodara</td>\n",
       "      <td>32</td>\n",
       "      <td>Alkapuri</td>\n",
       "      <td>22.310563</td>\n",
       "      <td>73.171164</td>\n",
       "      <td>NaN</td>\n",
       "      <td>...</td>\n",
       "      <td>11:30 AM to 3:30 PM, 7:30 PM to 11 PM</td>\n",
       "      <td>700</td>\n",
       "      <td>2</td>\n",
       "      <td>Dinner, Cash, Debit Card, Lunch, Takeaway Avai...</td>\n",
       "      <td>4.0</td>\n",
       "      <td>Very Good</td>\n",
       "      <td>111</td>\n",
       "      <td>38</td>\n",
       "      <td>0.0</td>\n",
       "      <td>-1</td>\n",
       "    </tr>\n",
       "  </tbody>\n",
       "</table>\n",
       "<p>151527 rows × 21 columns</p>\n",
       "</div>"
      ],
      "text/plain": [
       "                                      name  establishment  \\\n",
       "0                              Bikanervala    Quick Bites   \n",
       "1           Mama Chicken Mama Franky House    Quick Bites   \n",
       "2                            Bhagat Halwai    Quick Bites   \n",
       "3                            Bhagat Halwai    Quick Bites   \n",
       "4              The Salt Cafe Kitchen & Bar  Casual Dining   \n",
       "...                                    ...            ...   \n",
       "211902                    Jassi De Parathe    Quick Bites   \n",
       "211903                       22nd Parallel  Casual Dining   \n",
       "211908                    Jassi De Parathe    Quick Bites   \n",
       "211920  Chhappanbhog Restaurant & Banquets  Casual Dining   \n",
       "211925                    The Grand Thakar  Casual Dining   \n",
       "\n",
       "                                                      url  \\\n",
       "0       https://www.zomato.com/agra/bikanervala-khanda...   \n",
       "1       https://www.zomato.com/agra/mama-chicken-mama-...   \n",
       "2       https://www.zomato.com/agra/bhagat-halwai-2-sh...   \n",
       "3       https://www.zomato.com/agra/bhagat-halwai-civi...   \n",
       "4       https://www.zomato.com/agra/the-salt-cafe-kitc...   \n",
       "...                                                   ...   \n",
       "211902  https://www.zomato.com/vadodara/jassi-de-parat...   \n",
       "211903  https://www.zomato.com/vadodara/22nd-parallel-...   \n",
       "211908  https://www.zomato.com/vadodara/jassi-de-parat...   \n",
       "211920  https://www.zomato.com/vadodara/chhappanbhog-r...   \n",
       "211925  https://www.zomato.com/vadodara/the-grand-thak...   \n",
       "\n",
       "                                                  address      city  city_id  \\\n",
       "0       Kalyani Point, Near Tulsi Cinema, Bypass Road,...      Agra       34   \n",
       "1             Main Market, Sadar Bazaar, Agra Cantt, Agra      Agra       34   \n",
       "2       62/1, Near Easy Day, West Shivaji Nagar, Goalp...      Agra       34   \n",
       "3       Near Anjana Cinema, Nehru Nagar, Civil Lines, ...      Agra       34   \n",
       "4             1C,3rd Floor, Fatehabad Road, Tajganj, Agra      Agra       34   \n",
       "...                                                   ...       ...      ...   \n",
       "211902  Near Kalaniketan, R.C Dutt Road, Alkapuri, Vad...  Vadodara       32   \n",
       "211903  1st Floor, Tapan Complex, Besides M Cube Mall,...  Vadodara       32   \n",
       "211908  Near Kalaniketan, R.C Dutt Road, Alkapuri, Vad...  Vadodara       32   \n",
       "211920  88, Sampatrao Colony , Productivity Road, Alka...  Vadodara       32   \n",
       "211925  3rd Floor, Shreem Shalini Mall, Opposite Conqu...  Vadodara       32   \n",
       "\n",
       "           locality   latitude  longitude zipcode  ...  \\\n",
       "0          Khandari  27.211450  78.002381     NaN  ...   \n",
       "1        Agra Cantt  27.160569  78.011583  282001  ...   \n",
       "2          Shahganj  27.182938  77.979684  282010  ...   \n",
       "3       Civil Lines  27.205668  78.004799  282002  ...   \n",
       "4           Tajganj  27.157709  78.052421     NaN  ...   \n",
       "...             ...        ...        ...     ...  ...   \n",
       "211902     Alkapuri  22.310642  73.166323     NaN  ...   \n",
       "211903     Alkapuri  22.308296  73.167887     NaN  ...   \n",
       "211908     Alkapuri  22.310642  73.166323     NaN  ...   \n",
       "211920     Alkapuri  22.309575  73.174743  390007  ...   \n",
       "211925     Alkapuri  22.310563  73.171164     NaN  ...   \n",
       "\n",
       "                                                  timings  \\\n",
       "0                              8:30am – 10:30pm (Mon-Sun)   \n",
       "1       12:30PM to 12Midnight (Mon, Wed, Thu, Fri, Sat...   \n",
       "2                                        9:30 AM to 11 PM   \n",
       "3                                    8am – 11pm (Mon-Sun)   \n",
       "4                                    11:30 AM to 11:30 PM   \n",
       "...                                                   ...   \n",
       "211902                           11am – 11:30pm (Mon-Sun)   \n",
       "211903                                     11 AM to 11 PM   \n",
       "211908                           11am – 11:30pm (Mon-Sun)   \n",
       "211920  11 AM to 3 PM, 7 PM to 10:30 PM (Mon), 11 AM t...   \n",
       "211925              11:30 AM to 3:30 PM, 7:30 PM to 11 PM   \n",
       "\n",
       "       average_cost_for_two  price_range  \\\n",
       "0                       700            2   \n",
       "1                       600            2   \n",
       "2                       300            1   \n",
       "3                       300            1   \n",
       "4                      1000            3   \n",
       "...                     ...          ...   \n",
       "211902                  600            2   \n",
       "211903                  400            2   \n",
       "211908                  600            2   \n",
       "211920                  600            2   \n",
       "211925                  700            2   \n",
       "\n",
       "                                               highlights aggregate_rating  \\\n",
       "0       Lunch, Takeaway Available, Credit Card, Dinner...              4.4   \n",
       "1       Delivery, No Alcohol Available, Dinner, Takeaw...              4.4   \n",
       "2       No Alcohol Available, Dinner, Takeaway Availab...              4.2   \n",
       "3       Takeaway Available, Credit Card, Lunch, Delive...              4.3   \n",
       "4       Lunch, Serves Alcohol, Cash, Credit Card, Dinn...              4.9   \n",
       "...                                                   ...              ...   \n",
       "211902  Dinner, Cash, Takeaway Available, Credit Card,...              4.8   \n",
       "211903  Dinner, Takeaway Available, Credit Card, Lunch...              4.6   \n",
       "211908  Dinner, Cash, Takeaway Available, Credit Card,...              4.8   \n",
       "211920  Dinner, Takeaway Available, Credit Card, Lunch...              3.7   \n",
       "211925  Dinner, Cash, Debit Card, Lunch, Takeaway Avai...              4.0   \n",
       "\n",
       "        rating_text votes  photo_count  opentable_support  delivery  \n",
       "0         Very Good   814          154                0.0        -1  \n",
       "1         Very Good  1203          161                0.0        -1  \n",
       "2         Very Good   801          107                0.0         1  \n",
       "3         Very Good   693          157                0.0         1  \n",
       "4         Excellent   470          291                0.0         1  \n",
       "...             ...   ...          ...                ...       ...  \n",
       "211902    Excellent  1799          356                0.0         1  \n",
       "211903    Excellent   996          253                0.0         1  \n",
       "211908    Excellent  1799          356                0.0         1  \n",
       "211920         Good  1294          123                0.0        -1  \n",
       "211925    Very Good   111           38                0.0        -1  \n",
       "\n",
       "[151527 rows x 21 columns]"
      ]
     },
     "execution_count": 21,
     "metadata": {},
     "output_type": "execute_result"
    }
   ],
   "source": [
    "df_restaurants_copy[df_restaurants_copy.duplicated(keep=\"last\")]\n",
    "#df_restaurants_copy[df_restaurants_copy['name']=='Peshawri - ITC Mughal']"
   ]
  },
  {
   "cell_type": "code",
   "execution_count": 22,
   "metadata": {},
   "outputs": [
    {
     "data": {
      "text/plain": [
       "(60417, 21)"
      ]
     },
     "execution_count": 22,
     "metadata": {},
     "output_type": "execute_result"
    }
   ],
   "source": [
    "df_restaurants_copy.drop_duplicates(keep='first',inplace=True)\n",
    "df_restaurants_copy.shape"
   ]
  },
  {
   "cell_type": "code",
   "execution_count": 23,
   "metadata": {},
   "outputs": [
    {
     "data": {
      "text/html": [
       "<div>\n",
       "<style scoped>\n",
       "    .dataframe tbody tr th:only-of-type {\n",
       "        vertical-align: middle;\n",
       "    }\n",
       "\n",
       "    .dataframe tbody tr th {\n",
       "        vertical-align: top;\n",
       "    }\n",
       "\n",
       "    .dataframe thead th {\n",
       "        text-align: right;\n",
       "    }\n",
       "</style>\n",
       "<table border=\"1\" class=\"dataframe\">\n",
       "  <thead>\n",
       "    <tr style=\"text-align: right;\">\n",
       "      <th></th>\n",
       "      <th>name</th>\n",
       "      <th>establishment</th>\n",
       "      <th>url</th>\n",
       "      <th>address</th>\n",
       "      <th>city</th>\n",
       "      <th>city_id</th>\n",
       "      <th>locality</th>\n",
       "      <th>latitude</th>\n",
       "      <th>longitude</th>\n",
       "      <th>zipcode</th>\n",
       "      <th>...</th>\n",
       "      <th>timings</th>\n",
       "      <th>average_cost_for_two</th>\n",
       "      <th>price_range</th>\n",
       "      <th>highlights</th>\n",
       "      <th>aggregate_rating</th>\n",
       "      <th>rating_text</th>\n",
       "      <th>votes</th>\n",
       "      <th>photo_count</th>\n",
       "      <th>opentable_support</th>\n",
       "      <th>delivery</th>\n",
       "    </tr>\n",
       "  </thead>\n",
       "  <tbody>\n",
       "    <tr>\n",
       "      <td>57</td>\n",
       "      <td>Peshawri - ITC Mughal</td>\n",
       "      <td>Fine Dining</td>\n",
       "      <td>https://www.zomato.com/agra/peshawri-itc-mugha...</td>\n",
       "      <td>ITC Mughal, Fatehabad Road, Tajganj, Agra</td>\n",
       "      <td>Agra</td>\n",
       "      <td>34</td>\n",
       "      <td>ITC Mughal, Tajganj</td>\n",
       "      <td>27.16115</td>\n",
       "      <td>78.043993</td>\n",
       "      <td>NaN</td>\n",
       "      <td>...</td>\n",
       "      <td>12:30 PM to 2:45 PM, 7 PM to 11:45 PM</td>\n",
       "      <td>6000</td>\n",
       "      <td>4</td>\n",
       "      <td>Lunch, Cash, Credit Card, Dinner, Debit Card, ...</td>\n",
       "      <td>4.4</td>\n",
       "      <td>Very Good</td>\n",
       "      <td>353</td>\n",
       "      <td>154</td>\n",
       "      <td>0.0</td>\n",
       "      <td>-1</td>\n",
       "    </tr>\n",
       "  </tbody>\n",
       "</table>\n",
       "<p>1 rows × 21 columns</p>\n",
       "</div>"
      ],
      "text/plain": [
       "                     name establishment  \\\n",
       "57  Peshawri - ITC Mughal   Fine Dining   \n",
       "\n",
       "                                                  url  \\\n",
       "57  https://www.zomato.com/agra/peshawri-itc-mugha...   \n",
       "\n",
       "                                      address  city  city_id  \\\n",
       "57  ITC Mughal, Fatehabad Road, Tajganj, Agra  Agra       34   \n",
       "\n",
       "               locality  latitude  longitude zipcode  ...  \\\n",
       "57  ITC Mughal, Tajganj  27.16115  78.043993     NaN  ...   \n",
       "\n",
       "                                  timings average_cost_for_two  price_range  \\\n",
       "57  12:30 PM to 2:45 PM, 7 PM to 11:45 PM                 6000            4   \n",
       "\n",
       "                                           highlights aggregate_rating  \\\n",
       "57  Lunch, Cash, Credit Card, Dinner, Debit Card, ...              4.4   \n",
       "\n",
       "    rating_text votes  photo_count  opentable_support  delivery  \n",
       "57    Very Good   353          154                0.0        -1  \n",
       "\n",
       "[1 rows x 21 columns]"
      ]
     },
     "execution_count": 23,
     "metadata": {},
     "output_type": "execute_result"
    }
   ],
   "source": [
    "df_restaurants_copy[df_restaurants_copy['name']=='Peshawri - ITC Mughal']"
   ]
  },
  {
   "cell_type": "code",
   "execution_count": 24,
   "metadata": {},
   "outputs": [
    {
     "name": "stdout",
     "output_type": "stream",
     "text": [
      "Dropped all duplicate rows, retaining the first one\n"
     ]
    }
   ],
   "source": [
    "print('Dropped all duplicate rows, retaining the first one')"
   ]
  },
  {
   "cell_type": "markdown",
   "metadata": {},
   "source": [
    "<a id = 'Understanding_variables'> </a>\n",
    "## 5. Understand the variables"
   ]
  },
  {
   "cell_type": "markdown",
   "metadata": {},
   "source": [
    "**1. Variable 'name'**"
   ]
  },
  {
   "cell_type": "code",
   "execution_count": 25,
   "metadata": {},
   "outputs": [
    {
     "data": {
      "text/plain": [
       "0"
      ]
     },
     "execution_count": 25,
     "metadata": {},
     "output_type": "execute_result"
    }
   ],
   "source": [
    "df_restaurants_copy['name'].isna().sum()"
   ]
  },
  {
   "cell_type": "code",
   "execution_count": 26,
   "metadata": {},
   "outputs": [
    {
     "data": {
      "text/plain": [
       "19452"
      ]
     },
     "execution_count": 26,
     "metadata": {},
     "output_type": "execute_result"
    }
   ],
   "source": [
    "df_restaurants_copy['name'].duplicated().sum()"
   ]
  },
  {
   "cell_type": "code",
   "execution_count": 27,
   "metadata": {},
   "outputs": [
    {
     "data": {
      "text/plain": [
       "array(['Bikanervala', 'Mama Chicken Mama Franky House', 'Bhagat Halwai',\n",
       "       ..., 'Red China', 'Wah Ustad', 'Geeta lodge'], dtype=object)"
      ]
     },
     "execution_count": 27,
     "metadata": {},
     "output_type": "execute_result"
    }
   ],
   "source": [
    "df_restaurants_copy['name'].unique()"
   ]
  },
  {
   "cell_type": "code",
   "execution_count": null,
   "metadata": {},
   "outputs": [],
   "source": []
  },
  {
   "cell_type": "markdown",
   "metadata": {},
   "source": [
    "**2. Variable 'establishment'**"
   ]
  },
  {
   "cell_type": "code",
   "execution_count": 28,
   "metadata": {},
   "outputs": [
    {
     "data": {
      "text/plain": [
       "1920"
      ]
     },
     "execution_count": 28,
     "metadata": {},
     "output_type": "execute_result"
    }
   ],
   "source": [
    "df_restaurants_copy['establishment'].isna().sum()"
   ]
  },
  {
   "cell_type": "code",
   "execution_count": 29,
   "metadata": {},
   "outputs": [
    {
     "data": {
      "text/plain": [
       "60390"
      ]
     },
     "execution_count": 29,
     "metadata": {},
     "output_type": "execute_result"
    }
   ],
   "source": [
    "df_restaurants_copy['establishment'].duplicated().sum()"
   ]
  },
  {
   "cell_type": "code",
   "execution_count": 30,
   "metadata": {},
   "outputs": [
    {
     "data": {
      "text/plain": [
       "array(['Quick Bites', 'Casual Dining', 'Bakery', 'Café', 'Dhaba',\n",
       "       'Bhojanalya', 'Bar', 'Sweet Shop', 'Fine Dining', 'Food Truck',\n",
       "       'Dessert Parlour', 'Lounge', 'Pub', 'Beverage Shop', 'Kiosk',\n",
       "       'Paan Shop', 'Confectionery', nan, 'Shack', 'Club', 'Food Court',\n",
       "       'Mess', 'Butcher Shop', 'Microbrewery', 'Cocktail Bar', 'Pop up',\n",
       "       'Irani Cafe'], dtype=object)"
      ]
     },
     "execution_count": 30,
     "metadata": {},
     "output_type": "execute_result"
    }
   ],
   "source": [
    "df_restaurants_copy['establishment'].unique()"
   ]
  },
  {
   "cell_type": "markdown",
   "metadata": {},
   "source": [
    "**3. Variable 'city'**"
   ]
  },
  {
   "cell_type": "code",
   "execution_count": 31,
   "metadata": {},
   "outputs": [
    {
     "data": {
      "text/plain": [
       "0"
      ]
     },
     "execution_count": 31,
     "metadata": {},
     "output_type": "execute_result"
    }
   ],
   "source": [
    "df_restaurants_copy['city'].isna().sum()"
   ]
  },
  {
   "cell_type": "code",
   "execution_count": 32,
   "metadata": {},
   "outputs": [
    {
     "data": {
      "text/plain": [
       "60319"
      ]
     },
     "execution_count": 32,
     "metadata": {},
     "output_type": "execute_result"
    }
   ],
   "source": [
    "df_restaurants_copy['city'].duplicated().sum()"
   ]
  },
  {
   "cell_type": "code",
   "execution_count": 33,
   "metadata": {},
   "outputs": [
    {
     "name": "stdout",
     "output_type": "stream",
     "text": [
      "Agra\n",
      "Ahmedabad\n",
      "Gandhinagar\n",
      "Ajmer\n",
      "Alappuzha\n",
      "Allahabad\n",
      "Amravati\n",
      "Amritsar\n",
      "Aurangabad\n",
      "Bangalore\n",
      "Bhopal\n",
      "Bhubaneshwar\n",
      "Chandigarh\n",
      "Mohali\n",
      "Panchkula\n",
      "Zirakpur\n",
      "Nayagaon\n",
      "Chennai\n",
      "Coimbatore\n",
      "Cuttack\n",
      "Darjeeling\n",
      "Dehradun\n",
      "New Delhi\n",
      "Gurgaon\n",
      "Noida\n",
      "Faridabad\n",
      "Ghaziabad\n",
      "Greater Noida\n",
      "Dharamshala\n",
      "Gangtok\n",
      "Goa\n",
      "Gorakhpur\n",
      "Guntur\n",
      "Guwahati\n",
      "Gwalior\n",
      "Haridwar\n",
      "Hyderabad\n",
      "Secunderabad\n",
      "Indore\n",
      "Jabalpur\n",
      "Jaipur\n",
      "Jalandhar\n",
      "Jammu\n",
      "Jamnagar\n",
      "Jamshedpur\n",
      "Jhansi\n",
      "Jodhpur\n",
      "Junagadh\n",
      "Kanpur\n",
      "Kharagpur\n",
      "Kochi\n",
      "Kolhapur\n",
      "Kolkata\n",
      "Howrah\n",
      "Kota\n",
      "Lucknow\n",
      "Ludhiana\n",
      "Madurai\n",
      "Manali\n",
      "Mangalore\n",
      "Manipal\n",
      "Udupi\n",
      "Meerut\n",
      "Mumbai\n",
      "Thane\n",
      "Navi Mumbai\n",
      "Mussoorie\n",
      "Mysore\n",
      "Nagpur\n",
      "Nainital\n",
      "Nashik\n",
      "Neemrana\n",
      "Ooty\n",
      "Palakkad\n",
      "Patiala\n",
      "Patna\n",
      "Puducherry\n",
      "Pune\n",
      "Pushkar\n",
      "Raipur\n",
      "Rajkot\n",
      "Ranchi\n",
      "Rishikesh\n",
      "Salem\n",
      "Shimla\n",
      "Siliguri\n",
      "Srinagar\n",
      "Surat\n",
      "Thrissur\n",
      "Tirupati\n",
      "Trichy\n",
      "Trivandrum\n",
      "Udaipur\n",
      "Varanasi\n",
      "Vellore\n",
      "Vijayawada\n",
      "Vizag\n",
      "Vadodara\n"
     ]
    }
   ],
   "source": [
    "i = 0\n",
    "for var in df_restaurants_copy['city'].unique():\n",
    "    print(var)"
   ]
  },
  {
   "cell_type": "code",
   "execution_count": 34,
   "metadata": {},
   "outputs": [
    {
     "data": {
      "text/plain": [
       "array(['Agra', 'Ahmedabad', 'Gandhinagar', 'Ajmer', 'Alappuzha',\n",
       "       'Allahabad', 'Amravati', 'Amritsar', 'Aurangabad', 'Bangalore',\n",
       "       'Bhopal', 'Bhubaneshwar', 'Chandigarh', 'Mohali', 'Panchkula',\n",
       "       'Zirakpur', 'Nayagaon', 'Chennai', 'Coimbatore', 'Cuttack',\n",
       "       'Darjeeling', 'Dehradun', 'New Delhi', 'Gurgaon', 'Noida',\n",
       "       'Faridabad', 'Ghaziabad', 'Greater Noida', 'Dharamshala',\n",
       "       'Gangtok', 'Goa', 'Gorakhpur', 'Guntur', 'Guwahati', 'Gwalior',\n",
       "       'Haridwar', 'Hyderabad', 'Secunderabad', 'Indore', 'Jabalpur',\n",
       "       'Jaipur', 'Jalandhar', 'Jammu', 'Jamnagar', 'Jamshedpur', 'Jhansi',\n",
       "       'Jodhpur', 'Junagadh', 'Kanpur', 'Kharagpur', 'Kochi', 'Kolhapur',\n",
       "       'Kolkata', 'Howrah', 'Kota', 'Lucknow', 'Ludhiana', 'Madurai',\n",
       "       'Manali', 'Mangalore', 'Manipal', 'Udupi', 'Meerut', 'Mumbai',\n",
       "       'Thane', 'Navi Mumbai', 'Mussoorie', 'Mysore', 'Nagpur',\n",
       "       'Nainital', 'Nashik', 'Neemrana', 'Ooty', 'Palakkad', 'Patiala',\n",
       "       'Patna', 'Puducherry', 'Pune', 'Pushkar', 'Raipur', 'Rajkot',\n",
       "       'Ranchi', 'Rishikesh', 'Salem', 'Shimla', 'Siliguri', 'Srinagar',\n",
       "       'Surat', 'Thrissur', 'Tirupati', 'Trichy', 'Trivandrum', 'Udaipur',\n",
       "       'Varanasi', 'Vellore', 'Vijayawada', 'Vizag', 'Vadodara'],\n",
       "      dtype=object)"
      ]
     },
     "execution_count": 34,
     "metadata": {},
     "output_type": "execute_result"
    }
   ],
   "source": [
    "df_restaurants_copy['city'].unique()"
   ]
  },
  {
   "cell_type": "markdown",
   "metadata": {},
   "source": [
    "**Let us find the count of restaurants in each city**"
   ]
  },
  {
   "cell_type": "code",
   "execution_count": 35,
   "metadata": {},
   "outputs": [
    {
     "data": {
      "text/plain": [
       "0"
      ]
     },
     "execution_count": 35,
     "metadata": {},
     "output_type": "execute_result"
    }
   ],
   "source": [
    "df_restaurants_copy['name'].isna().sum()"
   ]
  },
  {
   "cell_type": "code",
   "execution_count": 36,
   "metadata": {},
   "outputs": [
    {
     "data": {
      "text/html": [
       "<div>\n",
       "<style scoped>\n",
       "    .dataframe tbody tr th:only-of-type {\n",
       "        vertical-align: middle;\n",
       "    }\n",
       "\n",
       "    .dataframe tbody tr th {\n",
       "        vertical-align: top;\n",
       "    }\n",
       "\n",
       "    .dataframe thead th {\n",
       "        text-align: right;\n",
       "    }\n",
       "</style>\n",
       "<table border=\"1\" class=\"dataframe\">\n",
       "  <thead>\n",
       "    <tr style=\"text-align: right;\">\n",
       "      <th></th>\n",
       "      <th>city</th>\n",
       "      <th>name</th>\n",
       "    </tr>\n",
       "  </thead>\n",
       "  <tbody>\n",
       "    <tr>\n",
       "      <td>0</td>\n",
       "      <td>Agra</td>\n",
       "      <td>Bikanervala</td>\n",
       "    </tr>\n",
       "    <tr>\n",
       "      <td>1</td>\n",
       "      <td>Agra</td>\n",
       "      <td>Mama Chicken Mama Franky House</td>\n",
       "    </tr>\n",
       "    <tr>\n",
       "      <td>2</td>\n",
       "      <td>Agra</td>\n",
       "      <td>Bhagat Halwai</td>\n",
       "    </tr>\n",
       "    <tr>\n",
       "      <td>3</td>\n",
       "      <td>Agra</td>\n",
       "      <td>Bhagat Halwai</td>\n",
       "    </tr>\n",
       "    <tr>\n",
       "      <td>4</td>\n",
       "      <td>Agra</td>\n",
       "      <td>The Salt Cafe Kitchen &amp; Bar</td>\n",
       "    </tr>\n",
       "    <tr>\n",
       "      <td>...</td>\n",
       "      <td>...</td>\n",
       "      <td>...</td>\n",
       "    </tr>\n",
       "    <tr>\n",
       "      <td>209266</td>\n",
       "      <td>Vadodara</td>\n",
       "      <td>Charcoal House</td>\n",
       "    </tr>\n",
       "    <tr>\n",
       "      <td>209267</td>\n",
       "      <td>Vadodara</td>\n",
       "      <td>Day Night Vada Pav &amp; Dabeli</td>\n",
       "    </tr>\n",
       "    <tr>\n",
       "      <td>209268</td>\n",
       "      <td>Vadodara</td>\n",
       "      <td>Ph Se Food</td>\n",
       "    </tr>\n",
       "    <tr>\n",
       "      <td>209269</td>\n",
       "      <td>Vadodara</td>\n",
       "      <td>Marwari Food Corner</td>\n",
       "    </tr>\n",
       "    <tr>\n",
       "      <td>209270</td>\n",
       "      <td>Vadodara</td>\n",
       "      <td>Tasty Vada Pav</td>\n",
       "    </tr>\n",
       "  </tbody>\n",
       "</table>\n",
       "<p>490 rows × 2 columns</p>\n",
       "</div>"
      ],
      "text/plain": [
       "            city                            name\n",
       "0           Agra                     Bikanervala\n",
       "1           Agra  Mama Chicken Mama Franky House\n",
       "2           Agra                   Bhagat Halwai\n",
       "3           Agra                   Bhagat Halwai\n",
       "4           Agra     The Salt Cafe Kitchen & Bar\n",
       "...          ...                             ...\n",
       "209266  Vadodara                  Charcoal House\n",
       "209267  Vadodara     Day Night Vada Pav & Dabeli\n",
       "209268  Vadodara                      Ph Se Food\n",
       "209269  Vadodara             Marwari Food Corner\n",
       "209270  Vadodara                  Tasty Vada Pav\n",
       "\n",
       "[490 rows x 2 columns]"
      ]
     },
     "execution_count": 36,
     "metadata": {},
     "output_type": "execute_result"
    }
   ],
   "source": [
    "df_restaurants_copy.groupby(['city'])[['city','name']].head()"
   ]
  },
  {
   "cell_type": "code",
   "execution_count": 37,
   "metadata": {},
   "outputs": [
    {
     "name": "stdout",
     "output_type": "stream",
     "text": [
      "Agra  has  893  restaurants.\n",
      "Ahmedabad  has  1329  restaurants.\n",
      "Gandhinagar  has  96  restaurants.\n",
      "Ajmer  has  470  restaurants.\n",
      "Alappuzha  has  267  restaurants.\n",
      "Allahabad  has  567  restaurants.\n",
      "Amravati  has  440  restaurants.\n",
      "Amritsar  has  692  restaurants.\n",
      "Aurangabad  has  693  restaurants.\n",
      "Bangalore  has  2365  restaurants.\n",
      "Bhopal  has  971  restaurants.\n",
      "Bhubaneshwar  has  792  restaurants.\n",
      "Chandigarh  has  681  restaurants.\n",
      "Mohali  has  333  restaurants.\n",
      "Panchkula  has  174  restaurants.\n",
      "Zirakpur  has  154  restaurants.\n",
      "Nayagaon  has  15  restaurants.\n",
      "Chennai  has  2612  restaurants.\n",
      "Coimbatore  has  1019  restaurants.\n",
      "Cuttack  has  293  restaurants.\n",
      "Darjeeling  has  116  restaurants.\n",
      "Dehradun  has  805  restaurants.\n",
      "New Delhi  has  1847  restaurants.\n",
      "Gurgaon  has  662  restaurants.\n",
      "Noida  has  273  restaurants.\n",
      "Faridabad  has  81  restaurants.\n",
      "Ghaziabad  has  95  restaurants.\n",
      "Greater Noida  has  22  restaurants.\n",
      "Dharamshala  has  259  restaurants.\n",
      "Gangtok  has  132  restaurants.\n",
      "Goa  has  1169  restaurants.\n",
      "Gorakhpur  has  526  restaurants.\n",
      "Guntur  has  319  restaurants.\n",
      "Guwahati  has  784  restaurants.\n",
      "Gwalior  has  606  restaurants.\n",
      "Haridwar  has  401  restaurants.\n",
      "Hyderabad  has  866  restaurants.\n",
      "Secunderabad  has  97  restaurants.\n",
      "Indore  has  1093  restaurants.\n",
      "Jabalpur  has  598  restaurants.\n",
      "Jaipur  has  1456  restaurants.\n",
      "Jalandhar  has  643  restaurants.\n",
      "Jammu  has  549  restaurants.\n",
      "Jamnagar  has  425  restaurants.\n",
      "Jamshedpur  has  615  restaurants.\n",
      "Jhansi  has  371  restaurants.\n",
      "Jodhpur  has  731  restaurants.\n",
      "Junagadh  has  231  restaurants.\n",
      "Kanpur  has  836  restaurants.\n",
      "Kharagpur  has  116  restaurants.\n",
      "Kochi  has  1027  restaurants.\n",
      "Kolhapur  has  567  restaurants.\n",
      "Kolkata  has  1413  restaurants.\n",
      "Howrah  has  50  restaurants.\n",
      "Kota  has  622  restaurants.\n",
      "Lucknow  has  1290  restaurants.\n",
      "Ludhiana  has  992  restaurants.\n",
      "Madurai  has  578  restaurants.\n",
      "Manali  has  185  restaurants.\n",
      "Mangalore  has  584  restaurants.\n",
      "Manipal  has  162  restaurants.\n",
      "Udupi  has  61  restaurants.\n",
      "Meerut  has  580  restaurants.\n",
      "Mumbai  has  2538  restaurants.\n",
      "Thane  has  300  restaurants.\n",
      "Navi Mumbai  has  256  restaurants.\n",
      "Mussoorie  has  190  restaurants.\n",
      "Mysore  has  585  restaurants.\n",
      "Nagpur  has  1102  restaurants.\n",
      "Nainital  has  246  restaurants.\n",
      "Nashik  has  758  restaurants.\n",
      "Neemrana  has  26  restaurants.\n",
      "Ooty  has  276  restaurants.\n",
      "Palakkad  has  178  restaurants.\n",
      "Patiala  has  505  restaurants.\n",
      "Patna  has  683  restaurants.\n",
      "Puducherry  has  583  restaurants.\n",
      "Pune  has  1911  restaurants.\n",
      "Pushkar  has  183  restaurants.\n",
      "Raipur  has  833  restaurants.\n",
      "Rajkot  has  587  restaurants.\n",
      "Ranchi  has  689  restaurants.\n",
      "Rishikesh  has  258  restaurants.\n",
      "Salem  has  418  restaurants.\n",
      "Shimla  has  241  restaurants.\n",
      "Siliguri  has  483  restaurants.\n",
      "Srinagar  has  125  restaurants.\n",
      "Surat  has  1001  restaurants.\n",
      "Thrissur  has  405  restaurants.\n",
      "Tirupati  has  277  restaurants.\n",
      "Trichy  has  505  restaurants.\n",
      "Trivandrum  has  617  restaurants.\n",
      "Udaipur  has  775  restaurants.\n",
      "Varanasi  has  598  restaurants.\n",
      "Vellore  has  341  restaurants.\n",
      "Vijayawada  has  530  restaurants.\n",
      "Vizag  has  721  restaurants.\n",
      "Vadodara  has  1002  restaurants.\n"
     ]
    }
   ],
   "source": [
    "i = 0\n",
    "for var in df_restaurants_copy['city'].unique():\n",
    "    print(var , ' has ', len(df_restaurants_copy[df_restaurants_copy['city'] == var]['name']), ' restaurants.')"
   ]
  },
  {
   "cell_type": "markdown",
   "metadata": {},
   "source": [
    "**4. Variable 'locality'**"
   ]
  },
  {
   "cell_type": "code",
   "execution_count": 38,
   "metadata": {},
   "outputs": [
    {
     "data": {
      "text/plain": [
       "0"
      ]
     },
     "execution_count": 38,
     "metadata": {},
     "output_type": "execute_result"
    }
   ],
   "source": [
    "df_restaurants_copy['locality'].isna().sum()"
   ]
  },
  {
   "cell_type": "code",
   "execution_count": 39,
   "metadata": {},
   "outputs": [
    {
     "data": {
      "text/plain": [
       "56686"
      ]
     },
     "execution_count": 39,
     "metadata": {},
     "output_type": "execute_result"
    }
   ],
   "source": [
    "df_restaurants_copy['locality'].duplicated().sum()"
   ]
  },
  {
   "cell_type": "code",
   "execution_count": 40,
   "metadata": {},
   "outputs": [
    {
     "data": {
      "text/plain": [
       "array(['Khandari', 'Agra Cantt', 'Shahganj', ..., 'Navapura',\n",
       "       'L&T Knowledge City', 'Danteshwar'], dtype=object)"
      ]
     },
     "execution_count": 40,
     "metadata": {},
     "output_type": "execute_result"
    }
   ],
   "source": [
    "df_restaurants_copy['locality'].unique()"
   ]
  },
  {
   "cell_type": "markdown",
   "metadata": {},
   "source": [
    "**4. Variable 'latitude'**\n",
    "\n",
    "From the variable 'latitude', we know the latitudinal location of the restaurant\n",
    "\n",
    "The Latitudinal extent of India 8º4‛N to 37º6‛ N. \n",
    "\n",
    "We must check whether we have any points beyond this extent."
   ]
  },
  {
   "cell_type": "code",
   "execution_count": 41,
   "metadata": {},
   "outputs": [
    {
     "data": {
      "text/plain": [
       "0"
      ]
     },
     "execution_count": 41,
     "metadata": {},
     "output_type": "execute_result"
    }
   ],
   "source": [
    "df_restaurants_copy['latitude'].isna().sum()"
   ]
  },
  {
   "cell_type": "code",
   "execution_count": 42,
   "metadata": {},
   "outputs": [
    {
     "data": {
      "text/plain": [
       "7061"
      ]
     },
     "execution_count": 42,
     "metadata": {},
     "output_type": "execute_result"
    }
   ],
   "source": [
    "df_restaurants_copy['latitude'].duplicated().sum()"
   ]
  },
  {
   "cell_type": "code",
   "execution_count": 43,
   "metadata": {},
   "outputs": [
    {
     "data": {
      "text/plain": [
       "955"
      ]
     },
     "execution_count": 43,
     "metadata": {},
     "output_type": "execute_result"
    }
   ],
   "source": [
    "len(df_restaurants_copy[(df_restaurants_copy['latitude'] < 8.066667) | (df_restaurants_copy['latitude'] > 37.1)])"
   ]
  },
  {
   "cell_type": "markdown",
   "metadata": {},
   "source": [
    "- We need to replace all these values with NaN's."
   ]
  },
  {
   "cell_type": "code",
   "execution_count": 44,
   "metadata": {},
   "outputs": [],
   "source": [
    "def replacement(x):\n",
    "    if((x < 8.066667) | (x > 37.1)):\n",
    "        return np.nan\n",
    "    else:\n",
    "        return x\n",
    "df_restaurants_copy['latitude'] = df_restaurants_copy['latitude'].transform(lambda x: replacement(x))"
   ]
  },
  {
   "cell_type": "markdown",
   "metadata": {},
   "source": [
    "- check if the values are replace by NaN's"
   ]
  },
  {
   "cell_type": "code",
   "execution_count": 45,
   "metadata": {},
   "outputs": [
    {
     "data": {
      "text/plain": [
       "0"
      ]
     },
     "execution_count": 45,
     "metadata": {},
     "output_type": "execute_result"
    }
   ],
   "source": [
    "len(df_restaurants_copy[(df_restaurants_copy['latitude'] < 8.066667) | (df_restaurants_copy['latitude'] > 37.1)])"
   ]
  },
  {
   "cell_type": "code",
   "execution_count": 46,
   "metadata": {},
   "outputs": [
    {
     "data": {
      "text/plain": [
       "955"
      ]
     },
     "execution_count": 46,
     "metadata": {},
     "output_type": "execute_result"
    }
   ],
   "source": [
    "df_restaurants_copy['latitude'].isna().sum()"
   ]
  },
  {
   "cell_type": "code",
   "execution_count": 47,
   "metadata": {},
   "outputs": [
    {
     "name": "stdout",
     "output_type": "stream",
     "text": [
      "Now, the number of nan values has become same as number of values in the result above i.e. 955, which means all the qualifying values have been replaced with nan values\n"
     ]
    }
   ],
   "source": [
    "print('Now, the number of nan values has become same as number of values in the result above i.e. 955, which means all the qualifying values have been replaced with nan values')"
   ]
  },
  {
   "cell_type": "markdown",
   "metadata": {},
   "source": [
    "- We see all the values are replaced by NaN's"
   ]
  },
  {
   "cell_type": "code",
   "execution_count": 48,
   "metadata": {},
   "outputs": [
    {
     "data": {
      "text/plain": [
       "111   NaN\n",
       "113   NaN\n",
       "122   NaN\n",
       "145   NaN\n",
       "149   NaN\n",
       "Name: latitude, dtype: float64"
      ]
     },
     "execution_count": 48,
     "metadata": {},
     "output_type": "execute_result"
    }
   ],
   "source": [
    "df_restaurants_copy[df_restaurants_copy['latitude'].isna()]['latitude'].head()"
   ]
  },
  {
   "cell_type": "markdown",
   "metadata": {},
   "source": [
    "**5. Variable 'longitude'**\n",
    "\n",
    "From the variable 'longitude', we know the longitudinal location of the restaurant\n",
    "\n",
    "The Longitudinal extent of India is from 68°7'E to 97°25'E\n",
    "\n",
    "We must check whether we have any points beyond this extent."
   ]
  },
  {
   "cell_type": "code",
   "execution_count": 49,
   "metadata": {},
   "outputs": [
    {
     "data": {
      "text/plain": [
       "0"
      ]
     },
     "execution_count": 49,
     "metadata": {},
     "output_type": "execute_result"
    }
   ],
   "source": [
    "df_restaurants_copy['longitude'].isna().sum()"
   ]
  },
  {
   "cell_type": "code",
   "execution_count": 50,
   "metadata": {},
   "outputs": [
    {
     "data": {
      "text/plain": [
       "7099"
      ]
     },
     "execution_count": 50,
     "metadata": {},
     "output_type": "execute_result"
    }
   ],
   "source": [
    "df_restaurants_copy['longitude'].duplicated().sum()"
   ]
  },
  {
   "cell_type": "code",
   "execution_count": 51,
   "metadata": {},
   "outputs": [
    {
     "data": {
      "text/plain": [
       "957"
      ]
     },
     "execution_count": 51,
     "metadata": {},
     "output_type": "execute_result"
    }
   ],
   "source": [
    "len(df_restaurants_copy[(df_restaurants_copy['longitude'] < 68.1166667) | (df_restaurants_copy['longitude'] > 97.41666667)])"
   ]
  },
  {
   "cell_type": "markdown",
   "metadata": {},
   "source": [
    "- We need to replace all these values with NaN's."
   ]
  },
  {
   "cell_type": "code",
   "execution_count": 52,
   "metadata": {},
   "outputs": [],
   "source": [
    "def replacement2(x):\n",
    "    if((x < 68.1166667) | (x > 97.41666667)):\n",
    "        return np.nan\n",
    "    else:\n",
    "        return x\n",
    "df_restaurants_copy['longitude'] = df_restaurants_copy['longitude'].transform(lambda x: replacement2(x))"
   ]
  },
  {
   "cell_type": "markdown",
   "metadata": {},
   "source": [
    "- Check if the values are replace by NaN's"
   ]
  },
  {
   "cell_type": "code",
   "execution_count": 53,
   "metadata": {},
   "outputs": [
    {
     "data": {
      "text/plain": [
       "0"
      ]
     },
     "execution_count": 53,
     "metadata": {},
     "output_type": "execute_result"
    }
   ],
   "source": [
    "len(df_restaurants_copy[(df_restaurants_copy['longitude'] < 68.1166667) | (df_restaurants_copy['longitude'] > 97.41666667)])"
   ]
  },
  {
   "cell_type": "code",
   "execution_count": 54,
   "metadata": {},
   "outputs": [
    {
     "data": {
      "text/plain": [
       "957"
      ]
     },
     "execution_count": 54,
     "metadata": {},
     "output_type": "execute_result"
    }
   ],
   "source": [
    "df_restaurants_copy['longitude'].isna().sum()"
   ]
  },
  {
   "cell_type": "code",
   "execution_count": 55,
   "metadata": {},
   "outputs": [
    {
     "name": "stdout",
     "output_type": "stream",
     "text": [
      "Now, the number of nan values has become same as number of values in the result above i.e. 957, which means all the qualifying values have been replaced with nan values\n"
     ]
    }
   ],
   "source": [
    "print('Now, the number of nan values has become same as number of values in the result above i.e. 957, which means all the qualifying values have been replaced with nan values')"
   ]
  },
  {
   "cell_type": "markdown",
   "metadata": {},
   "source": [
    "- From variable 'latitude' and 'longitude', plot the location of restaurants."
   ]
  },
  {
   "cell_type": "code",
   "execution_count": 56,
   "metadata": {},
   "outputs": [
    {
     "data": {
      "text/plain": [
       "0"
      ]
     },
     "execution_count": 56,
     "metadata": {},
     "output_type": "execute_result"
    }
   ],
   "source": [
    "df_temp = df_restaurants_copy[['latitude','longitude']].dropna()\n",
    "df_temp.isna().sum().sum()"
   ]
  },
  {
   "cell_type": "code",
   "execution_count": 57,
   "metadata": {},
   "outputs": [
    {
     "data": {
      "text/plain": [
       "<matplotlib.collections.PathCollection at 0x3a571795c8>"
      ]
     },
     "execution_count": 57,
     "metadata": {},
     "output_type": "execute_result"
    },
    {
     "data": {
      "image/png": "[encoded data removed]",
      "text/plain": [
       "<Figure size 432x720 with 1 Axes>"
      ]
     },
     "metadata": {
      "needs_background": "light"
     },
     "output_type": "display_data"
    }
   ],
   "source": [
    "fig, ax = plt.subplots(figsize=(6,10))\n",
    "plt.scatter(df_temp['longitude'],df_temp['latitude'])"
   ]
  },
  {
   "cell_type": "code",
   "execution_count": 58,
   "metadata": {},
   "outputs": [
    {
     "name": "stdout",
     "output_type": "stream",
     "text": [
      "Requirement already satisfied: gmplot in c:\\users\\kejri\\anaconda3\\lib\\site-packages (1.2.0)\n",
      "Requirement already satisfied: requests in c:\\users\\kejri\\anaconda3\\lib\\site-packages (from gmplot) (2.22.0)\n",
      "Requirement already satisfied: urllib3!=1.25.0,!=1.25.1,<1.26,>=1.21.1 in c:\\users\\kejri\\anaconda3\\lib\\site-packages (from requests->gmplot) (1.24.2)\n",
      "Requirement already satisfied: chardet<3.1.0,>=3.0.2 in c:\\users\\kejri\\anaconda3\\lib\\site-packages (from requests->gmplot) (3.0.4)\n",
      "Requirement already satisfied: idna<2.9,>=2.5 in c:\\users\\kejri\\anaconda3\\lib\\site-packages (from requests->gmplot) (2.8)\n",
      "Requirement already satisfied: certifi>=2017.4.17 in c:\\users\\kejri\\anaconda3\\lib\\site-packages (from requests->gmplot) (2019.9.11)\n",
      "Note: you may need to restart the kernel to use updated packages.\n"
     ]
    }
   ],
   "source": [
    "pip install gmplot"
   ]
  },
  {
   "cell_type": "code",
   "execution_count": 59,
   "metadata": {},
   "outputs": [],
   "source": [
    "import gmplot"
   ]
  },
  {
   "cell_type": "code",
   "execution_count": 60,
   "metadata": {},
   "outputs": [],
   "source": [
    "#lat, long, zoom\n",
    "google_map = gmplot.GoogleMapPlotter(28.7041,77.1025, 5, apikey=\"\" )"
   ]
  },
  {
   "cell_type": "code",
   "execution_count": 61,
   "metadata": {},
   "outputs": [],
   "source": [
    "#google_map.apikey = \"\""
   ]
  },
  {
   "cell_type": "code",
   "execution_count": 62,
   "metadata": {},
   "outputs": [],
   "source": [
    "google_map.scatter(df_temp['latitude'],df_temp['longitude'], '#cb202d', size = 35, marker = False)"
   ]
  },
  {
   "cell_type": "code",
   "execution_count": 63,
   "metadata": {},
   "outputs": [],
   "source": [
    "google_map.draw(\"location.html\")"
   ]
  },
  {
   "cell_type": "code",
   "execution_count": 64,
   "metadata": {},
   "outputs": [
    {
     "data": {
      "text/plain": [
       "True"
      ]
     },
     "execution_count": 64,
     "metadata": {},
     "output_type": "execute_result"
    }
   ],
   "source": [
    "import webbrowser \n",
    "webbrowser.open('location.html')"
   ]
  },
  {
   "cell_type": "markdown",
   "metadata": {},
   "source": [
    "**6. Variable 'cuisines'**"
   ]
  },
  {
   "cell_type": "code",
   "execution_count": 65,
   "metadata": {},
   "outputs": [
    {
     "data": {
      "text/plain": [
       "470"
      ]
     },
     "execution_count": 65,
     "metadata": {},
     "output_type": "execute_result"
    }
   ],
   "source": [
    "df_restaurants_copy['cuisines'].isna().sum()"
   ]
  },
  {
   "cell_type": "code",
   "execution_count": 66,
   "metadata": {},
   "outputs": [
    {
     "data": {
      "text/plain": [
       "51034"
      ]
     },
     "execution_count": 66,
     "metadata": {},
     "output_type": "execute_result"
    }
   ],
   "source": [
    "df_restaurants_copy['cuisines'].duplicated().sum()"
   ]
  },
  {
   "cell_type": "markdown",
   "metadata": {},
   "source": [
    "- To find the unique cusines we write a small user defined function.\n",
    "\n"
   ]
  },
  {
   "cell_type": "code",
   "execution_count": 67,
   "metadata": {},
   "outputs": [
    {
     "data": {
      "text/plain": [
       "0         North Indian, South Indian, Mithai, Street Foo...\n",
       "1         North Indian, Mughlai, Rolls, Chinese, Fast Fo...\n",
       "2                                         Fast Food, Mithai\n",
       "3                 Desserts, Bakery, Fast Food, South Indian\n",
       "4                        North Indian, Continental, Italian\n",
       "                                ...                        \n",
       "211882                                            Ice Cream\n",
       "211925                      Gujarati, North Indian, Chinese\n",
       "211926                                Gujarati, Street Food\n",
       "211940                                            Fast Food\n",
       "211942                           Fast Food, Sandwich, Salad\n",
       "Name: cuisines, Length: 60417, dtype: object"
      ]
     },
     "execution_count": 67,
     "metadata": {},
     "output_type": "execute_result"
    }
   ],
   "source": [
    "df_restaurants_copy['cuisines']"
   ]
  },
  {
   "cell_type": "code",
   "execution_count": 68,
   "metadata": {},
   "outputs": [
    {
     "name": "stdout",
     "output_type": "stream",
     "text": [
      "['North Indian' 'South Indian' 'Mithai' 'Street Food' 'Desserts' 'Mughlai'\n",
      " 'Rolls' 'Chinese' 'Fast Food' 'Bakery' 'Continental' 'Italian' 'Pizza'\n",
      " 'Cafe' 'Burger' 'Wraps' 'Beverages' 'Rajasthani' 'Mexican' 'Healthy Food'\n",
      " 'Sandwich' 'Salad' 'Momos' 'Lebanese' 'Mediterranean' 'Thai' 'Gujarati'\n",
      " 'Indian' 'Finger Food' 'European' 'Tea' 'Asian' 'Bar Food' 'Kebab' 'Paan'\n",
      " 'Biryani' 'Juices' 'Ice Cream' 'Japanese' 'Korean' 'Afghan' 'Awadhi'\n",
      " 'Hyderabadi' 'Lucknowi' 'Roast Chicken' 'Drinks Only' 'Coffee' 'American'\n",
      " 'BBQ' 'Maharashtrian' 'Modern Indian' 'Andhra' 'Konkan' 'Kerala' 'Sushi'\n",
      " 'Parsi' 'Greek' 'Bengali' 'Seafood' 'Frozen Yogurt' 'Arabian'\n",
      " 'Indonesian' 'Sindhi' 'Hot dogs' 'Goan' 'Charcoal Chicken' 'Raw Meats'\n",
      " 'Grill' 'Malwani' 'Cantonese' 'Pakistani' 'Steak' 'Vietnamese'\n",
      " 'Singaporean' 'Middle Eastern' 'British' 'French' 'Burmese' 'Kashmiri'\n",
      " 'Mangalorean' 'Malaysian' 'Tex-Mex' 'Spanish' 'Chettinad' 'Tibetan'\n",
      " 'German' 'Belgian' 'Turkish' 'Bihari' 'Odia' 'Naga' 'Bubble Tea'\n",
      " 'Moroccan' 'Sri Lankan' 'Mandi' 'Coffee and Tea' 'Cafe Food' 'Oriental'\n",
      " 'Cuisine Varies' 'Pan Asian' 'Mishti' 'Portuguese' 'Iranian'\n",
      " 'North Eastern' 'Mongolian' 'Irish' 'Tamil' 'Russian' 'Panini'\n",
      " 'South American' 'Fusion' 'Nepalese' 'International' 'Modern Australian'\n",
      " 'Poké' 'Falafel' 'Armenian' 'Peruvian' 'Brazilian' 'Himachali' 'Israeli'\n",
      " 'Bohri' 'Assamese' 'Bangladeshi' 'African' 'Egyptian' 'Crepes'\n",
      " 'Fried Chicken' 'Swedish' 'Cake' 'Garhwali' 'Vegan' 'Afghani']\n"
     ]
    }
   ],
   "source": [
    "def cuisines(x):\n",
    "    x=x.dropna()\n",
    "    x=np.asarray(x.transform(lambda x: x.split(\", \")).to_numpy())\n",
    "    x= pd.Series(np.concatenate(x, axis=0))\n",
    "    print(x.unique())\n",
    "cuisines(df_restaurants_copy['cuisines'])"
   ]
  },
  {
   "cell_type": "code",
   "execution_count": 69,
   "metadata": {},
   "outputs": [
    {
     "name": "stdout",
     "output_type": "stream",
     "text": [
      "['North Indian' 'South Indian' 'Mithai' 'Street Food' 'Desserts' 'Mughlai'\n",
      " 'Rolls' 'Chinese' 'Fast Food' 'Bakery' 'Continental' 'Italian' 'Pizza'\n",
      " 'Cafe' 'Burger' 'Wraps' 'Beverages' 'Rajasthani' 'Mexican' 'Healthy Food'\n",
      " 'Sandwich' 'Salad' 'Momos' 'Lebanese' 'Mediterranean' 'Thai' 'Gujarati'\n",
      " 'Indian' 'Finger Food' 'European' 'Tea' 'Asian' 'Bar Food' 'Kebab' 'Paan'\n",
      " 'Biryani' 'Juices' 'Ice Cream' 'Japanese' 'Korean' 'Afghan' 'Awadhi'\n",
      " 'Hyderabadi' 'Lucknowi' 'Roast Chicken' 'Drinks Only' 'Coffee']\n"
     ]
    }
   ],
   "source": [
    "cuisines(df_restaurants_copy[df_restaurants_copy['city'] == 'Agra']['cuisines'])"
   ]
  },
  {
   "cell_type": "code",
   "execution_count": 70,
   "metadata": {},
   "outputs": [
    {
     "name": "stdout",
     "output_type": "stream",
     "text": [
      "['Cafe' 'Pizza' 'Continental' 'North Indian' 'South Indian' 'Kashmiri'\n",
      " 'Fast Food' 'Italian' 'Mughlai' 'Chinese' 'Desserts' 'Beverages'\n",
      " 'Sandwich' 'Street Food' 'Mithai' 'Bakery' 'Tibetan' 'Afghan' 'Asian'\n",
      " 'Burger' 'Ice Cream' 'European' 'American' 'Thai' 'Finger Food' 'BBQ'\n",
      " 'Biryani' 'Tea']\n"
     ]
    }
   ],
   "source": [
    "cuisines(df_restaurants_copy[df_restaurants_copy['city'] == 'Srinagar']['cuisines'])"
   ]
  },
  {
   "cell_type": "code",
   "execution_count": 71,
   "metadata": {},
   "outputs": [
    {
     "name": "stdout",
     "output_type": "stream",
     "text": [
      "['Cafe']\n"
     ]
    }
   ],
   "source": [
    "cuisines(df_restaurants_copy[(df_restaurants_copy['city'] == 'Srinagar') & (df_restaurants_copy['name'] == 'Winterfell Cafe')]['cuisines'])"
   ]
  },
  {
   "cell_type": "code",
   "execution_count": 72,
   "metadata": {},
   "outputs": [
    {
     "name": "stdout",
     "output_type": "stream",
     "text": [
      "['North Indian' 'South Indian' 'Chinese' 'Street Food' 'Fast Food'\n",
      " 'Mithai' 'Desserts']\n"
     ]
    }
   ],
   "source": [
    "cuisines(df_restaurants_copy[(df_restaurants_copy['city'] == 'Srinagar') & (df_restaurants_copy['name'] == 'Nathus Sweets')]['cuisines'])"
   ]
  },
  {
   "cell_type": "markdown",
   "metadata": {},
   "source": [
    "- find out the frequency of each cuisine"
   ]
  },
  {
   "cell_type": "code",
   "execution_count": 73,
   "metadata": {},
   "outputs": [
    {
     "name": "stdout",
     "output_type": "stream",
     "text": [
      "North Indian     21259\n",
      "Chinese          14139\n",
      "Fast Food        13191\n",
      "Desserts          7755\n",
      "Beverages         7486\n",
      "                 ...  \n",
      "African              2\n",
      "International        1\n",
      "Vegan                1\n",
      "Mandi                1\n",
      "Swedish              1\n",
      "Length: 133, dtype: int64\n"
     ]
    }
   ],
   "source": [
    "def cuisines_freq(x):\n",
    "    x=x.dropna()\n",
    "    x=np.asarray(x.transform(lambda x: x.split(\", \")).to_numpy())\n",
    "    x= pd.Series(np.concatenate(x, axis=0))\n",
    "    print(x.value_counts())\n",
    "cuisines_freq(df_restaurants_copy['cuisines'])"
   ]
  },
  {
   "cell_type": "code",
   "execution_count": 74,
   "metadata": {},
   "outputs": [
    {
     "name": "stdout",
     "output_type": "stream",
     "text": [
      "North Indian    44\n",
      "Chinese         22\n",
      "Kashmiri        19\n",
      "Mughlai         16\n",
      "Fast Food       15\n",
      "Bakery          13\n",
      "Cafe            13\n",
      "Italian          9\n",
      "Continental      8\n",
      "Mithai           6\n",
      "Pizza            6\n",
      "South Indian     5\n",
      "Desserts         4\n",
      "Beverages        3\n",
      "Asian            2\n",
      "Ice Cream        2\n",
      "Street Food      2\n",
      "American         1\n",
      "Sandwich         1\n",
      "Burger           1\n",
      "Afghan           1\n",
      "Thai             1\n",
      "Tea              1\n",
      "BBQ              1\n",
      "Biryani          1\n",
      "Finger Food      1\n",
      "Tibetan          1\n",
      "European         1\n",
      "dtype: int64\n"
     ]
    }
   ],
   "source": [
    "cuisines_freq(df_restaurants_copy[df_restaurants_copy['city'] == 'Srinagar']['cuisines'])"
   ]
  },
  {
   "cell_type": "markdown",
   "metadata": {},
   "source": [
    "**8. Variable 'average_cost_for_two'**"
   ]
  },
  {
   "cell_type": "code",
   "execution_count": 75,
   "metadata": {},
   "outputs": [
    {
     "data": {
      "text/plain": [
       "0"
      ]
     },
     "execution_count": 75,
     "metadata": {},
     "output_type": "execute_result"
    }
   ],
   "source": [
    "df_restaurants_copy['average_cost_for_two'].isna().sum()"
   ]
  },
  {
   "cell_type": "code",
   "execution_count": 76,
   "metadata": {},
   "outputs": [
    {
     "data": {
      "text/plain": [
       "60272"
      ]
     },
     "execution_count": 76,
     "metadata": {},
     "output_type": "execute_result"
    }
   ],
   "source": [
    "df_restaurants_copy['average_cost_for_two'].duplicated().sum()"
   ]
  },
  {
   "cell_type": "code",
   "execution_count": 77,
   "metadata": {},
   "outputs": [
    {
     "data": {
      "text/plain": [
       "60417"
      ]
     },
     "execution_count": 77,
     "metadata": {},
     "output_type": "execute_result"
    }
   ],
   "source": [
    "len(df_restaurants_copy['average_cost_for_two'])"
   ]
  },
  {
   "cell_type": "code",
   "execution_count": 78,
   "metadata": {},
   "outputs": [
    {
     "data": {
      "text/plain": [
       "(0, 538.28, 30000)"
      ]
     },
     "execution_count": 78,
     "metadata": {},
     "output_type": "execute_result"
    }
   ],
   "source": [
    "df_restaurants_copy['average_cost_for_two'].min(), round(df_restaurants_copy['average_cost_for_two'].mean(),2), df_restaurants_copy['average_cost_for_two'].max()"
   ]
  },
  {
   "cell_type": "markdown",
   "metadata": {},
   "source": [
    "**9. Variable 'price_range'**"
   ]
  },
  {
   "cell_type": "code",
   "execution_count": 79,
   "metadata": {},
   "outputs": [
    {
     "data": {
      "text/plain": [
       "0"
      ]
     },
     "execution_count": 79,
     "metadata": {},
     "output_type": "execute_result"
    }
   ],
   "source": [
    "df_restaurants_copy['price_range'].isna().sum()"
   ]
  },
  {
   "cell_type": "code",
   "execution_count": 80,
   "metadata": {},
   "outputs": [
    {
     "data": {
      "text/plain": [
       "60413"
      ]
     },
     "execution_count": 80,
     "metadata": {},
     "output_type": "execute_result"
    }
   ],
   "source": [
    "df_restaurants_copy['price_range'].duplicated().sum()"
   ]
  },
  {
   "cell_type": "code",
   "execution_count": 81,
   "metadata": {},
   "outputs": [
    {
     "data": {
      "text/plain": [
       "array([2, 1, 3, 4], dtype=int64)"
      ]
     },
     "execution_count": 81,
     "metadata": {},
     "output_type": "execute_result"
    }
   ],
   "source": [
    "df_restaurants_copy['price_range'].unique()"
   ]
  },
  {
   "cell_type": "markdown",
   "metadata": {},
   "source": [
    "- visualize a exploded pie chart."
   ]
  },
  {
   "cell_type": "code",
   "execution_count": 82,
   "metadata": {},
   "outputs": [],
   "source": [
    "labels = 1,2,3,4\n",
    "sizes = [len(df_restaurants_copy[df_restaurants_copy['price_range']==1]['price_range']), len(df_restaurants_copy[df_restaurants_copy['price_range']==2]['price_range']), len(df_restaurants_copy[df_restaurants_copy['price_range']==3]['price_range']), len(df_restaurants_copy[df_restaurants_copy['price_range']==4]['price_range'])]\n",
    "explode = (0, 0, 0, 0.3)"
   ]
  },
  {
   "cell_type": "code",
   "execution_count": 83,
   "metadata": {},
   "outputs": [
    {
     "data": {
      "image/png": "[encoded data removed]",
      "text/plain": [
       "<Figure size 432x288 with 1 Axes>"
      ]
     },
     "metadata": {},
     "output_type": "display_data"
    }
   ],
   "source": [
    "fig, ax = plt.subplots()\n",
    "ax.pie(sizes, labels=labels, explode=explode, autopct='%1.1f%%', shadow=True, startangle=90, radius = 2)\n",
    "plt.show()"
   ]
  },
  {
   "cell_type": "markdown",
   "metadata": {},
   "source": [
    "**10. Variable 'highlights'**"
   ]
  },
  {
   "cell_type": "code",
   "execution_count": 84,
   "metadata": {},
   "outputs": [
    {
     "data": {
      "text/plain": [
       "743"
      ]
     },
     "execution_count": 84,
     "metadata": {},
     "output_type": "execute_result"
    }
   ],
   "source": [
    "df_restaurants_copy['highlights'].isna().sum()"
   ]
  },
  {
   "cell_type": "code",
   "execution_count": 85,
   "metadata": {},
   "outputs": [
    {
     "data": {
      "text/plain": [
       "28962"
      ]
     },
     "execution_count": 85,
     "metadata": {},
     "output_type": "execute_result"
    }
   ],
   "source": [
    "df_restaurants_copy['highlights'].duplicated().sum()"
   ]
  },
  {
   "cell_type": "code",
   "execution_count": 86,
   "metadata": {},
   "outputs": [
    {
     "data": {
      "text/plain": [
       "0    Lunch, Takeaway Available, Credit Card, Dinner...\n",
       "1    Delivery, No Alcohol Available, Dinner, Takeaw...\n",
       "2    No Alcohol Available, Dinner, Takeaway Availab...\n",
       "3    Takeaway Available, Credit Card, Lunch, Delive...\n",
       "4    Lunch, Serves Alcohol, Cash, Credit Card, Dinn...\n",
       "Name: highlights, dtype: object"
      ]
     },
     "execution_count": 86,
     "metadata": {},
     "output_type": "execute_result"
    }
   ],
   "source": [
    "df_restaurants_copy['highlights'].head()"
   ]
  },
  {
   "cell_type": "markdown",
   "metadata": {},
   "source": [
    "\n",
    "\n",
    "- write a small function to know the number of times a facility has appeared in the 'Highlights'."
   ]
  },
  {
   "cell_type": "code",
   "execution_count": 87,
   "metadata": {},
   "outputs": [
    {
     "name": "stdout",
     "output_type": "stream",
     "text": [
      "Cash                      57533\n",
      "Takeaway Available        51010\n",
      "Indoor Seating            44847\n",
      "Dinner                    41685\n",
      "Lunch                     40012\n",
      "                          ...  \n",
      "Members Only                  3\n",
      "Bira 91 Beer                  2\n",
      "Alipay Accepted               1\n",
      "Subscription Required         1\n",
      "Subscription Available        1\n",
      "Length: 103, dtype: int64\n"
     ]
    }
   ],
   "source": [
    "def highlights_freq(x):\n",
    "    x=x.dropna()\n",
    "    x=np.asarray(x.transform(lambda x: x.split(\", \")).to_numpy())\n",
    "    x= pd.Series(np.concatenate(x, axis=0))\n",
    "    print(x.value_counts())\n",
    "highlights_freq(df_restaurants_copy['highlights'])"
   ]
  },
  {
   "cell_type": "markdown",
   "metadata": {},
   "source": [
    "- Now we find out which facility occurs most number of in the data."
   ]
  },
  {
   "cell_type": "code",
   "execution_count": 88,
   "metadata": {},
   "outputs": [
    {
     "name": "stdout",
     "output_type": "stream",
     "text": [
      "Cash    57533\n",
      "dtype: int64\n"
     ]
    }
   ],
   "source": [
    "def highlights_freq_max(x):\n",
    "    x=x.dropna()\n",
    "    x=np.asarray(x.transform(lambda x: x.split(\", \")).to_numpy())\n",
    "    x= pd.Series(np.concatenate(x, axis=0))\n",
    "    print(x.value_counts().head(1))\n",
    "highlights_freq_max(df_restaurants_copy['highlights'])"
   ]
  },
  {
   "cell_type": "markdown",
   "metadata": {},
   "source": [
    "**11. Variable 'aggregate_rating'** \n",
    "\n"
   ]
  },
  {
   "cell_type": "code",
   "execution_count": 89,
   "metadata": {},
   "outputs": [
    {
     "data": {
      "text/plain": [
       "0"
      ]
     },
     "execution_count": 89,
     "metadata": {},
     "output_type": "execute_result"
    }
   ],
   "source": [
    "df_restaurants_copy['aggregate_rating'].isna().sum()"
   ]
  },
  {
   "cell_type": "code",
   "execution_count": 90,
   "metadata": {},
   "outputs": [
    {
     "data": {
      "text/plain": [
       "60384"
      ]
     },
     "execution_count": 90,
     "metadata": {},
     "output_type": "execute_result"
    }
   ],
   "source": [
    "df_restaurants_copy['aggregate_rating'].duplicated().sum()"
   ]
  },
  {
   "cell_type": "code",
   "execution_count": 91,
   "metadata": {},
   "outputs": [
    {
     "data": {
      "text/plain": [
       "0    4.4\n",
       "1    4.4\n",
       "2    4.2\n",
       "3    4.3\n",
       "4    4.9\n",
       "Name: aggregate_rating, dtype: float64"
      ]
     },
     "execution_count": 91,
     "metadata": {},
     "output_type": "execute_result"
    }
   ],
   "source": [
    "df_restaurants_copy['aggregate_rating'].head()"
   ]
  },
  {
   "cell_type": "code",
   "execution_count": 92,
   "metadata": {},
   "outputs": [
    {
     "data": {
      "text/plain": [
       "3.03"
      ]
     },
     "execution_count": 92,
     "metadata": {},
     "output_type": "execute_result"
    }
   ],
   "source": [
    "round(df_restaurants_copy['aggregate_rating'].mean(),2)"
   ]
  },
  {
   "cell_type": "markdown",
   "metadata": {},
   "source": [
    "**12. Variable 'rating_text'**\n",
    "\n"
   ]
  },
  {
   "cell_type": "code",
   "execution_count": 93,
   "metadata": {},
   "outputs": [
    {
     "data": {
      "text/plain": [
       "0"
      ]
     },
     "execution_count": 93,
     "metadata": {},
     "output_type": "execute_result"
    }
   ],
   "source": [
    "df_restaurants_copy['rating_text'].isna().sum()"
   ]
  },
  {
   "cell_type": "code",
   "execution_count": 94,
   "metadata": {},
   "outputs": [
    {
     "data": {
      "text/plain": [
       "60378"
      ]
     },
     "execution_count": 94,
     "metadata": {},
     "output_type": "execute_result"
    }
   ],
   "source": [
    "df_restaurants_copy['rating_text'].duplicated().sum()"
   ]
  },
  {
   "cell_type": "code",
   "execution_count": 95,
   "metadata": {},
   "outputs": [
    {
     "data": {
      "text/plain": [
       "0    Very Good\n",
       "1    Very Good\n",
       "2    Very Good\n",
       "3    Very Good\n",
       "4    Excellent\n",
       "Name: rating_text, dtype: object"
      ]
     },
     "execution_count": 95,
     "metadata": {},
     "output_type": "execute_result"
    }
   ],
   "source": [
    "df_restaurants_copy['rating_text'].head()"
   ]
  },
  {
   "cell_type": "code",
   "execution_count": 96,
   "metadata": {},
   "outputs": [
    {
     "data": {
      "text/plain": [
       "array(['Very Good', 'Excellent', 'Good', 'Average', 'Not rated', 'Poor',\n",
       "       'Dobré', 'Baik', 'Sangat Baik', 'Excelente', 'Bardzo dobrze',\n",
       "       'Wybitnie', 'Ottimo', 'Muito Bom', 'Velmi dobré', 'Skvělá volba',\n",
       "       'Muy Bueno', 'Bom', 'İyi', 'Çok iyi', 'Harika', 'Terbaik',\n",
       "       'Skvělé', 'Průměr', 'Ortalama', 'Bueno', 'Eccellente', 'Muito bom',\n",
       "       'Dobrze', 'Buono', 'Média', 'Scarso', 'Promedio', 'Veľmi dobré',\n",
       "       'Vynikajúce', 'Średnio', 'Priemer', 'Biasa', 'Media'], dtype=object)"
      ]
     },
     "execution_count": 96,
     "metadata": {},
     "output_type": "execute_result"
    }
   ],
   "source": [
    "df_restaurants_copy['rating_text'].unique()"
   ]
  },
  {
   "cell_type": "code",
   "execution_count": 97,
   "metadata": {},
   "outputs": [
    {
     "data": {
      "text/plain": [
       "array([4.4, 4.2, 4.3, 4. , 4.1])"
      ]
     },
     "execution_count": 97,
     "metadata": {},
     "output_type": "execute_result"
    }
   ],
   "source": [
    "df_restaurants_copy[df_restaurants_copy['rating_text'] == \"Very Good\"]['aggregate_rating'].unique()"
   ]
  },
  {
   "cell_type": "code",
   "execution_count": 98,
   "metadata": {},
   "outputs": [
    {
     "data": {
      "text/plain": [
       "array([4.9, 4.6, 4.5, 4.7, 4.8])"
      ]
     },
     "execution_count": 98,
     "metadata": {},
     "output_type": "execute_result"
    }
   ],
   "source": [
    "df_restaurants_copy[df_restaurants_copy['rating_text'] == \"Excellent\"]['aggregate_rating'].unique()"
   ]
  },
  {
   "cell_type": "code",
   "execution_count": 99,
   "metadata": {},
   "outputs": [
    {
     "data": {
      "text/plain": [
       "array([3.8, 3.5, 3.9, 3.6, 3.7])"
      ]
     },
     "execution_count": 99,
     "metadata": {},
     "output_type": "execute_result"
    }
   ],
   "source": [
    "df_restaurants_copy[df_restaurants_copy['rating_text'] == \"Good\"]['aggregate_rating'].unique()"
   ]
  },
  {
   "cell_type": "code",
   "execution_count": 100,
   "metadata": {},
   "outputs": [
    {
     "data": {
      "text/plain": [
       "array([3.4, 3.2, 3.3, 2.8, 3.1, 2.6, 3. , 2.7, 2.9, 2.5])"
      ]
     },
     "execution_count": 100,
     "metadata": {},
     "output_type": "execute_result"
    }
   ],
   "source": [
    "df_restaurants_copy[df_restaurants_copy['rating_text'] == \"Average\"]['aggregate_rating'].unique()"
   ]
  },
  {
   "cell_type": "code",
   "execution_count": 101,
   "metadata": {},
   "outputs": [
    {
     "data": {
      "text/plain": [
       "array([0.])"
      ]
     },
     "execution_count": 101,
     "metadata": {},
     "output_type": "execute_result"
    }
   ],
   "source": [
    "df_restaurants_copy[df_restaurants_copy['rating_text'] == \"Not rated\"]['aggregate_rating'].unique()"
   ]
  },
  {
   "cell_type": "code",
   "execution_count": 102,
   "metadata": {},
   "outputs": [
    {
     "data": {
      "text/plain": [
       "array([2.2, 2.3, 2.4, 2.1, 1.8, 2. , 1.9])"
      ]
     },
     "execution_count": 102,
     "metadata": {},
     "output_type": "execute_result"
    }
   ],
   "source": [
    "df_restaurants_copy[df_restaurants_copy['rating_text'] == \"Poor\"]['aggregate_rating'].unique()"
   ]
  },
  {
   "cell_type": "markdown",
   "metadata": {},
   "source": [
    "Creating a New feature for better understanding of ratings\n"
   ]
  },
  {
   "cell_type": "code",
   "execution_count": 103,
   "metadata": {},
   "outputs": [
    {
     "data": {
      "text/plain": [
       "0   NaN\n",
       "1   NaN\n",
       "2   NaN\n",
       "3   NaN\n",
       "4   NaN\n",
       "Name: new_ratings, dtype: float64"
      ]
     },
     "execution_count": 103,
     "metadata": {},
     "output_type": "execute_result"
    }
   ],
   "source": [
    "def ratings(x): \n",
    "    if x>=4.5:\n",
    "        return \"Excellent\"\n",
    "    elif ((x<4.5) & (x>=4)):\n",
    "        return \"Very Good\"\n",
    "    elif ((x<4) & (x>=3.5)):\n",
    "        return 'Good'\n",
    "    elif ((x<3.5) & (x>=2.5)):\n",
    "        return 'Average'\n",
    "    elif ((x<2.5) & (x>0)):\n",
    "        return 'Poor'\n",
    "    else:\n",
    "        return 'Not Rated'\n",
    "df_restaurants_copy['new_ratings'] = np.nan\n",
    "df_restaurants_copy['new_ratings'].head()"
   ]
  },
  {
   "cell_type": "code",
   "execution_count": 104,
   "metadata": {},
   "outputs": [],
   "source": [
    "df_restaurants_copy['new_ratings'] = df_restaurants_copy['aggregate_rating'].transform(lambda x: ratings(x))"
   ]
  },
  {
   "cell_type": "code",
   "execution_count": 105,
   "metadata": {},
   "outputs": [
    {
     "data": {
      "text/plain": [
       "array(['Very Good', 'Excellent', 'Good', 'Average', 'Not rated', 'Poor',\n",
       "       'Dobré', 'Baik', 'Sangat Baik', 'Excelente', 'Bardzo dobrze',\n",
       "       'Wybitnie', 'Ottimo', 'Muito Bom', 'Velmi dobré', 'Skvělá volba',\n",
       "       'Muy Bueno', 'Bom', 'İyi', 'Çok iyi', 'Harika', 'Terbaik',\n",
       "       'Skvělé', 'Průměr', 'Ortalama', 'Bueno', 'Eccellente', 'Muito bom',\n",
       "       'Dobrze', 'Buono', 'Média', 'Scarso', 'Promedio', 'Veľmi dobré',\n",
       "       'Vynikajúce', 'Średnio', 'Priemer', 'Biasa', 'Media'], dtype=object)"
      ]
     },
     "execution_count": 105,
     "metadata": {},
     "output_type": "execute_result"
    }
   ],
   "source": [
    "df_restaurants_copy['rating_text'].unique()"
   ]
  },
  {
   "cell_type": "code",
   "execution_count": 106,
   "metadata": {},
   "outputs": [
    {
     "data": {
      "text/plain": [
       "array(['Very Good', 'Excellent', 'Good', 'Average', 'Not Rated', 'Poor'],\n",
       "      dtype=object)"
      ]
     },
     "execution_count": 106,
     "metadata": {},
     "output_type": "execute_result"
    }
   ],
   "source": [
    "df_restaurants_copy['new_ratings'].unique()"
   ]
  },
  {
   "cell_type": "code",
   "execution_count": 107,
   "metadata": {},
   "outputs": [
    {
     "data": {
      "text/plain": [
       "0    Very Good\n",
       "1    Very Good\n",
       "2    Very Good\n",
       "3    Very Good\n",
       "4    Excellent\n",
       "Name: new_ratings, dtype: object"
      ]
     },
     "execution_count": 107,
     "metadata": {},
     "output_type": "execute_result"
    }
   ],
   "source": [
    "df_restaurants_copy['new_ratings'].head()"
   ]
  },
  {
   "cell_type": "code",
   "execution_count": 108,
   "metadata": {},
   "outputs": [],
   "source": [
    "df_restaurants_copy = df_restaurants_copy.drop(['rating_text'], axis=1)"
   ]
  },
  {
   "cell_type": "markdown",
   "metadata": {},
   "source": [
    "**13. Variable 'votes'**"
   ]
  },
  {
   "cell_type": "code",
   "execution_count": 109,
   "metadata": {},
   "outputs": [
    {
     "data": {
      "text/plain": [
       "0"
      ]
     },
     "execution_count": 109,
     "metadata": {},
     "output_type": "execute_result"
    }
   ],
   "source": [
    "df_restaurants_copy['votes'].isna().sum()"
   ]
  },
  {
   "cell_type": "code",
   "execution_count": 110,
   "metadata": {},
   "outputs": [
    {
     "data": {
      "text/plain": [
       "57775"
      ]
     },
     "execution_count": 110,
     "metadata": {},
     "output_type": "execute_result"
    }
   ],
   "source": [
    "df_restaurants_copy['votes'].duplicated().sum()"
   ]
  },
  {
   "cell_type": "code",
   "execution_count": 111,
   "metadata": {},
   "outputs": [
    {
     "data": {
      "text/plain": [
       "(0, 261.5, 42539)"
      ]
     },
     "execution_count": 111,
     "metadata": {},
     "output_type": "execute_result"
    }
   ],
   "source": [
    "df_restaurants_copy['votes'].min(), round(df_restaurants_copy['votes'].mean(),2), df_restaurants_copy['votes'].max()"
   ]
  },
  {
   "cell_type": "code",
   "execution_count": 112,
   "metadata": {},
   "outputs": [
    {
     "data": {
      "text/plain": [
       "0     814\n",
       "1    1203\n",
       "2     801\n",
       "3     693\n",
       "4     470\n",
       "Name: votes, dtype: int64"
      ]
     },
     "execution_count": 112,
     "metadata": {},
     "output_type": "execute_result"
    }
   ],
   "source": [
    "df_restaurants_copy['votes'].head()"
   ]
  },
  {
   "cell_type": "markdown",
   "metadata": {},
   "source": [
    "**14. Variable 'photo_count'**"
   ]
  },
  {
   "cell_type": "code",
   "execution_count": 113,
   "metadata": {},
   "outputs": [
    {
     "data": {
      "text/plain": [
       "0"
      ]
     },
     "execution_count": 113,
     "metadata": {},
     "output_type": "execute_result"
    }
   ],
   "source": [
    "df_restaurants_copy['photo_count'].isna().sum()"
   ]
  },
  {
   "cell_type": "code",
   "execution_count": 114,
   "metadata": {},
   "outputs": [
    {
     "data": {
      "text/plain": [
       "57903"
      ]
     },
     "execution_count": 114,
     "metadata": {},
     "output_type": "execute_result"
    }
   ],
   "source": [
    "df_restaurants_copy['photo_count'].duplicated().sum()"
   ]
  },
  {
   "cell_type": "code",
   "execution_count": 115,
   "metadata": {},
   "outputs": [
    {
     "data": {
      "text/plain": [
       "(0, 193.95, 17702)"
      ]
     },
     "execution_count": 115,
     "metadata": {},
     "output_type": "execute_result"
    }
   ],
   "source": [
    "df_restaurants_copy['photo_count'].min(), round(df_restaurants_copy['photo_count'].mean(),2), df_restaurants_copy['photo_count'].max()"
   ]
  },
  {
   "cell_type": "markdown",
   "metadata": {},
   "source": [
    "**15. Variable 'delivery'**"
   ]
  },
  {
   "cell_type": "code",
   "execution_count": 116,
   "metadata": {},
   "outputs": [
    {
     "data": {
      "text/plain": [
       "0"
      ]
     },
     "execution_count": 116,
     "metadata": {},
     "output_type": "execute_result"
    }
   ],
   "source": [
    "df_restaurants_copy['delivery'].isna().sum()"
   ]
  },
  {
   "cell_type": "code",
   "execution_count": 117,
   "metadata": {},
   "outputs": [
    {
     "data": {
      "text/plain": [
       "60414"
      ]
     },
     "execution_count": 117,
     "metadata": {},
     "output_type": "execute_result"
    }
   ],
   "source": [
    "df_restaurants_copy['delivery'].duplicated().sum()"
   ]
  },
  {
   "cell_type": "code",
   "execution_count": 118,
   "metadata": {},
   "outputs": [
    {
     "data": {
      "text/plain": [
       "array([-1,  1,  0], dtype=int64)"
      ]
     },
     "execution_count": 118,
     "metadata": {},
     "output_type": "execute_result"
    }
   ],
   "source": [
    "df_restaurants_copy['delivery'].unique()"
   ]
  },
  {
   "cell_type": "markdown",
   "metadata": {},
   "source": [
    "<a id ='missing'></a>\n",
    "## 6. Check for missing values"
   ]
  },
  {
   "cell_type": "code",
   "execution_count": 119,
   "metadata": {},
   "outputs": [
    {
     "data": {
      "text/plain": [
       "name                        0\n",
       "establishment            1920\n",
       "url                         0\n",
       "address                    18\n",
       "city                        0\n",
       "city_id                     0\n",
       "locality                    0\n",
       "latitude                  955\n",
       "longitude                 957\n",
       "zipcode                 47869\n",
       "cuisines                  470\n",
       "timings                  1070\n",
       "average_cost_for_two        0\n",
       "price_range                 0\n",
       "highlights                743\n",
       "aggregate_rating            0\n",
       "votes                       0\n",
       "photo_count                 0\n",
       "opentable_support          19\n",
       "delivery                    0\n",
       "new_ratings                 0\n",
       "dtype: int64"
      ]
     },
     "execution_count": 119,
     "metadata": {},
     "output_type": "execute_result"
    }
   ],
   "source": [
    "df_restaurants_copy.isna().sum()"
   ]
  },
  {
   "cell_type": "code",
   "execution_count": 120,
   "metadata": {},
   "outputs": [
    {
     "data": {
      "text/plain": [
       "54021"
      ]
     },
     "execution_count": 120,
     "metadata": {},
     "output_type": "execute_result"
    }
   ],
   "source": [
    "df_restaurants_copy.isna().sum().sum()"
   ]
  },
  {
   "cell_type": "markdown",
   "metadata": {},
   "source": [
    "**6. Study summary statistics**"
   ]
  },
  {
   "cell_type": "markdown",
   "metadata": {},
   "source": [
    "Let us check the summary statistics for numerical variables."
   ]
  },
  {
   "cell_type": "code",
   "execution_count": 121,
   "metadata": {},
   "outputs": [
    {
     "data": {
      "text/html": [
       "<div>\n",
       "<style scoped>\n",
       "    .dataframe tbody tr th:only-of-type {\n",
       "        vertical-align: middle;\n",
       "    }\n",
       "\n",
       "    .dataframe tbody tr th {\n",
       "        vertical-align: top;\n",
       "    }\n",
       "\n",
       "    .dataframe thead th {\n",
       "        text-align: right;\n",
       "    }\n",
       "</style>\n",
       "<table border=\"1\" class=\"dataframe\">\n",
       "  <thead>\n",
       "    <tr style=\"text-align: right;\">\n",
       "      <th></th>\n",
       "      <th>average_cost_for_two</th>\n",
       "      <th>aggregate_rating</th>\n",
       "      <th>votes</th>\n",
       "      <th>photo_count</th>\n",
       "    </tr>\n",
       "  </thead>\n",
       "  <tbody>\n",
       "    <tr>\n",
       "      <td>count</td>\n",
       "      <td>60417.000000</td>\n",
       "      <td>60417.000000</td>\n",
       "      <td>60417.000000</td>\n",
       "      <td>60417.000000</td>\n",
       "    </tr>\n",
       "    <tr>\n",
       "      <td>mean</td>\n",
       "      <td>538.283000</td>\n",
       "      <td>3.032799</td>\n",
       "      <td>261.496052</td>\n",
       "      <td>193.954533</td>\n",
       "    </tr>\n",
       "    <tr>\n",
       "      <td>std</td>\n",
       "      <td>593.840932</td>\n",
       "      <td>1.440796</td>\n",
       "      <td>728.039842</td>\n",
       "      <td>702.078844</td>\n",
       "    </tr>\n",
       "    <tr>\n",
       "      <td>min</td>\n",
       "      <td>0.000000</td>\n",
       "      <td>0.000000</td>\n",
       "      <td>0.000000</td>\n",
       "      <td>0.000000</td>\n",
       "    </tr>\n",
       "    <tr>\n",
       "      <td>25%</td>\n",
       "      <td>200.000000</td>\n",
       "      <td>2.900000</td>\n",
       "      <td>7.000000</td>\n",
       "      <td>1.000000</td>\n",
       "    </tr>\n",
       "    <tr>\n",
       "      <td>50%</td>\n",
       "      <td>400.000000</td>\n",
       "      <td>3.500000</td>\n",
       "      <td>42.000000</td>\n",
       "      <td>11.000000</td>\n",
       "    </tr>\n",
       "    <tr>\n",
       "      <td>75%</td>\n",
       "      <td>600.000000</td>\n",
       "      <td>4.000000</td>\n",
       "      <td>207.000000</td>\n",
       "      <td>82.000000</td>\n",
       "    </tr>\n",
       "    <tr>\n",
       "      <td>max</td>\n",
       "      <td>30000.000000</td>\n",
       "      <td>4.900000</td>\n",
       "      <td>42539.000000</td>\n",
       "      <td>17702.000000</td>\n",
       "    </tr>\n",
       "  </tbody>\n",
       "</table>\n",
       "</div>"
      ],
      "text/plain": [
       "       average_cost_for_two  aggregate_rating         votes   photo_count\n",
       "count          60417.000000      60417.000000  60417.000000  60417.000000\n",
       "mean             538.283000          3.032799    261.496052    193.954533\n",
       "std              593.840932          1.440796    728.039842    702.078844\n",
       "min                0.000000          0.000000      0.000000      0.000000\n",
       "25%              200.000000          2.900000      7.000000      1.000000\n",
       "50%              400.000000          3.500000     42.000000     11.000000\n",
       "75%              600.000000          4.000000    207.000000     82.000000\n",
       "max            30000.000000          4.900000  42539.000000  17702.000000"
      ]
     },
     "execution_count": 121,
     "metadata": {},
     "output_type": "execute_result"
    }
   ],
   "source": [
    "df_restaurants_copy[[\"average_cost_for_two\",\"aggregate_rating\",\"votes\",\"photo_count\"]].describe()"
   ]
  },
  {
   "cell_type": "code",
   "execution_count": 122,
   "metadata": {},
   "outputs": [
    {
     "name": "stdout",
     "output_type": "stream",
     "text": [
      "Sum\n"
     ]
    },
    {
     "data": {
      "text/plain": [
       "average_cost_for_two    32521444.0\n",
       "aggregate_rating          183232.6\n",
       "votes                   15798807.0\n",
       "photo_count             11718151.0\n",
       "dtype: float64"
      ]
     },
     "execution_count": 122,
     "metadata": {},
     "output_type": "execute_result"
    }
   ],
   "source": [
    "print('Sum')\n",
    "df_restaurants_copy[[\"average_cost_for_two\",\"aggregate_rating\",\"votes\",\"photo_count\"]].sum()"
   ]
  },
  {
   "cell_type": "code",
   "execution_count": 123,
   "metadata": {},
   "outputs": [
    {
     "name": "stdout",
     "output_type": "stream",
     "text": [
      "Mode\n"
     ]
    },
    {
     "data": {
      "text/html": [
       "<div>\n",
       "<style scoped>\n",
       "    .dataframe tbody tr th:only-of-type {\n",
       "        vertical-align: middle;\n",
       "    }\n",
       "\n",
       "    .dataframe tbody tr th {\n",
       "        vertical-align: top;\n",
       "    }\n",
       "\n",
       "    .dataframe thead th {\n",
       "        text-align: right;\n",
       "    }\n",
       "</style>\n",
       "<table border=\"1\" class=\"dataframe\">\n",
       "  <thead>\n",
       "    <tr style=\"text-align: right;\">\n",
       "      <th></th>\n",
       "      <th>average_cost_for_two</th>\n",
       "      <th>aggregate_rating</th>\n",
       "      <th>votes</th>\n",
       "      <th>photo_count</th>\n",
       "    </tr>\n",
       "  </thead>\n",
       "  <tbody>\n",
       "    <tr>\n",
       "      <td>0</td>\n",
       "      <td>200</td>\n",
       "      <td>0.0</td>\n",
       "      <td>0</td>\n",
       "      <td>0</td>\n",
       "    </tr>\n",
       "  </tbody>\n",
       "</table>\n",
       "</div>"
      ],
      "text/plain": [
       "   average_cost_for_two  aggregate_rating  votes  photo_count\n",
       "0                   200               0.0      0            0"
      ]
     },
     "execution_count": 123,
     "metadata": {},
     "output_type": "execute_result"
    }
   ],
   "source": [
    "print('Mode')\n",
    "df_restaurants_copy[[\"average_cost_for_two\",\"aggregate_rating\",\"votes\",\"photo_count\"]].mode()"
   ]
  },
  {
   "cell_type": "markdown",
   "metadata": {},
   "source": [
    "<a id = 'correlation'> </a>\n",
    "## 7. Study correlation"
   ]
  },
  {
   "cell_type": "code",
   "execution_count": 124,
   "metadata": {},
   "outputs": [
    {
     "data": {
      "text/plain": [
       "18691"
      ]
     },
     "execution_count": 124,
     "metadata": {},
     "output_type": "execute_result"
    }
   ],
   "source": [
    "df_restaurants_copy[[\"average_cost_for_two\",\"aggregate_rating\",\"votes\",\"photo_count\"]].duplicated().sum()"
   ]
  },
  {
   "cell_type": "code",
   "execution_count": 125,
   "metadata": {},
   "outputs": [
    {
     "data": {
      "text/plain": [
       "(41726, 4)"
      ]
     },
     "execution_count": 125,
     "metadata": {},
     "output_type": "execute_result"
    }
   ],
   "source": [
    "df_temp =  df_restaurants_copy[[\"average_cost_for_two\",\"aggregate_rating\",\"votes\",\"photo_count\"]].drop_duplicates()\n",
    "df_temp_copy = df_temp.copy()\n",
    "df_temp_copy2 = df_temp.copy()\n",
    "df_temp.shape"
   ]
  },
  {
   "cell_type": "code",
   "execution_count": 126,
   "metadata": {},
   "outputs": [
    {
     "data": {
      "text/plain": [
       "average_cost_for_two    0\n",
       "aggregate_rating        0\n",
       "votes                   0\n",
       "photo_count             0\n",
       "dtype: int64"
      ]
     },
     "execution_count": 126,
     "metadata": {},
     "output_type": "execute_result"
    }
   ],
   "source": [
    "df_temp.isna().sum()"
   ]
  },
  {
   "cell_type": "code",
   "execution_count": 127,
   "metadata": {},
   "outputs": [
    {
     "data": {
      "text/html": [
       "<div>\n",
       "<style scoped>\n",
       "    .dataframe tbody tr th:only-of-type {\n",
       "        vertical-align: middle;\n",
       "    }\n",
       "\n",
       "    .dataframe tbody tr th {\n",
       "        vertical-align: top;\n",
       "    }\n",
       "\n",
       "    .dataframe thead th {\n",
       "        text-align: right;\n",
       "    }\n",
       "</style>\n",
       "<table border=\"1\" class=\"dataframe\">\n",
       "  <thead>\n",
       "    <tr style=\"text-align: right;\">\n",
       "      <th></th>\n",
       "      <th>average_cost_for_two</th>\n",
       "      <th>aggregate_rating</th>\n",
       "      <th>votes</th>\n",
       "      <th>photo_count</th>\n",
       "    </tr>\n",
       "  </thead>\n",
       "  <tbody>\n",
       "    <tr>\n",
       "      <td>average_cost_for_two</td>\n",
       "      <td>1.000000</td>\n",
       "      <td>0.158541</td>\n",
       "      <td>0.230539</td>\n",
       "      <td>0.291334</td>\n",
       "    </tr>\n",
       "    <tr>\n",
       "      <td>aggregate_rating</td>\n",
       "      <td>0.158541</td>\n",
       "      <td>1.000000</td>\n",
       "      <td>0.302916</td>\n",
       "      <td>0.266182</td>\n",
       "    </tr>\n",
       "    <tr>\n",
       "      <td>votes</td>\n",
       "      <td>0.230539</td>\n",
       "      <td>0.302916</td>\n",
       "      <td>1.000000</td>\n",
       "      <td>0.687783</td>\n",
       "    </tr>\n",
       "    <tr>\n",
       "      <td>photo_count</td>\n",
       "      <td>0.291334</td>\n",
       "      <td>0.266182</td>\n",
       "      <td>0.687783</td>\n",
       "      <td>1.000000</td>\n",
       "    </tr>\n",
       "  </tbody>\n",
       "</table>\n",
       "</div>"
      ],
      "text/plain": [
       "                      average_cost_for_two  aggregate_rating     votes  \\\n",
       "average_cost_for_two              1.000000          0.158541  0.230539   \n",
       "aggregate_rating                  0.158541          1.000000  0.302916   \n",
       "votes                             0.230539          0.302916  1.000000   \n",
       "photo_count                       0.291334          0.266182  0.687783   \n",
       "\n",
       "                      photo_count  \n",
       "average_cost_for_two     0.291334  \n",
       "aggregate_rating         0.266182  \n",
       "votes                    0.687783  \n",
       "photo_count              1.000000  "
      ]
     },
     "execution_count": 127,
     "metadata": {},
     "output_type": "execute_result"
    }
   ],
   "source": [
    "df_temp.corr()"
   ]
  },
  {
   "cell_type": "code",
   "execution_count": 128,
   "metadata": {},
   "outputs": [
    {
     "data": {
      "text/plain": [
       "(4.0, 0)"
      ]
     },
     "execution_count": 128,
     "metadata": {},
     "output_type": "execute_result"
    },
    {
     "data": {
      "image/png": "[encoded data removed]",
      "text/plain": [
       "<Figure size 432x288 with 2 Axes>"
      ]
     },
     "metadata": {
      "needs_background": "light"
     },
     "output_type": "display_data"
    }
   ],
   "source": [
    "#ax.get_ylim()\n",
    "ax=sns.heatmap(df_temp.corr(), annot=True, vmin=-1, vmax=1, center= 0, cmap= 'coolwarm') \n",
    "ax.set_ylim(4.0, 0) "
   ]
  },
  {
   "cell_type": "code",
   "execution_count": 129,
   "metadata": {},
   "outputs": [
    {
     "name": "stdout",
     "output_type": "stream",
     "text": [
      "Without removing the outliers, the restaurants that have more number of photos also have more number of votes\n"
     ]
    }
   ],
   "source": [
    "print('Without removing the outliers, the restaurants that have more number of photos also have more number of votes')"
   ]
  },
  {
   "cell_type": "code",
   "execution_count": 130,
   "metadata": {},
   "outputs": [],
   "source": [
    "def replace_outliers(x):    \n",
    "    Q1 = df_temp[x].quantile(0.25)\n",
    "    Q3 = df_temp[x].quantile(0.75)\n",
    "    IQR = Q3 - Q1\n",
    "    print(\"Outliers Number in \", x, \": \", ((df_temp[x] < (Q1 - 1.5 * IQR)) | (df_temp[x] > (Q3 + 1.5 * IQR))).sum(), \"out of \", df_temp[x].shape[0])\n",
    "    ##Replaced outliers in HDI for year\n",
    "    whisker1=Q1-1.5*IQR\n",
    "    for i in (np.where((df_temp[x] < whisker1))):\n",
    "        df_temp.iloc[i, df_temp.columns.get_loc(x)]= whisker1\n",
    "    whisker2=Q3+1.5*IQR\n",
    "    for i in (np.where((df_temp[x] > whisker2))): \n",
    "        df_temp.iloc[i, df_temp.columns.get_loc(x)]= whisker2\n",
    "    print('Outliers left: ',len(np.where((((df_temp[x] <(Q1-1.5*IQR)) | (df_temp[x] >(Q3+1.5*IQR)))))[0]))"
   ]
  },
  {
   "cell_type": "code",
   "execution_count": 131,
   "metadata": {},
   "outputs": [
    {
     "name": "stdout",
     "output_type": "stream",
     "text": [
      "Outliers Number in  average_cost_for_two :  4267 out of  41726\n",
      "Outliers left:  0\n",
      "Outliers Number in  aggregate_rating :  1131 out of  41726\n",
      "Outliers left:  0\n",
      "Outliers Number in  votes :  4914 out of  41726\n",
      "Outliers left:  0\n",
      "Outliers Number in  photo_count :  6155 out of  41726\n",
      "Outliers left:  0\n"
     ]
    }
   ],
   "source": [
    "replace_outliers('average_cost_for_two')\n",
    "replace_outliers('aggregate_rating')\n",
    "replace_outliers('votes')\n",
    "replace_outliers('photo_count')"
   ]
  },
  {
   "cell_type": "code",
   "execution_count": 132,
   "metadata": {},
   "outputs": [
    {
     "data": {
      "text/plain": [
       "(4.0, 0)"
      ]
     },
     "execution_count": 132,
     "metadata": {},
     "output_type": "execute_result"
    },
    {
     "data": {
      "image/png": "[encoded data removed]",
      "text/plain": [
       "<Figure size 432x288 with 2 Axes>"
      ]
     },
     "metadata": {
      "needs_background": "light"
     },
     "output_type": "display_data"
    }
   ],
   "source": [
    "#ax.get_ylim()\n",
    "ax=sns.heatmap(df_temp.corr(), annot=True, vmin=-1, vmax=1, center= 0, cmap= 'coolwarm') \n",
    "ax.set_ylim(4.0, 0) "
   ]
  },
  {
   "cell_type": "code",
   "execution_count": 133,
   "metadata": {},
   "outputs": [
    {
     "name": "stdout",
     "output_type": "stream",
     "text": [
      "After replacing outliers with whiskers, new correlations have been found\n"
     ]
    }
   ],
   "source": [
    "print('After replacing outliers with whiskers, new correlations have been found')"
   ]
  },
  {
   "cell_type": "code",
   "execution_count": 134,
   "metadata": {},
   "outputs": [],
   "source": [
    "def del_outliers(x):\n",
    "    Q1 = df_temp[x].quantile(0.25)\n",
    "    Q3 = df_temp[x].quantile(0.75)\n",
    "    IQR = Q3 - Q1\n",
    "    print(\"Outliers Number in (rows being dropped)\", x, \": \", ((df_temp[x] < (Q1 - 1.5 * IQR)) | (df_temp[x] > (Q3 + 1.5 * IQR))).sum(), \"out of \", df_temp[x].shape[0])\n",
    "    whisker1=Q1-1.5*IQR\n",
    "    whisker2=Q3+1.5*IQR\n",
    "    ##Deleting rows having outliers in HDI for year or suicides_no based on IQR Score method\n",
    "    for i in (np.where((df_temp_copy[x] < whisker1) | (df_temp_copy[x] > whisker2))):\n",
    "        df_temp_copy.drop(df_temp_copy.index[i],inplace=True)   \n",
    "    print('Outliers left: ', len(np.where((((df_temp_copy[x] <(Q1-1.5*IQR)) | (df_temp_copy[x] >(Q3+1.5*IQR)))))[0]))"
   ]
  },
  {
   "cell_type": "code",
   "execution_count": 135,
   "metadata": {},
   "outputs": [
    {
     "name": "stdout",
     "output_type": "stream",
     "text": [
      "Outliers Number in (rows being dropped) average_cost_for_two :  0 out of  41726\n",
      "Outliers left:  0\n",
      "Outliers Number in (rows being dropped) aggregate_rating :  0 out of  41726\n",
      "Outliers left:  0\n",
      "Outliers Number in (rows being dropped) votes :  0 out of  41726\n",
      "Outliers left:  0\n",
      "Outliers Number in (rows being dropped) photo_count :  0 out of  41726\n",
      "Outliers left:  0\n"
     ]
    }
   ],
   "source": [
    "del_outliers('average_cost_for_two')\n",
    "del_outliers('aggregate_rating')\n",
    "del_outliers('votes')\n",
    "del_outliers('photo_count')"
   ]
  },
  {
   "cell_type": "code",
   "execution_count": 136,
   "metadata": {},
   "outputs": [
    {
     "data": {
      "text/plain": [
       "(4.0, 0)"
      ]
     },
     "execution_count": 136,
     "metadata": {},
     "output_type": "execute_result"
    },
    {
     "data": {
      "image/png": "[encoded data removed]",
      "text/plain": [
       "<Figure size 432x288 with 2 Axes>"
      ]
     },
     "metadata": {
      "needs_background": "light"
     },
     "output_type": "display_data"
    }
   ],
   "source": [
    "#ax.get_ylim()\n",
    "ax=sns.heatmap(df_temp_copy.corr(), annot=True, vmin=-1, vmax=1, center= 0, cmap= 'coolwarm') \n",
    "ax.set_ylim(4.0, 0) "
   ]
  },
  {
   "cell_type": "code",
   "execution_count": 137,
   "metadata": {},
   "outputs": [
    {
     "name": "stdout",
     "output_type": "stream",
     "text": [
      "After deleting rows having outliers, new correlations have been found\n"
     ]
    }
   ],
   "source": [
    "print('After deleting rows having outliers, new correlations have been found')"
   ]
  },
  {
   "cell_type": "markdown",
   "metadata": {},
   "source": [
    "<a id='outliers'> </a>\n",
    "## 8. Detect outliers"
   ]
  },
  {
   "cell_type": "code",
   "execution_count": 138,
   "metadata": {},
   "outputs": [],
   "source": [
    "def detect_outliers(x):\n",
    "    Q1 = df_temp_copy2[x].quantile(0.25)\n",
    "    Q3 = df_temp_copy2[x].quantile(0.75)\n",
    "    IQR = Q3 - Q1\n",
    "    print(\"Number of Outliers in \", x, \": \", ((df_temp_copy2[x] < (Q1 - 1.5 * IQR)) | (df_temp_copy2[x] > (Q3 + 1.5 * IQR))).sum(), \"out of \", df_temp_copy2[x].shape[0])\n",
    "    #whisker1=Q1-1.5*IQR\n",
    "    #whisker2=Q3+1.5*IQR\n",
    "    sns.boxplot(x=df_temp_copy2[x])"
   ]
  },
  {
   "cell_type": "code",
   "execution_count": 139,
   "metadata": {},
   "outputs": [
    {
     "name": "stdout",
     "output_type": "stream",
     "text": [
      "Number of Outliers in  average_cost_for_two :  4267 out of  41726\n"
     ]
    },
    {
     "data": {
      "image/png": "[encoded data removed]",
      "text/plain": [
       "<Figure size 432x288 with 1 Axes>"
      ]
     },
     "metadata": {
      "needs_background": "light"
     },
     "output_type": "display_data"
    }
   ],
   "source": [
    "detect_outliers('average_cost_for_two')"
   ]
  },
  {
   "cell_type": "code",
   "execution_count": 140,
   "metadata": {},
   "outputs": [
    {
     "name": "stdout",
     "output_type": "stream",
     "text": [
      "Number of Outliers in  aggregate_rating :  1131 out of  41726\n"
     ]
    },
    {
     "data": {
      "image/png": "[encoded data removed]",
      "text/plain": [
       "<Figure size 432x288 with 1 Axes>"
      ]
     },
     "metadata": {
      "needs_background": "light"
     },
     "output_type": "display_data"
    }
   ],
   "source": [
    "detect_outliers('aggregate_rating')"
   ]
  },
  {
   "cell_type": "code",
   "execution_count": 141,
   "metadata": {},
   "outputs": [
    {
     "name": "stdout",
     "output_type": "stream",
     "text": [
      "Number of Outliers in  votes :  4914 out of  41726\n"
     ]
    },
    {
     "data": {
      "image/png": "[encoded data removed]",
      "text/plain": [
       "<Figure size 432x288 with 1 Axes>"
      ]
     },
     "metadata": {
      "needs_background": "light"
     },
     "output_type": "display_data"
    }
   ],
   "source": [
    "detect_outliers('votes')"
   ]
  },
  {
   "cell_type": "code",
   "execution_count": 142,
   "metadata": {},
   "outputs": [
    {
     "name": "stdout",
     "output_type": "stream",
     "text": [
      "Number of Outliers in  photo_count :  6155 out of  41726\n"
     ]
    },
    {
     "data": {
      "image/png": "[encoded data removed]",
      "text/plain": [
       "<Figure size 432x288 with 1 Axes>"
      ]
     },
     "metadata": {
      "needs_background": "light"
     },
     "output_type": "display_data"
    }
   ],
   "source": [
    "detect_outliers('photo_count')"
   ]
  },
  {
   "cell_type": "markdown",
   "metadata": {},
   "source": [
    "<a id='region'> </a>\n",
    "## 9. Create a new variable 'region'\n"
   ]
  },
  {
   "cell_type": "markdown",
   "metadata": {},
   "source": [
    "Create a variable 'region' with four categories 'northern','eastern', 'southern', 'western' and 'central'. To do so, use the 'city' column, group all cities belonging to the same region. "
   ]
  },
  {
   "cell_type": "code",
   "execution_count": 143,
   "metadata": {},
   "outputs": [
    {
     "data": {
      "text/html": [
       "<div>\n",
       "<style scoped>\n",
       "    .dataframe tbody tr th:only-of-type {\n",
       "        vertical-align: middle;\n",
       "    }\n",
       "\n",
       "    .dataframe tbody tr th {\n",
       "        vertical-align: top;\n",
       "    }\n",
       "\n",
       "    .dataframe thead th {\n",
       "        text-align: right;\n",
       "    }\n",
       "</style>\n",
       "<table border=\"1\" class=\"dataframe\">\n",
       "  <thead>\n",
       "    <tr style=\"text-align: right;\">\n",
       "      <th></th>\n",
       "      <th>CITY</th>\n",
       "      <th>State</th>\n",
       "      <th>Category</th>\n",
       "    </tr>\n",
       "  </thead>\n",
       "  <tbody>\n",
       "    <tr>\n",
       "      <td>0</td>\n",
       "      <td>AGARTALA</td>\n",
       "      <td>TRIPURA</td>\n",
       "      <td>NORTH EAST INDIA</td>\n",
       "    </tr>\n",
       "    <tr>\n",
       "      <td>1</td>\n",
       "      <td>AGRA</td>\n",
       "      <td>UTTAR PRADESH</td>\n",
       "      <td>NORTH INDIA</td>\n",
       "    </tr>\n",
       "    <tr>\n",
       "      <td>2</td>\n",
       "      <td>AHMEDABAD</td>\n",
       "      <td>GUJARAT</td>\n",
       "      <td>WEST INDIA</td>\n",
       "    </tr>\n",
       "    <tr>\n",
       "      <td>3</td>\n",
       "      <td>AIZWAL</td>\n",
       "      <td>MIZORAM</td>\n",
       "      <td>EAST INDIA</td>\n",
       "    </tr>\n",
       "    <tr>\n",
       "      <td>4</td>\n",
       "      <td>AJMER</td>\n",
       "      <td>RAJASTHAN</td>\n",
       "      <td>WEST INDIA</td>\n",
       "    </tr>\n",
       "  </tbody>\n",
       "</table>\n",
       "</div>"
      ],
      "text/plain": [
       "        CITY          State          Category\n",
       "0   AGARTALA        TRIPURA  NORTH EAST INDIA\n",
       "1       AGRA  UTTAR PRADESH       NORTH INDIA\n",
       "2  AHMEDABAD        GUJARAT        WEST INDIA\n",
       "3     AIZWAL        MIZORAM        EAST INDIA\n",
       "4      AJMER      RAJASTHAN        WEST INDIA"
      ]
     },
     "execution_count": 143,
     "metadata": {},
     "output_type": "execute_result"
    }
   ],
   "source": [
    "#Manually created an excel file from data available at the source url: http://www.indianventurez.com/city_list.htm\n",
    "df=pd.read_excel('cities.xlsx')\n",
    "df.head()"
   ]
  },
  {
   "cell_type": "code",
   "execution_count": 144,
   "metadata": {},
   "outputs": [
    {
     "data": {
      "text/plain": [
       "array(['EAST INDIA', 'NORTH INDIA', 'WEST INDIA', 'SOUTH INDIA',\n",
       "       'CENTRAL INDIA'], dtype=object)"
      ]
     },
     "execution_count": 144,
     "metadata": {},
     "output_type": "execute_result"
    }
   ],
   "source": [
    "df=df.dropna()\n",
    "df['Category'] = df['Category'].replace('WEST INDIA\\xa0',\"WEST INDIA\").replace('SOUTH INDIA\\xa0',\"SOUTH INDIA\").replace('NORTH-EAST INDIA',\"EAST INDIA\").replace('NORTH EAST INDIA',\"EAST INDIA\").replace('WESTERN REGION',\"WEST INDIA\")\n",
    "df['Category'].unique()"
   ]
  },
  {
   "cell_type": "code",
   "execution_count": 145,
   "metadata": {},
   "outputs": [
    {
     "data": {
      "text/html": [
       "<div>\n",
       "<style scoped>\n",
       "    .dataframe tbody tr th:only-of-type {\n",
       "        vertical-align: middle;\n",
       "    }\n",
       "\n",
       "    .dataframe tbody tr th {\n",
       "        vertical-align: top;\n",
       "    }\n",
       "\n",
       "    .dataframe thead th {\n",
       "        text-align: right;\n",
       "    }\n",
       "</style>\n",
       "<table border=\"1\" class=\"dataframe\">\n",
       "  <thead>\n",
       "    <tr style=\"text-align: right;\">\n",
       "      <th></th>\n",
       "      <th>CITY</th>\n",
       "      <th>State</th>\n",
       "      <th>Category</th>\n",
       "    </tr>\n",
       "  </thead>\n",
       "  <tbody>\n",
       "    <tr>\n",
       "      <td>0</td>\n",
       "      <td>Agartala</td>\n",
       "      <td>TRIPURA</td>\n",
       "      <td>EAST INDIA</td>\n",
       "    </tr>\n",
       "    <tr>\n",
       "      <td>1</td>\n",
       "      <td>Agra</td>\n",
       "      <td>UTTAR PRADESH</td>\n",
       "      <td>NORTH INDIA</td>\n",
       "    </tr>\n",
       "    <tr>\n",
       "      <td>2</td>\n",
       "      <td>Ahmedabad</td>\n",
       "      <td>GUJARAT</td>\n",
       "      <td>WEST INDIA</td>\n",
       "    </tr>\n",
       "    <tr>\n",
       "      <td>3</td>\n",
       "      <td>Aizwal</td>\n",
       "      <td>MIZORAM</td>\n",
       "      <td>EAST INDIA</td>\n",
       "    </tr>\n",
       "    <tr>\n",
       "      <td>4</td>\n",
       "      <td>Ajmer</td>\n",
       "      <td>RAJASTHAN</td>\n",
       "      <td>WEST INDIA</td>\n",
       "    </tr>\n",
       "  </tbody>\n",
       "</table>\n",
       "</div>"
      ],
      "text/plain": [
       "        CITY          State     Category\n",
       "0   Agartala        TRIPURA   EAST INDIA\n",
       "1       Agra  UTTAR PRADESH  NORTH INDIA\n",
       "2  Ahmedabad        GUJARAT   WEST INDIA\n",
       "3     Aizwal        MIZORAM   EAST INDIA\n",
       "4      Ajmer      RAJASTHAN   WEST INDIA"
      ]
     },
     "execution_count": 145,
     "metadata": {},
     "output_type": "execute_result"
    }
   ],
   "source": [
    "df['CITY']= df['CITY'].transform(lambda x: x.title())\n",
    "df.head()"
   ]
  },
  {
   "cell_type": "code",
   "execution_count": 146,
   "metadata": {},
   "outputs": [
    {
     "data": {
      "text/plain": [
       "array(['Agra', 'Allahabad', 'Almora', 'Ambala', 'Amritsar', 'Auli',\n",
       "       'Baddi', 'Badrinath', 'Balrampur', 'Bareilly', 'Betalghat',\n",
       "       'Bhimtal', 'Binsar', 'Chail', 'Chamba', 'Chandigarh',\n",
       "       'Corbett National Park', 'Dalhousie', 'Dehradun', 'Dharamshala',\n",
       "       'Faridabad', 'Firozabad', 'Gangotri', 'Garhmukteshwar', 'Garhwal',\n",
       "       'Ghaziabad', 'Greater Noida', 'Gulmarg', 'Gurgaon', 'Hansi',\n",
       "       'Haridwar', 'Jalandhar', 'Jammu', 'Jhansi', 'Kanatal', 'Kargil',\n",
       "       'Karnal', 'Kasauli', 'Kashipur', 'Katra', 'Kausani', 'Kaza',\n",
       "       'Kedarnath', 'Khajjiar', 'Kufri', 'Kullu', 'Kushinagar', 'Leh',\n",
       "       'Lucknow', 'Ludhiana', 'Manali', 'Manesar', 'Marchula', 'Mathura',\n",
       "       'Mcleodganj', 'Mohali', 'Moradabad', 'Mukteshwar', 'Mussoorie',\n",
       "       'Nahan', 'Nainital', 'Naldhera', 'New Delhi', 'Noida', 'Palampur',\n",
       "       'Pahalgam', 'Panchkula', 'Pantnagar', 'Parwanoo', 'Patiala',\n",
       "       'Pathankot', 'Patnitop', 'Phagwara', 'Pinjore', 'Pragpur',\n",
       "       'Rai Bareilly', 'Ram Nagar', 'Ranikhet', 'Rishikesh', 'Sattal',\n",
       "       'Shimla', 'Solan', 'Sonauli', 'Srinagar', 'Udhampur', 'Uttarkashi',\n",
       "       'Varanasi', 'Yamunotri'], dtype=object)"
      ]
     },
     "execution_count": 146,
     "metadata": {},
     "output_type": "execute_result"
    }
   ],
   "source": [
    "df[df['Category']=='NORTH INDIA']['CITY'].values"
   ]
  },
  {
   "cell_type": "code",
   "execution_count": 147,
   "metadata": {},
   "outputs": [
    {
     "data": {
      "text/plain": [
       "array(['Agartala', 'Aizwal', 'Barbil', 'Berhampur', 'Bhilai',\n",
       "       'Bhubaneshwar', 'Bodhgaya', 'Cuttack', 'Darjeeling', 'Dibrugarh',\n",
       "       'Digha', 'Dooars', 'Durgapur', 'Gangtok', 'Gaya', 'Gorakhpur',\n",
       "       'Guwahati', 'Imphal', 'Jamshedpur', 'Jorhat', 'Kalimpong',\n",
       "       'Kanpur', 'Kaziranga', 'Kolkata', 'Kurseong', 'Lachung',\n",
       "       'Mandormoni', 'Patna', 'Pelling', 'Puri', 'Raichak', 'Rajgir',\n",
       "       'Ranchi', 'Ravangla', 'Rishyap', 'Rourkela', 'Shillong',\n",
       "       'Shimlipal', 'Siliguri', 'Sunderban', 'Tarapith', 'Yuksom'],\n",
       "      dtype=object)"
      ]
     },
     "execution_count": 147,
     "metadata": {},
     "output_type": "execute_result"
    }
   ],
   "source": [
    "df[df['Category']=='EAST INDIA']['CITY'].values"
   ]
  },
  {
   "cell_type": "code",
   "execution_count": 148,
   "metadata": {},
   "outputs": [
    {
     "data": {
      "text/plain": [
       "array(['Alleppey', 'Ashtamudi', 'Bandipur', 'Bangalore', 'Belgaum',\n",
       "       'Calicut', 'Canannore', 'Chennai', 'Chikmagalur', 'Coimbatore',\n",
       "       'Coonoor', 'Coorg', 'Dandeli', 'Gokharna', 'Guruvayoor', 'Halebid',\n",
       "       'Hampi', 'Hassan', 'Hospet', 'Hosur', 'Hubli', 'Hyderabad',\n",
       "       'Idukki', 'Kabini', 'Kanchipuram', 'Kanyakumari', 'Karur',\n",
       "       'Karwar', 'Kasargod', 'Kochin', 'Kodaikanal', 'Kollam', 'Kotagiri',\n",
       "       'Kottayam', 'Kovalam', 'Kumarakom', 'Kumbakonam', 'Kumily',\n",
       "       'Lakshadweep', 'Madurai', 'Mahabalipuram', 'Malappuram', 'Malpe',\n",
       "       'Mararri', 'Mangalore', 'Munnar', 'Mysore', 'Nadukani',\n",
       "       'Nagapattinam', 'Nagarhole', 'Nilgiri', 'Ooty', 'Pallakad',\n",
       "       'Pondicherry', 'Poovar', 'Port Blair', 'Puttaparthi',\n",
       "       'Rajahmundry', 'Rameshwaram', 'Ranny', 'Salem', 'Secunderabad',\n",
       "       'Sharavanbelgola', 'Shivanasamudra', 'Sivaganga District',\n",
       "       'Tanjore', 'Thekkady', 'Thirvannamalai', 'Thiruvananthapuram',\n",
       "       'Tiruchirapalli', 'Tirupur', 'Tirupati', 'Thrissur', 'Udupi',\n",
       "       'Vagamon', 'Varkala', 'Velankanni', 'Vellore', 'Vijayawada',\n",
       "       'Vishakapatnam', 'Wayanad', 'Yercaud'], dtype=object)"
      ]
     },
     "execution_count": 148,
     "metadata": {},
     "output_type": "execute_result"
    }
   ],
   "source": [
    "df[df['Category']=='SOUTH INDIA']['CITY'].values"
   ]
  },
  {
   "cell_type": "code",
   "execution_count": 149,
   "metadata": {},
   "outputs": [
    {
     "data": {
      "text/plain": [
       "array(['Ahmedabad', 'Ajmer', 'Alibaug', 'Alsisar', 'Alwar', 'Anand',\n",
       "       'Ankleshwar', 'Aurangabad', 'Balasinor', 'Bambora', 'Behror',\n",
       "       'Bharatpur', 'Bhandardara', 'Bharuch', 'Bhavangadh', 'Bhavnagar',\n",
       "       'Bhuj', 'Bikaner', 'Bundi', 'Chiplun', 'Chittorgarh', 'Dabhosa',\n",
       "       'Daman', 'Dapoli', 'Dausa', 'Diu', 'Dive Agar', 'Durshet',\n",
       "       'Dwarka', 'Ganapatipule', 'Gandhidham', 'Gandhinagar', 'Goa',\n",
       "       'Gondal', 'Igatpuri', 'Jaipur', 'Jaisalmer', 'Jalgaon',\n",
       "       'Jambugodha', 'Jamnagar', 'Jawhar', 'Jodhpur', 'Jojawar',\n",
       "       'Junagadh', 'Karjat', 'Kashid', 'Khandala', 'Khimsar', 'Kolhapur',\n",
       "       'Kota', 'Kumbalgarh', 'Lonavala', 'Lothal', 'Mahabaleshwar',\n",
       "       'Malshej Ghat', 'Malvan', 'Mandavi', 'Mandawa', 'Manmad',\n",
       "       'Matheran', 'Mount Abu', 'Morbi', 'Mumbai', 'Mundra',\n",
       "       'Murud Janjira', 'Nagaur Fort', 'Nagothane', 'Nagpur', 'Nanded',\n",
       "       'Napne', 'Nasik', 'Navi Mumbai', 'Neral', 'Osian', 'Palanpur',\n",
       "       'Pali', 'Palitana', 'Panchgani', 'Panhala', 'Panvel', 'Pench',\n",
       "       'Phalodi', 'Porbandar', 'Poshina', 'Pune', 'Puskhar', 'Rajasthan',\n",
       "       'Rajkot', 'Rajpipla', 'Rajsamand', 'Ramgarh', 'Ranakpur',\n",
       "       'Ranthambore', 'Ratnagiri', 'Rohetgarh', 'Sajan', 'Saputara',\n",
       "       'Sasan Gir', 'Sawai Madhopur', 'Sawantwadi', 'Shirdi', 'Siana',\n",
       "       'Silvassa', 'Surat', 'Tapola', 'Thane', 'Udaipur', 'Vadodara',\n",
       "       'Vapi', 'Veraval', 'Vikramgadh', 'Wankaner'], dtype=object)"
      ]
     },
     "execution_count": 149,
     "metadata": {},
     "output_type": "execute_result"
    }
   ],
   "source": [
    "df[df['Category']=='WEST INDIA']['CITY'].values"
   ]
  },
  {
   "cell_type": "code",
   "execution_count": 150,
   "metadata": {},
   "outputs": [
    {
     "data": {
      "text/plain": [
       "array(['Amla', 'Bandhavgarh', 'Bhopal', 'Chitrakoot', 'Gwalior', 'Indore',\n",
       "       'Jabalpur', 'Kanha', 'Khajuraho', 'Orchha', 'Pachmarhi', 'Panna',\n",
       "       'Raipur', 'Ujjain'], dtype=object)"
      ]
     },
     "execution_count": 150,
     "metadata": {},
     "output_type": "execute_result"
    }
   ],
   "source": [
    "df[df['Category']=='CENTRAL INDIA']['CITY'].values"
   ]
  },
  {
   "cell_type": "code",
   "execution_count": 151,
   "metadata": {},
   "outputs": [
    {
     "data": {
      "text/plain": [
       "0   NaN\n",
       "1   NaN\n",
       "2   NaN\n",
       "3   NaN\n",
       "4   NaN\n",
       "Name: region, dtype: float64"
      ]
     },
     "execution_count": 151,
     "metadata": {},
     "output_type": "execute_result"
    }
   ],
   "source": [
    "northern=['Agra', 'Allahabad', 'Almora', 'Ambala', 'Amritsar', 'Auli',\n",
    "       'Baddi', 'Badrinath', 'Balrampur', 'Bareilly', 'Betalghat',\n",
    "       'Bhimtal', 'Binsar', 'Chail', 'Chamba', 'Chandigarh',\n",
    "       'Corbett National Park', 'Dalhousie', 'Dehradun', 'Dharamshala',\n",
    "       'Faridabad', 'Firozabad', 'Gangotri', 'Garhmukteshwar', 'Garhwal',\n",
    "       'Ghaziabad', 'Greater Noida', 'Gulmarg', 'Gurgaon', 'Hansi',\n",
    "       'Haridwar', 'Jalandhar', 'Jammu', 'Jhansi', 'Kanatal', 'Kargil',\n",
    "       'Karnal', 'Kasauli', 'Kashipur', 'Katra', 'Kausani', 'Kaza',\n",
    "       'Kedarnath', 'Khajjiar', 'Kufri', 'Kullu', 'Kushinagar', 'Leh',\n",
    "       'Lucknow', 'Ludhiana', 'Manali', 'Manesar', 'Marchula', 'Mathura',\n",
    "       'Mcleodganj', 'Mohali', 'Moradabad', 'Mukteshwar', 'Mussoorie',\n",
    "       'Nahan', 'Nainital', 'Naldhera', 'New Delhi', 'Noida', 'Palampur',\n",
    "       'Pahalgam', 'Panchkula', 'Pantnagar', 'Parwanoo', 'Patiala',\n",
    "       'Pathankot', 'Patnitop', 'Phagwara', 'Pinjore', 'Pragpur',\n",
    "       'Rai Bareilly', 'Ram Nagar', 'Ranikhet', 'Rishikesh', 'Sattal',\n",
    "       'Shimla', 'Solan', 'Sonauli', 'Srinagar', 'Udhampur', 'Uttarkashi',\n",
    "       'Varanasi', 'Yamunotri','Zirakpur','Nayagaon','Meerut']\n",
    "eastern=['Agartala', 'Aizwal', 'Barbil', 'Berhampur', 'Bhilai',\n",
    "       'Bhubaneshwar', 'Bodhgaya', 'Cuttack', 'Darjeeling', 'Dibrugarh',\n",
    "       'Digha', 'Dooars', 'Durgapur', 'Gangtok', 'Gaya', 'Gorakhpur',\n",
    "       'Guwahati', 'Imphal', 'Jamshedpur', 'Jorhat', 'Kalimpong',\n",
    "       'Kanpur', 'Kaziranga', 'Kolkata', 'Kurseong', 'Lachung',\n",
    "       'Mandormoni', 'Patna', 'Pelling', 'Puri', 'Raichak', 'Rajgir',\n",
    "       'Ranchi', 'Ravangla', 'Rishyap', 'Rourkela', 'Shillong',\n",
    "       'Shimlipal', 'Siliguri', 'Sunderban', 'Tarapith', 'Yuksom', 'Howrah', 'Kharagpur']\n",
    "southern=['Alleppey', 'Ashtamudi', 'Bandipur', 'Bangalore', 'Belgaum',\n",
    "       'Calicut', 'Canannore', 'Chennai', 'Chikmagalur', 'Coimbatore',\n",
    "       'Coonoor', 'Coorg', 'Dandeli', 'Gokharna', 'Guruvayoor', 'Halebid',\n",
    "       'Hampi', 'Hassan', 'Hospet', 'Hosur', 'Hubli', 'Hyderabad',\n",
    "       'Idukki', 'Kabini', 'Kanchipuram', 'Kanyakumari', 'Karur',\n",
    "       'Karwar', 'Kasargod', 'Kochin', 'Kodaikanal', 'Kollam', 'Kotagiri',\n",
    "       'Kottayam', 'Kovalam', 'Kumarakom', 'Kumbakonam', 'Kumily',\n",
    "       'Lakshadweep', 'Madurai', 'Mahabalipuram', 'Malappuram', 'Malpe',\n",
    "       'Mararri', 'Mangalore', 'Munnar', 'Mysore', 'Nadukani',\n",
    "       'Nagapattinam', 'Nagarhole', 'Nilgiri', 'Ooty', 'Pallakad',\n",
    "       'Pondicherry', 'Poovar', 'Port Blair', 'Puttaparthi',\n",
    "       'Rajahmundry', 'Rameshwaram', 'Ranny', 'Salem', 'Secunderabad',\n",
    "       'Sharavanbelgola', 'Shivanasamudra', 'Sivaganga District',\n",
    "       'Tanjore', 'Thekkady', 'Thirvannamalai', 'Thiruvananthapuram',\n",
    "       'Tiruchirapalli', 'Tirupur', 'Tirupati', 'Thrissur', 'Udupi',\n",
    "       'Vagamon', 'Varkala', 'Velankanni', 'Vellore', 'Vijayawada',\n",
    "       'Vishakapatnam', 'Wayanad', 'Yercaud','Alappuzha', 'Amravati', 'Guntur',\n",
    "        'Kochi', 'Manipal', 'Palakkad', 'Puducherry', 'Trichy','Trivandrum', 'Vizag']\n",
    "western=['Ahmedabad', 'Ajmer', 'Alibaug', 'Alsisar', 'Alwar', 'Anand',\n",
    "       'Ankleshwar', 'Aurangabad', 'Balasinor', 'Bambora', 'Behror',\n",
    "       'Bharatpur', 'Bhandardara', 'Bharuch', 'Bhavangadh', 'Bhavnagar',\n",
    "       'Bhuj', 'Bikaner', 'Bundi', 'Chiplun', 'Chittorgarh', 'Dabhosa',\n",
    "       'Daman', 'Dapoli', 'Dausa', 'Diu', 'Dive Agar', 'Durshet',\n",
    "       'Dwarka', 'Ganapatipule', 'Gandhidham', 'Gandhinagar', 'Goa',\n",
    "       'Gondal', 'Igatpuri', 'Jaipur', 'Jaisalmer', 'Jalgaon',\n",
    "       'Jambugodha', 'Jamnagar', 'Jawhar', 'Jodhpur', 'Jojawar',\n",
    "       'Junagadh', 'Karjat', 'Kashid', 'Khandala', 'Khimsar', 'Kolhapur',\n",
    "       'Kota', 'Kumbalgarh', 'Lonavala', 'Lothal', 'Mahabaleshwar',\n",
    "       'Malshej Ghat', 'Malvan', 'Mandavi', 'Mandawa', 'Manmad',\n",
    "       'Matheran', 'Mount Abu', 'Morbi', 'Mumbai', 'Mundra',\n",
    "       'Murud Janjira', 'Nagaur Fort', 'Nagothane', 'Nagpur', 'Nanded',\n",
    "       'Napne', 'Nasik', 'Navi Mumbai', 'Neral', 'Osian', 'Palanpur',\n",
    "       'Pali', 'Palitana', 'Panchgani', 'Panhala', 'Panvel', 'Pench',\n",
    "       'Phalodi', 'Porbandar', 'Poshina', 'Pune', 'Puskhar', 'Rajasthan',\n",
    "       'Rajkot', 'Rajpipla', 'Rajsamand', 'Ramgarh', 'Ranakpur',\n",
    "       'Ranthambore', 'Ratnagiri', 'Rohetgarh', 'Sajan', 'Saputara',\n",
    "       'Sasan Gir', 'Sawai Madhopur', 'Sawantwadi', 'Shirdi', 'Siana',\n",
    "       'Silvassa', 'Surat', 'Tapola', 'Thane', 'Udaipur', 'Vadodara',\n",
    "       'Vapi', 'Veraval', 'Vikramgadh', 'Wankaner','Nashik','Neemrana','Pushkar']\n",
    "central=['Amla', 'Bandhavgarh', 'Bhopal', 'Chitrakoot', 'Gwalior', 'Indore',\n",
    "       'Jabalpur', 'Kanha', 'Khajuraho', 'Orchha', 'Pachmarhi', 'Panna',\n",
    "       'Raipur', 'Ujjain']\n",
    "def region(x):\n",
    "    #northern=['Delhi','Jaipur','Lucknow','Kanpur','Ghaziabad','Ludhiana','Agra','Allahabad','Faridabad','Meerut','Varanasi','Srinagar','Amritsar','Jodhpur','Chandigarh','Kota','Bareily','Moradabad','Gurgaon','Aligarh','Jalandhar','Saharanpur','Gorakhpur','Bikaner','Noida','Firozabad','Dehradun','Ajmer','Lonni','Jhansi','Jammu']\n",
    "    if x in northern:\n",
    "        return 'northern'\n",
    "    elif x in eastern:\n",
    "        return 'eastern'\n",
    "    elif x in southern:\n",
    "        return 'southern'\n",
    "    elif x in western:\n",
    "        return 'western'\n",
    "    elif x in central:\n",
    "        return 'central'\n",
    "    else:\n",
    "        return np.nan\n",
    "df_restaurants_copy['region'] = np.nan\n",
    "df_restaurants_copy['region'].head()"
   ]
  },
  {
   "cell_type": "code",
   "execution_count": 152,
   "metadata": {},
   "outputs": [
    {
     "data": {
      "text/plain": [
       "0"
      ]
     },
     "execution_count": 152,
     "metadata": {},
     "output_type": "execute_result"
    }
   ],
   "source": [
    "df_restaurants_copy['city'].isna().sum()"
   ]
  },
  {
   "cell_type": "code",
   "execution_count": 153,
   "metadata": {},
   "outputs": [],
   "source": [
    "df_restaurants_copy['region'] = df_restaurants_copy['city'].transform(lambda x: region(x))"
   ]
  },
  {
   "cell_type": "code",
   "execution_count": 154,
   "metadata": {},
   "outputs": [
    {
     "data": {
      "text/plain": [
       "array(['northern', 'western', 'southern', 'central', 'eastern'],\n",
       "      dtype=object)"
      ]
     },
     "execution_count": 154,
     "metadata": {},
     "output_type": "execute_result"
    }
   ],
   "source": [
    "df_restaurants_copy['region'].unique()"
   ]
  },
  {
   "cell_type": "code",
   "execution_count": 155,
   "metadata": {},
   "outputs": [
    {
     "data": {
      "text/plain": [
       "array([], dtype=object)"
      ]
     },
     "execution_count": 155,
     "metadata": {},
     "output_type": "execute_result"
    }
   ],
   "source": [
    "df_restaurants_copy[df_restaurants_copy['region'].isna()]['city'].unique()"
   ]
  },
  {
   "cell_type": "code",
   "execution_count": 156,
   "metadata": {},
   "outputs": [
    {
     "name": "stdout",
     "output_type": "stream",
     "text": [
      "Let's add these leftover cities manually to their respective lists\n"
     ]
    }
   ],
   "source": [
    "print('Let\\'s add these leftover cities manually to their respective lists')"
   ]
  },
  {
   "cell_type": "code",
   "execution_count": 157,
   "metadata": {},
   "outputs": [
    {
     "data": {
      "text/plain": [
       "array(['northern', 'western', 'southern', 'central', 'eastern'],\n",
       "      dtype=object)"
      ]
     },
     "execution_count": 157,
     "metadata": {},
     "output_type": "execute_result"
    }
   ],
   "source": [
    "df_restaurants_copy['region'].unique()"
   ]
  },
  {
   "cell_type": "code",
   "execution_count": 158,
   "metadata": {},
   "outputs": [
    {
     "data": {
      "text/html": [
       "<div>\n",
       "<style scoped>\n",
       "    .dataframe tbody tr th:only-of-type {\n",
       "        vertical-align: middle;\n",
       "    }\n",
       "\n",
       "    .dataframe tbody tr th {\n",
       "        vertical-align: top;\n",
       "    }\n",
       "\n",
       "    .dataframe thead th {\n",
       "        text-align: right;\n",
       "    }\n",
       "</style>\n",
       "<table border=\"1\" class=\"dataframe\">\n",
       "  <thead>\n",
       "    <tr style=\"text-align: right;\">\n",
       "      <th></th>\n",
       "      <th>region</th>\n",
       "      <th>city</th>\n",
       "    </tr>\n",
       "  </thead>\n",
       "  <tbody>\n",
       "    <tr>\n",
       "      <td>0</td>\n",
       "      <td>northern</td>\n",
       "      <td>Agra</td>\n",
       "    </tr>\n",
       "    <tr>\n",
       "      <td>1</td>\n",
       "      <td>northern</td>\n",
       "      <td>Agra</td>\n",
       "    </tr>\n",
       "    <tr>\n",
       "      <td>2622</td>\n",
       "      <td>western</td>\n",
       "      <td>Ahmedabad</td>\n",
       "    </tr>\n",
       "    <tr>\n",
       "      <td>2623</td>\n",
       "      <td>western</td>\n",
       "      <td>Ahmedabad</td>\n",
       "    </tr>\n",
       "    <tr>\n",
       "      <td>9213</td>\n",
       "      <td>southern</td>\n",
       "      <td>Alappuzha</td>\n",
       "    </tr>\n",
       "    <tr>\n",
       "      <td>9214</td>\n",
       "      <td>southern</td>\n",
       "      <td>Alappuzha</td>\n",
       "    </tr>\n",
       "    <tr>\n",
       "      <td>24601</td>\n",
       "      <td>central</td>\n",
       "      <td>Bhopal</td>\n",
       "    </tr>\n",
       "    <tr>\n",
       "      <td>24602</td>\n",
       "      <td>central</td>\n",
       "      <td>Bhopal</td>\n",
       "    </tr>\n",
       "    <tr>\n",
       "      <td>27257</td>\n",
       "      <td>eastern</td>\n",
       "      <td>Bhubaneshwar</td>\n",
       "    </tr>\n",
       "    <tr>\n",
       "      <td>27258</td>\n",
       "      <td>eastern</td>\n",
       "      <td>Bhubaneshwar</td>\n",
       "    </tr>\n",
       "  </tbody>\n",
       "</table>\n",
       "</div>"
      ],
      "text/plain": [
       "         region          city\n",
       "0      northern          Agra\n",
       "1      northern          Agra\n",
       "2622    western     Ahmedabad\n",
       "2623    western     Ahmedabad\n",
       "9213   southern     Alappuzha\n",
       "9214   southern     Alappuzha\n",
       "24601   central        Bhopal\n",
       "24602   central        Bhopal\n",
       "27257   eastern  Bhubaneshwar\n",
       "27258   eastern  Bhubaneshwar"
      ]
     },
     "execution_count": 158,
     "metadata": {},
     "output_type": "execute_result"
    }
   ],
   "source": [
    "df_restaurants_copy.groupby('region')[['region','city']].head(2)"
   ]
  },
  {
   "cell_type": "code",
   "execution_count": 159,
   "metadata": {},
   "outputs": [
    {
     "data": {
      "text/plain": [
       "region\n",
       "central           Bhopal\n",
       "eastern     Bhubaneshwar\n",
       "northern            Agra\n",
       "southern       Alappuzha\n",
       "western        Ahmedabad\n",
       "Name: city, dtype: object"
      ]
     },
     "execution_count": 159,
     "metadata": {},
     "output_type": "execute_result"
    }
   ],
   "source": [
    "df_restaurants_copy.groupby('region')['city'].first()"
   ]
  },
  {
   "cell_type": "markdown",
   "metadata": {},
   "source": [
    "<a id='more'> </a>\n",
    "## 10. Some more Analysis"
   ]
  },
  {
   "cell_type": "markdown",
   "metadata": {},
   "source": [
    "<b>Lets us explore the data some more now that we have extrapolated and removed the missing values <br>\n",
    "We now conduct analysis to compare the regions.</b>"
   ]
  },
  {
   "cell_type": "markdown",
   "metadata": {},
   "source": [
    "### 1. To find which cities have expensive restaurants \n"
   ]
  },
  {
   "cell_type": "code",
   "execution_count": 160,
   "metadata": {},
   "outputs": [
    {
     "name": "stdout",
     "output_type": "stream",
     "text": [
      "The cities which have expensive restaurants: \n",
      " ['Agra' 'Ahmedabad' 'Gandhinagar' 'Ajmer' 'Alappuzha' 'Allahabad'\n",
      " 'Amritsar' 'Aurangabad' 'Bangalore' 'Bhopal' 'Bhubaneshwar' 'Chandigarh'\n",
      " 'Panchkula' 'Mohali' 'Zirakpur' 'Nayagaon' 'Chennai' 'Coimbatore'\n",
      " 'Cuttack' 'Darjeeling' 'Dehradun' 'New Delhi' 'Gurgaon' 'Noida'\n",
      " 'Ghaziabad' 'Faridabad' 'Greater Noida' 'Dharamshala' 'Gangtok' 'Goa'\n",
      " 'Gorakhpur' 'Guntur' 'Guwahati' 'Gwalior' 'Haridwar' 'Hyderabad'\n",
      " 'Secunderabad' 'Indore' 'Jabalpur' 'Jaipur' 'Jalandhar' 'Jammu'\n",
      " 'Jamshedpur' 'Jhansi' 'Jodhpur' 'Kanpur' 'Kochi' 'Kolhapur' 'Kolkata'\n",
      " 'Howrah' 'Kota' 'Lucknow' 'Ludhiana' 'Madurai' 'Manali' 'Mangalore'\n",
      " 'Manipal' 'Meerut' 'Mumbai' 'Thane' 'Navi Mumbai' 'Mussoorie' 'Mysore'\n",
      " 'Nagpur' 'Nainital' 'Nashik' 'Neemrana' 'Ooty' 'Patiala' 'Patna'\n",
      " 'Puducherry' 'Pune' 'Pushkar' 'Raipur' 'Rajkot' 'Ranchi' 'Rishikesh'\n",
      " 'Salem' 'Shimla' 'Siliguri' 'Srinagar' 'Surat' 'Thrissur' 'Trichy'\n",
      " 'Trivandrum' 'Udaipur' 'Varanasi' 'Vellore' 'Vijayawada' 'Vizag'\n",
      " 'Vadodara']\n",
      "91  out of  98  cities have expensive restaurants\n"
     ]
    }
   ],
   "source": [
    "#METHOD 1: Based on average 'average cost for two' of all restaurants per city for cities which have expensive restaurants\n",
    "def detect_res(x, y):\n",
    "    Q1 = df_restaurants_copy[x].quantile(0.25)\n",
    "    Q3 = df_restaurants_copy[x].quantile(0.75)\n",
    "    IQR = Q3 - Q1\n",
    "    if y==1:\n",
    "        return df_restaurants_copy[df_restaurants_copy[x] > (Q3 + 1.5 * IQR)][['city','latitude','longitude','average_cost_for_two']].drop_duplicates(keep=\"first\") \n",
    "    else:\n",
    "        return df_restaurants_copy[df_restaurants_copy[x] > (Q3 + 1.5 * IQR)][['city','latitude','longitude','average_cost_for_two']].groupby(['city']).mean().sort_values(by=\"average_cost_for_two\",ascending=False).reset_index().drop_duplicates(keep=\"first\").reset_index()\n",
    "print(\"The cities which have expensive restaurants: \\n\", detect_res('average_cost_for_two',1)['city'].unique())\n",
    "print(len(detect_res('average_cost_for_two',1)['city'].unique()),\" out of \", len(df_restaurants_copy['city'].unique()),\" cities have expensive restaurants\")\n",
    "#detect_res('average_cost_for_two',2)"
   ]
  },
  {
   "cell_type": "markdown",
   "metadata": {},
   "source": [
    "-  plot the cities which have costliest restaurants. "
   ]
  },
  {
   "cell_type": "code",
   "execution_count": 161,
   "metadata": {},
   "outputs": [
    {
     "data": {
      "text/plain": [
       "<matplotlib.collections.PathCollection at 0x3a7634cd48>"
      ]
     },
     "execution_count": 161,
     "metadata": {},
     "output_type": "execute_result"
    },
    {
     "data": {
      "image/png": "[encoded data removed]",
      "text/plain": [
       "<Figure size 432x720 with 1 Axes>"
      ]
     },
     "metadata": {
      "needs_background": "light"
     },
     "output_type": "display_data"
    }
   ],
   "source": [
    "fig, ax = plt.subplots(figsize=(6,10))\n",
    "plt.scatter(detect_res('average_cost_for_two',2)['longitude'],detect_res('average_cost_for_two',2)['latitude'])"
   ]
  },
  {
   "cell_type": "code",
   "execution_count": 162,
   "metadata": {},
   "outputs": [
    {
     "data": {
      "text/html": [
       "<div>\n",
       "<style scoped>\n",
       "    .dataframe tbody tr th:only-of-type {\n",
       "        vertical-align: middle;\n",
       "    }\n",
       "\n",
       "    .dataframe tbody tr th {\n",
       "        vertical-align: top;\n",
       "    }\n",
       "\n",
       "    .dataframe thead th {\n",
       "        text-align: right;\n",
       "    }\n",
       "</style>\n",
       "<table border=\"1\" class=\"dataframe\">\n",
       "  <thead>\n",
       "    <tr style=\"text-align: right;\">\n",
       "      <th></th>\n",
       "      <th>index</th>\n",
       "      <th>city</th>\n",
       "      <th>latitude</th>\n",
       "      <th>longitude</th>\n",
       "      <th>average_cost_for_two</th>\n",
       "    </tr>\n",
       "  </thead>\n",
       "  <tbody>\n",
       "    <tr>\n",
       "      <td>0</td>\n",
       "      <td>0</td>\n",
       "      <td>Jodhpur</td>\n",
       "      <td>26.277255</td>\n",
       "      <td>73.039353</td>\n",
       "      <td>3320.000000</td>\n",
       "    </tr>\n",
       "    <tr>\n",
       "      <td>1</td>\n",
       "      <td>1</td>\n",
       "      <td>Haridwar</td>\n",
       "      <td>29.948136</td>\n",
       "      <td>78.075657</td>\n",
       "      <td>3000.000000</td>\n",
       "    </tr>\n",
       "    <tr>\n",
       "      <td>2</td>\n",
       "      <td>2</td>\n",
       "      <td>Mussoorie</td>\n",
       "      <td>30.467409</td>\n",
       "      <td>78.060416</td>\n",
       "      <td>2530.000000</td>\n",
       "    </tr>\n",
       "    <tr>\n",
       "      <td>3</td>\n",
       "      <td>3</td>\n",
       "      <td>Kota</td>\n",
       "      <td>25.138712</td>\n",
       "      <td>75.853320</td>\n",
       "      <td>2500.000000</td>\n",
       "    </tr>\n",
       "    <tr>\n",
       "      <td>4</td>\n",
       "      <td>4</td>\n",
       "      <td>Udaipur</td>\n",
       "      <td>24.583215</td>\n",
       "      <td>73.678040</td>\n",
       "      <td>2444.776119</td>\n",
       "    </tr>\n",
       "  </tbody>\n",
       "</table>\n",
       "</div>"
      ],
      "text/plain": [
       "   index       city   latitude  longitude  average_cost_for_two\n",
       "0      0    Jodhpur  26.277255  73.039353           3320.000000\n",
       "1      1   Haridwar  29.948136  78.075657           3000.000000\n",
       "2      2  Mussoorie  30.467409  78.060416           2530.000000\n",
       "3      3       Kota  25.138712  75.853320           2500.000000\n",
       "4      4    Udaipur  24.583215  73.678040           2444.776119"
      ]
     },
     "execution_count": 162,
     "metadata": {},
     "output_type": "execute_result"
    }
   ],
   "source": [
    "detect_res('average_cost_for_two',2).head(5)"
   ]
  },
  {
   "cell_type": "code",
   "execution_count": 163,
   "metadata": {},
   "outputs": [
    {
     "data": {
      "text/plain": [
       "<matplotlib.axes._subplots.AxesSubplot at 0x3a76359748>"
      ]
     },
     "execution_count": 163,
     "metadata": {},
     "output_type": "execute_result"
    },
    {
     "data": {
      "image/png": "[encoded data removed]",
      "text/plain": [
       "<Figure size 432x1800 with 1 Axes>"
      ]
     },
     "metadata": {
      "needs_background": "light"
     },
     "output_type": "display_data"
    }
   ],
   "source": [
    "fig, ax = plt.subplots(figsize=(6,25))\n",
    "#plt.xticks(rotation=90)\n",
    "sns.barplot(y=detect_res('average_cost_for_two',2)['city'], x=detect_res('average_cost_for_two',2)['average_cost_for_two'])"
   ]
  },
  {
   "cell_type": "code",
   "execution_count": 164,
   "metadata": {},
   "outputs": [
    {
     "data": {
      "text/html": [
       "<div>\n",
       "<style scoped>\n",
       "    .dataframe tbody tr th:only-of-type {\n",
       "        vertical-align: middle;\n",
       "    }\n",
       "\n",
       "    .dataframe tbody tr th {\n",
       "        vertical-align: top;\n",
       "    }\n",
       "\n",
       "    .dataframe thead th {\n",
       "        text-align: right;\n",
       "    }\n",
       "</style>\n",
       "<table border=\"1\" class=\"dataframe\">\n",
       "  <thead>\n",
       "    <tr style=\"text-align: right;\">\n",
       "      <th></th>\n",
       "      <th>index</th>\n",
       "      <th>city</th>\n",
       "      <th>latitude</th>\n",
       "      <th>longitude</th>\n",
       "      <th>average_cost_for_two</th>\n",
       "    </tr>\n",
       "  </thead>\n",
       "  <tbody>\n",
       "    <tr>\n",
       "      <td>0</td>\n",
       "      <td>0</td>\n",
       "      <td>Jodhpur</td>\n",
       "      <td>26.277255</td>\n",
       "      <td>73.039353</td>\n",
       "      <td>3320.000000</td>\n",
       "    </tr>\n",
       "    <tr>\n",
       "      <td>1</td>\n",
       "      <td>1</td>\n",
       "      <td>Haridwar</td>\n",
       "      <td>29.948136</td>\n",
       "      <td>78.075657</td>\n",
       "      <td>3000.000000</td>\n",
       "    </tr>\n",
       "    <tr>\n",
       "      <td>2</td>\n",
       "      <td>2</td>\n",
       "      <td>Mussoorie</td>\n",
       "      <td>30.467409</td>\n",
       "      <td>78.060416</td>\n",
       "      <td>2530.000000</td>\n",
       "    </tr>\n",
       "    <tr>\n",
       "      <td>3</td>\n",
       "      <td>3</td>\n",
       "      <td>Kota</td>\n",
       "      <td>25.138712</td>\n",
       "      <td>75.853320</td>\n",
       "      <td>2500.000000</td>\n",
       "    </tr>\n",
       "    <tr>\n",
       "      <td>4</td>\n",
       "      <td>4</td>\n",
       "      <td>Udaipur</td>\n",
       "      <td>24.583215</td>\n",
       "      <td>73.678040</td>\n",
       "      <td>2444.776119</td>\n",
       "    </tr>\n",
       "    <tr>\n",
       "      <td>5</td>\n",
       "      <td>5</td>\n",
       "      <td>New Delhi</td>\n",
       "      <td>28.595442</td>\n",
       "      <td>77.188452</td>\n",
       "      <td>2362.547529</td>\n",
       "    </tr>\n",
       "    <tr>\n",
       "      <td>6</td>\n",
       "      <td>6</td>\n",
       "      <td>Mumbai</td>\n",
       "      <td>19.076088</td>\n",
       "      <td>72.848478</td>\n",
       "      <td>2244.340723</td>\n",
       "    </tr>\n",
       "    <tr>\n",
       "      <td>7</td>\n",
       "      <td>7</td>\n",
       "      <td>Agra</td>\n",
       "      <td>27.163413</td>\n",
       "      <td>78.044201</td>\n",
       "      <td>2209.459459</td>\n",
       "    </tr>\n",
       "    <tr>\n",
       "      <td>8</td>\n",
       "      <td>8</td>\n",
       "      <td>Jaipur</td>\n",
       "      <td>26.901705</td>\n",
       "      <td>75.809662</td>\n",
       "      <td>2186.864407</td>\n",
       "    </tr>\n",
       "    <tr>\n",
       "      <td>9</td>\n",
       "      <td>9</td>\n",
       "      <td>Hyderabad</td>\n",
       "      <td>17.428090</td>\n",
       "      <td>78.409726</td>\n",
       "      <td>2118.311475</td>\n",
       "    </tr>\n",
       "    <tr>\n",
       "      <td>10</td>\n",
       "      <td>10</td>\n",
       "      <td>Gurgaon</td>\n",
       "      <td>28.467950</td>\n",
       "      <td>77.078377</td>\n",
       "      <td>2050.492611</td>\n",
       "    </tr>\n",
       "    <tr>\n",
       "      <td>11</td>\n",
       "      <td>11</td>\n",
       "      <td>Ghaziabad</td>\n",
       "      <td>28.646487</td>\n",
       "      <td>77.367524</td>\n",
       "      <td>2040.000000</td>\n",
       "    </tr>\n",
       "    <tr>\n",
       "      <td>12</td>\n",
       "      <td>12</td>\n",
       "      <td>Faridabad</td>\n",
       "      <td>28.426943</td>\n",
       "      <td>77.308788</td>\n",
       "      <td>2013.333333</td>\n",
       "    </tr>\n",
       "    <tr>\n",
       "      <td>13</td>\n",
       "      <td>13</td>\n",
       "      <td>Goa</td>\n",
       "      <td>15.436314</td>\n",
       "      <td>73.828536</td>\n",
       "      <td>2009.210526</td>\n",
       "    </tr>\n",
       "    <tr>\n",
       "      <td>14</td>\n",
       "      <td>14</td>\n",
       "      <td>Kolhapur</td>\n",
       "      <td>16.704828</td>\n",
       "      <td>74.248874</td>\n",
       "      <td>2000.000000</td>\n",
       "    </tr>\n",
       "  </tbody>\n",
       "</table>\n",
       "</div>"
      ],
      "text/plain": [
       "    index       city   latitude  longitude  average_cost_for_two\n",
       "0       0    Jodhpur  26.277255  73.039353           3320.000000\n",
       "1       1   Haridwar  29.948136  78.075657           3000.000000\n",
       "2       2  Mussoorie  30.467409  78.060416           2530.000000\n",
       "3       3       Kota  25.138712  75.853320           2500.000000\n",
       "4       4    Udaipur  24.583215  73.678040           2444.776119\n",
       "5       5  New Delhi  28.595442  77.188452           2362.547529\n",
       "6       6     Mumbai  19.076088  72.848478           2244.340723\n",
       "7       7       Agra  27.163413  78.044201           2209.459459\n",
       "8       8     Jaipur  26.901705  75.809662           2186.864407\n",
       "9       9  Hyderabad  17.428090  78.409726           2118.311475\n",
       "10     10    Gurgaon  28.467950  77.078377           2050.492611\n",
       "11     11  Ghaziabad  28.646487  77.367524           2040.000000\n",
       "12     12  Faridabad  28.426943  77.308788           2013.333333\n",
       "13     13        Goa  15.436314  73.828536           2009.210526\n",
       "14     14   Kolhapur  16.704828  74.248874           2000.000000"
      ]
     },
     "execution_count": 164,
     "metadata": {},
     "output_type": "execute_result"
    }
   ],
   "source": [
    "detect_res('average_cost_for_two',2)[detect_res('average_cost_for_two',2)['average_cost_for_two']>=2000]"
   ]
  },
  {
   "cell_type": "code",
   "execution_count": 165,
   "metadata": {},
   "outputs": [
    {
     "data": {
      "image/png": "[encoded data removed]",
      "text/plain": [
       "<Figure size 432x576 with 1 Axes>"
      ]
     },
     "metadata": {
      "needs_background": "light"
     },
     "output_type": "display_data"
    }
   ],
   "source": [
    "fig, ax = plt.subplots(figsize=(6,8))\n",
    "ax = sns.barplot(y=detect_res('average_cost_for_two',2)[detect_res('average_cost_for_two',2)['average_cost_for_two']>=2000]['city'], x=detect_res('average_cost_for_two',2)[detect_res('average_cost_for_two',2)['average_cost_for_two']>=2000]['average_cost_for_two'])"
   ]
  },
  {
   "cell_type": "code",
   "execution_count": 166,
   "metadata": {},
   "outputs": [
    {
     "data": {
      "image/png": "[encoded data removed]",
      "text/plain": [
       "<Figure size 144x288 with 1 Axes>"
      ]
     },
     "metadata": {
      "needs_background": "light"
     },
     "output_type": "display_data"
    }
   ],
   "source": [
    "fig, ax = plt.subplots(figsize=(2,4))\n",
    "ax = plt.scatter(y=detect_res('average_cost_for_two',2)[detect_res('average_cost_for_two',2)['average_cost_for_two']>=2000]['longitude'], x=detect_res('average_cost_for_two',2)[detect_res('average_cost_for_two',2)['average_cost_for_two']>=2000]['latitude'])"
   ]
  },
  {
   "cell_type": "code",
   "execution_count": 167,
   "metadata": {},
   "outputs": [
    {
     "data": {
      "text/plain": [
       "array(['Agra', 'Bangalore', 'New Delhi', 'Gurgaon', 'Goa', 'Hyderabad',\n",
       "       'Jaipur', 'Jodhpur', 'Mumbai', 'Udaipur'], dtype=object)"
      ]
     },
     "execution_count": 167,
     "metadata": {},
     "output_type": "execute_result"
    }
   ],
   "source": [
    "#Method 2: Based on cities having atleast 1 expensive restaurant:\n",
    "df_restaurants_copy[df_restaurants_copy['average_cost_for_two']>=6000]['city'].unique()"
   ]
  },
  {
   "cell_type": "code",
   "execution_count": 168,
   "metadata": {},
   "outputs": [
    {
     "data": {
      "text/html": [
       "<div>\n",
       "<style scoped>\n",
       "    .dataframe tbody tr th:only-of-type {\n",
       "        vertical-align: middle;\n",
       "    }\n",
       "\n",
       "    .dataframe tbody tr th {\n",
       "        vertical-align: top;\n",
       "    }\n",
       "\n",
       "    .dataframe thead th {\n",
       "        text-align: right;\n",
       "    }\n",
       "</style>\n",
       "<table border=\"1\" class=\"dataframe\">\n",
       "  <thead>\n",
       "    <tr style=\"text-align: right;\">\n",
       "      <th></th>\n",
       "      <th>city</th>\n",
       "      <th>latitude</th>\n",
       "      <th>longitude</th>\n",
       "      <th>average_cost_for_two</th>\n",
       "    </tr>\n",
       "  </thead>\n",
       "  <tbody>\n",
       "    <tr>\n",
       "      <td>0</td>\n",
       "      <td>Jodhpur</td>\n",
       "      <td>26.281131</td>\n",
       "      <td>73.047052</td>\n",
       "      <td>12000.000000</td>\n",
       "    </tr>\n",
       "    <tr>\n",
       "      <td>1</td>\n",
       "      <td>Udaipur</td>\n",
       "      <td>24.575562</td>\n",
       "      <td>73.679719</td>\n",
       "      <td>11250.000000</td>\n",
       "    </tr>\n",
       "    <tr>\n",
       "      <td>2</td>\n",
       "      <td>Mumbai</td>\n",
       "      <td>19.020338</td>\n",
       "      <td>72.845137</td>\n",
       "      <td>11083.333333</td>\n",
       "    </tr>\n",
       "    <tr>\n",
       "      <td>3</td>\n",
       "      <td>Hyderabad</td>\n",
       "      <td>17.334311</td>\n",
       "      <td>78.467578</td>\n",
       "      <td>10000.000000</td>\n",
       "    </tr>\n",
       "    <tr>\n",
       "      <td>4</td>\n",
       "      <td>Bangalore</td>\n",
       "      <td>13.000593</td>\n",
       "      <td>77.614757</td>\n",
       "      <td>8666.666667</td>\n",
       "    </tr>\n",
       "    <tr>\n",
       "      <td>5</td>\n",
       "      <td>Goa</td>\n",
       "      <td>15.500437</td>\n",
       "      <td>73.831510</td>\n",
       "      <td>8000.000000</td>\n",
       "    </tr>\n",
       "    <tr>\n",
       "      <td>6</td>\n",
       "      <td>Jaipur</td>\n",
       "      <td>26.954576</td>\n",
       "      <td>75.841204</td>\n",
       "      <td>6750.000000</td>\n",
       "    </tr>\n",
       "    <tr>\n",
       "      <td>7</td>\n",
       "      <td>New Delhi</td>\n",
       "      <td>28.615206</td>\n",
       "      <td>77.174571</td>\n",
       "      <td>6585.714286</td>\n",
       "    </tr>\n",
       "    <tr>\n",
       "      <td>8</td>\n",
       "      <td>Agra</td>\n",
       "      <td>27.165738</td>\n",
       "      <td>78.047178</td>\n",
       "      <td>6166.666667</td>\n",
       "    </tr>\n",
       "    <tr>\n",
       "      <td>9</td>\n",
       "      <td>Gurgaon</td>\n",
       "      <td>28.501355</td>\n",
       "      <td>77.086517</td>\n",
       "      <td>6000.000000</td>\n",
       "    </tr>\n",
       "  </tbody>\n",
       "</table>\n",
       "</div>"
      ],
      "text/plain": [
       "        city   latitude  longitude  average_cost_for_two\n",
       "0    Jodhpur  26.281131  73.047052          12000.000000\n",
       "1    Udaipur  24.575562  73.679719          11250.000000\n",
       "2     Mumbai  19.020338  72.845137          11083.333333\n",
       "3  Hyderabad  17.334311  78.467578          10000.000000\n",
       "4  Bangalore  13.000593  77.614757           8666.666667\n",
       "5        Goa  15.500437  73.831510           8000.000000\n",
       "6     Jaipur  26.954576  75.841204           6750.000000\n",
       "7  New Delhi  28.615206  77.174571           6585.714286\n",
       "8       Agra  27.165738  78.047178           6166.666667\n",
       "9    Gurgaon  28.501355  77.086517           6000.000000"
      ]
     },
     "execution_count": 168,
     "metadata": {},
     "output_type": "execute_result"
    }
   ],
   "source": [
    "df1 = df_restaurants_copy[df_restaurants_copy['average_cost_for_two']>=6000].drop_duplicates().groupby('city')[['latitude','longitude','average_cost_for_two']].mean().sort_values(by=\"average_cost_for_two\", ascending=False).reset_index()\n",
    "df1"
   ]
  },
  {
   "cell_type": "code",
   "execution_count": 169,
   "metadata": {},
   "outputs": [
    {
     "data": {
      "image/png": "[encoded data removed]",
      "text/plain": [
       "<Figure size 432x576 with 1 Axes>"
      ]
     },
     "metadata": {
      "needs_background": "light"
     },
     "output_type": "display_data"
    }
   ],
   "source": [
    "fig, ax = plt.subplots(figsize=(6,8))\n",
    "ax = sns.barplot(x=df1['average_cost_for_two'],y=df1['city'])"
   ]
  },
  {
   "cell_type": "code",
   "execution_count": 170,
   "metadata": {},
   "outputs": [
    {
     "data": {
      "text/html": [
       "<div>\n",
       "<style scoped>\n",
       "    .dataframe tbody tr th:only-of-type {\n",
       "        vertical-align: middle;\n",
       "    }\n",
       "\n",
       "    .dataframe tbody tr th {\n",
       "        vertical-align: top;\n",
       "    }\n",
       "\n",
       "    .dataframe thead th {\n",
       "        text-align: right;\n",
       "    }\n",
       "</style>\n",
       "<table border=\"1\" class=\"dataframe\">\n",
       "  <thead>\n",
       "    <tr style=\"text-align: right;\">\n",
       "      <th></th>\n",
       "      <th>city</th>\n",
       "      <th>latitude</th>\n",
       "      <th>longitude</th>\n",
       "      <th>average_cost_for_two</th>\n",
       "    </tr>\n",
       "  </thead>\n",
       "  <tbody>\n",
       "    <tr>\n",
       "      <td>0</td>\n",
       "      <td>Mumbai</td>\n",
       "      <td>19.095666</td>\n",
       "      <td>72.850181</td>\n",
       "      <td>1082.211926</td>\n",
       "    </tr>\n",
       "    <tr>\n",
       "      <td>1</td>\n",
       "      <td>New Delhi</td>\n",
       "      <td>28.609399</td>\n",
       "      <td>77.183393</td>\n",
       "      <td>1017.742111</td>\n",
       "    </tr>\n",
       "    <tr>\n",
       "      <td>2</td>\n",
       "      <td>Gurgaon</td>\n",
       "      <td>28.462836</td>\n",
       "      <td>77.073018</td>\n",
       "      <td>1013.654434</td>\n",
       "    </tr>\n",
       "    <tr>\n",
       "      <td>3</td>\n",
       "      <td>Hyderabad</td>\n",
       "      <td>17.429485</td>\n",
       "      <td>78.423441</td>\n",
       "      <td>844.358053</td>\n",
       "    </tr>\n",
       "    <tr>\n",
       "      <td>4</td>\n",
       "      <td>Bangalore</td>\n",
       "      <td>12.959994</td>\n",
       "      <td>77.625171</td>\n",
       "      <td>807.254151</td>\n",
       "    </tr>\n",
       "    <tr>\n",
       "      <td>5</td>\n",
       "      <td>Goa</td>\n",
       "      <td>15.461133</td>\n",
       "      <td>73.832660</td>\n",
       "      <td>793.286957</td>\n",
       "    </tr>\n",
       "    <tr>\n",
       "      <td>6</td>\n",
       "      <td>Noida</td>\n",
       "      <td>28.569759</td>\n",
       "      <td>77.350580</td>\n",
       "      <td>755.257353</td>\n",
       "    </tr>\n",
       "    <tr>\n",
       "      <td>7</td>\n",
       "      <td>Navi Mumbai</td>\n",
       "      <td>19.057127</td>\n",
       "      <td>73.026306</td>\n",
       "      <td>750.237154</td>\n",
       "    </tr>\n",
       "    <tr>\n",
       "      <td>8</td>\n",
       "      <td>Pune</td>\n",
       "      <td>18.549211</td>\n",
       "      <td>73.833547</td>\n",
       "      <td>745.676175</td>\n",
       "    </tr>\n",
       "    <tr>\n",
       "      <td>9</td>\n",
       "      <td>Jaipur</td>\n",
       "      <td>26.894610</td>\n",
       "      <td>75.795383</td>\n",
       "      <td>711.301939</td>\n",
       "    </tr>\n",
       "  </tbody>\n",
       "</table>\n",
       "</div>"
      ],
      "text/plain": [
       "          city   latitude  longitude  average_cost_for_two\n",
       "0       Mumbai  19.095666  72.850181           1082.211926\n",
       "1    New Delhi  28.609399  77.183393           1017.742111\n",
       "2      Gurgaon  28.462836  77.073018           1013.654434\n",
       "3    Hyderabad  17.429485  78.423441            844.358053\n",
       "4    Bangalore  12.959994  77.625171            807.254151\n",
       "5          Goa  15.461133  73.832660            793.286957\n",
       "6        Noida  28.569759  77.350580            755.257353\n",
       "7  Navi Mumbai  19.057127  73.026306            750.237154\n",
       "8         Pune  18.549211  73.833547            745.676175\n",
       "9       Jaipur  26.894610  75.795383            711.301939"
      ]
     },
     "execution_count": 170,
     "metadata": {},
     "output_type": "execute_result"
    }
   ],
   "source": [
    "#METHOD 3: MEAN AVERAGE COST FOR TWO INCLUDING BOTH EXPENSIVE AND NON-EXPENSIVE RESTAURANTS\n",
    "df2 = df_restaurants_copy.drop_duplicates().groupby('city')[['latitude','longitude','average_cost_for_two']].mean().sort_values(by=\"average_cost_for_two\", ascending=False).head(10).reset_index()\n",
    "df2"
   ]
  },
  {
   "cell_type": "code",
   "execution_count": 171,
   "metadata": {},
   "outputs": [
    {
     "data": {
      "image/png": "[encoded data removed]",
      "text/plain": [
       "<Figure size 288x432 with 1 Axes>"
      ]
     },
     "metadata": {
      "needs_background": "light"
     },
     "output_type": "display_data"
    }
   ],
   "source": [
    "fig, ax = plt.subplots(figsize=(4,6))\n",
    "ax = sns.barplot(x=df2['average_cost_for_two'],y=df2['city'])"
   ]
  },
  {
   "cell_type": "code",
   "execution_count": 172,
   "metadata": {},
   "outputs": [
    {
     "data": {
      "text/html": [
       "<div>\n",
       "<style scoped>\n",
       "    .dataframe tbody tr th:only-of-type {\n",
       "        vertical-align: middle;\n",
       "    }\n",
       "\n",
       "    .dataframe tbody tr th {\n",
       "        vertical-align: top;\n",
       "    }\n",
       "\n",
       "    .dataframe thead th {\n",
       "        text-align: right;\n",
       "    }\n",
       "</style>\n",
       "<table border=\"1\" class=\"dataframe\">\n",
       "  <thead>\n",
       "    <tr style=\"text-align: right;\">\n",
       "      <th></th>\n",
       "      <th>city</th>\n",
       "      <th>latitude</th>\n",
       "      <th>longitude</th>\n",
       "      <th>average_cost_for_two</th>\n",
       "    </tr>\n",
       "  </thead>\n",
       "  <tbody>\n",
       "    <tr>\n",
       "      <td>0</td>\n",
       "      <td>Gurgaon</td>\n",
       "      <td>28.467511</td>\n",
       "      <td>77.080265</td>\n",
       "      <td>700</td>\n",
       "    </tr>\n",
       "    <tr>\n",
       "      <td>1</td>\n",
       "      <td>Mumbai</td>\n",
       "      <td>19.103313</td>\n",
       "      <td>72.837480</td>\n",
       "      <td>700</td>\n",
       "    </tr>\n",
       "    <tr>\n",
       "      <td>2</td>\n",
       "      <td>New Delhi</td>\n",
       "      <td>28.621053</td>\n",
       "      <td>77.199276</td>\n",
       "      <td>600</td>\n",
       "    </tr>\n",
       "    <tr>\n",
       "      <td>3</td>\n",
       "      <td>Hyderabad</td>\n",
       "      <td>17.431567</td>\n",
       "      <td>78.412096</td>\n",
       "      <td>600</td>\n",
       "    </tr>\n",
       "    <tr>\n",
       "      <td>4</td>\n",
       "      <td>Goa</td>\n",
       "      <td>15.499626</td>\n",
       "      <td>73.816727</td>\n",
       "      <td>600</td>\n",
       "    </tr>\n",
       "    <tr>\n",
       "      <td>5</td>\n",
       "      <td>Gangtok</td>\n",
       "      <td>27.327332</td>\n",
       "      <td>88.612074</td>\n",
       "      <td>600</td>\n",
       "    </tr>\n",
       "    <tr>\n",
       "      <td>6</td>\n",
       "      <td>Chennai</td>\n",
       "      <td>13.037221</td>\n",
       "      <td>80.231379</td>\n",
       "      <td>500</td>\n",
       "    </tr>\n",
       "    <tr>\n",
       "      <td>7</td>\n",
       "      <td>Thane</td>\n",
       "      <td>19.209854</td>\n",
       "      <td>72.973951</td>\n",
       "      <td>500</td>\n",
       "    </tr>\n",
       "    <tr>\n",
       "      <td>8</td>\n",
       "      <td>Secunderabad</td>\n",
       "      <td>17.443386</td>\n",
       "      <td>78.516707</td>\n",
       "      <td>500</td>\n",
       "    </tr>\n",
       "    <tr>\n",
       "      <td>9</td>\n",
       "      <td>Pune</td>\n",
       "      <td>18.543631</td>\n",
       "      <td>73.840957</td>\n",
       "      <td>500</td>\n",
       "    </tr>\n",
       "  </tbody>\n",
       "</table>\n",
       "</div>"
      ],
      "text/plain": [
       "           city   latitude  longitude  average_cost_for_two\n",
       "0       Gurgaon  28.467511  77.080265                   700\n",
       "1        Mumbai  19.103313  72.837480                   700\n",
       "2     New Delhi  28.621053  77.199276                   600\n",
       "3     Hyderabad  17.431567  78.412096                   600\n",
       "4           Goa  15.499626  73.816727                   600\n",
       "5       Gangtok  27.327332  88.612074                   600\n",
       "6       Chennai  13.037221  80.231379                   500\n",
       "7         Thane  19.209854  72.973951                   500\n",
       "8  Secunderabad  17.443386  78.516707                   500\n",
       "9          Pune  18.543631  73.840957                   500"
      ]
     },
     "execution_count": 172,
     "metadata": {},
     "output_type": "execute_result"
    }
   ],
   "source": [
    "#METHOD 4: MEDIAN AVERAGE COST FOR TWO INCLUDING BOTH EXPENSIVE AND NON-EXPENSIVE RESTAURANTS\n",
    "df2 = df_restaurants_copy.drop_duplicates().groupby('city')[['latitude','longitude','average_cost_for_two']].median().sort_values(by=\"average_cost_for_two\", ascending=False).head(10).reset_index()\n",
    "df2"
   ]
  },
  {
   "cell_type": "code",
   "execution_count": 173,
   "metadata": {},
   "outputs": [
    {
     "name": "stdout",
     "output_type": "stream",
     "text": [
      "METHOD 4\n"
     ]
    },
    {
     "data": {
      "image/png": "[encoded data removed]",
      "text/plain": [
       "<Figure size 288x432 with 1 Axes>"
      ]
     },
     "metadata": {
      "needs_background": "light"
     },
     "output_type": "display_data"
    }
   ],
   "source": [
    "print('METHOD 4')\n",
    "fig, ax = plt.subplots(figsize=(4,6))\n",
    "ax = sns.barplot(x=df2['average_cost_for_two'],y=df2['city'])"
   ]
  },
  {
   "cell_type": "code",
   "execution_count": 174,
   "metadata": {},
   "outputs": [
    {
     "data": {
      "text/html": [
       "<div>\n",
       "<style scoped>\n",
       "    .dataframe tbody tr th:only-of-type {\n",
       "        vertical-align: middle;\n",
       "    }\n",
       "\n",
       "    .dataframe tbody tr th {\n",
       "        vertical-align: top;\n",
       "    }\n",
       "\n",
       "    .dataframe thead th {\n",
       "        text-align: right;\n",
       "    }\n",
       "</style>\n",
       "<table border=\"1\" class=\"dataframe\">\n",
       "  <thead>\n",
       "    <tr style=\"text-align: right;\">\n",
       "      <th></th>\n",
       "      <th>city</th>\n",
       "      <th>latitude</th>\n",
       "      <th>longitude</th>\n",
       "      <th>average_cost_for_two</th>\n",
       "    </tr>\n",
       "  </thead>\n",
       "  <tbody>\n",
       "    <tr>\n",
       "      <td>0</td>\n",
       "      <td>Bangalore</td>\n",
       "      <td>13.047513</td>\n",
       "      <td>77.610328</td>\n",
       "      <td>14000</td>\n",
       "    </tr>\n",
       "    <tr>\n",
       "      <td>1</td>\n",
       "      <td>Mumbai</td>\n",
       "      <td>18.983401</td>\n",
       "      <td>72.836365</td>\n",
       "      <td>13625</td>\n",
       "    </tr>\n",
       "    <tr>\n",
       "      <td>2</td>\n",
       "      <td>Jodhpur</td>\n",
       "      <td>26.281131</td>\n",
       "      <td>73.047052</td>\n",
       "      <td>12000</td>\n",
       "    </tr>\n",
       "    <tr>\n",
       "      <td>3</td>\n",
       "      <td>Udaipur</td>\n",
       "      <td>24.575562</td>\n",
       "      <td>73.679719</td>\n",
       "      <td>11250</td>\n",
       "    </tr>\n",
       "    <tr>\n",
       "      <td>4</td>\n",
       "      <td>Hyderabad</td>\n",
       "      <td>17.334311</td>\n",
       "      <td>78.467578</td>\n",
       "      <td>10000</td>\n",
       "    </tr>\n",
       "    <tr>\n",
       "      <td>5</td>\n",
       "      <td>Goa</td>\n",
       "      <td>15.500437</td>\n",
       "      <td>73.831510</td>\n",
       "      <td>8000</td>\n",
       "    </tr>\n",
       "    <tr>\n",
       "      <td>6</td>\n",
       "      <td>Jaipur</td>\n",
       "      <td>26.991565</td>\n",
       "      <td>75.868789</td>\n",
       "      <td>7500</td>\n",
       "    </tr>\n",
       "    <tr>\n",
       "      <td>7</td>\n",
       "      <td>New Delhi</td>\n",
       "      <td>28.597212</td>\n",
       "      <td>77.172921</td>\n",
       "      <td>7025</td>\n",
       "    </tr>\n",
       "  </tbody>\n",
       "</table>\n",
       "</div>"
      ],
      "text/plain": [
       "        city   latitude  longitude  average_cost_for_two\n",
       "0  Bangalore  13.047513  77.610328                 14000\n",
       "1     Mumbai  18.983401  72.836365                 13625\n",
       "2    Jodhpur  26.281131  73.047052                 12000\n",
       "3    Udaipur  24.575562  73.679719                 11250\n",
       "4  Hyderabad  17.334311  78.467578                 10000\n",
       "5        Goa  15.500437  73.831510                  8000\n",
       "6     Jaipur  26.991565  75.868789                  7500\n",
       "7  New Delhi  28.597212  77.172921                  7025"
      ]
     },
     "execution_count": 174,
     "metadata": {},
     "output_type": "execute_result"
    }
   ],
   "source": [
    "#METHOD 5: MEAN AVERAGE COST FOR TWO INCLUDING EXPENSIVE RESTAURANTS ONLY\n",
    "df2 = df_restaurants_copy.drop_duplicates().sort_values(by=\"average_cost_for_two\", ascending=False).head(20).groupby('city')[['latitude','longitude','average_cost_for_two']].mean().sort_values(by=\"average_cost_for_two\", ascending=False).reset_index()\n",
    "df2"
   ]
  },
  {
   "cell_type": "code",
   "execution_count": 175,
   "metadata": {},
   "outputs": [
    {
     "name": "stdout",
     "output_type": "stream",
     "text": [
      "METHOD 5\n"
     ]
    },
    {
     "data": {
      "image/png": "[encoded data removed]",
      "text/plain": [
       "<Figure size 288x432 with 1 Axes>"
      ]
     },
     "metadata": {
      "needs_background": "light"
     },
     "output_type": "display_data"
    }
   ],
   "source": [
    "print('METHOD 5')\n",
    "fig, ax = plt.subplots(figsize=(4,6))\n",
    "ax = sns.barplot(x=df2['average_cost_for_two'],y=df2['city'])"
   ]
  },
  {
   "cell_type": "markdown",
   "metadata": {},
   "source": [
    "### 2.  Comparing regions"
   ]
  },
  {
   "cell_type": "markdown",
   "metadata": {},
   "source": [
    "### 2a. Highlights available in restaurants for different regions"
   ]
  },
  {
   "cell_type": "markdown",
   "metadata": {},
   "source": [
    "To cater our analysis we define the regions as nothern, eastern, western and southern."
   ]
  },
  {
   "cell_type": "markdown",
   "metadata": {},
   "source": [
    "We first need to select the unique facilities available in each region and sort according to their frequencies."
   ]
  },
  {
   "cell_type": "code",
   "execution_count": 176,
   "metadata": {},
   "outputs": [],
   "source": [
    "def highlights_sort(x):\n",
    "    x=x.dropna()\n",
    "    x=np.asarray(x.transform(lambda x: x.split(\", \")).to_numpy())\n",
    "    x= pd.Series(np.concatenate(x, axis=0))\n",
    "    z = x.value_counts().reset_index()\n",
    "    z = z.rename(columns={'index': 'highlights', 0: 'frequency'})\n",
    "    return z"
   ]
  },
  {
   "cell_type": "markdown",
   "metadata": {},
   "source": [
    "**Highlights of the northern region**"
   ]
  },
  {
   "cell_type": "code",
   "execution_count": 177,
   "metadata": {},
   "outputs": [
    {
     "name": "stdout",
     "output_type": "stream",
     "text": [
      "            highlights  frequency\n",
      "0                 Cash      14080\n",
      "1   Takeaway Available      12702\n",
      "2               Dinner      10765\n",
      "3       Indoor Seating      10747\n",
      "4                Lunch      10565\n",
      "..                 ...        ...\n",
      "90     Unlimited Pizza          3\n",
      "91        Members Only          2\n",
      "92             Gin Bar          2\n",
      "93        Wine Tasting          1\n",
      "94   Couple Entry Only          1\n",
      "\n",
      "[95 rows x 2 columns]\n"
     ]
    }
   ],
   "source": [
    "print(highlights_sort(df_restaurants_copy[df_restaurants_copy['region'] == \"northern\"]['highlights']))"
   ]
  },
  {
   "cell_type": "markdown",
   "metadata": {},
   "source": [
    "**Highlights of the eastern region**"
   ]
  },
  {
   "cell_type": "code",
   "execution_count": 178,
   "metadata": {},
   "outputs": [
    {
     "name": "stdout",
     "output_type": "stream",
     "text": [
      "            highlights  frequency\n",
      "0                 Cash       7261\n",
      "1   Takeaway Available       6418\n",
      "2       Indoor Seating       5421\n",
      "3               Dinner       5061\n",
      "4                Lunch       4914\n",
      "..                 ...        ...\n",
      "89        Dark Kitchen          1\n",
      "90             Gin Bar          1\n",
      "91        Keto Options          1\n",
      "92     Alipay Accepted          1\n",
      "93   Couple Entry Only          1\n",
      "\n",
      "[94 rows x 2 columns]\n"
     ]
    }
   ],
   "source": [
    "print(highlights_sort(df_restaurants_copy[df_restaurants_copy['region'] == \"eastern\"]['highlights']))"
   ]
  },
  {
   "cell_type": "markdown",
   "metadata": {},
   "source": [
    "**Highlights of the southern region**"
   ]
  },
  {
   "cell_type": "code",
   "execution_count": 179,
   "metadata": {},
   "outputs": [
    {
     "name": "stdout",
     "output_type": "stream",
     "text": [
      "              highlights  frequency\n",
      "0                   Cash      14971\n",
      "1     Takeaway Available      13198\n",
      "2         Indoor Seating      12712\n",
      "3                 Dinner      10988\n",
      "4                  Lunch      10583\n",
      "..                   ...        ...\n",
      "93          Wine Tasting          3\n",
      "94                  BYOB          3\n",
      "95  Celebrity Frequented          2\n",
      "96          Members Only          1\n",
      "97          Dark Kitchen          1\n",
      "\n",
      "[98 rows x 2 columns]\n"
     ]
    }
   ],
   "source": [
    "print(highlights_sort(df_restaurants_copy[df_restaurants_copy['region'] == \"southern\"]['highlights']))"
   ]
  },
  {
   "cell_type": "markdown",
   "metadata": {},
   "source": [
    "**Highlights of the western region**"
   ]
  },
  {
   "cell_type": "code",
   "execution_count": 180,
   "metadata": {},
   "outputs": [
    {
     "name": "stdout",
     "output_type": "stream",
     "text": [
      "                highlights  frequency\n",
      "0                     Cash      17230\n",
      "1       Takeaway Available      14883\n",
      "2           Indoor Seating      12997\n",
      "3                   Dinner      12154\n",
      "4                    Lunch      11345\n",
      "..                     ...        ...\n",
      "95            Bira 91 Beer          2\n",
      "96                    BYOB          2\n",
      "97            Dark Kitchen          1\n",
      "98  Subscription Available          1\n",
      "99   Subscription Required          1\n",
      "\n",
      "[100 rows x 2 columns]\n"
     ]
    }
   ],
   "source": [
    "print(highlights_sort(df_restaurants_copy[df_restaurants_copy['region'] == \"western\"]['highlights']))"
   ]
  },
  {
   "cell_type": "markdown",
   "metadata": {},
   "source": [
    "#### Plot the barplot for different regions"
   ]
  },
  {
   "cell_type": "markdown",
   "metadata": {},
   "source": [
    "We shall now plot the graphs for top 10 highlights."
   ]
  },
  {
   "cell_type": "code",
   "execution_count": 181,
   "metadata": {},
   "outputs": [
    {
     "name": "stdout",
     "output_type": "stream",
     "text": [
      "Northern: \n"
     ]
    },
    {
     "data": {
      "text/plain": [
       "<matplotlib.axes._subplots.AxesSubplot at 0x3a75f90188>"
      ]
     },
     "execution_count": 181,
     "metadata": {},
     "output_type": "execute_result"
    },
    {
     "data": {
      "image/png": "[encoded data removed]",
      "text/plain": [
       "<Figure size 432x432 with 1 Axes>"
      ]
     },
     "metadata": {
      "needs_background": "light"
     },
     "output_type": "display_data"
    }
   ],
   "source": [
    "print('Northern: ')\n",
    "fig, ax = plt.subplots(figsize=(6,6)) \n",
    "sns.barplot(y=highlights_sort(df_restaurants_copy[df_restaurants_copy['region'] == \"northern\"]['highlights'])['highlights'].head(10), x=highlights_sort(df_restaurants_copy[df_restaurants_copy['region'] == \"northern\"]['highlights'])['frequency'].head(10))"
   ]
  },
  {
   "cell_type": "code",
   "execution_count": 182,
   "metadata": {},
   "outputs": [
    {
     "name": "stdout",
     "output_type": "stream",
     "text": [
      "Western:\n"
     ]
    },
    {
     "data": {
      "text/plain": [
       "<matplotlib.axes._subplots.AxesSubplot at 0x3a7670f948>"
      ]
     },
     "execution_count": 182,
     "metadata": {},
     "output_type": "execute_result"
    },
    {
     "data": {
      "image/png": "[encoded data removed]",
      "text/plain": [
       "<Figure size 432x432 with 1 Axes>"
      ]
     },
     "metadata": {
      "needs_background": "light"
     },
     "output_type": "display_data"
    }
   ],
   "source": [
    "print('Western:')\n",
    "fig, ax = plt.subplots(figsize=(6,6)) \n",
    "sns.barplot(y=highlights_sort(df_restaurants_copy[df_restaurants_copy['region'] == \"western\"]['highlights'])['highlights'].head(10), x=highlights_sort(df_restaurants_copy[df_restaurants_copy['region'] == \"western\"]['highlights'])['frequency'].head(10))"
   ]
  },
  {
   "cell_type": "code",
   "execution_count": 183,
   "metadata": {},
   "outputs": [
    {
     "name": "stdout",
     "output_type": "stream",
     "text": [
      "Eastern: \n"
     ]
    },
    {
     "data": {
      "text/plain": [
       "<matplotlib.axes._subplots.AxesSubplot at 0x3a749c98c8>"
      ]
     },
     "execution_count": 183,
     "metadata": {},
     "output_type": "execute_result"
    },
    {
     "data": {
      "image/png": "[encoded data removed]",
      "text/plain": [
       "<Figure size 432x432 with 1 Axes>"
      ]
     },
     "metadata": {
      "needs_background": "light"
     },
     "output_type": "display_data"
    }
   ],
   "source": [
    "print('Eastern: ')\n",
    "fig, ax = plt.subplots(figsize=(6,6)) \n",
    "sns.barplot(y=highlights_sort(df_restaurants_copy[df_restaurants_copy['region'] == \"eastern\"]['highlights'])['highlights'].head(10), x=highlights_sort(df_restaurants_copy[df_restaurants_copy['region'] == \"eastern\"]['highlights'])['frequency'].head(10))"
   ]
  },
  {
   "cell_type": "code",
   "execution_count": 184,
   "metadata": {},
   "outputs": [
    {
     "name": "stdout",
     "output_type": "stream",
     "text": [
      "Southern: \n"
     ]
    },
    {
     "data": {
      "text/plain": [
       "<matplotlib.axes._subplots.AxesSubplot at 0x3a7631c188>"
      ]
     },
     "execution_count": 184,
     "metadata": {},
     "output_type": "execute_result"
    },
    {
     "data": {
      "image/png": "[encoded data removed]",
      "text/plain": [
       "<Figure size 432x432 with 1 Axes>"
      ]
     },
     "metadata": {
      "needs_background": "light"
     },
     "output_type": "display_data"
    }
   ],
   "source": [
    "print('Southern: ')\n",
    "fig, ax = plt.subplots(figsize=(6,6)) \n",
    "sns.barplot(y=highlights_sort(df_restaurants_copy[df_restaurants_copy['region'] == \"southern\"]['highlights'])['highlights'].head(10), x=highlights_sort(df_restaurants_copy[df_restaurants_copy['region'] == \"southern\"]['highlights'])['frequency'].head(10))"
   ]
  },
  {
   "cell_type": "markdown",
   "metadata": {},
   "source": [
    "### 2b. Cuisines available in restaurants for different regions"
   ]
  },
  {
   "cell_type": "code",
   "execution_count": 185,
   "metadata": {},
   "outputs": [],
   "source": [
    "def cuisines_freq2(x):\n",
    "    x=x.dropna()\n",
    "    x=np.asarray(x.transform(lambda x: x.split(\", \")).to_numpy())\n",
    "    x= pd.Series(np.concatenate(x, axis=0))\n",
    "    z = x.value_counts().reset_index()\n",
    "    z = z.rename(columns={'index': 'cuisines', 0: 'frequency'})\n",
    "    return z "
   ]
  },
  {
   "cell_type": "markdown",
   "metadata": {},
   "source": [
    "**Cuisines in the northern region**"
   ]
  },
  {
   "cell_type": "code",
   "execution_count": 186,
   "metadata": {},
   "outputs": [
    {
     "name": "stdout",
     "output_type": "stream",
     "text": [
      "         cuisines  frequency\n",
      "0    North Indian       6444\n",
      "1         Chinese       3584\n",
      "2       Fast Food       3524\n",
      "3     Continental       1550\n",
      "4       Beverages       1547\n",
      "..            ...        ...\n",
      "108        Crepes          1\n",
      "109       Swedish          1\n",
      "110      Egyptian          1\n",
      "111      Peruvian          1\n",
      "112        Fusion          1\n",
      "\n",
      "[113 rows x 2 columns]\n"
     ]
    }
   ],
   "source": [
    "print(cuisines_freq2(df_restaurants_copy[df_restaurants_copy['region'] == \"northern\"]['cuisines']))"
   ]
  },
  {
   "cell_type": "markdown",
   "metadata": {},
   "source": [
    "**Cuisines in the eastern region**"
   ]
  },
  {
   "cell_type": "code",
   "execution_count": 187,
   "metadata": {},
   "outputs": [
    {
     "name": "stdout",
     "output_type": "stream",
     "text": [
      "        cuisines  frequency\n",
      "0   North Indian       2652\n",
      "1        Chinese       2329\n",
      "2      Fast Food       1601\n",
      "3       Desserts        893\n",
      "4         Bakery        736\n",
      "..           ...        ...\n",
      "94     Pan Asian          1\n",
      "95       African          1\n",
      "96       Russian          1\n",
      "97      Oriental          1\n",
      "98     Cafe Food          1\n",
      "\n",
      "[99 rows x 2 columns]\n"
     ]
    }
   ],
   "source": [
    "print(cuisines_freq2(df_restaurants_copy[df_restaurants_copy['region'] == \"eastern\"]['cuisines']))"
   ]
  },
  {
   "cell_type": "markdown",
   "metadata": {},
   "source": [
    "**Cuisines in the southern region**"
   ]
  },
  {
   "cell_type": "code",
   "execution_count": 188,
   "metadata": {},
   "outputs": [
    {
     "name": "stdout",
     "output_type": "stream",
     "text": [
      "           cuisines  frequency\n",
      "0      North Indian       4444\n",
      "1      South Indian       4048\n",
      "2           Chinese       3587\n",
      "3         Fast Food       2541\n",
      "4         Beverages       2300\n",
      "..              ...        ...\n",
      "108  Coffee and Tea          1\n",
      "109          Mishti          1\n",
      "110       Pakistani          1\n",
      "111            Naga          1\n",
      "112           Irish          1\n",
      "\n",
      "[113 rows x 2 columns]\n"
     ]
    }
   ],
   "source": [
    "print(cuisines_freq2(df_restaurants_copy[df_restaurants_copy['region'] == \"southern\"]['cuisines']))"
   ]
  },
  {
   "cell_type": "markdown",
   "metadata": {},
   "source": [
    "**Cuisines in the western region** "
   ]
  },
  {
   "cell_type": "code",
   "execution_count": 189,
   "metadata": {},
   "outputs": [
    {
     "name": "stdout",
     "output_type": "stream",
     "text": [
      "          cuisines  frequency\n",
      "0     North Indian       6075\n",
      "1        Fast Food       4349\n",
      "2          Chinese       3698\n",
      "3         Desserts       2646\n",
      "4        Beverages       2456\n",
      "..             ...        ...\n",
      "105          Grill          1\n",
      "106  Fried Chicken          1\n",
      "107      Cafe Food          1\n",
      "108     Sri Lankan          1\n",
      "109          Bohri          1\n",
      "\n",
      "[110 rows x 2 columns]\n"
     ]
    }
   ],
   "source": [
    "print(cuisines_freq2(df_restaurants_copy[df_restaurants_copy['region'] == \"western\"]['cuisines']))"
   ]
  },
  {
   "cell_type": "markdown",
   "metadata": {},
   "source": [
    "- Plot the barplot for top 10 cuisines served in the four regions"
   ]
  },
  {
   "cell_type": "code",
   "execution_count": 190,
   "metadata": {},
   "outputs": [
    {
     "name": "stdout",
     "output_type": "stream",
     "text": [
      "Northern: \n"
     ]
    },
    {
     "data": {
      "text/plain": [
       "<matplotlib.axes._subplots.AxesSubplot at 0x3a783da7c8>"
      ]
     },
     "execution_count": 190,
     "metadata": {},
     "output_type": "execute_result"
    },
    {
     "data": {
      "image/png": "[encoded data removed]",
      "text/plain": [
       "<Figure size 432x432 with 1 Axes>"
      ]
     },
     "metadata": {
      "needs_background": "light"
     },
     "output_type": "display_data"
    }
   ],
   "source": [
    "print('Northern: ')\n",
    "fig, ax = plt.subplots(figsize=(6,6)) \n",
    "sns.barplot(y=cuisines_freq2(df_restaurants_copy[df_restaurants_copy['region'] == \"northern\"]['cuisines'])['cuisines'].head(10), x=cuisines_freq2(df_restaurants_copy[df_restaurants_copy['region'] == \"northern\"]['cuisines'])['frequency'].head(10))"
   ]
  },
  {
   "cell_type": "code",
   "execution_count": 191,
   "metadata": {},
   "outputs": [
    {
     "name": "stdout",
     "output_type": "stream",
     "text": [
      "Western: \n"
     ]
    },
    {
     "data": {
      "text/plain": [
       "<matplotlib.axes._subplots.AxesSubplot at 0x3a760224c8>"
      ]
     },
     "execution_count": 191,
     "metadata": {},
     "output_type": "execute_result"
    },
    {
     "data": {
      "image/png": "[encoded data removed]",
      "text/plain": [
       "<Figure size 432x432 with 1 Axes>"
      ]
     },
     "metadata": {
      "needs_background": "light"
     },
     "output_type": "display_data"
    }
   ],
   "source": [
    "print('Western: ')\n",
    "fig, ax = plt.subplots(figsize=(6,6)) \n",
    "sns.barplot(y=cuisines_freq2(df_restaurants_copy[df_restaurants_copy['region'] == \"western\"]['cuisines'])['cuisines'].head(10), x=cuisines_freq2(df_restaurants_copy[df_restaurants_copy['region'] == \"western\"]['cuisines'])['frequency'].head(10))"
   ]
  },
  {
   "cell_type": "code",
   "execution_count": 192,
   "metadata": {},
   "outputs": [
    {
     "name": "stdout",
     "output_type": "stream",
     "text": [
      "Eastern: \n"
     ]
    },
    {
     "data": {
      "text/plain": [
       "<matplotlib.axes._subplots.AxesSubplot at 0x3a7643f5c8>"
      ]
     },
     "execution_count": 192,
     "metadata": {},
     "output_type": "execute_result"
    },
    {
     "data": {
      "image/png": "[encoded data removed]",
      "text/plain": [
       "<Figure size 432x432 with 1 Axes>"
      ]
     },
     "metadata": {
      "needs_background": "light"
     },
     "output_type": "display_data"
    }
   ],
   "source": [
    "print('Eastern: ')\n",
    "fig, ax = plt.subplots(figsize=(6,6)) \n",
    "sns.barplot(y=cuisines_freq2(df_restaurants_copy[df_restaurants_copy['region'] == \"eastern\"]['cuisines'])['cuisines'].head(10), x=cuisines_freq2(df_restaurants_copy[df_restaurants_copy['region'] == \"eastern\"]['cuisines'])['frequency'].head(10))"
   ]
  },
  {
   "cell_type": "code",
   "execution_count": 193,
   "metadata": {},
   "outputs": [
    {
     "name": "stdout",
     "output_type": "stream",
     "text": [
      "Southern: \n"
     ]
    },
    {
     "data": {
      "text/plain": [
       "<matplotlib.axes._subplots.AxesSubplot at 0x3a76b79408>"
      ]
     },
     "execution_count": 193,
     "metadata": {},
     "output_type": "execute_result"
    },
    {
     "data": {
      "image/png": "[encoded data removed]",
      "text/plain": [
       "<Figure size 432x432 with 1 Axes>"
      ]
     },
     "metadata": {
      "needs_background": "light"
     },
     "output_type": "display_data"
    }
   ],
   "source": [
    "print('Southern: ')\n",
    "fig, ax = plt.subplots(figsize=(6,6)) \n",
    "sns.barplot(y=cuisines_freq2(df_restaurants_copy[df_restaurants_copy['region'] == \"southern\"]['cuisines'])['cuisines'].head(10), x=cuisines_freq2(df_restaurants_copy[df_restaurants_copy['region'] == \"southern\"]['cuisines'])['frequency'].head(10))"
   ]
  },
  {
   "cell_type": "markdown",
   "metadata": {},
   "source": [
    "###  3. The Northern Region"
   ]
  },
  {
   "cell_type": "markdown",
   "metadata": {},
   "source": [
    "**Now we shall consider only the northern region**"
   ]
  },
  {
   "cell_type": "markdown",
   "metadata": {},
   "source": [
    "**1. The top 10 cuisines served in Restaurants** "
   ]
  },
  {
   "cell_type": "code",
   "execution_count": 194,
   "metadata": {},
   "outputs": [
    {
     "name": "stdout",
     "output_type": "stream",
     "text": [
      "       cuisines  frequency\n",
      "0  North Indian       6444\n",
      "1       Chinese       3584\n",
      "2     Fast Food       3524\n",
      "3   Continental       1550\n",
      "4     Beverages       1547\n",
      "5      Desserts       1492\n",
      "6          Cafe       1209\n",
      "7        Bakery       1177\n",
      "8       Italian       1139\n",
      "9   Street Food       1062\n"
     ]
    }
   ],
   "source": [
    "print(cuisines_freq2(df_restaurants_copy[df_restaurants_copy['region'] == \"northern\"]['cuisines']).head(10))"
   ]
  },
  {
   "cell_type": "markdown",
   "metadata": {},
   "source": [
    "**2. Do restaurants with more photo counts and votes have better rating?**"
   ]
  },
  {
   "cell_type": "code",
   "execution_count": 195,
   "metadata": {},
   "outputs": [
    {
     "data": {
      "text/plain": [
       "5546"
      ]
     },
     "execution_count": 195,
     "metadata": {},
     "output_type": "execute_result"
    }
   ],
   "source": [
    "df_temp1 = df_restaurants_copy[df_restaurants_copy['region']=='northern'][[\"aggregate_rating\",\"votes\",\"photo_count\"]].copy()\n",
    "df_temp1.duplicated().sum()"
   ]
  },
  {
   "cell_type": "code",
   "execution_count": 196,
   "metadata": {},
   "outputs": [
    {
     "data": {
      "text/plain": [
       "aggregate_rating    0\n",
       "votes               0\n",
       "photo_count         0\n",
       "dtype: int64"
      ]
     },
     "execution_count": 196,
     "metadata": {},
     "output_type": "execute_result"
    }
   ],
   "source": [
    "df_temp1 = df_temp1.drop_duplicates()\n",
    "df_temp1.isna().sum()"
   ]
  },
  {
   "cell_type": "code",
   "execution_count": 197,
   "metadata": {},
   "outputs": [
    {
     "data": {
      "text/html": [
       "<div>\n",
       "<style scoped>\n",
       "    .dataframe tbody tr th:only-of-type {\n",
       "        vertical-align: middle;\n",
       "    }\n",
       "\n",
       "    .dataframe tbody tr th {\n",
       "        vertical-align: top;\n",
       "    }\n",
       "\n",
       "    .dataframe thead th {\n",
       "        text-align: right;\n",
       "    }\n",
       "</style>\n",
       "<table border=\"1\" class=\"dataframe\">\n",
       "  <thead>\n",
       "    <tr style=\"text-align: right;\">\n",
       "      <th></th>\n",
       "      <th>aggregate_rating</th>\n",
       "      <th>votes</th>\n",
       "      <th>photo_count</th>\n",
       "    </tr>\n",
       "  </thead>\n",
       "  <tbody>\n",
       "    <tr>\n",
       "      <td>0</td>\n",
       "      <td>4.4</td>\n",
       "      <td>814</td>\n",
       "      <td>154</td>\n",
       "    </tr>\n",
       "    <tr>\n",
       "      <td>1</td>\n",
       "      <td>4.4</td>\n",
       "      <td>1203</td>\n",
       "      <td>161</td>\n",
       "    </tr>\n",
       "    <tr>\n",
       "      <td>2</td>\n",
       "      <td>4.2</td>\n",
       "      <td>801</td>\n",
       "      <td>107</td>\n",
       "    </tr>\n",
       "    <tr>\n",
       "      <td>3</td>\n",
       "      <td>4.3</td>\n",
       "      <td>693</td>\n",
       "      <td>157</td>\n",
       "    </tr>\n",
       "    <tr>\n",
       "      <td>4</td>\n",
       "      <td>4.9</td>\n",
       "      <td>470</td>\n",
       "      <td>291</td>\n",
       "    </tr>\n",
       "  </tbody>\n",
       "</table>\n",
       "</div>"
      ],
      "text/plain": [
       "   aggregate_rating  votes  photo_count\n",
       "0               4.4    814          154\n",
       "1               4.4   1203          161\n",
       "2               4.2    801          107\n",
       "3               4.3    693          157\n",
       "4               4.9    470          291"
      ]
     },
     "execution_count": 197,
     "metadata": {},
     "output_type": "execute_result"
    }
   ],
   "source": [
    "df_temp1.head()"
   ]
  },
  {
   "cell_type": "code",
   "execution_count": 198,
   "metadata": {},
   "outputs": [
    {
     "data": {
      "text/plain": [
       "votes          0.352192\n",
       "photo_count    0.276261\n",
       "Name: aggregate_rating, dtype: float64"
      ]
     },
     "execution_count": 198,
     "metadata": {},
     "output_type": "execute_result"
    }
   ],
   "source": [
    "df_temp1.corr().iloc[1:,0]"
   ]
  },
  {
   "cell_type": "code",
   "execution_count": 199,
   "metadata": {},
   "outputs": [
    {
     "name": "stdout",
     "output_type": "stream",
     "text": [
      "We need not always delete outliers. Without treating outliers, we see a very small positive correlation between \"votes and aggregate_rating\" and \"photo_count and aggregate_rating\".\n",
      "Clearly, more votes and more photo_count result in less, though a positive impact on aggregate rating.\n",
      "So the answer is, Very likely, yes! Maybe there is an indirect effect working here. Let's understand how this happens, below:\n"
     ]
    }
   ],
   "source": [
    "print('We need not always delete outliers. Without treating outliers, we see a very small positive correlation between \"votes and aggregate_rating\" and \"photo_count and aggregate_rating\".\\nClearly, more votes and more photo_count result in less, though a positive impact on aggregate rating.\\nSo the answer is, Very likely, yes! Maybe there is an indirect effect working here. Let\\'s understand how this happens, below:')"
   ]
  },
  {
   "cell_type": "code",
   "execution_count": 200,
   "metadata": {},
   "outputs": [
    {
     "data": {
      "text/html": [
       "<div>\n",
       "<style scoped>\n",
       "    .dataframe tbody tr th:only-of-type {\n",
       "        vertical-align: middle;\n",
       "    }\n",
       "\n",
       "    .dataframe tbody tr th {\n",
       "        vertical-align: top;\n",
       "    }\n",
       "\n",
       "    .dataframe thead th {\n",
       "        text-align: right;\n",
       "    }\n",
       "</style>\n",
       "<table border=\"1\" class=\"dataframe\">\n",
       "  <thead>\n",
       "    <tr style=\"text-align: right;\">\n",
       "      <th></th>\n",
       "      <th>aggregate_rating</th>\n",
       "      <th>votes</th>\n",
       "    </tr>\n",
       "  </thead>\n",
       "  <tbody>\n",
       "    <tr>\n",
       "      <td>0</td>\n",
       "      <td>4.0</td>\n",
       "      <td>412666</td>\n",
       "    </tr>\n",
       "    <tr>\n",
       "      <td>1</td>\n",
       "      <td>4.1</td>\n",
       "      <td>391902</td>\n",
       "    </tr>\n",
       "    <tr>\n",
       "      <td>2</td>\n",
       "      <td>4.2</td>\n",
       "      <td>374957</td>\n",
       "    </tr>\n",
       "    <tr>\n",
       "      <td>3</td>\n",
       "      <td>4.3</td>\n",
       "      <td>325774</td>\n",
       "    </tr>\n",
       "    <tr>\n",
       "      <td>4</td>\n",
       "      <td>3.9</td>\n",
       "      <td>272988</td>\n",
       "    </tr>\n",
       "    <tr>\n",
       "      <td>5</td>\n",
       "      <td>4.4</td>\n",
       "      <td>232200</td>\n",
       "    </tr>\n",
       "    <tr>\n",
       "      <td>6</td>\n",
       "      <td>4.5</td>\n",
       "      <td>198063</td>\n",
       "    </tr>\n",
       "    <tr>\n",
       "      <td>7</td>\n",
       "      <td>3.8</td>\n",
       "      <td>161589</td>\n",
       "    </tr>\n",
       "    <tr>\n",
       "      <td>8</td>\n",
       "      <td>3.7</td>\n",
       "      <td>103207</td>\n",
       "    </tr>\n",
       "    <tr>\n",
       "      <td>9</td>\n",
       "      <td>4.6</td>\n",
       "      <td>95003</td>\n",
       "    </tr>\n",
       "    <tr>\n",
       "      <td>10</td>\n",
       "      <td>4.7</td>\n",
       "      <td>72327</td>\n",
       "    </tr>\n",
       "    <tr>\n",
       "      <td>11</td>\n",
       "      <td>3.6</td>\n",
       "      <td>67843</td>\n",
       "    </tr>\n",
       "    <tr>\n",
       "      <td>12</td>\n",
       "      <td>4.8</td>\n",
       "      <td>47621</td>\n",
       "    </tr>\n",
       "    <tr>\n",
       "      <td>13</td>\n",
       "      <td>4.9</td>\n",
       "      <td>45065</td>\n",
       "    </tr>\n",
       "    <tr>\n",
       "      <td>14</td>\n",
       "      <td>3.5</td>\n",
       "      <td>40695</td>\n",
       "    </tr>\n",
       "    <tr>\n",
       "      <td>15</td>\n",
       "      <td>3.4</td>\n",
       "      <td>28654</td>\n",
       "    </tr>\n",
       "    <tr>\n",
       "      <td>16</td>\n",
       "      <td>3.3</td>\n",
       "      <td>19344</td>\n",
       "    </tr>\n",
       "    <tr>\n",
       "      <td>17</td>\n",
       "      <td>3.2</td>\n",
       "      <td>10403</td>\n",
       "    </tr>\n",
       "    <tr>\n",
       "      <td>18</td>\n",
       "      <td>3.1</td>\n",
       "      <td>7764</td>\n",
       "    </tr>\n",
       "    <tr>\n",
       "      <td>19</td>\n",
       "      <td>2.8</td>\n",
       "      <td>7752</td>\n",
       "    </tr>\n",
       "    <tr>\n",
       "      <td>20</td>\n",
       "      <td>2.7</td>\n",
       "      <td>7296</td>\n",
       "    </tr>\n",
       "    <tr>\n",
       "      <td>21</td>\n",
       "      <td>3.0</td>\n",
       "      <td>5404</td>\n",
       "    </tr>\n",
       "    <tr>\n",
       "      <td>22</td>\n",
       "      <td>2.6</td>\n",
       "      <td>5295</td>\n",
       "    </tr>\n",
       "    <tr>\n",
       "      <td>23</td>\n",
       "      <td>2.4</td>\n",
       "      <td>4334</td>\n",
       "    </tr>\n",
       "    <tr>\n",
       "      <td>24</td>\n",
       "      <td>2.5</td>\n",
       "      <td>4049</td>\n",
       "    </tr>\n",
       "    <tr>\n",
       "      <td>25</td>\n",
       "      <td>2.9</td>\n",
       "      <td>4018</td>\n",
       "    </tr>\n",
       "    <tr>\n",
       "      <td>26</td>\n",
       "      <td>2.2</td>\n",
       "      <td>3028</td>\n",
       "    </tr>\n",
       "    <tr>\n",
       "      <td>27</td>\n",
       "      <td>2.3</td>\n",
       "      <td>2882</td>\n",
       "    </tr>\n",
       "    <tr>\n",
       "      <td>28</td>\n",
       "      <td>2.0</td>\n",
       "      <td>675</td>\n",
       "    </tr>\n",
       "    <tr>\n",
       "      <td>29</td>\n",
       "      <td>2.1</td>\n",
       "      <td>427</td>\n",
       "    </tr>\n",
       "    <tr>\n",
       "      <td>30</td>\n",
       "      <td>1.9</td>\n",
       "      <td>335</td>\n",
       "    </tr>\n",
       "    <tr>\n",
       "      <td>31</td>\n",
       "      <td>0.0</td>\n",
       "      <td>146</td>\n",
       "    </tr>\n",
       "  </tbody>\n",
       "</table>\n",
       "</div>"
      ],
      "text/plain": [
       "    aggregate_rating   votes\n",
       "0                4.0  412666\n",
       "1                4.1  391902\n",
       "2                4.2  374957\n",
       "3                4.3  325774\n",
       "4                3.9  272988\n",
       "5                4.4  232200\n",
       "6                4.5  198063\n",
       "7                3.8  161589\n",
       "8                3.7  103207\n",
       "9                4.6   95003\n",
       "10               4.7   72327\n",
       "11               3.6   67843\n",
       "12               4.8   47621\n",
       "13               4.9   45065\n",
       "14               3.5   40695\n",
       "15               3.4   28654\n",
       "16               3.3   19344\n",
       "17               3.2   10403\n",
       "18               3.1    7764\n",
       "19               2.8    7752\n",
       "20               2.7    7296\n",
       "21               3.0    5404\n",
       "22               2.6    5295\n",
       "23               2.4    4334\n",
       "24               2.5    4049\n",
       "25               2.9    4018\n",
       "26               2.2    3028\n",
       "27               2.3    2882\n",
       "28               2.0     675\n",
       "29               2.1     427\n",
       "30               1.9     335\n",
       "31               0.0     146"
      ]
     },
     "execution_count": 200,
     "metadata": {},
     "output_type": "execute_result"
    }
   ],
   "source": [
    "df_votes = df_temp1.groupby('aggregate_rating').sum().sort_values(by=\"votes\", ascending=False)['votes'].reset_index()\n",
    "df_votes"
   ]
  },
  {
   "cell_type": "code",
   "execution_count": 201,
   "metadata": {},
   "outputs": [
    {
     "data": {
      "text/html": [
       "<div>\n",
       "<style scoped>\n",
       "    .dataframe tbody tr th:only-of-type {\n",
       "        vertical-align: middle;\n",
       "    }\n",
       "\n",
       "    .dataframe tbody tr th {\n",
       "        vertical-align: top;\n",
       "    }\n",
       "\n",
       "    .dataframe thead th {\n",
       "        text-align: right;\n",
       "    }\n",
       "</style>\n",
       "<table border=\"1\" class=\"dataframe\">\n",
       "  <thead>\n",
       "    <tr style=\"text-align: right;\">\n",
       "      <th></th>\n",
       "      <th>aggregate_rating</th>\n",
       "      <th>photo_count</th>\n",
       "    </tr>\n",
       "  </thead>\n",
       "  <tbody>\n",
       "    <tr>\n",
       "      <td>0</td>\n",
       "      <td>4.2</td>\n",
       "      <td>405282</td>\n",
       "    </tr>\n",
       "    <tr>\n",
       "      <td>1</td>\n",
       "      <td>4.3</td>\n",
       "      <td>351221</td>\n",
       "    </tr>\n",
       "    <tr>\n",
       "      <td>2</td>\n",
       "      <td>4.1</td>\n",
       "      <td>319052</td>\n",
       "    </tr>\n",
       "    <tr>\n",
       "      <td>3</td>\n",
       "      <td>4.0</td>\n",
       "      <td>288244</td>\n",
       "    </tr>\n",
       "    <tr>\n",
       "      <td>4</td>\n",
       "      <td>4.4</td>\n",
       "      <td>229640</td>\n",
       "    </tr>\n",
       "    <tr>\n",
       "      <td>5</td>\n",
       "      <td>4.5</td>\n",
       "      <td>189542</td>\n",
       "    </tr>\n",
       "    <tr>\n",
       "      <td>6</td>\n",
       "      <td>3.9</td>\n",
       "      <td>149479</td>\n",
       "    </tr>\n",
       "    <tr>\n",
       "      <td>7</td>\n",
       "      <td>4.7</td>\n",
       "      <td>107506</td>\n",
       "    </tr>\n",
       "    <tr>\n",
       "      <td>8</td>\n",
       "      <td>4.6</td>\n",
       "      <td>97958</td>\n",
       "    </tr>\n",
       "    <tr>\n",
       "      <td>9</td>\n",
       "      <td>3.8</td>\n",
       "      <td>70916</td>\n",
       "    </tr>\n",
       "    <tr>\n",
       "      <td>10</td>\n",
       "      <td>3.7</td>\n",
       "      <td>42348</td>\n",
       "    </tr>\n",
       "    <tr>\n",
       "      <td>11</td>\n",
       "      <td>4.9</td>\n",
       "      <td>40911</td>\n",
       "    </tr>\n",
       "    <tr>\n",
       "      <td>12</td>\n",
       "      <td>4.8</td>\n",
       "      <td>34573</td>\n",
       "    </tr>\n",
       "    <tr>\n",
       "      <td>13</td>\n",
       "      <td>3.6</td>\n",
       "      <td>24806</td>\n",
       "    </tr>\n",
       "    <tr>\n",
       "      <td>14</td>\n",
       "      <td>3.5</td>\n",
       "      <td>15473</td>\n",
       "    </tr>\n",
       "    <tr>\n",
       "      <td>15</td>\n",
       "      <td>3.4</td>\n",
       "      <td>9951</td>\n",
       "    </tr>\n",
       "    <tr>\n",
       "      <td>16</td>\n",
       "      <td>3.3</td>\n",
       "      <td>7429</td>\n",
       "    </tr>\n",
       "    <tr>\n",
       "      <td>17</td>\n",
       "      <td>3.2</td>\n",
       "      <td>4664</td>\n",
       "    </tr>\n",
       "    <tr>\n",
       "      <td>18</td>\n",
       "      <td>3.1</td>\n",
       "      <td>2440</td>\n",
       "    </tr>\n",
       "    <tr>\n",
       "      <td>19</td>\n",
       "      <td>2.7</td>\n",
       "      <td>2241</td>\n",
       "    </tr>\n",
       "    <tr>\n",
       "      <td>20</td>\n",
       "      <td>2.8</td>\n",
       "      <td>2078</td>\n",
       "    </tr>\n",
       "    <tr>\n",
       "      <td>21</td>\n",
       "      <td>2.9</td>\n",
       "      <td>1853</td>\n",
       "    </tr>\n",
       "    <tr>\n",
       "      <td>22</td>\n",
       "      <td>2.4</td>\n",
       "      <td>1812</td>\n",
       "    </tr>\n",
       "    <tr>\n",
       "      <td>23</td>\n",
       "      <td>2.3</td>\n",
       "      <td>1716</td>\n",
       "    </tr>\n",
       "    <tr>\n",
       "      <td>24</td>\n",
       "      <td>0.0</td>\n",
       "      <td>1711</td>\n",
       "    </tr>\n",
       "    <tr>\n",
       "      <td>25</td>\n",
       "      <td>3.0</td>\n",
       "      <td>1582</td>\n",
       "    </tr>\n",
       "    <tr>\n",
       "      <td>26</td>\n",
       "      <td>2.6</td>\n",
       "      <td>1372</td>\n",
       "    </tr>\n",
       "    <tr>\n",
       "      <td>27</td>\n",
       "      <td>2.5</td>\n",
       "      <td>1312</td>\n",
       "    </tr>\n",
       "    <tr>\n",
       "      <td>28</td>\n",
       "      <td>2.2</td>\n",
       "      <td>915</td>\n",
       "    </tr>\n",
       "    <tr>\n",
       "      <td>29</td>\n",
       "      <td>2.0</td>\n",
       "      <td>220</td>\n",
       "    </tr>\n",
       "    <tr>\n",
       "      <td>30</td>\n",
       "      <td>2.1</td>\n",
       "      <td>150</td>\n",
       "    </tr>\n",
       "    <tr>\n",
       "      <td>31</td>\n",
       "      <td>1.9</td>\n",
       "      <td>84</td>\n",
       "    </tr>\n",
       "  </tbody>\n",
       "</table>\n",
       "</div>"
      ],
      "text/plain": [
       "    aggregate_rating  photo_count\n",
       "0                4.2       405282\n",
       "1                4.3       351221\n",
       "2                4.1       319052\n",
       "3                4.0       288244\n",
       "4                4.4       229640\n",
       "5                4.5       189542\n",
       "6                3.9       149479\n",
       "7                4.7       107506\n",
       "8                4.6        97958\n",
       "9                3.8        70916\n",
       "10               3.7        42348\n",
       "11               4.9        40911\n",
       "12               4.8        34573\n",
       "13               3.6        24806\n",
       "14               3.5        15473\n",
       "15               3.4         9951\n",
       "16               3.3         7429\n",
       "17               3.2         4664\n",
       "18               3.1         2440\n",
       "19               2.7         2241\n",
       "20               2.8         2078\n",
       "21               2.9         1853\n",
       "22               2.4         1812\n",
       "23               2.3         1716\n",
       "24               0.0         1711\n",
       "25               3.0         1582\n",
       "26               2.6         1372\n",
       "27               2.5         1312\n",
       "28               2.2          915\n",
       "29               2.0          220\n",
       "30               2.1          150\n",
       "31               1.9           84"
      ]
     },
     "execution_count": 201,
     "metadata": {},
     "output_type": "execute_result"
    }
   ],
   "source": [
    "df_photo = df_temp1.groupby('aggregate_rating').sum().sort_values(by=\"photo_count\", ascending=False)['photo_count'].reset_index()\n",
    "df_photo"
   ]
  },
  {
   "cell_type": "markdown",
   "metadata": {},
   "source": [
    "- Plot a boxplots for the above table"
   ]
  },
  {
   "cell_type": "code",
   "execution_count": 202,
   "metadata": {},
   "outputs": [
    {
     "name": "stdout",
     "output_type": "stream",
     "text": [
      "Categorical distribution plot between aggregate_rating and votes: \n"
     ]
    },
    {
     "data": {
      "image/png": "[encoded data removed]",
      "text/plain": [
       "<Figure size 720x360 with 1 Axes>"
      ]
     },
     "metadata": {
      "needs_background": "light"
     },
     "output_type": "display_data"
    }
   ],
   "source": [
    "print(\"Categorical distribution plot between aggregate_rating and votes: \")\n",
    "fig, ax = plt.subplots(figsize=(10,5))\n",
    "ax = sns.barplot(y=\"votes\", x=\"aggregate_rating\", data=df_votes)"
   ]
  },
  {
   "cell_type": "code",
   "execution_count": 203,
   "metadata": {},
   "outputs": [
    {
     "name": "stdout",
     "output_type": "stream",
     "text": [
      "So,it is clear that maximum number of votes are for ratings between 3.7 and 4.6\n"
     ]
    }
   ],
   "source": [
    "print('So,it is clear that maximum number of votes are for ratings between 3.7 and 4.6')"
   ]
  },
  {
   "cell_type": "code",
   "execution_count": 204,
   "metadata": {},
   "outputs": [
    {
     "name": "stdout",
     "output_type": "stream",
     "text": [
      "Categorical distribution plot between aggregate_rating and photo_count: \n"
     ]
    },
    {
     "data": {
      "image/png": "[encoded data removed]",
      "text/plain": [
       "<Figure size 720x360 with 1 Axes>"
      ]
     },
     "metadata": {
      "needs_background": "light"
     },
     "output_type": "display_data"
    }
   ],
   "source": [
    "print(\"Categorical distribution plot between aggregate_rating and photo_count: \")\n",
    "fig, ax = plt.subplots(figsize=(10,5))\n",
    "ax = sns.barplot(y=\"photo_count\", x=\"aggregate_rating\", data=df_photo)"
   ]
  },
  {
   "cell_type": "code",
   "execution_count": 205,
   "metadata": {},
   "outputs": [
    {
     "name": "stdout",
     "output_type": "stream",
     "text": [
      "Almost same trend also holds true here. So, maximum photo count is for ratings between 3.9 and 4.5\n"
     ]
    }
   ],
   "source": [
    "print('Almost same trend also holds true here. So, maximum photo count is for ratings between 3.9 and 4.5')"
   ]
  },
  {
   "cell_type": "code",
   "execution_count": 206,
   "metadata": {},
   "outputs": [
    {
     "name": "stdout",
     "output_type": "stream",
     "text": [
      "Now let's draw boxplot for each variable:\n"
     ]
    }
   ],
   "source": [
    "print('Now let\\'s draw boxplot for each variable:')"
   ]
  },
  {
   "cell_type": "code",
   "execution_count": 207,
   "metadata": {},
   "outputs": [
    {
     "data": {
      "text/plain": [
       "<matplotlib.axes._subplots.AxesSubplot at 0x3a02def0c8>"
      ]
     },
     "execution_count": 207,
     "metadata": {},
     "output_type": "execute_result"
    },
    {
     "data": {
      "image/png": "[encoded data removed]",
      "text/plain": [
       "<Figure size 504x216 with 1 Axes>"
      ]
     },
     "metadata": {
      "needs_background": "light"
     },
     "output_type": "display_data"
    }
   ],
   "source": [
    "fig, ax = plt.subplots(figsize=(7,3))\n",
    "sns.boxplot(x=df_temp1['aggregate_rating'])"
   ]
  },
  {
   "cell_type": "code",
   "execution_count": 208,
   "metadata": {},
   "outputs": [
    {
     "data": {
      "text/plain": [
       "<matplotlib.axes._subplots.AxesSubplot at 0x3a7a2a73c8>"
      ]
     },
     "execution_count": 208,
     "metadata": {},
     "output_type": "execute_result"
    },
    {
     "data": {
      "image/png": "[encoded data removed]",
      "text/plain": [
       "<Figure size 1080x144 with 1 Axes>"
      ]
     },
     "metadata": {
      "needs_background": "light"
     },
     "output_type": "display_data"
    }
   ],
   "source": [
    "fig, ax = plt.subplots(figsize=(15,2))\n",
    "sns.boxplot(x=df_temp1['votes'])"
   ]
  },
  {
   "cell_type": "code",
   "execution_count": 209,
   "metadata": {},
   "outputs": [
    {
     "data": {
      "text/plain": [
       "<matplotlib.axes._subplots.AxesSubplot at 0x3a02c65a08>"
      ]
     },
     "execution_count": 209,
     "metadata": {},
     "output_type": "execute_result"
    },
    {
     "data": {
      "image/png": "[encoded data removed]",
      "text/plain": [
       "<Figure size 1080x144 with 1 Axes>"
      ]
     },
     "metadata": {
      "needs_background": "light"
     },
     "output_type": "display_data"
    }
   ],
   "source": [
    "fig, ax = plt.subplots(figsize=(15,2))\n",
    "sns.boxplot(x=df_temp1['photo_count'])"
   ]
  },
  {
   "cell_type": "markdown",
   "metadata": {},
   "source": [
    "### 4. The Mumbai city"
   ]
  },
  {
   "cell_type": "markdown",
   "metadata": {},
   "source": [
    "consider the city mumbai and get a better insights of restuarants in Mumbai."
   ]
  },
  {
   "cell_type": "code",
   "execution_count": 210,
   "metadata": {},
   "outputs": [
    {
     "data": {
      "text/html": [
       "<div>\n",
       "<style scoped>\n",
       "    .dataframe tbody tr th:only-of-type {\n",
       "        vertical-align: middle;\n",
       "    }\n",
       "\n",
       "    .dataframe tbody tr th {\n",
       "        vertical-align: top;\n",
       "    }\n",
       "\n",
       "    .dataframe thead th {\n",
       "        text-align: right;\n",
       "    }\n",
       "</style>\n",
       "<table border=\"1\" class=\"dataframe\">\n",
       "  <thead>\n",
       "    <tr style=\"text-align: right;\">\n",
       "      <th></th>\n",
       "      <th>name</th>\n",
       "      <th>establishment</th>\n",
       "      <th>url</th>\n",
       "      <th>address</th>\n",
       "      <th>city</th>\n",
       "      <th>city_id</th>\n",
       "      <th>locality</th>\n",
       "      <th>latitude</th>\n",
       "      <th>longitude</th>\n",
       "      <th>zipcode</th>\n",
       "      <th>...</th>\n",
       "      <th>average_cost_for_two</th>\n",
       "      <th>price_range</th>\n",
       "      <th>highlights</th>\n",
       "      <th>aggregate_rating</th>\n",
       "      <th>votes</th>\n",
       "      <th>photo_count</th>\n",
       "      <th>opentable_support</th>\n",
       "      <th>delivery</th>\n",
       "      <th>new_ratings</th>\n",
       "      <th>region</th>\n",
       "    </tr>\n",
       "  </thead>\n",
       "  <tbody>\n",
       "    <tr>\n",
       "      <td>134852</td>\n",
       "      <td>Drinkery 51</td>\n",
       "      <td>Casual Dining</td>\n",
       "      <td>https://www.zomato.com/mumbai/drinkery-51-band...</td>\n",
       "      <td>1st Floor, Vibgyor Towers, Bandra Kurla Comple...</td>\n",
       "      <td>Mumbai</td>\n",
       "      <td>3</td>\n",
       "      <td>Bandra Kurla Complex</td>\n",
       "      <td>19.067176</td>\n",
       "      <td>72.867493</td>\n",
       "      <td>400051</td>\n",
       "      <td>...</td>\n",
       "      <td>2000</td>\n",
       "      <td>4</td>\n",
       "      <td>Dinner, Debit Card, Lunch, Serves Alcohol, Cas...</td>\n",
       "      <td>4.4</td>\n",
       "      <td>3796</td>\n",
       "      <td>1897</td>\n",
       "      <td>0.0</td>\n",
       "      <td>1</td>\n",
       "      <td>Very Good</td>\n",
       "      <td>western</td>\n",
       "    </tr>\n",
       "    <tr>\n",
       "      <td>134853</td>\n",
       "      <td>Joeys Pizza</td>\n",
       "      <td>Quick Bites</td>\n",
       "      <td>https://www.zomato.com/mumbai/joeys-pizza-mala...</td>\n",
       "      <td>Shop 1, Plot D, Samruddhi Complex, Chincholi B...</td>\n",
       "      <td>Mumbai</td>\n",
       "      <td>3</td>\n",
       "      <td>Malad West</td>\n",
       "      <td>19.178188</td>\n",
       "      <td>72.834666</td>\n",
       "      <td>0</td>\n",
       "      <td>...</td>\n",
       "      <td>800</td>\n",
       "      <td>2</td>\n",
       "      <td>Lunch, Cash, Takeaway Available, Debit Card, D...</td>\n",
       "      <td>4.5</td>\n",
       "      <td>7932</td>\n",
       "      <td>4960</td>\n",
       "      <td>0.0</td>\n",
       "      <td>-1</td>\n",
       "      <td>Excellent</td>\n",
       "      <td>western</td>\n",
       "    </tr>\n",
       "  </tbody>\n",
       "</table>\n",
       "<p>2 rows × 22 columns</p>\n",
       "</div>"
      ],
      "text/plain": [
       "               name  establishment  \\\n",
       "134852  Drinkery 51  Casual Dining   \n",
       "134853  Joeys Pizza    Quick Bites   \n",
       "\n",
       "                                                      url  \\\n",
       "134852  https://www.zomato.com/mumbai/drinkery-51-band...   \n",
       "134853  https://www.zomato.com/mumbai/joeys-pizza-mala...   \n",
       "\n",
       "                                                  address    city  city_id  \\\n",
       "134852  1st Floor, Vibgyor Towers, Bandra Kurla Comple...  Mumbai        3   \n",
       "134853  Shop 1, Plot D, Samruddhi Complex, Chincholi B...  Mumbai        3   \n",
       "\n",
       "                    locality   latitude  longitude zipcode  ...  \\\n",
       "134852  Bandra Kurla Complex  19.067176  72.867493  400051  ...   \n",
       "134853            Malad West  19.178188  72.834666       0  ...   \n",
       "\n",
       "       average_cost_for_two price_range  \\\n",
       "134852                 2000           4   \n",
       "134853                  800           2   \n",
       "\n",
       "                                               highlights  aggregate_rating  \\\n",
       "134852  Dinner, Debit Card, Lunch, Serves Alcohol, Cas...               4.4   \n",
       "134853  Lunch, Cash, Takeaway Available, Debit Card, D...               4.5   \n",
       "\n",
       "       votes  photo_count  opentable_support  delivery  new_ratings   region  \n",
       "134852  3796         1897                0.0         1    Very Good  western  \n",
       "134853  7932         4960                0.0        -1    Excellent  western  \n",
       "\n",
       "[2 rows x 22 columns]"
      ]
     },
     "execution_count": 210,
     "metadata": {},
     "output_type": "execute_result"
    }
   ],
   "source": [
    "df_mumbai = df_restaurants_copy[df_restaurants_copy['city']=='Mumbai'].drop_duplicates(keep=\"first\").copy()\n",
    "df_mumbai.head(2)"
   ]
  },
  {
   "cell_type": "markdown",
   "metadata": {},
   "source": [
    "**1. Expensive restaurants in Mumbai**\n",
    "\n",
    "-  Define the costliest restaurants whose average cost of two people exceeds Rs.5000 .\n",
    "-  Plot the restaurants which are costliest based on their average cost for two .\n",
    "\n",
    "\n"
   ]
  },
  {
   "cell_type": "code",
   "execution_count": 211,
   "metadata": {},
   "outputs": [
    {
     "data": {
      "text/html": [
       "<div>\n",
       "<style scoped>\n",
       "    .dataframe tbody tr th:only-of-type {\n",
       "        vertical-align: middle;\n",
       "    }\n",
       "\n",
       "    .dataframe tbody tr th {\n",
       "        vertical-align: top;\n",
       "    }\n",
       "\n",
       "    .dataframe thead th {\n",
       "        text-align: right;\n",
       "    }\n",
       "</style>\n",
       "<table border=\"1\" class=\"dataframe\">\n",
       "  <thead>\n",
       "    <tr style=\"text-align: right;\">\n",
       "      <th></th>\n",
       "      <th>index</th>\n",
       "      <th>name</th>\n",
       "      <th>establishment</th>\n",
       "      <th>url</th>\n",
       "      <th>address</th>\n",
       "      <th>city</th>\n",
       "      <th>city_id</th>\n",
       "      <th>locality</th>\n",
       "      <th>latitude</th>\n",
       "      <th>longitude</th>\n",
       "      <th>...</th>\n",
       "      <th>average_cost_for_two</th>\n",
       "      <th>price_range</th>\n",
       "      <th>highlights</th>\n",
       "      <th>aggregate_rating</th>\n",
       "      <th>votes</th>\n",
       "      <th>photo_count</th>\n",
       "      <th>opentable_support</th>\n",
       "      <th>delivery</th>\n",
       "      <th>new_ratings</th>\n",
       "      <th>region</th>\n",
       "    </tr>\n",
       "  </thead>\n",
       "  <tbody>\n",
       "    <tr>\n",
       "      <td>0</td>\n",
       "      <td>136240</td>\n",
       "      <td>Ocean - The Private Dining Room - Sahara Star</td>\n",
       "      <td>Fine Dining</td>\n",
       "      <td>https://www.zomato.com/mumbai/ocean-the-privat...</td>\n",
       "      <td>Hotel Sahara Star, Opposite Domestic Airport, ...</td>\n",
       "      <td>Mumbai</td>\n",
       "      <td>3</td>\n",
       "      <td>Sahara Star, Vile Parle East</td>\n",
       "      <td>19.094752</td>\n",
       "      <td>72.854226</td>\n",
       "      <td>...</td>\n",
       "      <td>30000</td>\n",
       "      <td>4</td>\n",
       "      <td>Dinner, Serves Alcohol, Debit Card, Cash, Cred...</td>\n",
       "      <td>3.6</td>\n",
       "      <td>91</td>\n",
       "      <td>31</td>\n",
       "      <td>0.0</td>\n",
       "      <td>-1</td>\n",
       "      <td>Good</td>\n",
       "      <td>western</td>\n",
       "    </tr>\n",
       "    <tr>\n",
       "      <td>1</td>\n",
       "      <td>135918</td>\n",
       "      <td>Wasabi By Morimoto - The Taj Mahal Palace</td>\n",
       "      <td>Fine Dining</td>\n",
       "      <td>https://www.zomato.com/mumbai/wasabi-by-morimo...</td>\n",
       "      <td>The Taj Mahal Palace &amp; Tower, Apollo Bunder, C...</td>\n",
       "      <td>Mumbai</td>\n",
       "      <td>3</td>\n",
       "      <td>The Taj Mahal Palace, Colaba</td>\n",
       "      <td>18.922140</td>\n",
       "      <td>72.833756</td>\n",
       "      <td>...</td>\n",
       "      <td>10000</td>\n",
       "      <td>4</td>\n",
       "      <td>Dinner, Cash, Credit Card, Lunch, Debit Card, ...</td>\n",
       "      <td>4.3</td>\n",
       "      <td>616</td>\n",
       "      <td>634</td>\n",
       "      <td>0.0</td>\n",
       "      <td>-1</td>\n",
       "      <td>Very Good</td>\n",
       "      <td>western</td>\n",
       "    </tr>\n",
       "  </tbody>\n",
       "</table>\n",
       "<p>2 rows × 23 columns</p>\n",
       "</div>"
      ],
      "text/plain": [
       "    index                                           name establishment  \\\n",
       "0  136240  Ocean - The Private Dining Room - Sahara Star   Fine Dining   \n",
       "1  135918      Wasabi By Morimoto - The Taj Mahal Palace   Fine Dining   \n",
       "\n",
       "                                                 url  \\\n",
       "0  https://www.zomato.com/mumbai/ocean-the-privat...   \n",
       "1  https://www.zomato.com/mumbai/wasabi-by-morimo...   \n",
       "\n",
       "                                             address    city  city_id  \\\n",
       "0  Hotel Sahara Star, Opposite Domestic Airport, ...  Mumbai        3   \n",
       "1  The Taj Mahal Palace & Tower, Apollo Bunder, C...  Mumbai        3   \n",
       "\n",
       "                       locality   latitude  longitude  ...  \\\n",
       "0  Sahara Star, Vile Parle East  19.094752  72.854226  ...   \n",
       "1  The Taj Mahal Palace, Colaba  18.922140  72.833756  ...   \n",
       "\n",
       "  average_cost_for_two price_range  \\\n",
       "0                30000           4   \n",
       "1                10000           4   \n",
       "\n",
       "                                          highlights  aggregate_rating  votes  \\\n",
       "0  Dinner, Serves Alcohol, Debit Card, Cash, Cred...               3.6     91   \n",
       "1  Dinner, Cash, Credit Card, Lunch, Debit Card, ...               4.3    616   \n",
       "\n",
       "  photo_count  opentable_support  delivery  new_ratings   region  \n",
       "0          31                0.0        -1         Good  western  \n",
       "1         634                0.0        -1    Very Good  western  \n",
       "\n",
       "[2 rows x 23 columns]"
      ]
     },
     "execution_count": 211,
     "metadata": {},
     "output_type": "execute_result"
    }
   ],
   "source": [
    "df_m_expensive = df_mumbai[df_mumbai['average_cost_for_two']>5000].sort_values(by=\"average_cost_for_two\", ascending=False).reset_index()\n",
    "df_m_expensive.head(2)"
   ]
  },
  {
   "cell_type": "code",
   "execution_count": 212,
   "metadata": {},
   "outputs": [
    {
     "data": {
      "image/png": "[encoded data removed]",
      "text/plain": [
       "<Figure size 432x360 with 1 Axes>"
      ]
     },
     "metadata": {
      "needs_background": "light"
     },
     "output_type": "display_data"
    }
   ],
   "source": [
    "fig, ax = plt.subplots(figsize=(6,5))\n",
    "ax = sns.barplot(y=\"name\", x=\"average_cost_for_two\", data=df_m_expensive)"
   ]
  },
  {
   "cell_type": "markdown",
   "metadata": {},
   "source": [
    "**2.To find the top 20 cuisines of Mumbai**"
   ]
  },
  {
   "cell_type": "markdown",
   "metadata": {},
   "source": [
    "- select unique cuisines available at restaurants in Mumbai\n",
    "\n",
    "\n",
    "- sort cuisines based on frequency\n"
   ]
  },
  {
   "cell_type": "code",
   "execution_count": 213,
   "metadata": {},
   "outputs": [
    {
     "name": "stdout",
     "output_type": "stream",
     "text": [
      "            cuisines  frequency\n",
      "0       North Indian        765\n",
      "1          Fast Food        564\n",
      "2            Chinese        561\n",
      "3           Desserts        532\n",
      "4            Italian        403\n",
      "..               ...        ...\n",
      "87     Frozen Yogurt          2\n",
      "88          Assamese          1\n",
      "89         Cafe Food          1\n",
      "90  Charcoal Chicken          1\n",
      "91            German          1\n",
      "\n",
      "[92 rows x 2 columns]\n"
     ]
    }
   ],
   "source": [
    "print(cuisines_freq2(df_mumbai['cuisines']))"
   ]
  },
  {
   "cell_type": "markdown",
   "metadata": {},
   "source": [
    "**3. To find the popular localities in Mumbai**"
   ]
  },
  {
   "cell_type": "code",
   "execution_count": 214,
   "metadata": {},
   "outputs": [
    {
     "data": {
      "text/html": [
       "<div>\n",
       "<style scoped>\n",
       "    .dataframe tbody tr th:only-of-type {\n",
       "        vertical-align: middle;\n",
       "    }\n",
       "\n",
       "    .dataframe tbody tr th {\n",
       "        vertical-align: top;\n",
       "    }\n",
       "\n",
       "    .dataframe thead th {\n",
       "        text-align: right;\n",
       "    }\n",
       "</style>\n",
       "<table border=\"1\" class=\"dataframe\">\n",
       "  <thead>\n",
       "    <tr style=\"text-align: right;\">\n",
       "      <th></th>\n",
       "      <th>locality</th>\n",
       "      <th>votes</th>\n",
       "    </tr>\n",
       "  </thead>\n",
       "  <tbody>\n",
       "    <tr>\n",
       "      <td>0</td>\n",
       "      <td>Powai</td>\n",
       "      <td>168364</td>\n",
       "    </tr>\n",
       "    <tr>\n",
       "      <td>1</td>\n",
       "      <td>Colaba</td>\n",
       "      <td>115597</td>\n",
       "    </tr>\n",
       "    <tr>\n",
       "      <td>2</td>\n",
       "      <td>Andheri Lokhandwala, Andheri West</td>\n",
       "      <td>102560</td>\n",
       "    </tr>\n",
       "    <tr>\n",
       "      <td>3</td>\n",
       "      <td>Pali Hill, Bandra West</td>\n",
       "      <td>92642</td>\n",
       "    </tr>\n",
       "    <tr>\n",
       "      <td>4</td>\n",
       "      <td>Bandra Kurla Complex</td>\n",
       "      <td>81467</td>\n",
       "    </tr>\n",
       "    <tr>\n",
       "      <td>5</td>\n",
       "      <td>Juhu</td>\n",
       "      <td>80456</td>\n",
       "    </tr>\n",
       "    <tr>\n",
       "      <td>6</td>\n",
       "      <td>Fort</td>\n",
       "      <td>75337</td>\n",
       "    </tr>\n",
       "    <tr>\n",
       "      <td>7</td>\n",
       "      <td>Lower Parel</td>\n",
       "      <td>73461</td>\n",
       "    </tr>\n",
       "    <tr>\n",
       "      <td>8</td>\n",
       "      <td>Malad West</td>\n",
       "      <td>69493</td>\n",
       "    </tr>\n",
       "    <tr>\n",
       "      <td>9</td>\n",
       "      <td>Linking Road, Bandra West</td>\n",
       "      <td>67657</td>\n",
       "    </tr>\n",
       "  </tbody>\n",
       "</table>\n",
       "</div>"
      ],
      "text/plain": [
       "                            locality   votes\n",
       "0                              Powai  168364\n",
       "1                             Colaba  115597\n",
       "2  Andheri Lokhandwala, Andheri West  102560\n",
       "3             Pali Hill, Bandra West   92642\n",
       "4               Bandra Kurla Complex   81467\n",
       "5                               Juhu   80456\n",
       "6                               Fort   75337\n",
       "7                        Lower Parel   73461\n",
       "8                         Malad West   69493\n",
       "9          Linking Road, Bandra West   67657"
      ]
     },
     "execution_count": 214,
     "metadata": {},
     "output_type": "execute_result"
    }
   ],
   "source": [
    "df_popular = df_mumbai.groupby('locality')['votes'].sum().sort_values(ascending=False).reset_index().head(10)\n",
    "df_popular"
   ]
  },
  {
   "cell_type": "code",
   "execution_count": 215,
   "metadata": {},
   "outputs": [
    {
     "data": {
      "image/png": "[encoded data removed]",
      "text/plain": [
       "<Figure size 432x360 with 1 Axes>"
      ]
     },
     "metadata": {
      "needs_background": "light"
     },
     "output_type": "display_data"
    }
   ],
   "source": [
    "fig, ax = plt.subplots(figsize=(6,5))\n",
    "ax = sns.barplot(y=\"locality\", x=\"votes\", data=df_popular)"
   ]
  },
  {
   "cell_type": "markdown",
   "metadata": {},
   "source": [
    "**4. Check for relationship between 'aggregate_rating' and 'average_cost_for_two'**"
   ]
  },
  {
   "cell_type": "code",
   "execution_count": 216,
   "metadata": {},
   "outputs": [
    {
     "data": {
      "text/plain": [
       "0.2526206137233988"
      ]
     },
     "execution_count": 216,
     "metadata": {},
     "output_type": "execute_result"
    }
   ],
   "source": [
    "df_mumbai[['aggregate_rating','average_cost_for_two']].corr().iloc[0,1]"
   ]
  },
  {
   "cell_type": "code",
   "execution_count": 217,
   "metadata": {},
   "outputs": [
    {
     "name": "stdout",
     "output_type": "stream",
     "text": [
      "Weak Positive Correlation exists between the two as shown below:\n"
     ]
    }
   ],
   "source": [
    "print('Weak Positive Correlation exists between the two as shown below:')"
   ]
  },
  {
   "cell_type": "code",
   "execution_count": 218,
   "metadata": {},
   "outputs": [
    {
     "data": {
      "text/html": [
       "<div>\n",
       "<style scoped>\n",
       "    .dataframe tbody tr th:only-of-type {\n",
       "        vertical-align: middle;\n",
       "    }\n",
       "\n",
       "    .dataframe tbody tr th {\n",
       "        vertical-align: top;\n",
       "    }\n",
       "\n",
       "    .dataframe thead th {\n",
       "        text-align: right;\n",
       "    }\n",
       "</style>\n",
       "<table border=\"1\" class=\"dataframe\">\n",
       "  <thead>\n",
       "    <tr style=\"text-align: right;\">\n",
       "      <th></th>\n",
       "      <th>aggregate_rating</th>\n",
       "      <th>average_cost_for_two</th>\n",
       "    </tr>\n",
       "  </thead>\n",
       "  <tbody>\n",
       "    <tr>\n",
       "      <td>0</td>\n",
       "      <td>4.2</td>\n",
       "      <td>346050</td>\n",
       "    </tr>\n",
       "    <tr>\n",
       "      <td>1</td>\n",
       "      <td>4.1</td>\n",
       "      <td>332250</td>\n",
       "    </tr>\n",
       "    <tr>\n",
       "      <td>2</td>\n",
       "      <td>4.0</td>\n",
       "      <td>314600</td>\n",
       "    </tr>\n",
       "    <tr>\n",
       "      <td>3</td>\n",
       "      <td>4.3</td>\n",
       "      <td>275950</td>\n",
       "    </tr>\n",
       "    <tr>\n",
       "      <td>4</td>\n",
       "      <td>3.9</td>\n",
       "      <td>249050</td>\n",
       "    </tr>\n",
       "    <tr>\n",
       "      <td>5</td>\n",
       "      <td>3.8</td>\n",
       "      <td>189150</td>\n",
       "    </tr>\n",
       "    <tr>\n",
       "      <td>6</td>\n",
       "      <td>4.4</td>\n",
       "      <td>187350</td>\n",
       "    </tr>\n",
       "    <tr>\n",
       "      <td>7</td>\n",
       "      <td>4.5</td>\n",
       "      <td>152300</td>\n",
       "    </tr>\n",
       "    <tr>\n",
       "      <td>8</td>\n",
       "      <td>3.6</td>\n",
       "      <td>103900</td>\n",
       "    </tr>\n",
       "    <tr>\n",
       "      <td>9</td>\n",
       "      <td>4.6</td>\n",
       "      <td>95150</td>\n",
       "    </tr>\n",
       "    <tr>\n",
       "      <td>10</td>\n",
       "      <td>3.7</td>\n",
       "      <td>94900</td>\n",
       "    </tr>\n",
       "    <tr>\n",
       "      <td>11</td>\n",
       "      <td>4.7</td>\n",
       "      <td>76600</td>\n",
       "    </tr>\n",
       "    <tr>\n",
       "      <td>12</td>\n",
       "      <td>4.9</td>\n",
       "      <td>44000</td>\n",
       "    </tr>\n",
       "    <tr>\n",
       "      <td>13</td>\n",
       "      <td>4.8</td>\n",
       "      <td>37600</td>\n",
       "    </tr>\n",
       "    <tr>\n",
       "      <td>14</td>\n",
       "      <td>3.5</td>\n",
       "      <td>30250</td>\n",
       "    </tr>\n",
       "    <tr>\n",
       "      <td>15</td>\n",
       "      <td>0.0</td>\n",
       "      <td>26500</td>\n",
       "    </tr>\n",
       "    <tr>\n",
       "      <td>16</td>\n",
       "      <td>3.4</td>\n",
       "      <td>18700</td>\n",
       "    </tr>\n",
       "    <tr>\n",
       "      <td>17</td>\n",
       "      <td>2.4</td>\n",
       "      <td>17600</td>\n",
       "    </tr>\n",
       "    <tr>\n",
       "      <td>18</td>\n",
       "      <td>3.0</td>\n",
       "      <td>15000</td>\n",
       "    </tr>\n",
       "    <tr>\n",
       "      <td>19</td>\n",
       "      <td>3.3</td>\n",
       "      <td>14250</td>\n",
       "    </tr>\n",
       "    <tr>\n",
       "      <td>20</td>\n",
       "      <td>2.3</td>\n",
       "      <td>10650</td>\n",
       "    </tr>\n",
       "    <tr>\n",
       "      <td>21</td>\n",
       "      <td>2.5</td>\n",
       "      <td>8950</td>\n",
       "    </tr>\n",
       "    <tr>\n",
       "      <td>22</td>\n",
       "      <td>3.2</td>\n",
       "      <td>8900</td>\n",
       "    </tr>\n",
       "    <tr>\n",
       "      <td>23</td>\n",
       "      <td>3.1</td>\n",
       "      <td>8300</td>\n",
       "    </tr>\n",
       "    <tr>\n",
       "      <td>24</td>\n",
       "      <td>2.9</td>\n",
       "      <td>7150</td>\n",
       "    </tr>\n",
       "    <tr>\n",
       "      <td>25</td>\n",
       "      <td>2.8</td>\n",
       "      <td>5500</td>\n",
       "    </tr>\n",
       "    <tr>\n",
       "      <td>26</td>\n",
       "      <td>2.2</td>\n",
       "      <td>5400</td>\n",
       "    </tr>\n",
       "    <tr>\n",
       "      <td>27</td>\n",
       "      <td>2.7</td>\n",
       "      <td>2800</td>\n",
       "    </tr>\n",
       "    <tr>\n",
       "      <td>28</td>\n",
       "      <td>1.9</td>\n",
       "      <td>2000</td>\n",
       "    </tr>\n",
       "    <tr>\n",
       "      <td>29</td>\n",
       "      <td>2.6</td>\n",
       "      <td>1900</td>\n",
       "    </tr>\n",
       "    <tr>\n",
       "      <td>30</td>\n",
       "      <td>2.1</td>\n",
       "      <td>1550</td>\n",
       "    </tr>\n",
       "    <tr>\n",
       "      <td>31</td>\n",
       "      <td>2.0</td>\n",
       "      <td>1250</td>\n",
       "    </tr>\n",
       "    <tr>\n",
       "      <td>32</td>\n",
       "      <td>1.8</td>\n",
       "      <td>550</td>\n",
       "    </tr>\n",
       "  </tbody>\n",
       "</table>\n",
       "</div>"
      ],
      "text/plain": [
       "    aggregate_rating  average_cost_for_two\n",
       "0                4.2                346050\n",
       "1                4.1                332250\n",
       "2                4.0                314600\n",
       "3                4.3                275950\n",
       "4                3.9                249050\n",
       "5                3.8                189150\n",
       "6                4.4                187350\n",
       "7                4.5                152300\n",
       "8                3.6                103900\n",
       "9                4.6                 95150\n",
       "10               3.7                 94900\n",
       "11               4.7                 76600\n",
       "12               4.9                 44000\n",
       "13               4.8                 37600\n",
       "14               3.5                 30250\n",
       "15               0.0                 26500\n",
       "16               3.4                 18700\n",
       "17               2.4                 17600\n",
       "18               3.0                 15000\n",
       "19               3.3                 14250\n",
       "20               2.3                 10650\n",
       "21               2.5                  8950\n",
       "22               3.2                  8900\n",
       "23               3.1                  8300\n",
       "24               2.9                  7150\n",
       "25               2.8                  5500\n",
       "26               2.2                  5400\n",
       "27               2.7                  2800\n",
       "28               1.9                  2000\n",
       "29               2.6                  1900\n",
       "30               2.1                  1550\n",
       "31               2.0                  1250\n",
       "32               1.8                   550"
      ]
     },
     "execution_count": 218,
     "metadata": {},
     "output_type": "execute_result"
    }
   ],
   "source": [
    "df_mumbai_agg = df_mumbai.groupby('aggregate_rating').sum().sort_values(by=\"average_cost_for_two\", ascending=False)['average_cost_for_two'].reset_index()\n",
    "df_mumbai_agg "
   ]
  },
  {
   "cell_type": "code",
   "execution_count": 219,
   "metadata": {},
   "outputs": [
    {
     "data": {
      "image/png": "[encoded data removed]",
      "text/plain": [
       "<Figure size 720x360 with 1 Axes>"
      ]
     },
     "metadata": {
      "needs_background": "light"
     },
     "output_type": "display_data"
    }
   ],
   "source": [
    "fig, ax = plt.subplots(figsize=(10,5))\n",
    "ax = sns.barplot(y=\"average_cost_for_two\", x=\"aggregate_rating\", data=df_mumbai_agg)"
   ]
  },
  {
   "cell_type": "markdown",
   "metadata": {},
   "source": [
    "**5. Multiple box plot for photo_counts based on establishment type.**\n",
    "\n"
   ]
  },
  {
   "cell_type": "code",
   "execution_count": 220,
   "metadata": {},
   "outputs": [
    {
     "data": {
      "image/png": "[encoded data removed]",
      "text/plain": [
       "<Figure size 720x1080 with 1 Axes>"
      ]
     },
     "metadata": {
      "needs_background": "light"
     },
     "output_type": "display_data"
    }
   ],
   "source": [
    "fig, ax = plt.subplots(figsize=(10,15))\n",
    "ax = sns.boxplot(x=\"photo_count\", y=\"establishment\", data=df_mumbai)"
   ]
  },
  {
   "cell_type": "markdown",
   "metadata": {},
   "source": [
    "**6. Check for payments method offered in restaurants**"
   ]
  },
  {
   "cell_type": "code",
   "execution_count": 221,
   "metadata": {},
   "outputs": [],
   "source": [
    "payments = ['Cash','Debit Card','Credit Card','Digital Payments Accepted', 'Alipay Accepted']\n",
    "def get_payment_method(x):\n",
    "    val=\"\"\n",
    "    x=x.split(\", \")\n",
    "    for var in x:\n",
    "        if var in payments:\n",
    "            val = val + \", \" + var\n",
    "        else: \n",
    "            continue\n",
    "    if val==\"\":\n",
    "        return val\n",
    "    else: \n",
    "        return val[2:]"
   ]
  },
  {
   "cell_type": "code",
   "execution_count": 222,
   "metadata": {},
   "outputs": [
    {
     "data": {
      "text/html": [
       "<div>\n",
       "<style scoped>\n",
       "    .dataframe tbody tr th:only-of-type {\n",
       "        vertical-align: middle;\n",
       "    }\n",
       "\n",
       "    .dataframe tbody tr th {\n",
       "        vertical-align: top;\n",
       "    }\n",
       "\n",
       "    .dataframe thead th {\n",
       "        text-align: right;\n",
       "    }\n",
       "</style>\n",
       "<table border=\"1\" class=\"dataframe\">\n",
       "  <thead>\n",
       "    <tr style=\"text-align: right;\">\n",
       "      <th></th>\n",
       "      <th>restaurant</th>\n",
       "      <th>payment methods</th>\n",
       "      <th>latitude</th>\n",
       "      <th>longitude</th>\n",
       "    </tr>\n",
       "  </thead>\n",
       "  <tbody>\n",
       "    <tr>\n",
       "      <td>134852</td>\n",
       "      <td>Drinkery 51</td>\n",
       "      <td>Debit Card, Cash, Credit Card</td>\n",
       "      <td>19.067176</td>\n",
       "      <td>72.867493</td>\n",
       "    </tr>\n",
       "    <tr>\n",
       "      <td>134853</td>\n",
       "      <td>Joeys Pizza</td>\n",
       "      <td>Cash, Debit Card, Credit Card, Digital Payment...</td>\n",
       "      <td>19.178188</td>\n",
       "      <td>72.834666</td>\n",
       "    </tr>\n",
       "    <tr>\n",
       "      <td>134854</td>\n",
       "      <td>Hitchki</td>\n",
       "      <td>Cash, Credit Card, Debit Card</td>\n",
       "      <td>19.119930</td>\n",
       "      <td>72.907331</td>\n",
       "    </tr>\n",
       "    <tr>\n",
       "      <td>134855</td>\n",
       "      <td>Tamasha</td>\n",
       "      <td>Cash, Credit Card, Debit Card</td>\n",
       "      <td>19.006060</td>\n",
       "      <td>72.827496</td>\n",
       "    </tr>\n",
       "    <tr>\n",
       "      <td>134856</td>\n",
       "      <td>Bayroute</td>\n",
       "      <td>Cash, Debit Card, Credit Card</td>\n",
       "      <td>19.110684</td>\n",
       "      <td>72.825368</td>\n",
       "    </tr>\n",
       "    <tr>\n",
       "      <td>134857</td>\n",
       "      <td>Hitchki</td>\n",
       "      <td>Debit Card, Cash, Credit Card</td>\n",
       "      <td>19.069597</td>\n",
       "      <td>72.869834</td>\n",
       "    </tr>\n",
       "    <tr>\n",
       "      <td>134858</td>\n",
       "      <td>JLWA</td>\n",
       "      <td>Cash, Credit Card, Debit Card</td>\n",
       "      <td>19.060056</td>\n",
       "      <td>72.836105</td>\n",
       "    </tr>\n",
       "    <tr>\n",
       "      <td>134859</td>\n",
       "      <td>London Taxi</td>\n",
       "      <td>Cash, Debit Card, Credit Card</td>\n",
       "      <td>19.005231</td>\n",
       "      <td>72.826119</td>\n",
       "    </tr>\n",
       "    <tr>\n",
       "      <td>134860</td>\n",
       "      <td>Colaba Social</td>\n",
       "      <td>Cash, Credit Card, Debit Card</td>\n",
       "      <td>18.921806</td>\n",
       "      <td>72.832472</td>\n",
       "    </tr>\n",
       "    <tr>\n",
       "      <td>134861</td>\n",
       "      <td>Garage Inc. Public House</td>\n",
       "      <td>Cash, Credit Card, Debit Card</td>\n",
       "      <td>18.919999</td>\n",
       "      <td>72.830751</td>\n",
       "    </tr>\n",
       "  </tbody>\n",
       "</table>\n",
       "</div>"
      ],
      "text/plain": [
       "                      restaurant  \\\n",
       "134852               Drinkery 51   \n",
       "134853               Joeys Pizza   \n",
       "134854                   Hitchki   \n",
       "134855                   Tamasha   \n",
       "134856                  Bayroute   \n",
       "134857                   Hitchki   \n",
       "134858                      JLWA   \n",
       "134859               London Taxi   \n",
       "134860             Colaba Social   \n",
       "134861  Garage Inc. Public House   \n",
       "\n",
       "                                          payment methods   latitude  \\\n",
       "134852                      Debit Card, Cash, Credit Card  19.067176   \n",
       "134853  Cash, Debit Card, Credit Card, Digital Payment...  19.178188   \n",
       "134854                      Cash, Credit Card, Debit Card  19.119930   \n",
       "134855                      Cash, Credit Card, Debit Card  19.006060   \n",
       "134856                      Cash, Debit Card, Credit Card  19.110684   \n",
       "134857                      Debit Card, Cash, Credit Card  19.069597   \n",
       "134858                      Cash, Credit Card, Debit Card  19.060056   \n",
       "134859                      Cash, Debit Card, Credit Card  19.005231   \n",
       "134860                      Cash, Credit Card, Debit Card  18.921806   \n",
       "134861                      Cash, Credit Card, Debit Card  18.919999   \n",
       "\n",
       "        longitude  \n",
       "134852  72.867493  \n",
       "134853  72.834666  \n",
       "134854  72.907331  \n",
       "134855  72.827496  \n",
       "134856  72.825368  \n",
       "134857  72.869834  \n",
       "134858  72.836105  \n",
       "134859  72.826119  \n",
       "134860  72.832472  \n",
       "134861  72.830751  "
      ]
     },
     "execution_count": 222,
     "metadata": {},
     "output_type": "execute_result"
    }
   ],
   "source": [
    "df_payments = df_mumbai[['name','highlights','latitude','longitude']].drop_duplicates().copy()\n",
    "for i in range(df_payments['highlights'].shape[0]): \n",
    "    df_payments.iloc[i,df_payments.columns.get_loc('highlights')] = get_payment_method(df_payments.iloc[i,df_payments.columns.get_loc('highlights')])\n",
    "\n",
    "df_payments = df_payments.rename(columns={'name': 'restaurant', 'highlights': 'payment methods'})\n",
    "df_payments[['restaurant','payment methods','latitude','longitude']].head(10)"
   ]
  },
  {
   "cell_type": "code",
   "execution_count": 223,
   "metadata": {},
   "outputs": [
    {
     "name": "stdout",
     "output_type": "stream",
     "text": [
      "These restaurants accept Only Cash (So, maybe take enough cash while visiting them):\n"
     ]
    },
    {
     "data": {
      "text/html": [
       "<div>\n",
       "<style scoped>\n",
       "    .dataframe tbody tr th:only-of-type {\n",
       "        vertical-align: middle;\n",
       "    }\n",
       "\n",
       "    .dataframe tbody tr th {\n",
       "        vertical-align: top;\n",
       "    }\n",
       "\n",
       "    .dataframe thead th {\n",
       "        text-align: right;\n",
       "    }\n",
       "</style>\n",
       "<table border=\"1\" class=\"dataframe\">\n",
       "  <thead>\n",
       "    <tr style=\"text-align: right;\">\n",
       "      <th></th>\n",
       "      <th>restaurant</th>\n",
       "      <th>payment methods</th>\n",
       "      <th>latitude</th>\n",
       "      <th>longitude</th>\n",
       "    </tr>\n",
       "  </thead>\n",
       "  <tbody>\n",
       "    <tr>\n",
       "      <td>134878</td>\n",
       "      <td>Guru Kripa</td>\n",
       "      <td>Cash</td>\n",
       "      <td>19.043475</td>\n",
       "      <td>72.861935</td>\n",
       "    </tr>\n",
       "    <tr>\n",
       "      <td>134896</td>\n",
       "      <td>Say Cheese</td>\n",
       "      <td>Cash</td>\n",
       "      <td>18.954212</td>\n",
       "      <td>72.818154</td>\n",
       "    </tr>\n",
       "    <tr>\n",
       "      <td>134909</td>\n",
       "      <td>Kyani &amp; Co.</td>\n",
       "      <td>Cash</td>\n",
       "      <td>18.944067</td>\n",
       "      <td>72.828574</td>\n",
       "    </tr>\n",
       "    <tr>\n",
       "      <td>134917</td>\n",
       "      <td>Gulshan-e-Iran</td>\n",
       "      <td>Cash</td>\n",
       "      <td>18.948045</td>\n",
       "      <td>72.835489</td>\n",
       "    </tr>\n",
       "    <tr>\n",
       "      <td>134931</td>\n",
       "      <td>Sardar Pav bhaji</td>\n",
       "      <td>Cash</td>\n",
       "      <td>18.969852</td>\n",
       "      <td>72.815007</td>\n",
       "    </tr>\n",
       "    <tr>\n",
       "      <td>...</td>\n",
       "      <td>...</td>\n",
       "      <td>...</td>\n",
       "      <td>...</td>\n",
       "      <td>...</td>\n",
       "    </tr>\n",
       "    <tr>\n",
       "      <td>142095</td>\n",
       "      <td>K Bhagat Tarachand</td>\n",
       "      <td>Cash</td>\n",
       "      <td>18.952249</td>\n",
       "      <td>72.830036</td>\n",
       "    </tr>\n",
       "    <tr>\n",
       "      <td>142201</td>\n",
       "      <td>The J</td>\n",
       "      <td>Cash</td>\n",
       "      <td>19.079042</td>\n",
       "      <td>72.906105</td>\n",
       "    </tr>\n",
       "    <tr>\n",
       "      <td>142260</td>\n",
       "      <td>The J</td>\n",
       "      <td>Cash</td>\n",
       "      <td>19.368251</td>\n",
       "      <td>72.817015</td>\n",
       "    </tr>\n",
       "    <tr>\n",
       "      <td>142267</td>\n",
       "      <td>The London Shakes</td>\n",
       "      <td>Cash</td>\n",
       "      <td>19.299198</td>\n",
       "      <td>72.871082</td>\n",
       "    </tr>\n",
       "    <tr>\n",
       "      <td>142278</td>\n",
       "      <td>The London Shakes</td>\n",
       "      <td>Cash</td>\n",
       "      <td>19.108434</td>\n",
       "      <td>72.864574</td>\n",
       "    </tr>\n",
       "  </tbody>\n",
       "</table>\n",
       "<p>378 rows × 4 columns</p>\n",
       "</div>"
      ],
      "text/plain": [
       "                restaurant payment methods   latitude  longitude\n",
       "134878          Guru Kripa            Cash  19.043475  72.861935\n",
       "134896          Say Cheese            Cash  18.954212  72.818154\n",
       "134909         Kyani & Co.            Cash  18.944067  72.828574\n",
       "134917      Gulshan-e-Iran            Cash  18.948045  72.835489\n",
       "134931    Sardar Pav bhaji            Cash  18.969852  72.815007\n",
       "...                    ...             ...        ...        ...\n",
       "142095  K Bhagat Tarachand            Cash  18.952249  72.830036\n",
       "142201               The J            Cash  19.079042  72.906105\n",
       "142260               The J            Cash  19.368251  72.817015\n",
       "142267   The London Shakes            Cash  19.299198  72.871082\n",
       "142278   The London Shakes            Cash  19.108434  72.864574\n",
       "\n",
       "[378 rows x 4 columns]"
      ]
     },
     "execution_count": 223,
     "metadata": {},
     "output_type": "execute_result"
    }
   ],
   "source": [
    "print('These restaurants accept Only Cash (So, maybe take enough cash while visiting them):')\n",
    "df_payments[df_payments['payment methods']=='Cash'][['restaurant','payment methods','latitude','longitude']]"
   ]
  },
  {
   "cell_type": "code",
   "execution_count": 224,
   "metadata": {},
   "outputs": [
    {
     "name": "stdout",
     "output_type": "stream",
     "text": [
      "verify for first restaurant:\n",
      "\n"
     ]
    },
    {
     "data": {
      "text/plain": [
       "'Dinner, Debit Card, Lunch, Serves Alcohol, Cash, Credit Card, Live Music, Serves Cocktails, Table booking recommended, Available for Functions, Resto Bar, Private Dining Area Available, Wheelchair Accessible, Live Sports Screening, Valet Parking Available, Wine, Beer, Indoor Seating, Restricted Entry, Air Conditioned, Smoking Area, Group Meal, DJ, Nightlife, Fullbar'"
      ]
     },
     "execution_count": 224,
     "metadata": {},
     "output_type": "execute_result"
    }
   ],
   "source": [
    "print('verify for first restaurant:\\n')\n",
    "df_mumbai[df_mumbai['name']=='Drinkery 51'].drop_duplicates().iloc[0,df_mumbai[df_mumbai['name']=='Drinkery 51'].columns.get_loc('highlights')]"
   ]
  },
  {
   "cell_type": "code",
   "execution_count": 225,
   "metadata": {},
   "outputs": [
    {
     "data": {
      "text/plain": [
       "134852    Debit Card, Cash, Credit Card\n",
       "Name: payment methods, dtype: object"
      ]
     },
     "execution_count": 225,
     "metadata": {},
     "output_type": "execute_result"
    }
   ],
   "source": [
    "df_payments[df_payments['restaurant']=='Drinkery 51'].drop_duplicates()['payment methods']"
   ]
  },
  {
   "cell_type": "markdown",
   "metadata": {},
   "source": [
    "- select unique facilities available at restaurants in western region\n",
    "- sort facilities based on frequency\n"
   ]
  },
  {
   "cell_type": "code",
   "execution_count": 226,
   "metadata": {},
   "outputs": [
    {
     "name": "stdout",
     "output_type": "stream",
     "text": [
      "Latitudinal extent of Mumbai according to data available:  18.9131928  degree E to  19.46439399  degree E\n",
      "\n",
      "We assume that left 35% and middle 50% is Western Region, which has latitude from  18.9131928  degree E to  19.06537549  degree E and longitude from  72.82946885  degree N to  72.86466  degree N\n"
     ]
    }
   ],
   "source": [
    "#Western Region of Mumbai\n",
    "print(\"Latitudinal extent of Mumbai according to data available: \",df_mumbai['latitude'].min(),\" degree E to \",df_mumbai['latitude'].max(),\" degree E\")\n",
    "print(\"\\nWe assume that left 35% and middle 50% is Western Region, which has latitude from \",df_mumbai['latitude'].min(),\" degree E to \",df_mumbai['latitude'].quantile(0.35),\" degree E and longitude from \",df_mumbai['longitude'].quantile(0.25),\" degree N to \", df_mumbai['longitude'].quantile(0.75),\" degree N\")"
   ]
  },
  {
   "cell_type": "code",
   "execution_count": 227,
   "metadata": {},
   "outputs": [
    {
     "name": "stdout",
     "output_type": "stream",
     "text": [
      "                 highlights  frequency\n",
      "0                      Cash        440\n",
      "1            Indoor Seating        377\n",
      "2                    Dinner        354\n",
      "3               Credit Card        345\n",
      "4        Takeaway Available        345\n",
      "..                      ...        ...\n",
      "75  Available for Functions          2\n",
      "76                  Seaside          1\n",
      "77               Craft Beer          1\n",
      "78             Bira 91 Beer          1\n",
      "79                  Rooftop          1\n",
      "\n",
      "[80 rows x 2 columns]\n"
     ]
    }
   ],
   "source": [
    "#Unique facilities (sorted)\n",
    "print(highlights_sort(df_mumbai[(df_mumbai['latitude'] < df_mumbai['latitude'].quantile(0.35)) & (df_mumbai['longitude'] < df_mumbai['longitude'].quantile(0.75)) & (df_mumbai['longitude'] > df_mumbai['longitude'].quantile(0.25))]['highlights']))"
   ]
  },
  {
   "cell_type": "code",
   "execution_count": 228,
   "metadata": {},
   "outputs": [],
   "source": [
    "df_mumbai_unique = highlights_sort(df_mumbai[(df_mumbai['latitude'] < df_mumbai['latitude'].quantile(0.35)) & (df_mumbai['longitude'] < df_mumbai['longitude'].quantile(0.75)) & (df_mumbai['longitude'] > df_mumbai['longitude'].quantile(0.25))]['highlights']).copy()"
   ]
  },
  {
   "cell_type": "code",
   "execution_count": 229,
   "metadata": {},
   "outputs": [
    {
     "data": {
      "text/html": [
       "<div>\n",
       "<style scoped>\n",
       "    .dataframe tbody tr th:only-of-type {\n",
       "        vertical-align: middle;\n",
       "    }\n",
       "\n",
       "    .dataframe tbody tr th {\n",
       "        vertical-align: top;\n",
       "    }\n",
       "\n",
       "    .dataframe thead th {\n",
       "        text-align: right;\n",
       "    }\n",
       "</style>\n",
       "<table border=\"1\" class=\"dataframe\">\n",
       "  <thead>\n",
       "    <tr style=\"text-align: right;\">\n",
       "      <th></th>\n",
       "      <th>name</th>\n",
       "      <th>establishment</th>\n",
       "      <th>url</th>\n",
       "      <th>address</th>\n",
       "      <th>city</th>\n",
       "      <th>city_id</th>\n",
       "      <th>locality</th>\n",
       "      <th>latitude</th>\n",
       "      <th>longitude</th>\n",
       "      <th>zipcode</th>\n",
       "      <th>...</th>\n",
       "      <th>average_cost_for_two</th>\n",
       "      <th>price_range</th>\n",
       "      <th>highlights</th>\n",
       "      <th>aggregate_rating</th>\n",
       "      <th>votes</th>\n",
       "      <th>photo_count</th>\n",
       "      <th>opentable_support</th>\n",
       "      <th>delivery</th>\n",
       "      <th>new_ratings</th>\n",
       "      <th>region</th>\n",
       "    </tr>\n",
       "  </thead>\n",
       "  <tbody>\n",
       "    <tr>\n",
       "      <td>0</td>\n",
       "      <td>Bikanervala</td>\n",
       "      <td>Quick Bites</td>\n",
       "      <td>https://www.zomato.com/agra/bikanervala-khanda...</td>\n",
       "      <td>Kalyani Point, Near Tulsi Cinema, Bypass Road,...</td>\n",
       "      <td>Agra</td>\n",
       "      <td>34</td>\n",
       "      <td>Khandari</td>\n",
       "      <td>27.211450</td>\n",
       "      <td>78.002381</td>\n",
       "      <td>NaN</td>\n",
       "      <td>...</td>\n",
       "      <td>700</td>\n",
       "      <td>2</td>\n",
       "      <td>Lunch, Takeaway Available, Credit Card, Dinner...</td>\n",
       "      <td>4.4</td>\n",
       "      <td>814</td>\n",
       "      <td>154</td>\n",
       "      <td>0.0</td>\n",
       "      <td>-1</td>\n",
       "      <td>Very Good</td>\n",
       "      <td>northern</td>\n",
       "    </tr>\n",
       "    <tr>\n",
       "      <td>1</td>\n",
       "      <td>Mama Chicken Mama Franky House</td>\n",
       "      <td>Quick Bites</td>\n",
       "      <td>https://www.zomato.com/agra/mama-chicken-mama-...</td>\n",
       "      <td>Main Market, Sadar Bazaar, Agra Cantt, Agra</td>\n",
       "      <td>Agra</td>\n",
       "      <td>34</td>\n",
       "      <td>Agra Cantt</td>\n",
       "      <td>27.160569</td>\n",
       "      <td>78.011583</td>\n",
       "      <td>282001</td>\n",
       "      <td>...</td>\n",
       "      <td>600</td>\n",
       "      <td>2</td>\n",
       "      <td>Delivery, No Alcohol Available, Dinner, Takeaw...</td>\n",
       "      <td>4.4</td>\n",
       "      <td>1203</td>\n",
       "      <td>161</td>\n",
       "      <td>0.0</td>\n",
       "      <td>-1</td>\n",
       "      <td>Very Good</td>\n",
       "      <td>northern</td>\n",
       "    </tr>\n",
       "  </tbody>\n",
       "</table>\n",
       "<p>2 rows × 22 columns</p>\n",
       "</div>"
      ],
      "text/plain": [
       "                             name establishment  \\\n",
       "0                     Bikanervala   Quick Bites   \n",
       "1  Mama Chicken Mama Franky House   Quick Bites   \n",
       "\n",
       "                                                 url  \\\n",
       "0  https://www.zomato.com/agra/bikanervala-khanda...   \n",
       "1  https://www.zomato.com/agra/mama-chicken-mama-...   \n",
       "\n",
       "                                             address  city  city_id  \\\n",
       "0  Kalyani Point, Near Tulsi Cinema, Bypass Road,...  Agra       34   \n",
       "1        Main Market, Sadar Bazaar, Agra Cantt, Agra  Agra       34   \n",
       "\n",
       "     locality   latitude  longitude zipcode  ... average_cost_for_two  \\\n",
       "0    Khandari  27.211450  78.002381     NaN  ...                  700   \n",
       "1  Agra Cantt  27.160569  78.011583  282001  ...                  600   \n",
       "\n",
       "  price_range                                         highlights  \\\n",
       "0           2  Lunch, Takeaway Available, Credit Card, Dinner...   \n",
       "1           2  Delivery, No Alcohol Available, Dinner, Takeaw...   \n",
       "\n",
       "   aggregate_rating votes  photo_count  opentable_support  delivery  \\\n",
       "0               4.4   814          154                0.0        -1   \n",
       "1               4.4  1203          161                0.0        -1   \n",
       "\n",
       "   new_ratings    region  \n",
       "0    Very Good  northern  \n",
       "1    Very Good  northern  \n",
       "\n",
       "[2 rows x 22 columns]"
      ]
     },
     "execution_count": 229,
     "metadata": {},
     "output_type": "execute_result"
    }
   ],
   "source": [
    "df_not_mumbai = df_restaurants_copy[df_restaurants_copy['city']!='Mumbai'].drop_duplicates(keep=\"first\").copy()\n",
    "df_not_mumbai.head(2)"
   ]
  },
  {
   "cell_type": "code",
   "execution_count": 230,
   "metadata": {},
   "outputs": [
    {
     "data": {
      "text/html": [
       "<div>\n",
       "<style scoped>\n",
       "    .dataframe tbody tr th:only-of-type {\n",
       "        vertical-align: middle;\n",
       "    }\n",
       "\n",
       "    .dataframe tbody tr th {\n",
       "        vertical-align: top;\n",
       "    }\n",
       "\n",
       "    .dataframe thead th {\n",
       "        text-align: right;\n",
       "    }\n",
       "</style>\n",
       "<table border=\"1\" class=\"dataframe\">\n",
       "  <thead>\n",
       "    <tr style=\"text-align: right;\">\n",
       "      <th></th>\n",
       "      <th>highlights</th>\n",
       "      <th>frequency</th>\n",
       "    </tr>\n",
       "  </thead>\n",
       "  <tbody>\n",
       "    <tr>\n",
       "      <td>0</td>\n",
       "      <td>Cash</td>\n",
       "      <td>54690</td>\n",
       "    </tr>\n",
       "    <tr>\n",
       "      <td>1</td>\n",
       "      <td>Takeaway Available</td>\n",
       "      <td>48675</td>\n",
       "    </tr>\n",
       "    <tr>\n",
       "      <td>2</td>\n",
       "      <td>Indoor Seating</td>\n",
       "      <td>42486</td>\n",
       "    </tr>\n",
       "    <tr>\n",
       "      <td>3</td>\n",
       "      <td>Dinner</td>\n",
       "      <td>39323</td>\n",
       "    </tr>\n",
       "    <tr>\n",
       "      <td>4</td>\n",
       "      <td>Lunch</td>\n",
       "      <td>37807</td>\n",
       "    </tr>\n",
       "  </tbody>\n",
       "</table>\n",
       "</div>"
      ],
      "text/plain": [
       "           highlights  frequency\n",
       "0                Cash      54690\n",
       "1  Takeaway Available      48675\n",
       "2      Indoor Seating      42486\n",
       "3              Dinner      39323\n",
       "4               Lunch      37807"
      ]
     },
     "execution_count": 230,
     "metadata": {},
     "output_type": "execute_result"
    }
   ],
   "source": [
    "df_not_mumbai_unique = highlights_sort(df_not_mumbai['highlights']).copy()\n",
    "df_not_mumbai_unique.head()"
   ]
  },
  {
   "cell_type": "code",
   "execution_count": 231,
   "metadata": {},
   "outputs": [
    {
     "name": "stdout",
     "output_type": "stream",
     "text": [
      "Values exclusive to Mumbai are:  None\n"
     ]
    }
   ],
   "source": [
    "val=\"\"\n",
    "for var in df_mumbai_unique['highlights'].values:\n",
    "    if var in df_not_mumbai_unique['highlights'].values: \n",
    "        continue\n",
    "    else: \n",
    "        val = val + \", \" + var\n",
    "        val = val[2:]\n",
    "if val ==\"\":\n",
    "    val=\"None\"\n",
    "print(\"Values exclusive to Mumbai are: \",val)"
   ]
  },
  {
   "cell_type": "code",
   "execution_count": 232,
   "metadata": {},
   "outputs": [
    {
     "name": "stdout",
     "output_type": "stream",
     "text": [
      "Thank you :)\n"
     ]
    }
   ],
   "source": [
    "print(\"Thank you :)\")"
   ]
  }
 ],
 "metadata": {
  "kernelspec": {
   "display_name": "Python 3",
   "language": "python",
   "name": "python3"
  },
  "language_info": {
   "codemirror_mode": {
    "name": "ipython",
    "version": 3
   },
   "file_extension": ".py",
   "mimetype": "text/x-python",
   "name": "python",
   "nbconvert_exporter": "python",
   "pygments_lexer": "ipython3",
   "version": "3.7.4"
  }
 },
 "nbformat": 4,
 "nbformat_minor": 2
}
