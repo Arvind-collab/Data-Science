{
 "cells": [
  {
   "cell_type": "markdown",
   "metadata": {
    "colab_type": "text",
    "id": "77JUn2mQq6bf"
   },
   "source": [
    "#### 1. a. Create a pandas series having values 4, 7, -5, 3, NAN and their index as d, b, a, c, e\n",
    "\n",
    "   #### b. Write a code to check for null values from the given series."
   ]
  },
  {
   "cell_type": "code",
   "execution_count": 2,
   "metadata": {},
   "outputs": [
    {
     "data": {
      "text/plain": [
       "d    False\n",
       "b    False\n",
       "a    False\n",
       "c    False\n",
       "e     True\n",
       "dtype: bool"
      ]
     },
     "execution_count": 2,
     "metadata": {},
     "output_type": "execute_result"
    }
   ],
   "source": [
    "import pandas as pd\n",
    "import numpy as np\n",
    "series = pd.Series([4,7,-5,3,np.nan], index=['d','b','a','c','e'])\n",
    "pd.isna(series)"
   ]
  },
  {
   "cell_type": "markdown",
   "metadata": {
    "colab_type": "text",
    "id": "0CtW15PZrorX"
   },
   "source": [
    "#### 2. Create a series by generating 20 numpy random numbers where the values in the series ranging between 0 to 10."
   ]
  },
  {
   "cell_type": "code",
   "execution_count": 5,
   "metadata": {},
   "outputs": [
    {
     "data": {
      "text/plain": [
       "0     7\n",
       "1     8\n",
       "2     3\n",
       "3     7\n",
       "4     8\n",
       "5     7\n",
       "6     3\n",
       "7     8\n",
       "8     4\n",
       "9     5\n",
       "10    6\n",
       "11    2\n",
       "12    2\n",
       "13    4\n",
       "14    2\n",
       "15    8\n",
       "16    4\n",
       "17    1\n",
       "18    8\n",
       "19    5\n",
       "dtype: int32"
      ]
     },
     "execution_count": 5,
     "metadata": {},
     "output_type": "execute_result"
    }
   ],
   "source": [
    "import pandas as pd\n",
    "import numpy as np\n",
    "series = pd.Series(np.random.randint(low=1, high=9, size=20))\n",
    "series"
   ]
  }
 ],
 "metadata": {
  "colab": {
   "collapsed_sections": [],
   "name": "Pandas.ipynb",
   "provenance": []
  },
  "kernelspec": {
   "display_name": "Python 3",
   "language": "python",
   "name": "python3"
  },
  "language_info": {
   "codemirror_mode": {
    "name": "ipython",
    "version": 3
   },
   "file_extension": ".py",
   "mimetype": "text/x-python",
   "name": "python",
   "nbconvert_exporter": "python",
   "pygments_lexer": "ipython3",
   "version": "3.7.4"
  }
 },
 "nbformat": 4,
 "nbformat_minor": 1
}
