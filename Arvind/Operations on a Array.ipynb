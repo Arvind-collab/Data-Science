{
 "cells": [
  {
   "cell_type": "markdown",
   "metadata": {
    "colab_type": "text",
    "id": "fuVrsAUzWhBn"
   },
   "source": [
    "#### 1. Write a program to find BMI of the patients whose height and weight is provided in the list given below"
   ]
  },
  {
   "cell_type": "markdown",
   "metadata": {
    "colab_type": "text",
    "id": "ZVMmbrQGWqwC"
   },
   "source": [
    "Use the lists given below:\n",
    "\n",
    "list of weights (in kg) weights = [57, 69, 54, 65 ,71, 62, 56]\n",
    "\n",
    "list of heights (in m)\n",
    "heights = [1.59, 1.75, 1.66, 1.74, 1.64, 1.72, 1.53]"
   ]
  },
  {
   "cell_type": "code",
   "execution_count": 2,
   "metadata": {},
   "outputs": [
    {
     "data": {
      "text/plain": [
       "array([22.54657648, 22.53061224, 19.59645812, 21.46915048, 26.39797739,\n",
       "       20.9572742 , 23.922423  ])"
      ]
     },
     "execution_count": 2,
     "metadata": {},
     "output_type": "execute_result"
    }
   ],
   "source": [
    "import numpy as np\n",
    "weights = [57, 69, 54, 65 ,71, 62, 56]\n",
    "heights = [1.59, 1.75, 1.66, 1.74, 1.64, 1.72, 1.53]\n",
    "\n",
    "# convert the list to array\n",
    "weights = np.asarray(weights)\n",
    "heights = np.asarray(heights)\n",
    "# formula to calculate BMI\n",
    "bmi= weights/(heights**2)\n",
    "bmi\n"
   ]
  },
  {
   "cell_type": "code",
   "execution_count": 12,
   "metadata": {
    "colab": {},
    "colab_type": "code",
    "id": "qdn4-UzBZR-T"
   },
   "outputs": [
    {
     "data": {
      "text/plain": [
       "array([5, 6, 7])"
      ]
     },
     "execution_count": 12,
     "metadata": {},
     "output_type": "execute_result"
    }
   ],
   "source": [
    "a = np.array([0, 1, 2])\n",
    "\n",
    "b = np.array([5, 5, 5])\n",
    "\n",
    "a + b\n",
    "\n",
    "a + 5"
   ]
  },
  {
   "cell_type": "code",
   "execution_count": 13,
   "metadata": {},
   "outputs": [
    {
     "data": {
      "text/plain": [
       "array([[3, 5],\n",
       "       [5, 7],\n",
       "       [7, 9]])"
      ]
     },
     "execution_count": 13,
     "metadata": {},
     "output_type": "execute_result"
    }
   ],
   "source": [
    "x = np.array([[3], [5], [7]])\n",
    "\n",
    "y = np.array([[5], [7], [9]])\n",
    "np.hstack((x,y))"
   ]
  },
  {
   "cell_type": "code",
   "execution_count": null,
   "metadata": {},
   "outputs": [],
   "source": []
  }
 ],
 "metadata": {
  "colab": {
   "collapsed_sections": [],
   "name": "Numpy.ipynb",
   "provenance": []
  },
  "kernelspec": {
   "display_name": "Python 3",
   "language": "python",
   "name": "python3"
  },
  "language_info": {
   "codemirror_mode": {
    "name": "ipython",
    "version": 3
   },
   "file_extension": ".py",
   "mimetype": "text/x-python",
   "name": "python",
   "nbconvert_exporter": "python",
   "pygments_lexer": "ipython3",
   "version": "3.7.4"
  }
 },
 "nbformat": 4,
 "nbformat_minor": 1
}
