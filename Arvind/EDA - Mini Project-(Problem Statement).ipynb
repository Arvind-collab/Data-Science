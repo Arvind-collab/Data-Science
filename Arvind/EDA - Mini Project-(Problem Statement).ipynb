{
 "cells": [
  {
   "cell_type": "markdown",
   "metadata": {
    "colab_type": "text",
    "id": "pji6FHMXNB84"
   },
   "source": [
    "# ------------------------------------------ Mini Project -----------------------------------------------"
   ]
  },
  {
   "cell_type": "markdown",
   "metadata": {},
   "source": [
    "## From the given dataset this are the requirement that to be obtained by performing the exploratory data analysis."
   ]
  },
  {
   "cell_type": "markdown",
   "metadata": {},
   "source": [
    "### 1. How many categorical variables does the data contain? Please state the number of categories for each such variable.\n"
   ]
  },
  {
   "cell_type": "code",
   "execution_count": 1,
   "metadata": {},
   "outputs": [],
   "source": [
    "import seaborn as sns\n",
    "import matplotlib.pyplot as plt\n",
    "import pandas as pd\n",
    "import numpy as np\n"
   ]
  },
  {
   "cell_type": "code",
   "execution_count": 2,
   "metadata": {},
   "outputs": [
    {
     "data": {
      "text/html": [
       "<div>\n",
       "<style scoped>\n",
       "    .dataframe tbody tr th:only-of-type {\n",
       "        vertical-align: middle;\n",
       "    }\n",
       "\n",
       "    .dataframe tbody tr th {\n",
       "        vertical-align: top;\n",
       "    }\n",
       "\n",
       "    .dataframe thead th {\n",
       "        text-align: right;\n",
       "    }\n",
       "</style>\n",
       "<table border=\"1\" class=\"dataframe\">\n",
       "  <thead>\n",
       "    <tr style=\"text-align: right;\">\n",
       "      <th></th>\n",
       "      <th>country</th>\n",
       "      <th>year</th>\n",
       "      <th>sex</th>\n",
       "      <th>age</th>\n",
       "      <th>suicides_no</th>\n",
       "      <th>population</th>\n",
       "      <th>suicides/100k pop</th>\n",
       "      <th>country-year</th>\n",
       "      <th>HDI for year</th>\n",
       "      <th>gdp_for_year ($)</th>\n",
       "      <th>gdp_per_capita ($)</th>\n",
       "      <th>generation</th>\n",
       "    </tr>\n",
       "  </thead>\n",
       "  <tbody>\n",
       "    <tr>\n",
       "      <td>0</td>\n",
       "      <td>Albania</td>\n",
       "      <td>1987</td>\n",
       "      <td>male</td>\n",
       "      <td>15-24 years</td>\n",
       "      <td>21</td>\n",
       "      <td>312900</td>\n",
       "      <td>6.71</td>\n",
       "      <td>Albania1987</td>\n",
       "      <td>NaN</td>\n",
       "      <td>2,156,624,900</td>\n",
       "      <td>796</td>\n",
       "      <td>Generation X</td>\n",
       "    </tr>\n",
       "    <tr>\n",
       "      <td>1</td>\n",
       "      <td>Albania</td>\n",
       "      <td>1987</td>\n",
       "      <td>male</td>\n",
       "      <td>35-54 years</td>\n",
       "      <td>16</td>\n",
       "      <td>308000</td>\n",
       "      <td>5.19</td>\n",
       "      <td>Albania1987</td>\n",
       "      <td>NaN</td>\n",
       "      <td>2,156,624,900</td>\n",
       "      <td>796</td>\n",
       "      <td>Silent</td>\n",
       "    </tr>\n",
       "    <tr>\n",
       "      <td>2</td>\n",
       "      <td>Albania</td>\n",
       "      <td>1987</td>\n",
       "      <td>female</td>\n",
       "      <td>15-24 years</td>\n",
       "      <td>14</td>\n",
       "      <td>289700</td>\n",
       "      <td>4.83</td>\n",
       "      <td>Albania1987</td>\n",
       "      <td>NaN</td>\n",
       "      <td>2,156,624,900</td>\n",
       "      <td>796</td>\n",
       "      <td>Generation X</td>\n",
       "    </tr>\n",
       "    <tr>\n",
       "      <td>3</td>\n",
       "      <td>Albania</td>\n",
       "      <td>1987</td>\n",
       "      <td>male</td>\n",
       "      <td>75+ years</td>\n",
       "      <td>1</td>\n",
       "      <td>21800</td>\n",
       "      <td>4.59</td>\n",
       "      <td>Albania1987</td>\n",
       "      <td>NaN</td>\n",
       "      <td>2,156,624,900</td>\n",
       "      <td>796</td>\n",
       "      <td>G.I. Generation</td>\n",
       "    </tr>\n",
       "    <tr>\n",
       "      <td>4</td>\n",
       "      <td>Albania</td>\n",
       "      <td>1987</td>\n",
       "      <td>male</td>\n",
       "      <td>25-34 years</td>\n",
       "      <td>9</td>\n",
       "      <td>274300</td>\n",
       "      <td>3.28</td>\n",
       "      <td>Albania1987</td>\n",
       "      <td>NaN</td>\n",
       "      <td>2,156,624,900</td>\n",
       "      <td>796</td>\n",
       "      <td>Boomers</td>\n",
       "    </tr>\n",
       "  </tbody>\n",
       "</table>\n",
       "</div>"
      ],
      "text/plain": [
       "   country  year     sex          age  suicides_no  population  \\\n",
       "0  Albania  1987    male  15-24 years           21      312900   \n",
       "1  Albania  1987    male  35-54 years           16      308000   \n",
       "2  Albania  1987  female  15-24 years           14      289700   \n",
       "3  Albania  1987    male    75+ years            1       21800   \n",
       "4  Albania  1987    male  25-34 years            9      274300   \n",
       "\n",
       "   suicides/100k pop country-year  HDI for year  gdp_for_year ($)   \\\n",
       "0               6.71  Albania1987           NaN      2,156,624,900   \n",
       "1               5.19  Albania1987           NaN      2,156,624,900   \n",
       "2               4.83  Albania1987           NaN      2,156,624,900   \n",
       "3               4.59  Albania1987           NaN      2,156,624,900   \n",
       "4               3.28  Albania1987           NaN      2,156,624,900   \n",
       "\n",
       "   gdp_per_capita ($)       generation  \n",
       "0                 796     Generation X  \n",
       "1                 796           Silent  \n",
       "2                 796     Generation X  \n",
       "3                 796  G.I. Generation  \n",
       "4                 796          Boomers  "
      ]
     },
     "execution_count": 2,
     "metadata": {},
     "output_type": "execute_result"
    }
   ],
   "source": [
    "df_suicide = pd.read_csv('data.csv')\n",
    "df_suicide.head()"
   ]
  },
  {
   "cell_type": "code",
   "execution_count": 3,
   "metadata": {},
   "outputs": [
    {
     "name": "stdout",
     "output_type": "stream",
     "text": [
      "<class 'pandas.core.frame.DataFrame'>\n",
      "RangeIndex: 27820 entries, 0 to 27819\n",
      "Data columns (total 12 columns):\n",
      "country               27820 non-null object\n",
      "year                  27820 non-null int64\n",
      "sex                   27820 non-null object\n",
      "age                   27820 non-null object\n",
      "suicides_no           27820 non-null int64\n",
      "population            27820 non-null int64\n",
      "suicides/100k pop     27820 non-null float64\n",
      "country-year          27820 non-null object\n",
      "HDI for year          8364 non-null float64\n",
      " gdp_for_year ($)     27820 non-null object\n",
      "gdp_per_capita ($)    27820 non-null int64\n",
      "generation            27820 non-null object\n",
      "dtypes: float64(2), int64(4), object(6)\n",
      "memory usage: 2.5+ MB\n"
     ]
    }
   ],
   "source": [
    "df_suicide.info()"
   ]
  },
  {
   "cell_type": "code",
   "execution_count": 4,
   "metadata": {},
   "outputs": [
    {
     "data": {
      "text/plain": [
       "0"
      ]
     },
     "execution_count": 4,
     "metadata": {},
     "output_type": "execute_result"
    }
   ],
   "source": [
    "df_suicide.duplicated().sum()"
   ]
  },
  {
   "cell_type": "code",
   "execution_count": 5,
   "metadata": {},
   "outputs": [
    {
     "data": {
      "text/plain": [
       "(27820, 12)"
      ]
     },
     "execution_count": 5,
     "metadata": {},
     "output_type": "execute_result"
    }
   ],
   "source": [
    "df_suicide.shape"
   ]
  },
  {
   "cell_type": "code",
   "execution_count": 6,
   "metadata": {},
   "outputs": [
    {
     "name": "stdout",
     "output_type": "stream",
     "text": [
      "categorical variables : [ categories ]\n",
      "**************************************\n",
      "1 .  country :  ['Albania' 'Antigua and Barbuda' 'Argentina' 'Armenia' 'Aruba' 'Australia'\n",
      " 'Austria' 'Azerbaijan' 'Bahamas' 'Bahrain' 'Barbados' 'Belarus' 'Belgium'\n",
      " 'Belize' 'Bosnia and Herzegovina' 'Brazil' 'Bulgaria' 'Cabo Verde'\n",
      " 'Canada' 'Chile' 'Colombia' 'Costa Rica' 'Croatia' 'Cuba' 'Cyprus'\n",
      " 'Czech Republic' 'Denmark' 'Dominica' 'Ecuador' 'El Salvador' 'Estonia'\n",
      " 'Fiji' 'Finland' 'France' 'Georgia' 'Germany' 'Greece' 'Grenada'\n",
      " 'Guatemala' 'Guyana' 'Hungary' 'Iceland' 'Ireland' 'Israel' 'Italy'\n",
      " 'Jamaica' 'Japan' 'Kazakhstan' 'Kiribati' 'Kuwait' 'Kyrgyzstan' 'Latvia'\n",
      " 'Lithuania' 'Luxembourg' 'Macau' 'Maldives' 'Malta' 'Mauritius' 'Mexico'\n",
      " 'Mongolia' 'Montenegro' 'Netherlands' 'New Zealand' 'Nicaragua' 'Norway'\n",
      " 'Oman' 'Panama' 'Paraguay' 'Philippines' 'Poland' 'Portugal'\n",
      " 'Puerto Rico' 'Qatar' 'Republic of Korea' 'Romania' 'Russian Federation'\n",
      " 'Saint Kitts and Nevis' 'Saint Lucia' 'Saint Vincent and Grenadines'\n",
      " 'San Marino' 'Serbia' 'Seychelles' 'Singapore' 'Slovakia' 'Slovenia'\n",
      " 'South Africa' 'Spain' 'Sri Lanka' 'Suriname' 'Sweden' 'Switzerland'\n",
      " 'Thailand' 'Trinidad and Tobago' 'Turkey' 'Turkmenistan' 'Ukraine'\n",
      " 'United Arab Emirates' 'United Kingdom' 'United States' 'Uruguay'\n",
      " 'Uzbekistan']\n",
      "2 .  sex :  ['male' 'female']\n",
      "3 .  age :  ['15-24 years' '35-54 years' '75+ years' '25-34 years' '55-74 years'\n",
      " '5-14 years']\n",
      "4 .  country-year :  ['Albania1987' 'Albania1988' 'Albania1989' ... 'Uzbekistan2012'\n",
      " 'Uzbekistan2013' 'Uzbekistan2014']\n",
      "5 .  generation :  ['Generation X' 'Silent' 'G.I. Generation' 'Boomers' 'Millenials'\n",
      " 'Generation Z']\n",
      "\n",
      "The total number of categorical variables after treatment =  5\n"
     ]
    }
   ],
   "source": [
    "df_suicide_copy = df_suicide.copy()\n",
    "df_suicide_copy[' gdp_for_year ($) '] = df_suicide_copy[' gdp_for_year ($) '].str.replace(',','').astype('float64')\n",
    "print(\"categorical variables : [ categories ]\\n**************************************\")\n",
    "i=0\n",
    "for var in df_suicide_copy.select_dtypes(exclude=['int64', 'float64']).columns:\n",
    "#for var in df_suicide.select_dtypes(include=['object']).columns:\n",
    "    print(i+1,\". \",var, \": \", df_suicide_copy[var].unique())\n",
    "    i+=1\n",
    "print(\"\\nThe total number of categorical variables after treatment = \", i)"
   ]
  },
  {
   "cell_type": "markdown",
   "metadata": {
    "colab_type": "text",
    "id": "gaF4uWJjNB9A"
   },
   "source": [
    "### 2. How strong is the correlation between HDI and suicides_no?\n"
   ]
  },
  {
   "cell_type": "code",
   "execution_count": 7,
   "metadata": {},
   "outputs": [
    {
     "data": {
      "text/html": [
       "<div>\n",
       "<style scoped>\n",
       "    .dataframe tbody tr th:only-of-type {\n",
       "        vertical-align: middle;\n",
       "    }\n",
       "\n",
       "    .dataframe tbody tr th {\n",
       "        vertical-align: top;\n",
       "    }\n",
       "\n",
       "    .dataframe thead th {\n",
       "        text-align: right;\n",
       "    }\n",
       "</style>\n",
       "<table border=\"1\" class=\"dataframe\">\n",
       "  <thead>\n",
       "    <tr style=\"text-align: right;\">\n",
       "      <th></th>\n",
       "      <th>HDI for year</th>\n",
       "      <th>suicides_no</th>\n",
       "    </tr>\n",
       "  </thead>\n",
       "  <tbody>\n",
       "    <tr>\n",
       "      <td>0</td>\n",
       "      <td>NaN</td>\n",
       "      <td>21</td>\n",
       "    </tr>\n",
       "    <tr>\n",
       "      <td>1</td>\n",
       "      <td>NaN</td>\n",
       "      <td>16</td>\n",
       "    </tr>\n",
       "    <tr>\n",
       "      <td>2</td>\n",
       "      <td>NaN</td>\n",
       "      <td>14</td>\n",
       "    </tr>\n",
       "    <tr>\n",
       "      <td>3</td>\n",
       "      <td>NaN</td>\n",
       "      <td>1</td>\n",
       "    </tr>\n",
       "    <tr>\n",
       "      <td>4</td>\n",
       "      <td>NaN</td>\n",
       "      <td>9</td>\n",
       "    </tr>\n",
       "  </tbody>\n",
       "</table>\n",
       "</div>"
      ],
      "text/plain": [
       "   HDI for year  suicides_no\n",
       "0           NaN           21\n",
       "1           NaN           16\n",
       "2           NaN           14\n",
       "3           NaN            1\n",
       "4           NaN            9"
      ]
     },
     "execution_count": 7,
     "metadata": {},
     "output_type": "execute_result"
    }
   ],
   "source": [
    "df_temp = df_suicide[[ 'HDI for year', 'suicides_no']].copy()\n",
    "df_temp.head(5)"
   ]
  },
  {
   "cell_type": "code",
   "execution_count": 8,
   "metadata": {},
   "outputs": [
    {
     "data": {
      "text/plain": [
       "19649"
      ]
     },
     "execution_count": 8,
     "metadata": {},
     "output_type": "execute_result"
    }
   ],
   "source": [
    "df_temp.duplicated().sum()"
   ]
  },
  {
   "cell_type": "code",
   "execution_count": 9,
   "metadata": {},
   "outputs": [
    {
     "data": {
      "text/plain": [
       "(8171, 2)"
      ]
     },
     "execution_count": 9,
     "metadata": {},
     "output_type": "execute_result"
    }
   ],
   "source": [
    "df_temp.drop_duplicates(keep='first',inplace=True)\n",
    "df_temp.shape"
   ]
  },
  {
   "cell_type": "code",
   "execution_count": 10,
   "metadata": {},
   "outputs": [
    {
     "name": "stdout",
     "output_type": "stream",
     "text": [
      "suicides_no : missing values:  0  which is  0.0 % of the total number of entries in suicides_no\n",
      "HDI for year : missing values:  1807  which is  22.11 % of the total number of entries in HDI for year\n"
     ]
    }
   ],
   "source": [
    "print(\"suicides_no : missing values: \", df_temp['suicides_no'].isnull().sum(), \" which is \", round((df_temp['suicides_no'].isnull().sum()*100)/df_temp['suicides_no'].shape[0],2),\"% of the total number of entries in suicides_no\")\n",
    "print(\"HDI for year : missing values: \", df_temp['HDI for year'].isnull().sum(), \" which is \", round((df_temp['HDI for year'].isnull().sum()*100)/df_temp['HDI for year'].shape[0],2),\"% of the total number of entries in HDI for year\")"
   ]
  },
  {
   "cell_type": "code",
   "execution_count": 11,
   "metadata": {},
   "outputs": [],
   "source": [
    "def more_outliers(x):\n",
    "    y=len(x)\n",
    "    z=x.isna().sum() \n",
    "    if ((y==z) | (((z*100)/y)>=40)): \n",
    "        return np.nan\n",
    "    x= x.dropna(axis = 0, how ='any')\n",
    "    Q1 = x.quantile(0.25)\n",
    "    Q3 = x.quantile(0.75)\n",
    "    IQR = Q3 - Q1\n",
    "    if ((((x < (Q1 - 1.5 * IQR)) | (x > (Q3 + 1.5 * IQR))).sum())*100)/x.shape[0] >= 50: \n",
    "        return round(x.median(),3)\n",
    "    else:  \n",
    "        return round(x.mean(),3)"
   ]
  },
  {
   "cell_type": "code",
   "execution_count": 13,
   "metadata": {},
   "outputs": [
    {
     "name": "stdout",
     "output_type": "stream",
     "text": [
      "The correlation between HDI and suicides_no after imputation is:  0.154\n"
     ]
    },
    {
     "data": {
      "image/png": "[encoded data removed]",
      "text/plain": [
       "<Figure size 432x288 with 2 Axes>"
      ]
     },
     "metadata": {
      "needs_background": "light"
     },
     "output_type": "display_data"
    }
   ],
   "source": [
    "#ax.get_ylim()\n",
    "ax=sns.heatmap(df_temp_mean.corr(), annot=True, vmin=-1, vmax=1, center= 0, cmap= 'coolwarm') \n",
    "ax.set_ylim(2.0, 0) \n",
    "print('The correlation between HDI and suicides_no after imputation is: ', round(df_temp_mean['suicides_no'].corr(df_temp_mean['HDI for year']), 3))"
   ]
  },
  {
   "cell_type": "code",
   "execution_count": 14,
   "metadata": {},
   "outputs": [
    {
     "data": {
      "text/plain": [
       "(6364, 2)"
      ]
     },
     "execution_count": 14,
     "metadata": {},
     "output_type": "execute_result"
    }
   ],
   "source": [
    "df_temp_drop = df_temp.copy().dropna()\n",
    "df_temp_drop_drop = df_temp_drop.copy()\n",
    "df_temp_drop.shape"
   ]
  },
  {
   "cell_type": "code",
   "execution_count": 15,
   "metadata": {},
   "outputs": [
    {
     "name": "stdout",
     "output_type": "stream",
     "text": [
      "Outliers Number in HDI for year:  0 out of  6364\n"
     ]
    },
    {
     "data": {
      "text/plain": [
       "<matplotlib.axes._subplots.AxesSubplot at 0x5b2b6ac08>"
      ]
     },
     "execution_count": 15,
     "metadata": {},
     "output_type": "execute_result"
    },
    {
     "data": {
      "image/png": "[encoded data removed]",
      "text/plain": [
       "<Figure size 432x288 with 1 Axes>"
      ]
     },
     "metadata": {
      "needs_background": "light"
     },
     "output_type": "display_data"
    }
   ],
   "source": [
    "Q1 = df_temp_drop['HDI for year'].quantile(0.25)\n",
    "Q3 = df_temp_drop['HDI for year'].quantile(0.75)\n",
    "IQR = Q3 - Q1\n",
    "print(\"Outliers Number in HDI for year: \", ((df_temp_drop['HDI for year'] < (Q1 - 1.5 * IQR)) | (df_temp_drop['HDI for year'] > (Q3 + 1.5 * IQR))).sum(), \"out of \", df_temp_drop['HDI for year'].shape[0])\n",
    "sns.boxplot(x=df_temp_drop['HDI for year'])"
   ]
  },
  {
   "cell_type": "code",
   "execution_count": 16,
   "metadata": {},
   "outputs": [
    {
     "data": {
      "text/plain": [
       "0"
      ]
     },
     "execution_count": 16,
     "metadata": {},
     "output_type": "execute_result"
    }
   ],
   "source": [
    "##Replaced outliers in HDI for year\n",
    "whisker1=Q1-1.5*IQR\n",
    "for i in (np.where((df_temp_drop['HDI for year'] < whisker1))):\n",
    "    df_temp_drop.iloc[i, df_temp_drop.columns.get_loc('HDI for year')]= whisker1\n",
    "whisker2=Q3+1.5*IQR\n",
    "for i in (np.where((df_temp_drop['HDI for year'] > whisker2))): \n",
    "    df_temp_drop.iloc[i, df_temp_drop.columns.get_loc('HDI for year')]= whisker2\n",
    "len(np.where((((df_temp_drop['HDI for year'] <(Q1-1.5*IQR)) | (df_temp_drop['HDI for year'] >(Q3+1.5*IQR)))))[0])"
   ]
  },
  {
   "cell_type": "code",
   "execution_count": 17,
   "metadata": {},
   "outputs": [
    {
     "name": "stdout",
     "output_type": "stream",
     "text": [
      "Outliers Number in HDI for year:  806 out of  6364\n"
     ]
    },
    {
     "data": {
      "text/plain": [
       "<matplotlib.axes._subplots.AxesSubplot at 0x5b2dacac8>"
      ]
     },
     "execution_count": 17,
     "metadata": {},
     "output_type": "execute_result"
    },
    {
     "data": {
      "image/png": "[encoded data removed]",
      "text/plain": [
       "<Figure size 432x288 with 1 Axes>"
      ]
     },
     "metadata": {
      "needs_background": "light"
     },
     "output_type": "display_data"
    }
   ],
   "source": [
    "Q11 = df_temp_drop['suicides_no'].quantile(0.25)\n",
    "Q31 = df_temp_drop['suicides_no'].quantile(0.75)\n",
    "IQR1 = Q31 - Q11\n",
    "print(\"Outliers Number in HDI for year: \", ((df_temp_drop['suicides_no'] < (Q11 - 1.5 * IQR1)) | (df_temp_drop['suicides_no'] > (Q31 + 1.5 * IQR1))).sum(), \"out of \", df_temp_drop['suicides_no'].shape[0])\n",
    "sns.boxplot(x=df_temp_drop['suicides_no'])"
   ]
  },
  {
   "cell_type": "code",
   "execution_count": 18,
   "metadata": {},
   "outputs": [
    {
     "data": {
      "text/plain": [
       "0"
      ]
     },
     "execution_count": 18,
     "metadata": {},
     "output_type": "execute_result"
    }
   ],
   "source": [
    "##Replaced outliers in suicides_no\n",
    "whisker11=Q11-1.5*IQR1\n",
    "for i in (np.where((df_temp_drop['suicides_no'] < whisker11))):\n",
    "    df_temp_drop.iloc[i, df_temp_drop.columns.get_loc('suicides_no')]= whisker11\n",
    "whisker21=Q31+1.5*IQR1\n",
    "for i in (np.where((df_temp_drop['suicides_no'] > whisker21))): \n",
    "    df_temp_drop.iloc[i, df_temp_drop.columns.get_loc('suicides_no')]= whisker21\n",
    "len(np.where((((df_temp_drop['suicides_no'] <(Q11-1.5*IQR1)) | (df_temp_drop['suicides_no'] >(Q31+1.5*IQR1)))))[0])"
   ]
  },
  {
   "cell_type": "code",
   "execution_count": 19,
   "metadata": {},
   "outputs": [
    {
     "data": {
      "text/plain": [
       "<matplotlib.axes._subplots.AxesSubplot at 0x5b0e81f88>"
      ]
     },
     "execution_count": 19,
     "metadata": {},
     "output_type": "execute_result"
    },
    {
     "data": {
      "image/png": "[encoded data removed]",
      "text/plain": [
       "<Figure size 432x288 with 1 Axes>"
      ]
     },
     "metadata": {
      "needs_background": "light"
     },
     "output_type": "display_data"
    }
   ],
   "source": [
    "sns.boxplot(x=df_temp_drop['suicides_no'])"
   ]
  },
  {
   "cell_type": "code",
   "execution_count": 20,
   "metadata": {},
   "outputs": [
    {
     "name": "stdout",
     "output_type": "stream",
     "text": [
      "The correlation between HDI and suicides_no after dropping columns with missing values and replacing outliers with whiskers is:  0.162\n"
     ]
    },
    {
     "data": {
      "image/png": "[encoded data removed]",
      "text/plain": [
       "<Figure size 432x288 with 2 Axes>"
      ]
     },
     "metadata": {
      "needs_background": "light"
     },
     "output_type": "display_data"
    }
   ],
   "source": [
    "#ax.get_ylim()\n",
    "ax=sns.heatmap(df_temp_drop.corr(), annot=True, vmin=-1, vmax=1, center= 0, cmap= 'coolwarm') \n",
    "ax.set_ylim(2.0, 0) \n",
    "print('The correlation between HDI and suicides_no after dropping columns with missing values and replacing outliers with whiskers is: ', round(df_temp_drop['suicides_no'].corr(df_temp_drop['HDI for year']), 3))"
   ]
  },
  {
   "cell_type": "code",
   "execution_count": 21,
   "metadata": {},
   "outputs": [
    {
     "data": {
      "text/plain": [
       "(0, 0)"
      ]
     },
     "execution_count": 21,
     "metadata": {},
     "output_type": "execute_result"
    }
   ],
   "source": [
    "##Deleting rows having outliers in HDI for year or suicides_no based on IQR Score method\n",
    "for i in (np.where((df_temp_drop_drop['HDI for year'] < whisker1) | (df_temp_drop_drop['HDI for year'] > whisker2))):\n",
    "    df_temp_drop_drop.drop(df_temp_drop_drop.index[i],inplace=True) \n",
    "for i in (np.where((df_temp_drop_drop['suicides_no'] < whisker11) | (df_temp_drop_drop['suicides_no'] > whisker21))):\n",
    "    df_temp_drop_drop.drop(df_temp_drop_drop.index[i],inplace=True) \n",
    "len(np.where((((df_temp_drop_drop['HDI for year'] <(Q1-1.5*IQR)) | (df_temp_drop_drop['HDI for year'] >(Q3+1.5*IQR)))))[0]) , len(np.where((((df_temp_drop_drop['suicides_no'] <(Q11-1.5*IQR1)) | (df_temp_drop_drop['suicides_no'] >(Q31+1.5*IQR1)))))[0])"
   ]
  },
  {
   "cell_type": "code",
   "execution_count": 22,
   "metadata": {},
   "outputs": [
    {
     "name": "stdout",
     "output_type": "stream",
     "text": [
      "The correlation between HDI and suicides_no after dropping columns with missing values and dropping outliers is:  0.108\n"
     ]
    },
    {
     "data": {
      "image/png": "[encoded data removed]",
      "text/plain": [
       "<Figure size 432x288 with 2 Axes>"
      ]
     },
     "metadata": {
      "needs_background": "light"
     },
     "output_type": "display_data"
    }
   ],
   "source": [
    "#ax.get_ylim()\n",
    "ax=sns.heatmap(df_temp_drop_drop.corr(), annot=True, vmin=-1, vmax=1, center= 0, cmap= 'coolwarm') \n",
    "ax.set_ylim(2.0, 0) \n",
    "print('The correlation between HDI and suicides_no after dropping columns with missing values and dropping outliers is: ', round(df_temp_drop_drop['suicides_no'].corr(df_temp_drop_drop['HDI for year']), 3))"
   ]
  },
  {
   "cell_type": "markdown",
   "metadata": {
    "colab_type": "text",
    "id": "6EfY7a8ONB9T"
   },
   "source": [
    "### 3. Which generation has the highest number of suicides/100k pop?\n"
   ]
  },
  {
   "cell_type": "code",
   "execution_count": 12,
   "metadata": {},
   "outputs": [
    {
     "name": "stdout",
     "output_type": "stream",
     "text": [
      "Let's first impute COUNTRYWISE, with mean of 'HDI for year' FOR THAT COUNTRY for countries for which atleast 40% data is available and for all the rest, imputing doesn't seem so wise, so we simply drop\n"
     ]
    },
    {
     "data": {
      "text/plain": [
       "0"
      ]
     },
     "execution_count": 12,
     "metadata": {},
     "output_type": "execute_result"
    }
   ],
   "source": [
    "print(\"Let's first impute COUNTRYWISE, with mean of 'HDI for year' FOR THAT COUNTRY for countries for which atleast 40% data is available and for all the rest, imputing doesn't seem so wise, so we simply drop\")\n",
    "df_temp_mean = df_temp.copy() \n",
    "df_temp_mean['HDI for year'] = df_suicide.groupby('country')['HDI for year'].transform(lambda x: x.fillna(more_outliers(x)))\n",
    "df_temp_mean['HDI for year'] = df_suicide.groupby('country')['HDI for year'].transform(lambda x: x.replace(' ', more_outliers(x)))\n",
    "df_temp_mean = df_temp_mean.dropna()\n",
    "df_temp_mean['HDI for year'].isnull().sum() "
   ]
  },
  {
   "cell_type": "code",
   "execution_count": 23,
   "metadata": {},
   "outputs": [
    {
     "data": {
      "text/html": [
       "<div>\n",
       "<style scoped>\n",
       "    .dataframe tbody tr th:only-of-type {\n",
       "        vertical-align: middle;\n",
       "    }\n",
       "\n",
       "    .dataframe tbody tr th {\n",
       "        vertical-align: top;\n",
       "    }\n",
       "\n",
       "    .dataframe thead th {\n",
       "        text-align: right;\n",
       "    }\n",
       "</style>\n",
       "<table border=\"1\" class=\"dataframe\">\n",
       "  <thead>\n",
       "    <tr style=\"text-align: right;\">\n",
       "      <th></th>\n",
       "      <th>generation</th>\n",
       "      <th>suicides/100k pop</th>\n",
       "      <th>country</th>\n",
       "      <th>sex</th>\n",
       "      <th>age</th>\n",
       "      <th>country-year</th>\n",
       "    </tr>\n",
       "  </thead>\n",
       "  <tbody>\n",
       "    <tr>\n",
       "      <td>0</td>\n",
       "      <td>Generation X</td>\n",
       "      <td>6.71</td>\n",
       "      <td>Albania</td>\n",
       "      <td>male</td>\n",
       "      <td>15-24 years</td>\n",
       "      <td>Albania1987</td>\n",
       "    </tr>\n",
       "    <tr>\n",
       "      <td>1</td>\n",
       "      <td>Silent</td>\n",
       "      <td>5.19</td>\n",
       "      <td>Albania</td>\n",
       "      <td>male</td>\n",
       "      <td>35-54 years</td>\n",
       "      <td>Albania1987</td>\n",
       "    </tr>\n",
       "    <tr>\n",
       "      <td>2</td>\n",
       "      <td>Generation X</td>\n",
       "      <td>4.83</td>\n",
       "      <td>Albania</td>\n",
       "      <td>female</td>\n",
       "      <td>15-24 years</td>\n",
       "      <td>Albania1987</td>\n",
       "    </tr>\n",
       "    <tr>\n",
       "      <td>3</td>\n",
       "      <td>G.I. Generation</td>\n",
       "      <td>4.59</td>\n",
       "      <td>Albania</td>\n",
       "      <td>male</td>\n",
       "      <td>75+ years</td>\n",
       "      <td>Albania1987</td>\n",
       "    </tr>\n",
       "    <tr>\n",
       "      <td>4</td>\n",
       "      <td>Boomers</td>\n",
       "      <td>3.28</td>\n",
       "      <td>Albania</td>\n",
       "      <td>male</td>\n",
       "      <td>25-34 years</td>\n",
       "      <td>Albania1987</td>\n",
       "    </tr>\n",
       "  </tbody>\n",
       "</table>\n",
       "</div>"
      ],
      "text/plain": [
       "        generation  suicides/100k pop  country     sex          age  \\\n",
       "0     Generation X               6.71  Albania    male  15-24 years   \n",
       "1           Silent               5.19  Albania    male  35-54 years   \n",
       "2     Generation X               4.83  Albania  female  15-24 years   \n",
       "3  G.I. Generation               4.59  Albania    male    75+ years   \n",
       "4          Boomers               3.28  Albania    male  25-34 years   \n",
       "\n",
       "  country-year  \n",
       "0  Albania1987  \n",
       "1  Albania1987  \n",
       "2  Albania1987  \n",
       "3  Albania1987  \n",
       "4  Albania1987  "
      ]
     },
     "execution_count": 23,
     "metadata": {},
     "output_type": "execute_result"
    }
   ],
   "source": [
    "df_temp = df_suicide[[ 'generation', 'suicides/100k pop', 'country', 'sex', 'age', 'country-year']].copy()\n",
    "df_temp.head(5)"
   ]
  },
  {
   "cell_type": "code",
   "execution_count": 24,
   "metadata": {},
   "outputs": [
    {
     "data": {
      "text/plain": [
       "0"
      ]
     },
     "execution_count": 24,
     "metadata": {},
     "output_type": "execute_result"
    }
   ],
   "source": [
    "df_temp.duplicated().sum()"
   ]
  },
  {
   "cell_type": "code",
   "execution_count": 25,
   "metadata": {},
   "outputs": [
    {
     "data": {
      "text/html": [
       "<div>\n",
       "<style scoped>\n",
       "    .dataframe tbody tr th:only-of-type {\n",
       "        vertical-align: middle;\n",
       "    }\n",
       "\n",
       "    .dataframe tbody tr th {\n",
       "        vertical-align: top;\n",
       "    }\n",
       "\n",
       "    .dataframe thead th {\n",
       "        text-align: right;\n",
       "    }\n",
       "</style>\n",
       "<table border=\"1\" class=\"dataframe\">\n",
       "  <thead>\n",
       "    <tr style=\"text-align: right;\">\n",
       "      <th></th>\n",
       "      <th>generation</th>\n",
       "      <th>suicides/100k pop</th>\n",
       "      <th>year</th>\n",
       "    </tr>\n",
       "  </thead>\n",
       "  <tbody>\n",
       "    <tr>\n",
       "      <td>0</td>\n",
       "      <td>Generation X</td>\n",
       "      <td>6.71</td>\n",
       "      <td>1987</td>\n",
       "    </tr>\n",
       "    <tr>\n",
       "      <td>1</td>\n",
       "      <td>Silent</td>\n",
       "      <td>5.19</td>\n",
       "      <td>1987</td>\n",
       "    </tr>\n",
       "    <tr>\n",
       "      <td>2</td>\n",
       "      <td>Generation X</td>\n",
       "      <td>4.83</td>\n",
       "      <td>1987</td>\n",
       "    </tr>\n",
       "    <tr>\n",
       "      <td>3</td>\n",
       "      <td>G.I. Generation</td>\n",
       "      <td>4.59</td>\n",
       "      <td>1987</td>\n",
       "    </tr>\n",
       "    <tr>\n",
       "      <td>4</td>\n",
       "      <td>Boomers</td>\n",
       "      <td>3.28</td>\n",
       "      <td>1987</td>\n",
       "    </tr>\n",
       "  </tbody>\n",
       "</table>\n",
       "</div>"
      ],
      "text/plain": [
       "        generation  suicides/100k pop  year\n",
       "0     Generation X               6.71  1987\n",
       "1           Silent               5.19  1987\n",
       "2     Generation X               4.83  1987\n",
       "3  G.I. Generation               4.59  1987\n",
       "4          Boomers               3.28  1987"
      ]
     },
     "execution_count": 25,
     "metadata": {},
     "output_type": "execute_result"
    }
   ],
   "source": [
    "df_temp = df_suicide[[ 'generation', 'suicides/100k pop', 'year']].copy()\n",
    "df_temp.head(5)"
   ]
  },
  {
   "cell_type": "code",
   "execution_count": 26,
   "metadata": {},
   "outputs": [
    {
     "name": "stdout",
     "output_type": "stream",
     "text": [
      "generation : missing values:  0  which is  0.0 % of the total number of entries in generation\n",
      "suicides/100k pop : missing values:  0  which is  0.0 % of the total number of entries in suicides/100k pop\n"
     ]
    }
   ],
   "source": [
    "print(\"generation : missing values: \", df_temp['generation'].isnull().sum(), \" which is \", round((df_temp['generation'].isnull().sum()*100)/df_temp['generation'].shape[0],2),\"% of the total number of entries in generation\")\n",
    "print(\"suicides/100k pop : missing values: \", df_temp['suicides/100k pop'].isnull().sum(), \" which is \", round((df_temp['suicides/100k pop'].isnull().sum()*100)/df_temp['suicides/100k pop'].shape[0],2),\"% of the total number of entries in suicides/100k pop\")"
   ]
  },
  {
   "cell_type": "code",
   "execution_count": 27,
   "metadata": {},
   "outputs": [
    {
     "data": {
      "text/html": [
       "<div>\n",
       "<style scoped>\n",
       "    .dataframe tbody tr th:only-of-type {\n",
       "        vertical-align: middle;\n",
       "    }\n",
       "\n",
       "    .dataframe tbody tr th {\n",
       "        vertical-align: top;\n",
       "    }\n",
       "\n",
       "    .dataframe thead th {\n",
       "        text-align: right;\n",
       "    }\n",
       "</style>\n",
       "<table border=\"1\" class=\"dataframe\">\n",
       "  <thead>\n",
       "    <tr style=\"text-align: right;\">\n",
       "      <th></th>\n",
       "      <th>suicides/100k pop</th>\n",
       "      <th>year</th>\n",
       "    </tr>\n",
       "    <tr>\n",
       "      <th>generation</th>\n",
       "      <th></th>\n",
       "      <th></th>\n",
       "    </tr>\n",
       "  </thead>\n",
       "  <tbody>\n",
       "    <tr>\n",
       "      <td>Boomers</td>\n",
       "      <td>3.28</td>\n",
       "      <td>1987</td>\n",
       "    </tr>\n",
       "    <tr>\n",
       "      <td>G.I. Generation</td>\n",
       "      <td>4.59</td>\n",
       "      <td>1987</td>\n",
       "    </tr>\n",
       "    <tr>\n",
       "      <td>Generation X</td>\n",
       "      <td>6.71</td>\n",
       "      <td>1987</td>\n",
       "    </tr>\n",
       "    <tr>\n",
       "      <td>Generation Z</td>\n",
       "      <td>1.47</td>\n",
       "      <td>2007</td>\n",
       "    </tr>\n",
       "    <tr>\n",
       "      <td>Millenials</td>\n",
       "      <td>0.00</td>\n",
       "      <td>1992</td>\n",
       "    </tr>\n",
       "    <tr>\n",
       "      <td>Silent</td>\n",
       "      <td>5.19</td>\n",
       "      <td>1987</td>\n",
       "    </tr>\n",
       "  </tbody>\n",
       "</table>\n",
       "</div>"
      ],
      "text/plain": [
       "                 suicides/100k pop  year\n",
       "generation                              \n",
       "Boomers                       3.28  1987\n",
       "G.I. Generation               4.59  1987\n",
       "Generation X                  6.71  1987\n",
       "Generation Z                  1.47  2007\n",
       "Millenials                    0.00  1992\n",
       "Silent                        5.19  1987"
      ]
     },
     "execution_count": 27,
     "metadata": {},
     "output_type": "execute_result"
    }
   ],
   "source": [
    "df_temp.groupby('generation').first(g)"
   ]
  },
  {
   "cell_type": "code",
   "execution_count": 28,
   "metadata": {},
   "outputs": [
    {
     "data": {
      "text/html": [
       "<div>\n",
       "<style scoped>\n",
       "    .dataframe tbody tr th:only-of-type {\n",
       "        vertical-align: middle;\n",
       "    }\n",
       "\n",
       "    .dataframe tbody tr th {\n",
       "        vertical-align: top;\n",
       "    }\n",
       "\n",
       "    .dataframe thead th {\n",
       "        text-align: right;\n",
       "    }\n",
       "</style>\n",
       "<table border=\"1\" class=\"dataframe\">\n",
       "  <thead>\n",
       "    <tr style=\"text-align: right;\">\n",
       "      <th></th>\n",
       "      <th>suicides/100k pop</th>\n",
       "    </tr>\n",
       "    <tr>\n",
       "      <th>generation</th>\n",
       "      <th></th>\n",
       "    </tr>\n",
       "  </thead>\n",
       "  <tbody>\n",
       "    <tr>\n",
       "      <td>Silent</td>\n",
       "      <td>117217.55</td>\n",
       "    </tr>\n",
       "    <tr>\n",
       "      <td>Boomers</td>\n",
       "      <td>73563.05</td>\n",
       "    </tr>\n",
       "    <tr>\n",
       "      <td>Generation X</td>\n",
       "      <td>67648.45</td>\n",
       "    </tr>\n",
       "    <tr>\n",
       "      <td>G.I. Generation</td>\n",
       "      <td>65708.86</td>\n",
       "    </tr>\n",
       "    <tr>\n",
       "      <td>Millenials</td>\n",
       "      <td>31461.74</td>\n",
       "    </tr>\n",
       "    <tr>\n",
       "      <td>Generation Z</td>\n",
       "      <td>944.18</td>\n",
       "    </tr>\n",
       "  </tbody>\n",
       "</table>\n",
       "</div>"
      ],
      "text/plain": [
       "                 suicides/100k pop\n",
       "generation                        \n",
       "Silent                   117217.55\n",
       "Boomers                   73563.05\n",
       "Generation X              67648.45\n",
       "G.I. Generation           65708.86\n",
       "Millenials                31461.74\n",
       "Generation Z                944.18"
      ]
     },
     "execution_count": 28,
     "metadata": {},
     "output_type": "execute_result"
    }
   ],
   "source": [
    "df_temp.groupby(['generation','year']).sum().groupby('generation').sum().sort_values(\"suicides/100k pop\",ascending = False)"
   ]
  },
  {
   "cell_type": "code",
   "execution_count": 29,
   "metadata": {},
   "outputs": [
    {
     "name": "stdout",
     "output_type": "stream",
     "text": [
      "Generation having highest total number of suicides/100k pop is :  Silent\n"
     ]
    }
   ],
   "source": [
    "print(\"Generation having highest total number of suicides/100k pop is : \", df_temp.groupby(['generation','year']).sum().groupby('generation').sum().sort_values(\"suicides/100k pop\",ascending = False).head(1).reset_index().iloc[0,0])"
   ]
  },
  {
   "cell_type": "code",
   "execution_count": 30,
   "metadata": {},
   "outputs": [
    {
     "data": {
      "text/html": [
       "<div>\n",
       "<style scoped>\n",
       "    .dataframe tbody tr th:only-of-type {\n",
       "        vertical-align: middle;\n",
       "    }\n",
       "\n",
       "    .dataframe tbody tr th {\n",
       "        vertical-align: top;\n",
       "    }\n",
       "\n",
       "    .dataframe thead th {\n",
       "        text-align: right;\n",
       "    }\n",
       "</style>\n",
       "<table border=\"1\" class=\"dataframe\">\n",
       "  <thead>\n",
       "    <tr style=\"text-align: right;\">\n",
       "      <th></th>\n",
       "      <th>suicides/100k pop</th>\n",
       "    </tr>\n",
       "    <tr>\n",
       "      <th>generation</th>\n",
       "      <th></th>\n",
       "    </tr>\n",
       "  </thead>\n",
       "  <tbody>\n",
       "    <tr>\n",
       "      <td>G.I. Generation</td>\n",
       "      <td>4106.803750</td>\n",
       "    </tr>\n",
       "    <tr>\n",
       "      <td>Silent</td>\n",
       "      <td>3663.048437</td>\n",
       "    </tr>\n",
       "    <tr>\n",
       "      <td>Boomers</td>\n",
       "      <td>2373.001613</td>\n",
       "    </tr>\n",
       "    <tr>\n",
       "      <td>Generation X</td>\n",
       "      <td>2114.014062</td>\n",
       "    </tr>\n",
       "    <tr>\n",
       "      <td>Millenials</td>\n",
       "      <td>1210.066923</td>\n",
       "    </tr>\n",
       "    <tr>\n",
       "      <td>Generation Z</td>\n",
       "      <td>104.908889</td>\n",
       "    </tr>\n",
       "  </tbody>\n",
       "</table>\n",
       "</div>"
      ],
      "text/plain": [
       "                 suicides/100k pop\n",
       "generation                        \n",
       "G.I. Generation        4106.803750\n",
       "Silent                 3663.048437\n",
       "Boomers                2373.001613\n",
       "Generation X           2114.014062\n",
       "Millenials             1210.066923\n",
       "Generation Z            104.908889"
      ]
     },
     "execution_count": 30,
     "metadata": {},
     "output_type": "execute_result"
    }
   ],
   "source": [
    "df_temp.groupby(['generation','year']).sum().groupby('generation').mean().sort_values(\"suicides/100k pop\",ascending = False)"
   ]
  },
  {
   "cell_type": "code",
   "execution_count": 31,
   "metadata": {},
   "outputs": [
    {
     "name": "stdout",
     "output_type": "stream",
     "text": [
      "Generation having highest (average) (annual) number of suicides/100k pop is :  G.I. Generation\n"
     ]
    }
   ],
   "source": [
    "print(\"Generation having highest (average) (annual) number of suicides/100k pop is : \", df_temp.groupby(['generation','year']).sum().groupby('generation').mean().sort_values(\"suicides/100k pop\",ascending = False).head(1).reset_index().iloc[0,0])"
   ]
  },
  {
   "cell_type": "markdown",
   "metadata": {
    "colab_type": "text",
    "id": "dJJHEv6aNB9v"
   },
   "source": [
    "### 4. Which country has the least number of suicides between 1990-1995?\n"
   ]
  },
  {
   "cell_type": "code",
   "execution_count": 32,
   "metadata": {},
   "outputs": [
    {
     "data": {
      "text/html": [
       "<div>\n",
       "<style scoped>\n",
       "    .dataframe tbody tr th:only-of-type {\n",
       "        vertical-align: middle;\n",
       "    }\n",
       "\n",
       "    .dataframe tbody tr th {\n",
       "        vertical-align: top;\n",
       "    }\n",
       "\n",
       "    .dataframe thead th {\n",
       "        text-align: right;\n",
       "    }\n",
       "</style>\n",
       "<table border=\"1\" class=\"dataframe\">\n",
       "  <thead>\n",
       "    <tr style=\"text-align: right;\">\n",
       "      <th></th>\n",
       "      <th>year</th>\n",
       "      <th>suicides_no</th>\n",
       "      <th>country</th>\n",
       "      <th>sex</th>\n",
       "      <th>age</th>\n",
       "      <th>country-year</th>\n",
       "    </tr>\n",
       "  </thead>\n",
       "  <tbody>\n",
       "    <tr>\n",
       "      <td>0</td>\n",
       "      <td>1987</td>\n",
       "      <td>21</td>\n",
       "      <td>Albania</td>\n",
       "      <td>male</td>\n",
       "      <td>15-24 years</td>\n",
       "      <td>Albania1987</td>\n",
       "    </tr>\n",
       "    <tr>\n",
       "      <td>1</td>\n",
       "      <td>1987</td>\n",
       "      <td>16</td>\n",
       "      <td>Albania</td>\n",
       "      <td>male</td>\n",
       "      <td>35-54 years</td>\n",
       "      <td>Albania1987</td>\n",
       "    </tr>\n",
       "    <tr>\n",
       "      <td>2</td>\n",
       "      <td>1987</td>\n",
       "      <td>14</td>\n",
       "      <td>Albania</td>\n",
       "      <td>female</td>\n",
       "      <td>15-24 years</td>\n",
       "      <td>Albania1987</td>\n",
       "    </tr>\n",
       "    <tr>\n",
       "      <td>3</td>\n",
       "      <td>1987</td>\n",
       "      <td>1</td>\n",
       "      <td>Albania</td>\n",
       "      <td>male</td>\n",
       "      <td>75+ years</td>\n",
       "      <td>Albania1987</td>\n",
       "    </tr>\n",
       "    <tr>\n",
       "      <td>4</td>\n",
       "      <td>1987</td>\n",
       "      <td>9</td>\n",
       "      <td>Albania</td>\n",
       "      <td>male</td>\n",
       "      <td>25-34 years</td>\n",
       "      <td>Albania1987</td>\n",
       "    </tr>\n",
       "  </tbody>\n",
       "</table>\n",
       "</div>"
      ],
      "text/plain": [
       "   year  suicides_no  country     sex          age country-year\n",
       "0  1987           21  Albania    male  15-24 years  Albania1987\n",
       "1  1987           16  Albania    male  35-54 years  Albania1987\n",
       "2  1987           14  Albania  female  15-24 years  Albania1987\n",
       "3  1987            1  Albania    male    75+ years  Albania1987\n",
       "4  1987            9  Albania    male  25-34 years  Albania1987"
      ]
     },
     "execution_count": 32,
     "metadata": {},
     "output_type": "execute_result"
    }
   ],
   "source": [
    "df_temp = df_suicide[[ 'year', 'suicides_no', 'country', 'sex', 'age', 'country-year']].copy()\n",
    "df_temp.head(5)"
   ]
  },
  {
   "cell_type": "code",
   "execution_count": 33,
   "metadata": {},
   "outputs": [
    {
     "data": {
      "text/plain": [
       "0"
      ]
     },
     "execution_count": 33,
     "metadata": {},
     "output_type": "execute_result"
    }
   ],
   "source": [
    "df_temp.duplicated().sum()"
   ]
  },
  {
   "cell_type": "code",
   "execution_count": 34,
   "metadata": {},
   "outputs": [
    {
     "data": {
      "text/html": [
       "<div>\n",
       "<style scoped>\n",
       "    .dataframe tbody tr th:only-of-type {\n",
       "        vertical-align: middle;\n",
       "    }\n",
       "\n",
       "    .dataframe tbody tr th {\n",
       "        vertical-align: top;\n",
       "    }\n",
       "\n",
       "    .dataframe thead th {\n",
       "        text-align: right;\n",
       "    }\n",
       "</style>\n",
       "<table border=\"1\" class=\"dataframe\">\n",
       "  <thead>\n",
       "    <tr style=\"text-align: right;\">\n",
       "      <th></th>\n",
       "      <th>year</th>\n",
       "      <th>suicides_no</th>\n",
       "      <th>country</th>\n",
       "    </tr>\n",
       "  </thead>\n",
       "  <tbody>\n",
       "    <tr>\n",
       "      <td>0</td>\n",
       "      <td>1987</td>\n",
       "      <td>21</td>\n",
       "      <td>Albania</td>\n",
       "    </tr>\n",
       "    <tr>\n",
       "      <td>1</td>\n",
       "      <td>1987</td>\n",
       "      <td>16</td>\n",
       "      <td>Albania</td>\n",
       "    </tr>\n",
       "    <tr>\n",
       "      <td>2</td>\n",
       "      <td>1987</td>\n",
       "      <td>14</td>\n",
       "      <td>Albania</td>\n",
       "    </tr>\n",
       "    <tr>\n",
       "      <td>3</td>\n",
       "      <td>1987</td>\n",
       "      <td>1</td>\n",
       "      <td>Albania</td>\n",
       "    </tr>\n",
       "    <tr>\n",
       "      <td>4</td>\n",
       "      <td>1987</td>\n",
       "      <td>9</td>\n",
       "      <td>Albania</td>\n",
       "    </tr>\n",
       "  </tbody>\n",
       "</table>\n",
       "</div>"
      ],
      "text/plain": [
       "   year  suicides_no  country\n",
       "0  1987           21  Albania\n",
       "1  1987           16  Albania\n",
       "2  1987           14  Albania\n",
       "3  1987            1  Albania\n",
       "4  1987            9  Albania"
      ]
     },
     "execution_count": 34,
     "metadata": {},
     "output_type": "execute_result"
    }
   ],
   "source": [
    "df_temp = df_suicide[['year', 'suicides_no', 'country']].copy()\n",
    "df_temp.head(5)"
   ]
  },
  {
   "cell_type": "code",
   "execution_count": 35,
   "metadata": {},
   "outputs": [
    {
     "name": "stdout",
     "output_type": "stream",
     "text": [
      "year : missing values:  0  which is  0.0 % of the total number of entries in year\n",
      "suicides_no : missing values:  0  which is  0.0 % of the total number of entries in suicides_no\n",
      "country : missing values:  0  which is  0.0 % of the total number of entries in country\n"
     ]
    }
   ],
   "source": [
    "print(\"year : missing values: \", df_temp['year'].isnull().sum(), \" which is \", round((df_temp['year'].isnull().sum()*100)/df_temp['year'].shape[0],2),\"% of the total number of entries in year\")\n",
    "print(\"suicides_no : missing values: \", df_temp['suicides_no'].isnull().sum(), \" which is \", round((df_temp['suicides_no'].isnull().sum()*100)/df_temp['suicides_no'].shape[0],2),\"% of the total number of entries in suicides_no\")\n",
    "print(\"country : missing values: \", df_temp['country'].isnull().sum(), \" which is \", round((df_temp['country'].isnull().sum()*100)/df_temp['country'].shape[0],2),\"% of the total number of entries in country\")"
   ]
  },
  {
   "cell_type": "code",
   "execution_count": 36,
   "metadata": {},
   "outputs": [
    {
     "data": {
      "text/html": [
       "<div>\n",
       "<style scoped>\n",
       "    .dataframe tbody tr th:only-of-type {\n",
       "        vertical-align: middle;\n",
       "    }\n",
       "\n",
       "    .dataframe tbody tr th {\n",
       "        vertical-align: top;\n",
       "    }\n",
       "\n",
       "    .dataframe thead th {\n",
       "        text-align: right;\n",
       "    }\n",
       "</style>\n",
       "<table border=\"1\" class=\"dataframe\">\n",
       "  <thead>\n",
       "    <tr style=\"text-align: right;\">\n",
       "      <th></th>\n",
       "      <th>country</th>\n",
       "      <th>suicides_no</th>\n",
       "    </tr>\n",
       "  </thead>\n",
       "  <tbody>\n",
       "    <tr>\n",
       "      <td>58</td>\n",
       "      <td>Saint Kitts and Nevis</td>\n",
       "      <td>0</td>\n",
       "    </tr>\n",
       "    <tr>\n",
       "      <td>36</td>\n",
       "      <td>Jamaica</td>\n",
       "      <td>1</td>\n",
       "    </tr>\n",
       "    <tr>\n",
       "      <td>1</td>\n",
       "      <td>Antigua and Barbuda</td>\n",
       "      <td>1</td>\n",
       "    </tr>\n",
       "    <tr>\n",
       "      <td>28</td>\n",
       "      <td>Grenada</td>\n",
       "      <td>7</td>\n",
       "    </tr>\n",
       "    <tr>\n",
       "      <td>7</td>\n",
       "      <td>Bahamas</td>\n",
       "      <td>10</td>\n",
       "    </tr>\n",
       "    <tr>\n",
       "      <td>...</td>\n",
       "      <td>...</td>\n",
       "      <td>...</td>\n",
       "    </tr>\n",
       "    <tr>\n",
       "      <td>68</td>\n",
       "      <td>Ukraine</td>\n",
       "      <td>48661</td>\n",
       "    </tr>\n",
       "    <tr>\n",
       "      <td>26</td>\n",
       "      <td>Germany</td>\n",
       "      <td>52876</td>\n",
       "    </tr>\n",
       "    <tr>\n",
       "      <td>37</td>\n",
       "      <td>Japan</td>\n",
       "      <td>81633</td>\n",
       "    </tr>\n",
       "    <tr>\n",
       "      <td>70</td>\n",
       "      <td>United States</td>\n",
       "      <td>123468</td>\n",
       "    </tr>\n",
       "    <tr>\n",
       "      <td>57</td>\n",
       "      <td>Russian Federation</td>\n",
       "      <td>202470</td>\n",
       "    </tr>\n",
       "  </tbody>\n",
       "</table>\n",
       "<p>73 rows × 2 columns</p>\n",
       "</div>"
      ],
      "text/plain": [
       "                  country  suicides_no\n",
       "58  Saint Kitts and Nevis            0\n",
       "36                Jamaica            1\n",
       "1     Antigua and Barbuda            1\n",
       "28                Grenada            7\n",
       "7                 Bahamas           10\n",
       "..                    ...          ...\n",
       "68                Ukraine        48661\n",
       "26                Germany        52876\n",
       "37                  Japan        81633\n",
       "70          United States       123468\n",
       "57     Russian Federation       202470\n",
       "\n",
       "[73 rows x 2 columns]"
      ]
     },
     "execution_count": 36,
     "metadata": {},
     "output_type": "execute_result"
    }
   ],
   "source": [
    "df_temp.loc[(df_temp['year']>1990) & (df_temp['year']<1995)].groupby('country', as_index=False)['suicides_no'].sum().sort_values(\"suicides_no\",ascending = True)"
   ]
  },
  {
   "cell_type": "code",
   "execution_count": 37,
   "metadata": {},
   "outputs": [
    {
     "name": "stdout",
     "output_type": "stream",
     "text": [
      "The country having least number of suicides between 1990-1995 (not including 1990 and 1995) is :  Saint Kitts and Nevis\n"
     ]
    }
   ],
   "source": [
    "print('The country having least number of suicides between 1990-1995 (not including 1990 and 1995) is : ', df_temp.loc[(df_temp['year']>1990) & (df_temp['year']<1995)].groupby('country', as_index=False)['suicides_no'].sum().sort_values(\"suicides_no\",ascending = True).head(1).reset_index().iloc[0,1])"
   ]
  },
  {
   "cell_type": "markdown",
   "metadata": {
    "colab_type": "text",
    "id": "oBbx_SehNB-H"
   },
   "source": [
    "### 5. Are there any countries with no suicides recorded?  Create a new data frame which ranks these countries by HDI.\n"
   ]
  },
  {
   "cell_type": "code",
   "execution_count": 38,
   "metadata": {},
   "outputs": [
    {
     "data": {
      "text/html": [
       "<div>\n",
       "<style scoped>\n",
       "    .dataframe tbody tr th:only-of-type {\n",
       "        vertical-align: middle;\n",
       "    }\n",
       "\n",
       "    .dataframe tbody tr th {\n",
       "        vertical-align: top;\n",
       "    }\n",
       "\n",
       "    .dataframe thead th {\n",
       "        text-align: right;\n",
       "    }\n",
       "</style>\n",
       "<table border=\"1\" class=\"dataframe\">\n",
       "  <thead>\n",
       "    <tr style=\"text-align: right;\">\n",
       "      <th></th>\n",
       "      <th>country</th>\n",
       "      <th>suicides_no</th>\n",
       "      <th>HDI for year</th>\n",
       "      <th>year</th>\n",
       "    </tr>\n",
       "  </thead>\n",
       "  <tbody>\n",
       "    <tr>\n",
       "      <td>0</td>\n",
       "      <td>Albania</td>\n",
       "      <td>21</td>\n",
       "      <td>NaN</td>\n",
       "      <td>1987</td>\n",
       "    </tr>\n",
       "    <tr>\n",
       "      <td>1</td>\n",
       "      <td>Albania</td>\n",
       "      <td>16</td>\n",
       "      <td>NaN</td>\n",
       "      <td>1987</td>\n",
       "    </tr>\n",
       "    <tr>\n",
       "      <td>2</td>\n",
       "      <td>Albania</td>\n",
       "      <td>14</td>\n",
       "      <td>NaN</td>\n",
       "      <td>1987</td>\n",
       "    </tr>\n",
       "    <tr>\n",
       "      <td>3</td>\n",
       "      <td>Albania</td>\n",
       "      <td>1</td>\n",
       "      <td>NaN</td>\n",
       "      <td>1987</td>\n",
       "    </tr>\n",
       "    <tr>\n",
       "      <td>4</td>\n",
       "      <td>Albania</td>\n",
       "      <td>9</td>\n",
       "      <td>NaN</td>\n",
       "      <td>1987</td>\n",
       "    </tr>\n",
       "  </tbody>\n",
       "</table>\n",
       "</div>"
      ],
      "text/plain": [
       "   country  suicides_no  HDI for year  year\n",
       "0  Albania           21           NaN  1987\n",
       "1  Albania           16           NaN  1987\n",
       "2  Albania           14           NaN  1987\n",
       "3  Albania            1           NaN  1987\n",
       "4  Albania            9           NaN  1987"
      ]
     },
     "execution_count": 38,
     "metadata": {},
     "output_type": "execute_result"
    }
   ],
   "source": [
    "#Since only one new data frame has to be created and ranking has to be done by HDI,\n",
    "#it has been avoided to rank countries year wise\n",
    "#NaN values in HDI have been dropped and\n",
    "#The countries with valid HDI values have been ranked based on mean of these HDI values\n",
    "#for all years for that country for which data is available\n",
    "df_temp = df_suicide[['country', 'suicides_no', 'HDI for year','year']].copy()\n",
    "df_temp.head(5)"
   ]
  },
  {
   "cell_type": "code",
   "execution_count": 39,
   "metadata": {},
   "outputs": [
    {
     "name": "stdout",
     "output_type": "stream",
     "text": [
      "The countries with no suicides recorded in atleast one year: \n",
      "0                  Albania\n",
      "1      Antigua and Barbuda\n",
      "2                  Armenia\n",
      "3                    Aruba\n",
      "4                Australia\n",
      "              ...         \n",
      "77     Trinidad and Tobago\n",
      "78            Turkmenistan\n",
      "79    United Arab Emirates\n",
      "80          United Kingdom\n",
      "81                 Uruguay\n",
      "Name: country, Length: 82, dtype: object\n"
     ]
    }
   ],
   "source": [
    "print(\"The countries with no suicides recorded in atleast one year: \", end=\"\\n\")\n",
    "print(df_temp.loc[df_temp['suicides_no']==0].drop_duplicates([\"country\"]).reset_index()['country']) "
   ]
  },
  {
   "cell_type": "code",
   "execution_count": 40,
   "metadata": {},
   "outputs": [
    {
     "name": "stdout",
     "output_type": "stream",
     "text": [
      "New DATAFRAME: \n",
      "        country  HDI for year\n",
      "1        Norway      0.912000\n",
      "2   Switzerland      0.900250\n",
      "3       Denmark      0.896375\n",
      "4   Netherlands      0.877000\n",
      "5     Singapore      0.876429\n",
      "..          ...           ...\n",
      "61     Paraguay      0.623833\n",
      "62    Nicaragua      0.623333\n",
      "63   Azerbaijan      0.615200\n",
      "64       Guyana      0.598750\n",
      "65    Guatemala      0.579167\n",
      "\n",
      "[65 rows x 2 columns]\n"
     ]
    }
   ],
   "source": [
    "print(\"New DATAFRAME: \", end=\"\\n\")\n",
    "new_df = df_temp.loc[df_temp['suicides_no']==0].dropna().groupby('country')[['HDI for year']].mean().sort_values(\"HDI for year\",ascending = False).reset_index().copy()\n",
    "new_df.index = np.arange(1, len(new_df)+1)\n",
    "#new_df[new_df.duplicated(['country'])]\n",
    "print(new_df)"
   ]
  },
  {
   "cell_type": "code",
   "execution_count": 41,
   "metadata": {},
   "outputs": [
    {
     "name": "stdout",
     "output_type": "stream",
     "text": [
      "The countries with no record of suicide in all the years:\n",
      "\n"
     ]
    },
    {
     "data": {
      "text/plain": [
       "0                 Dominica\n",
       "1    Saint Kitts and Nevis\n",
       "Name: country, dtype: object"
      ]
     },
     "execution_count": 41,
     "metadata": {},
     "output_type": "execute_result"
    }
   ],
   "source": [
    "df_temp1 = df_suicide[['country', 'suicides_no', 'HDI for year','year']].copy()\n",
    "#print(df_temp1[df_temp1.groupby('year')['suicides_no'].sum() == 0]) \n",
    "df_ = df_temp1.groupby(['country'])['suicides_no'].sum().sort_values(ascending=True).reset_index()\n",
    "df_ = df_[df_['suicides_no'] == 0]\n",
    "print(\"The countries with no record of suicide in all the years:\\n\")\n",
    "df_.iloc[:,0]"
   ]
  },
  {
   "cell_type": "code",
   "execution_count": 42,
   "metadata": {},
   "outputs": [
    {
     "name": "stdout",
     "output_type": "stream",
     "text": [
      "nan\n",
      "nan\n"
     ]
    }
   ],
   "source": [
    "for var in df_['country']:\n",
    "    print(df_temp1[df_temp1['country'] == var]['HDI for year'].mean())"
   ]
  },
  {
   "cell_type": "code",
   "execution_count": 43,
   "metadata": {},
   "outputs": [
    {
     "name": "stdout",
     "output_type": "stream",
     "text": [
      "Clearly data not available for these countries to rank based on HDI\n"
     ]
    }
   ],
   "source": [
    "print(\"Clearly data not available for these countries to rank based on HDI\")"
   ]
  },
  {
   "cell_type": "markdown",
   "metadata": {
    "colab_type": "text",
    "id": "OlNncuWsNB-b"
   },
   "source": [
    "### 6. Generate suitable graphs for comparing suicides between men and women for the top 5 countries with the highest suicide rate per 100,000.\n"
   ]
  },
  {
   "cell_type": "code",
   "execution_count": 44,
   "metadata": {},
   "outputs": [
    {
     "data": {
      "text/html": [
       "<div>\n",
       "<style scoped>\n",
       "    .dataframe tbody tr th:only-of-type {\n",
       "        vertical-align: middle;\n",
       "    }\n",
       "\n",
       "    .dataframe tbody tr th {\n",
       "        vertical-align: top;\n",
       "    }\n",
       "\n",
       "    .dataframe thead th {\n",
       "        text-align: right;\n",
       "    }\n",
       "</style>\n",
       "<table border=\"1\" class=\"dataframe\">\n",
       "  <thead>\n",
       "    <tr style=\"text-align: right;\">\n",
       "      <th></th>\n",
       "      <th>country</th>\n",
       "      <th>year</th>\n",
       "      <th>suicides/100k pop</th>\n",
       "      <th>suicides_no</th>\n",
       "      <th>sex</th>\n",
       "    </tr>\n",
       "  </thead>\n",
       "  <tbody>\n",
       "    <tr>\n",
       "      <td>0</td>\n",
       "      <td>Albania</td>\n",
       "      <td>1987</td>\n",
       "      <td>6.71</td>\n",
       "      <td>21</td>\n",
       "      <td>male</td>\n",
       "    </tr>\n",
       "    <tr>\n",
       "      <td>1</td>\n",
       "      <td>Albania</td>\n",
       "      <td>1987</td>\n",
       "      <td>5.19</td>\n",
       "      <td>16</td>\n",
       "      <td>male</td>\n",
       "    </tr>\n",
       "    <tr>\n",
       "      <td>2</td>\n",
       "      <td>Albania</td>\n",
       "      <td>1987</td>\n",
       "      <td>4.83</td>\n",
       "      <td>14</td>\n",
       "      <td>female</td>\n",
       "    </tr>\n",
       "    <tr>\n",
       "      <td>3</td>\n",
       "      <td>Albania</td>\n",
       "      <td>1987</td>\n",
       "      <td>4.59</td>\n",
       "      <td>1</td>\n",
       "      <td>male</td>\n",
       "    </tr>\n",
       "    <tr>\n",
       "      <td>4</td>\n",
       "      <td>Albania</td>\n",
       "      <td>1987</td>\n",
       "      <td>3.28</td>\n",
       "      <td>9</td>\n",
       "      <td>male</td>\n",
       "    </tr>\n",
       "  </tbody>\n",
       "</table>\n",
       "</div>"
      ],
      "text/plain": [
       "   country  year  suicides/100k pop  suicides_no     sex\n",
       "0  Albania  1987               6.71           21    male\n",
       "1  Albania  1987               5.19           16    male\n",
       "2  Albania  1987               4.83           14  female\n",
       "3  Albania  1987               4.59            1    male\n",
       "4  Albania  1987               3.28            9    male"
      ]
     },
     "execution_count": 44,
     "metadata": {},
     "output_type": "execute_result"
    }
   ],
   "source": [
    "df_temp = df_suicide[[ 'country', 'year', 'suicides/100k pop', 'suicides_no', 'sex']].dropna().copy()\n",
    "df_temp.head(5)"
   ]
  },
  {
   "cell_type": "code",
   "execution_count": 45,
   "metadata": {},
   "outputs": [
    {
     "name": "stdout",
     "output_type": "stream",
     "text": [
      "Top 5 Countries with highest (average) (annual) suicide rate per 100K population: \n",
      "              country  suicides/100k pop\n",
      "0           Lithuania         481.312727\n",
      "1           Sri Lanka         423.541818\n",
      "2  Russian Federation         418.708519\n",
      "3             Hungary         390.618077\n",
      "4             Belarus         372.910952\n"
     ]
    }
   ],
   "source": [
    "print('Top 5 Countries with highest (average) (annual) suicide rate per 100K population: ')\n",
    "#print(df_temp.groupby(['country','year','sex'])['suicides/100k pop'].sum().reset_index().groupby(['country','year'])['suicides/100k pop'].sum())\n",
    "df__ = df_temp.groupby(['country','year','sex'])['suicides/100k pop'].sum().reset_index().groupby(['country','year'])['suicides/100k pop'].sum().groupby(['country']).mean().sort_values(ascending=False).reset_index().head(5)\n",
    "#df__['male'] = np.nan \n",
    "#df__['female'] = np.nan\n",
    "#df__['female'] = np.nan \n",
    "print(df__) "
   ]
  },
  {
   "cell_type": "code",
   "execution_count": 46,
   "metadata": {},
   "outputs": [
    {
     "name": "stdout",
     "output_type": "stream",
     "text": [
      "              country  suicides/100k pop  sex  sex_suicide_no  suicides_no\n",
      "0           Lithuania         481.312727  NaN             NaN          NaN\n",
      "1           Sri Lanka         423.541818  NaN             NaN          NaN\n",
      "2  Russian Federation         418.708519  NaN             NaN          NaN\n",
      "3             Hungary         390.618077  NaN             NaN          NaN\n",
      "4             Belarus         372.910952  NaN             NaN          NaN\n",
      "5           Lithuania         481.312727  NaN             NaN          NaN\n",
      "6           Sri Lanka         423.541818  NaN             NaN          NaN\n",
      "7  Russian Federation         418.708519  NaN             NaN          NaN\n",
      "8             Hungary         390.618077  NaN             NaN          NaN\n",
      "9             Belarus         372.910952  NaN             NaN          NaN\n"
     ]
    }
   ],
   "source": [
    "df__1=df__.copy()\n",
    "df__1 = df__1.append(df__,ignore_index=True) \n",
    "df__1['sex'] = np.nan\n",
    "df__1['sex_suicide_no'] = np.nan\n",
    "df__1['suicides_no'] = np.nan\n",
    "print(df__1) \n"
   ]
  },
  {
   "cell_type": "code",
   "execution_count": 47,
   "metadata": {},
   "outputs": [
    {
     "name": "stdout",
     "output_type": "stream",
     "text": [
      "Total number of suicides (from 1985 - 2016) by males and females for Top 5 countries\n",
      "having highest (average) (annual) suicide rate per 100k population : \n"
     ]
    },
    {
     "data": {
      "text/html": [
       "<div>\n",
       "<style scoped>\n",
       "    .dataframe tbody tr th:only-of-type {\n",
       "        vertical-align: middle;\n",
       "    }\n",
       "\n",
       "    .dataframe tbody tr th {\n",
       "        vertical-align: top;\n",
       "    }\n",
       "\n",
       "    .dataframe thead th {\n",
       "        text-align: right;\n",
       "    }\n",
       "</style>\n",
       "<table border=\"1\" class=\"dataframe\">\n",
       "  <thead>\n",
       "    <tr style=\"text-align: right;\">\n",
       "      <th></th>\n",
       "      <th>country</th>\n",
       "      <th>suicides/100k pop</th>\n",
       "      <th>sex</th>\n",
       "      <th>sex_suicide_no</th>\n",
       "      <th>suicides_no</th>\n",
       "    </tr>\n",
       "  </thead>\n",
       "  <tbody>\n",
       "    <tr>\n",
       "      <td>0</td>\n",
       "      <td>Lithuania</td>\n",
       "      <td>481.312727</td>\n",
       "      <td>male</td>\n",
       "      <td>23028.0</td>\n",
       "      <td>28039.0</td>\n",
       "    </tr>\n",
       "    <tr>\n",
       "      <td>1</td>\n",
       "      <td>Sri Lanka</td>\n",
       "      <td>423.541818</td>\n",
       "      <td>male</td>\n",
       "      <td>42043.0</td>\n",
       "      <td>55641.0</td>\n",
       "    </tr>\n",
       "    <tr>\n",
       "      <td>2</td>\n",
       "      <td>Russian Federation</td>\n",
       "      <td>418.708519</td>\n",
       "      <td>male</td>\n",
       "      <td>995412.0</td>\n",
       "      <td>1209742.0</td>\n",
       "    </tr>\n",
       "    <tr>\n",
       "      <td>3</td>\n",
       "      <td>Hungary</td>\n",
       "      <td>390.618077</td>\n",
       "      <td>male</td>\n",
       "      <td>55776.0</td>\n",
       "      <td>73891.0</td>\n",
       "    </tr>\n",
       "    <tr>\n",
       "      <td>4</td>\n",
       "      <td>Belarus</td>\n",
       "      <td>372.910952</td>\n",
       "      <td>male</td>\n",
       "      <td>49890.0</td>\n",
       "      <td>59892.0</td>\n",
       "    </tr>\n",
       "    <tr>\n",
       "      <td>5</td>\n",
       "      <td>Lithuania</td>\n",
       "      <td>481.312727</td>\n",
       "      <td>female</td>\n",
       "      <td>5011.0</td>\n",
       "      <td>28039.0</td>\n",
       "    </tr>\n",
       "    <tr>\n",
       "      <td>6</td>\n",
       "      <td>Sri Lanka</td>\n",
       "      <td>423.541818</td>\n",
       "      <td>female</td>\n",
       "      <td>13598.0</td>\n",
       "      <td>55641.0</td>\n",
       "    </tr>\n",
       "    <tr>\n",
       "      <td>7</td>\n",
       "      <td>Russian Federation</td>\n",
       "      <td>418.708519</td>\n",
       "      <td>female</td>\n",
       "      <td>214330.0</td>\n",
       "      <td>1209742.0</td>\n",
       "    </tr>\n",
       "    <tr>\n",
       "      <td>8</td>\n",
       "      <td>Hungary</td>\n",
       "      <td>390.618077</td>\n",
       "      <td>female</td>\n",
       "      <td>18115.0</td>\n",
       "      <td>73891.0</td>\n",
       "    </tr>\n",
       "    <tr>\n",
       "      <td>9</td>\n",
       "      <td>Belarus</td>\n",
       "      <td>372.910952</td>\n",
       "      <td>female</td>\n",
       "      <td>10002.0</td>\n",
       "      <td>59892.0</td>\n",
       "    </tr>\n",
       "  </tbody>\n",
       "</table>\n",
       "</div>"
      ],
      "text/plain": [
       "              country  suicides/100k pop     sex  sex_suicide_no  suicides_no\n",
       "0           Lithuania         481.312727    male         23028.0      28039.0\n",
       "1           Sri Lanka         423.541818    male         42043.0      55641.0\n",
       "2  Russian Federation         418.708519    male        995412.0    1209742.0\n",
       "3             Hungary         390.618077    male         55776.0      73891.0\n",
       "4             Belarus         372.910952    male         49890.0      59892.0\n",
       "5           Lithuania         481.312727  female          5011.0      28039.0\n",
       "6           Sri Lanka         423.541818  female         13598.0      55641.0\n",
       "7  Russian Federation         418.708519  female        214330.0    1209742.0\n",
       "8             Hungary         390.618077  female         18115.0      73891.0\n",
       "9             Belarus         372.910952  female         10002.0      59892.0"
      ]
     },
     "execution_count": 47,
     "metadata": {},
     "output_type": "execute_result"
    }
   ],
   "source": [
    "i=0\n",
    "for var in df__['country']: \n",
    "    df__1.iloc[i, df__1.columns.get_loc('sex_suicide_no')] = a = df_temp[df_temp['country']==var].groupby(['country','year','sex'])['suicides_no'].sum().reset_index().groupby(['country','sex'])['suicides_no'].sum().reset_index().iloc[1,2]\n",
    "    df__1.iloc[i+5, df__1.columns.get_loc('sex_suicide_no')] = b = df_temp[df_temp['country']==var].groupby(['country','year','sex'])['suicides_no'].sum().reset_index().groupby(['country','sex'])['suicides_no'].sum().reset_index().iloc[0,2]\n",
    "    df__1.iloc[i, df__1.columns.get_loc('suicides_no')] = a+b\n",
    "    df__1.iloc[i+5, df__1.columns.get_loc('suicides_no')] = a+b\n",
    "    df__1.iloc[i, df__1.columns.get_loc('sex')] = \"male\"\n",
    "    df__1.iloc[i+5, df__1.columns.get_loc('sex')] = \"female\"\n",
    "    i+=1\n",
    "print(\"Total number of suicides (from 1985 - 2016) by males and females for Top 5 countries\\nhaving highest (average) (annual) suicide rate per 100k population : \")\n",
    "df__1"
   ]
  },
  {
   "cell_type": "code",
   "execution_count": 48,
   "metadata": {},
   "outputs": [
    {
     "data": {
      "text/html": [
       "<div>\n",
       "<style scoped>\n",
       "    .dataframe tbody tr th:only-of-type {\n",
       "        vertical-align: middle;\n",
       "    }\n",
       "\n",
       "    .dataframe tbody tr th {\n",
       "        vertical-align: top;\n",
       "    }\n",
       "\n",
       "    .dataframe thead th {\n",
       "        text-align: right;\n",
       "    }\n",
       "</style>\n",
       "<table border=\"1\" class=\"dataframe\">\n",
       "  <thead>\n",
       "    <tr style=\"text-align: right;\">\n",
       "      <th></th>\n",
       "      <th>country</th>\n",
       "      <th>year</th>\n",
       "      <th>suicides/100k pop</th>\n",
       "      <th>suicides_no</th>\n",
       "      <th>sex</th>\n",
       "    </tr>\n",
       "  </thead>\n",
       "  <tbody>\n",
       "    <tr>\n",
       "      <td>0</td>\n",
       "      <td>Lithuania</td>\n",
       "      <td>1995</td>\n",
       "      <td>144.85</td>\n",
       "      <td>632</td>\n",
       "      <td>male</td>\n",
       "    </tr>\n",
       "    <tr>\n",
       "      <td>1</td>\n",
       "      <td>Lithuania</td>\n",
       "      <td>1995</td>\n",
       "      <td>141.91</td>\n",
       "      <td>67</td>\n",
       "      <td>male</td>\n",
       "    </tr>\n",
       "    <tr>\n",
       "      <td>2</td>\n",
       "      <td>Lithuania</td>\n",
       "      <td>1995</td>\n",
       "      <td>118.53</td>\n",
       "      <td>325</td>\n",
       "      <td>male</td>\n",
       "    </tr>\n",
       "    <tr>\n",
       "      <td>3</td>\n",
       "      <td>Lithuania</td>\n",
       "      <td>1995</td>\n",
       "      <td>79.37</td>\n",
       "      <td>226</td>\n",
       "      <td>male</td>\n",
       "    </tr>\n",
       "    <tr>\n",
       "      <td>4</td>\n",
       "      <td>Lithuania</td>\n",
       "      <td>1995</td>\n",
       "      <td>50.80</td>\n",
       "      <td>134</td>\n",
       "      <td>male</td>\n",
       "    </tr>\n",
       "    <tr>\n",
       "      <td>...</td>\n",
       "      <td>...</td>\n",
       "      <td>...</td>\n",
       "      <td>...</td>\n",
       "      <td>...</td>\n",
       "      <td>...</td>\n",
       "    </tr>\n",
       "    <tr>\n",
       "      <td>1275</td>\n",
       "      <td>Belarus</td>\n",
       "      <td>2014</td>\n",
       "      <td>5.91</td>\n",
       "      <td>68</td>\n",
       "      <td>female</td>\n",
       "    </tr>\n",
       "    <tr>\n",
       "      <td>1276</td>\n",
       "      <td>Belarus</td>\n",
       "      <td>2014</td>\n",
       "      <td>5.50</td>\n",
       "      <td>41</td>\n",
       "      <td>female</td>\n",
       "    </tr>\n",
       "    <tr>\n",
       "      <td>1277</td>\n",
       "      <td>Belarus</td>\n",
       "      <td>2014</td>\n",
       "      <td>2.74</td>\n",
       "      <td>15</td>\n",
       "      <td>female</td>\n",
       "    </tr>\n",
       "    <tr>\n",
       "      <td>1278</td>\n",
       "      <td>Belarus</td>\n",
       "      <td>2014</td>\n",
       "      <td>1.32</td>\n",
       "      <td>6</td>\n",
       "      <td>female</td>\n",
       "    </tr>\n",
       "    <tr>\n",
       "      <td>1279</td>\n",
       "      <td>Belarus</td>\n",
       "      <td>2014</td>\n",
       "      <td>0.42</td>\n",
       "      <td>2</td>\n",
       "      <td>male</td>\n",
       "    </tr>\n",
       "  </tbody>\n",
       "</table>\n",
       "<p>1280 rows × 5 columns</p>\n",
       "</div>"
      ],
      "text/plain": [
       "        country  year  suicides/100k pop  suicides_no     sex\n",
       "0     Lithuania  1995             144.85          632    male\n",
       "1     Lithuania  1995             141.91           67    male\n",
       "2     Lithuania  1995             118.53          325    male\n",
       "3     Lithuania  1995              79.37          226    male\n",
       "4     Lithuania  1995              50.80          134    male\n",
       "...         ...   ...                ...          ...     ...\n",
       "1275    Belarus  2014               5.91           68  female\n",
       "1276    Belarus  2014               5.50           41  female\n",
       "1277    Belarus  2014               2.74           15  female\n",
       "1278    Belarus  2014               1.32            6  female\n",
       "1279    Belarus  2014               0.42            2    male\n",
       "\n",
       "[1280 rows x 5 columns]"
      ]
     },
     "execution_count": 48,
     "metadata": {},
     "output_type": "execute_result"
    }
   ],
   "source": [
    "df_d=pd.DataFrame()\n",
    "for var in df__['country']:\n",
    "    df_d  = df_d.append(df_temp[df_temp['country']==var] , ignore_index=True)\n",
    "df_d"
   ]
  },
  {
   "cell_type": "code",
   "execution_count": 49,
   "metadata": {},
   "outputs": [
    {
     "data": {
      "image/png": "[encoded data removed]",
      "text/plain": [
       "<Figure size 720x432 with 1 Axes>"
      ]
     },
     "metadata": {
      "needs_background": "light"
     },
     "output_type": "display_data"
    }
   ],
   "source": [
    "fig, ax = plt.subplots(figsize=(10,6))\n",
    "sns.barplot( \"sex_suicide_no\", \"country\", data=df__1, hue=\"sex\", palette=[\"#9b59b6\", \"#3498db\"], linewidth=1) \n",
    "plt.title(\"Suicides for all years for both make and female\", color=\"b\")\n",
    "plt.show()\n"
   ]
  },
  {
   "cell_type": "code",
   "execution_count": 50,
   "metadata": {},
   "outputs": [
    {
     "data": {
      "image/png": "[encoded data removed]",
      "text/plain": [
       "<Figure size 720x432 with 1 Axes>"
      ]
     },
     "metadata": {
      "needs_background": "light"
     },
     "output_type": "display_data"
    }
   ],
   "source": [
    "fig, ax = plt.subplots(figsize=(10,6))\n",
    "sns.barplot( \"suicides_no\", \"country\", data=df_d, hue=\"sex\", palette=[\"#9b59b6\", \"#3498db\"], linewidth=1) \n",
    "plt.title(\"Suicides for male and female\", color=\"b\")\n",
    "plt.show()\n"
   ]
  },
  {
   "cell_type": "code",
   "execution_count": 51,
   "metadata": {},
   "outputs": [
    {
     "data": {
      "image/png": "[encoded data removed]",
      "text/plain": [
       "<Figure size 720x432 with 1 Axes>"
      ]
     },
     "metadata": {
      "needs_background": "light"
     },
     "output_type": "display_data"
    }
   ],
   "source": [
    "fig, ax = plt.subplots(figsize=(10,6))\n",
    "sns.barplot( \"suicides/100k pop\", \"country\", data=df_d, hue=\"sex\", palette=[\"#9b59b6\", \"#3498db\"], linewidth=1) \n",
    "plt.title(\"Suicides for male and female\", color=\"b\")\n",
    "plt.show()"
   ]
  },
  {
   "cell_type": "code",
   "execution_count": 52,
   "metadata": {},
   "outputs": [
    {
     "name": "stdout",
     "output_type": "stream",
     "text": [
      "Total suicides for all years: \n"
     ]
    },
    {
     "data": {
      "text/plain": [
       "<matplotlib.axes._subplots.AxesSubplot at 0x5b4358b48>"
      ]
     },
     "execution_count": 52,
     "metadata": {},
     "output_type": "execute_result"
    },
    {
     "data": {
      "image/png": "[encoded data removed]",
      "text/plain": [
       "<Figure size 432x288 with 1 Axes>"
      ]
     },
     "metadata": {
      "needs_background": "light"
     },
     "output_type": "display_data"
    }
   ],
   "source": [
    "print('Total suicides for all years: ')\n",
    "sns.stripplot(x=\"sex_suicide_no\", y=\"country\", hue=\"sex\", data=df__1)"
   ]
  },
  {
   "cell_type": "code",
   "execution_count": 53,
   "metadata": {},
   "outputs": [
    {
     "data": {
      "text/plain": [
       "<matplotlib.axes._subplots.AxesSubplot at 0x5b559d788>"
      ]
     },
     "execution_count": 53,
     "metadata": {},
     "output_type": "execute_result"
    },
    {
     "data": {
      "image/png": "[encoded data removed]",
      "text/plain": [
       "<Figure size 432x288 with 1 Axes>"
      ]
     },
     "metadata": {
      "needs_background": "light"
     },
     "output_type": "display_data"
    }
   ],
   "source": [
    "sns.stripplot(x=\"suicides_no\", y=\"country\", hue=\"sex\", data=df_d)"
   ]
  },
  {
   "cell_type": "code",
   "execution_count": 54,
   "metadata": {},
   "outputs": [
    {
     "data": {
      "text/plain": [
       "<matplotlib.axes._subplots.AxesSubplot at 0x5b2aae208>"
      ]
     },
     "execution_count": 54,
     "metadata": {},
     "output_type": "execute_result"
    },
    {
     "data": {
      "image/png": "[encoded data removed]",
      "text/plain": [
       "<Figure size 432x288 with 1 Axes>"
      ]
     },
     "metadata": {
      "needs_background": "light"
     },
     "output_type": "display_data"
    }
   ],
   "source": [
    "sns.stripplot(x=\"suicides/100k pop\", y=\"country\", hue=\"sex\", data=df_d)"
   ]
  },
  {
   "cell_type": "code",
   "execution_count": 55,
   "metadata": {},
   "outputs": [
    {
     "name": "stdout",
     "output_type": "stream",
     "text": [
      "Total suicides for all years:\n"
     ]
    },
    {
     "data": {
      "text/plain": [
       "<matplotlib.axes._subplots.AxesSubplot at 0x5b41e5348>"
      ]
     },
     "execution_count": 55,
     "metadata": {},
     "output_type": "execute_result"
    },
    {
     "data": {
      "image/png": "[encoded data removed]",
      "text/plain": [
       "<Figure size 432x288 with 1 Axes>"
      ]
     },
     "metadata": {
      "needs_background": "light"
     },
     "output_type": "display_data"
    }
   ],
   "source": [
    "print(\"Total suicides for all years:\")\n",
    "sns.pointplot(x=\"sex_suicide_no\", y=\"country\", hue=\"sex\", data=df__1, dodge=True)"
   ]
  },
  {
   "cell_type": "code",
   "execution_count": 56,
   "metadata": {},
   "outputs": [
    {
     "data": {
      "text/plain": [
       "<matplotlib.axes._subplots.AxesSubplot at 0x5b55eab88>"
      ]
     },
     "execution_count": 56,
     "metadata": {},
     "output_type": "execute_result"
    },
    {
     "data": {
      "image/png": "[encoded data removed]",
      "text/plain": [
       "<Figure size 432x288 with 1 Axes>"
      ]
     },
     "metadata": {
      "needs_background": "light"
     },
     "output_type": "display_data"
    }
   ],
   "source": [
    "sns.pointplot(x=\"suicides_no\", y=\"country\", hue=\"sex\", data=df_d, dodge=True)"
   ]
  },
  {
   "cell_type": "code",
   "execution_count": 57,
   "metadata": {},
   "outputs": [
    {
     "data": {
      "text/plain": [
       "<matplotlib.axes._subplots.AxesSubplot at 0x5b5681988>"
      ]
     },
     "execution_count": 57,
     "metadata": {},
     "output_type": "execute_result"
    },
    {
     "data": {
      "image/png": "[encoded data removed]",
      "text/plain": [
       "<Figure size 432x288 with 1 Axes>"
      ]
     },
     "metadata": {
      "needs_background": "light"
     },
     "output_type": "display_data"
    }
   ],
   "source": [
    "sns.pointplot(x=\"suicides/100k pop\", y=\"country\", hue=\"sex\", data=df_d, dodge=True)"
   ]
  },
  {
   "cell_type": "markdown",
   "metadata": {
    "colab_type": "text",
    "id": "rKWfw_cTNB_R"
   },
   "source": [
    "### 7. Are there any redundant columns in the dataset? Which coulmn is it? Can that column be dropped? State your reasons.\n"
   ]
  },
  {
   "cell_type": "code",
   "execution_count": 58,
   "metadata": {},
   "outputs": [
    {
     "name": "stdout",
     "output_type": "stream",
     "text": [
      "The columns having row-wise redundancy are: \n",
      "*************\n",
      "country\n",
      "*************\n",
      "Unique values for this column: \n",
      " ['Albania' 'Antigua and Barbuda' 'Argentina' 'Armenia' 'Aruba' 'Australia'\n",
      " 'Austria' 'Azerbaijan' 'Bahamas' 'Bahrain' 'Barbados' 'Belarus' 'Belgium'\n",
      " 'Belize' 'Bosnia and Herzegovina' 'Brazil' 'Bulgaria' 'Cabo Verde'\n",
      " 'Canada' 'Chile' 'Colombia' 'Costa Rica' 'Croatia' 'Cuba' 'Cyprus'\n",
      " 'Czech Republic' 'Denmark' 'Dominica' 'Ecuador' 'El Salvador' 'Estonia'\n",
      " 'Fiji' 'Finland' 'France' 'Georgia' 'Germany' 'Greece' 'Grenada'\n",
      " 'Guatemala' 'Guyana' 'Hungary' 'Iceland' 'Ireland' 'Israel' 'Italy'\n",
      " 'Jamaica' 'Japan' 'Kazakhstan' 'Kiribati' 'Kuwait' 'Kyrgyzstan' 'Latvia'\n",
      " 'Lithuania' 'Luxembourg' 'Macau' 'Maldives' 'Malta' 'Mauritius' 'Mexico'\n",
      " 'Mongolia' 'Montenegro' 'Netherlands' 'New Zealand' 'Nicaragua' 'Norway'\n",
      " 'Oman' 'Panama' 'Paraguay' 'Philippines' 'Poland' 'Portugal'\n",
      " 'Puerto Rico' 'Qatar' 'Republic of Korea' 'Romania' 'Russian Federation'\n",
      " 'Saint Kitts and Nevis' 'Saint Lucia' 'Saint Vincent and Grenadines'\n",
      " 'San Marino' 'Serbia' 'Seychelles' 'Singapore' 'Slovakia' 'Slovenia'\n",
      " 'South Africa' 'Spain' 'Sri Lanka' 'Suriname' 'Sweden' 'Switzerland'\n",
      " 'Thailand' 'Trinidad and Tobago' 'Turkey' 'Turkmenistan' 'Ukraine'\n",
      " 'United Arab Emirates' 'United Kingdom' 'United States' 'Uruguay'\n",
      " 'Uzbekistan']\n",
      "*************\n",
      "year\n",
      "*************\n",
      "Unique values for this column: \n",
      " [1987 1988 1989 1992 1993 1994 1995 1996 1997 1998 1999 2000 2001 2002\n",
      " 2003 2004 2005 2006 2007 2008 2009 2010 1985 1986 1990 1991 2012 2013\n",
      " 2014 2015 2011 2016]\n",
      "*************\n",
      "sex\n",
      "*************\n",
      "Unique values for this column: \n",
      " ['male' 'female']\n",
      "*************\n",
      "age\n",
      "*************\n",
      "Unique values for this column: \n",
      " ['15-24 years' '35-54 years' '75+ years' '25-34 years' '55-74 years'\n",
      " '5-14 years']\n",
      "*************\n",
      "suicides_no\n",
      "*************\n",
      "Unique values for this column: \n",
      " [  21   16   14 ... 5503 4359 2872]\n",
      "*************\n",
      "population\n",
      "*************\n",
      "Unique values for this column: \n",
      " [ 312900  308000  289700 ... 2762158 2631600 1438935]\n",
      "*************\n",
      "suicides/100k pop\n",
      "*************\n",
      "Unique values for this column: \n",
      " [ 6.71  5.19  4.83 ... 47.86 40.75 26.61]\n",
      "*************\n",
      "country-year\n",
      "*************\n",
      "Unique values for this column: \n",
      " ['Albania1987' 'Albania1988' 'Albania1989' ... 'Uzbekistan2012'\n",
      " 'Uzbekistan2013' 'Uzbekistan2014']\n",
      "*************\n",
      "HDI for year\n",
      "*************\n",
      "Unique values for this column: \n",
      " [  nan 0.619 0.656 0.695 0.722 0.781 0.783 0.694 0.705 0.731 0.762 0.775\n",
      " 0.811 0.818 0.831 0.833 0.836 0.632 0.605 0.648 0.721 0.723 0.728 0.733\n",
      " 0.865 0.882 0.898 0.927 0.93  0.932 0.933 0.935 0.764 0.794 0.815 0.853\n",
      " 0.879 0.881 0.884 0.885 0.609 0.64  0.778 0.78  0.774 0.786 0.727 0.816\n",
      " 0.819 0.817 0.821 0.824 0.7   0.716 0.753 0.765 0.793 0.785 0.683 0.796\n",
      " 0.798 0.806 0.851 0.874 0.866 0.883 0.886 0.889 0.888 0.89  0.644 0.664\n",
      " 0.701 0.71  0.711 0.715 0.724 0.576 0.608 0.702 0.737 0.742 0.746 0.752\n",
      " 0.755 0.686 0.696 0.713 0.749 0.773 0.779 0.782 0.827 0.849 0.861 0.867\n",
      " 0.892 0.903 0.909 0.91  0.912 0.654 0.699 0.788 0.814 0.83  0.832 0.573\n",
      " 0.596 0.629 0.679 0.706 0.718 0.72  0.623 0.652 0.682 0.704 0.75  0.756\n",
      " 0.761 0.766 0.807 0.653 0.685 0.73  0.776 0.772 0.768 0.769 0.8   0.848\n",
      " 0.852 0.85  0.847 0.863 0.868 0.87  0.862 0.902 0.908 0.92  0.921 0.923\n",
      " 0.631 0.645 0.665 0.674 0.698 0.717 0.732 0.522 0.566 0.603 0.638 0.658\n",
      " 0.662 0.666 0.719 0.838 0.855 0.859 0.857 0.869 0.878 0.741 0.825 0.887\n",
      " 0.672 0.735 0.74  0.747 0.754 0.801 0.906 0.911 0.915 0.916 0.759 0.799\n",
      " 0.864 0.739 0.483 0.513 0.552 0.611 0.617 0.624 0.626 0.627 0.542 0.581\n",
      " 0.618 0.63  0.634 0.802 0.823 0.828 0.826 0.896 0.897 0.899 0.77  0.803\n",
      " 0.895 0.893 0.894 0.738 0.829 0.856 0.873 0.872 0.65  0.671 0.729 0.791\n",
      " 0.891 0.69  0.804 0.795 0.809 0.812 0.615 0.562 0.593 0.614 0.639 0.655\n",
      " 0.67  0.813 0.837 0.839 0.805 0.88  0.822 0.575 0.647 0.777 0.748 0.877\n",
      " 0.919 0.922 0.82  0.905 0.907 0.625 0.628 0.917 0.931 0.94  0.941 0.942\n",
      " 0.944 0.714 0.564 0.579 0.604 0.646 0.668 0.669 0.677 0.84  0.843 0.676\n",
      " 0.844 0.841 0.703 0.751 0.691 0.697 0.757 0.771 0.736 0.743 0.767 0.763\n",
      " 0.876 0.613 0.643 0.651 0.659 0.663 0.725 0.845 0.597 0.692 0.707 0.709\n",
      " 0.901 0.904 0.846 0.924 0.925 0.928 0.539 0.572 0.684 0.726 0.673 0.688\n",
      " 0.913 0.667 0.79  0.594 0.661 0.675]\n",
      "*************\n",
      " gdp_for_year ($) \n",
      "*************\n",
      "Unique values for this column: \n",
      " ['2,156,624,900' '2,126,000,000' '2,335,124,988' ... '51,821,573,338'\n",
      " '57,690,453,461' '63,067,077,179']\n",
      "*************\n",
      "gdp_per_capita ($)\n",
      "*************\n",
      "Unique values for this column: \n",
      " [ 796  769  833 ... 1964 2150 2309]\n",
      "*************\n",
      "generation\n",
      "*************\n",
      "Unique values for this column: \n",
      " ['Generation X' 'Silent' 'G.I. Generation' 'Boomers' 'Millenials'\n",
      " 'Generation Z']\n"
     ]
    }
   ],
   "source": [
    "#df_suicide\n",
    "print('The columns having row-wise redundancy are: ')\n",
    "for var in df_suicide.columns:\n",
    "    if df_suicide[var].duplicated().any()==True:\n",
    "        print(\"*************\")\n",
    "        print(var)\n",
    "        print(\"*************\\nUnique values for this column: \\n\",df_suicide[var].unique())"
   ]
  },
  {
   "cell_type": "code",
   "execution_count": 59,
   "metadata": {},
   "outputs": [
    {
     "name": "stdout",
     "output_type": "stream",
     "text": [
      "Row-wise redundancy: There is redundancy in almost every column. Redundancy can be avoided by creating a primary key and splitting the dataframe into multiple dataframes linked by that primary key. Here, if we drop duplicates in country, we lose important data such as suicide_no for multiple years. Similarly, if we remove redundancy in generation, we cannot study suicide_no for various generations countrywise. They can be removed, however, in certain situations, e.g., when we are trying to study correlation between a categorical and a numerical variable. But, if we drop the whole column, it results in loss of important data, if we are trying to study other columns in relation to that column. But, if we don't need that column, it can sure be dropped. E.g, If our sole purpose is to study correlation between HDI and suicides_no, then there is no need of other columns.\n",
      "\n",
      "Column-wise redundancy: Then, there are columns such as 'country', 'year' and 'country-year', one of which can be safely removed as the values of one can be obtained from the other one/ two, e.g., by selecting string.[-4:] and then converting the data type into int64, we can get year from country- year. Also, there are columns like 'population', 'gdp_per_capita ($)' and ' gdp_for_year ($) ', one of which can be removed as we can easily find one from other two, e.g, gdp per capita = gdp/population. Similarly one of 'suicides_no', 'population' and 'suicides/100k pop' can be dropped.\n"
     ]
    }
   ],
   "source": [
    "print('Row-wise redundancy: There is redundancy in almost every column. Redundancy can be avoided by creating a primary key and splitting the dataframe into multiple dataframes linked by that primary key. Here, if we drop duplicates in country, we lose important data such as suicide_no for multiple years. Similarly, if we remove redundancy in generation, we cannot study suicide_no for various generations countrywise. They can be removed, however, in certain situations, e.g., when we are trying to study correlation between a categorical and a numerical variable. But, if we drop the whole column, it results in loss of important data, if we are trying to study other columns in relation to that column. But, if we don\\'t need that column, it can sure be dropped. E.g, If our sole purpose is to study correlation between HDI and suicides_no, then there is no need of other columns.')\n",
    "print('\\nColumn-wise redundancy: Then, there are columns such as \\'country\\', \\'year\\' and \\'country-year\\', one of which can be safely removed as the values of one can be obtained from the other one/ two, e.g., by selecting string.[-4:] and then converting the data type into int64, we can get year from country- year. Also, there are columns like \\'population\\', \\'gdp_per_capita ($)\\' and \\' gdp_for_year ($) \\', one of which can be removed as we can easily find one from other two, e.g, gdp per capita = gdp/population. Similarly one of \\'suicides_no\\', \\'population\\' and \\'suicides/100k pop\\' can be dropped.')\n"
   ]
  },
  {
   "cell_type": "markdown",
   "metadata": {
    "colab_type": "text",
    "id": "0pJpCniBNB_a"
   },
   "source": [
    "### 8. Please obtain the distribution of suicides for each age group for Argentina. Plot these as graphs\n"
   ]
  },
  {
   "cell_type": "code",
   "execution_count": 60,
   "metadata": {},
   "outputs": [
    {
     "data": {
      "text/html": [
       "<div>\n",
       "<style scoped>\n",
       "    .dataframe tbody tr th:only-of-type {\n",
       "        vertical-align: middle;\n",
       "    }\n",
       "\n",
       "    .dataframe tbody tr th {\n",
       "        vertical-align: top;\n",
       "    }\n",
       "\n",
       "    .dataframe thead th {\n",
       "        text-align: right;\n",
       "    }\n",
       "</style>\n",
       "<table border=\"1\" class=\"dataframe\">\n",
       "  <thead>\n",
       "    <tr style=\"text-align: right;\">\n",
       "      <th></th>\n",
       "      <th>age</th>\n",
       "      <th>suicides_no</th>\n",
       "    </tr>\n",
       "  </thead>\n",
       "  <tbody>\n",
       "    <tr>\n",
       "      <td>588</td>\n",
       "      <td>75+ years</td>\n",
       "      <td>202</td>\n",
       "    </tr>\n",
       "    <tr>\n",
       "      <td>589</td>\n",
       "      <td>55-74 years</td>\n",
       "      <td>485</td>\n",
       "    </tr>\n",
       "    <tr>\n",
       "      <td>590</td>\n",
       "      <td>35-54 years</td>\n",
       "      <td>414</td>\n",
       "    </tr>\n",
       "    <tr>\n",
       "      <td>591</td>\n",
       "      <td>55-74 years</td>\n",
       "      <td>210</td>\n",
       "    </tr>\n",
       "    <tr>\n",
       "      <td>592</td>\n",
       "      <td>25-34 years</td>\n",
       "      <td>177</td>\n",
       "    </tr>\n",
       "  </tbody>\n",
       "</table>\n",
       "</div>"
      ],
      "text/plain": [
       "             age  suicides_no\n",
       "588    75+ years          202\n",
       "589  55-74 years          485\n",
       "590  35-54 years          414\n",
       "591  55-74 years          210\n",
       "592  25-34 years          177"
      ]
     },
     "execution_count": 60,
     "metadata": {},
     "output_type": "execute_result"
    }
   ],
   "source": [
    "df_temp=df_suicide[df_suicide['country'] == 'Argentina'][['age','suicides_no']].dropna().drop_duplicates().copy()\n",
    "df_temp.head()"
   ]
  },
  {
   "cell_type": "code",
   "execution_count": 61,
   "metadata": {},
   "outputs": [
    {
     "name": "stdout",
     "output_type": "stream",
     "text": [
      "Categorical distribution plot: \n"
     ]
    },
    {
     "data": {
      "image/png": "[encoded data removed]",
      "text/plain": [
       "<Figure size 720x432 with 1 Axes>"
      ]
     },
     "metadata": {},
     "output_type": "display_data"
    }
   ],
   "source": [
    "print(\"Categorical distribution plot: \")\n",
    "sns.set_style('whitegrid') \n",
    "fig, ax = plt.subplots(figsize=(10,6))\n",
    "ax = sns.stripplot(x=\"age\", y=\"suicides_no\", data=df_temp)"
   ]
  },
  {
   "cell_type": "code",
   "execution_count": 62,
   "metadata": {},
   "outputs": [
    {
     "name": "stdout",
     "output_type": "stream",
     "text": [
      "Categorical scatter plot: \n"
     ]
    },
    {
     "data": {
      "image/png": "[encoded data removed]",
      "text/plain": [
       "<Figure size 720x432 with 1 Axes>"
      ]
     },
     "metadata": {},
     "output_type": "display_data"
    }
   ],
   "source": [
    "print(\"Categorical scatter plot: \")\n",
    "fig, ax = plt.subplots(figsize=(10,6))\n",
    "ax = sns.swarmplot(x=\"age\", y=\"suicides_no\", data=df_temp)"
   ]
  },
  {
   "cell_type": "code",
   "execution_count": 63,
   "metadata": {},
   "outputs": [
    {
     "name": "stdout",
     "output_type": "stream",
     "text": [
      "Categorical distribution plot: \n"
     ]
    },
    {
     "data": {
      "image/png": "[encoded data removed]",
      "text/plain": [
       "<Figure size 720x432 with 1 Axes>"
      ]
     },
     "metadata": {},
     "output_type": "display_data"
    }
   ],
   "source": [
    "print(\"Categorical distribution plot: \")\n",
    "fig, ax = plt.subplots(figsize=(10,6))\n",
    "ax = sns.boxplot(x=\"age\", y=\"suicides_no\", data=df_temp)"
   ]
  },
  {
   "cell_type": "code",
   "execution_count": 64,
   "metadata": {},
   "outputs": [
    {
     "name": "stdout",
     "output_type": "stream",
     "text": [
      "Categorical distribution plot: \n"
     ]
    },
    {
     "data": {
      "image/png": "[encoded data removed]",
      "text/plain": [
       "<Figure size 1440x432 with 1 Axes>"
      ]
     },
     "metadata": {},
     "output_type": "display_data"
    }
   ],
   "source": [
    "print(\"Categorical distribution plot: \")\n",
    "fig, ax = plt.subplots(figsize=(20,6))\n",
    "ax = sns.violinplot(x=\"age\", y=\"suicides_no\", data=df_temp)"
   ]
  },
  {
   "cell_type": "code",
   "execution_count": 65,
   "metadata": {},
   "outputs": [
    {
     "name": "stdout",
     "output_type": "stream",
     "text": [
      "Categorical distribution plot: \n"
     ]
    },
    {
     "data": {
      "image/png": "[encoded data removed]",
      "text/plain": [
       "<Figure size 1440x432 with 1 Axes>"
      ]
     },
     "metadata": {},
     "output_type": "display_data"
    }
   ],
   "source": [
    "print(\"Categorical distribution plot: \")\n",
    "fig, ax = plt.subplots(figsize=(20,6))\n",
    "ax = sns.boxenplot(x=\"age\", y=\"suicides_no\", data=df_temp)"
   ]
  },
  {
   "cell_type": "markdown",
   "metadata": {
    "colab_type": "text",
    "id": "fA_MB4F0NB_t"
   },
   "source": [
    "### 9. Generate a correlation heatmap for the dataset. Which pairs of variables are highly correlated.\n"
   ]
  },
  {
   "cell_type": "code",
   "execution_count": 66,
   "metadata": {},
   "outputs": [
    {
     "data": {
      "text/plain": [
       "(6, 0)"
      ]
     },
     "execution_count": 66,
     "metadata": {},
     "output_type": "execute_result"
    },
    {
     "data": {
      "image/png": "[encoded data removed]",
      "text/plain": [
       "<Figure size 720x504 with 2 Axes>"
      ]
     },
     "metadata": {},
     "output_type": "display_data"
    }
   ],
   "source": [
    "#sns.heatmap(df_suicide.corr())\n",
    "fig, ax = plt.subplots(figsize=(10,7))\n",
    "ax=sns.heatmap(df_suicide.corr(), annot=True, vmin=-1, vmax=1, center= 0, cmap= 'coolwarm') \n",
    "#ax.get_ylim()\n",
    "ax.set_ylim(6, 0) "
   ]
  },
  {
   "cell_type": "code",
   "execution_count": 67,
   "metadata": {},
   "outputs": [
    {
     "name": "stdout",
     "output_type": "stream",
     "text": [
      "The pairs of variables which are highly correlated are : gdp_per_capita ($) and HDI for year with a correlation of 0.77, population and suicides_no with a correlation of 0.62\n"
     ]
    }
   ],
   "source": [
    "print('The pairs of variables which are highly correlated are : gdp_per_capita ($) and HDI for year with a correlation of 0.77, population and suicides_no with a correlation of 0.62')"
   ]
  },
  {
   "cell_type": "markdown",
   "metadata": {
    "colab_type": "text",
    "id": "J6yCrXtANCAA"
   },
   "source": [
    "### 10. Generate the following tables:\n",
    "\n"
   ]
  },
  {
   "cell_type": "markdown",
   "metadata": {
    "colab_type": "text",
    "id": "XDvqJuLSNCAC"
   },
   "source": [
    "#### a) A table containing the columns ‘Country’, ‘Year’, ‘Total suicides’. Total Suicides has to be calculated from the existing table."
   ]
  },
  {
   "cell_type": "code",
   "execution_count": 68,
   "metadata": {},
   "outputs": [
    {
     "data": {
      "text/html": [
       "<div>\n",
       "<style scoped>\n",
       "    .dataframe tbody tr th:only-of-type {\n",
       "        vertical-align: middle;\n",
       "    }\n",
       "\n",
       "    .dataframe tbody tr th {\n",
       "        vertical-align: top;\n",
       "    }\n",
       "\n",
       "    .dataframe thead th {\n",
       "        text-align: right;\n",
       "    }\n",
       "</style>\n",
       "<table border=\"1\" class=\"dataframe\">\n",
       "  <thead>\n",
       "    <tr style=\"text-align: right;\">\n",
       "      <th></th>\n",
       "      <th>Country</th>\n",
       "      <th>Year</th>\n",
       "      <th>Total suicides</th>\n",
       "    </tr>\n",
       "  </thead>\n",
       "  <tbody>\n",
       "    <tr>\n",
       "      <td>0</td>\n",
       "      <td>Albania</td>\n",
       "      <td>1987</td>\n",
       "      <td>73</td>\n",
       "    </tr>\n",
       "    <tr>\n",
       "      <td>1</td>\n",
       "      <td>Albania</td>\n",
       "      <td>1988</td>\n",
       "      <td>63</td>\n",
       "    </tr>\n",
       "    <tr>\n",
       "      <td>2</td>\n",
       "      <td>Albania</td>\n",
       "      <td>1989</td>\n",
       "      <td>68</td>\n",
       "    </tr>\n",
       "    <tr>\n",
       "      <td>3</td>\n",
       "      <td>Albania</td>\n",
       "      <td>1992</td>\n",
       "      <td>47</td>\n",
       "    </tr>\n",
       "    <tr>\n",
       "      <td>4</td>\n",
       "      <td>Albania</td>\n",
       "      <td>1993</td>\n",
       "      <td>73</td>\n",
       "    </tr>\n",
       "  </tbody>\n",
       "</table>\n",
       "</div>"
      ],
      "text/plain": [
       "   Country  Year  Total suicides\n",
       "0  Albania  1987              73\n",
       "1  Albania  1988              63\n",
       "2  Albania  1989              68\n",
       "3  Albania  1992              47\n",
       "4  Albania  1993              73"
      ]
     },
     "execution_count": 68,
     "metadata": {},
     "output_type": "execute_result"
    }
   ],
   "source": [
    "df_new = df_suicide.groupby(['country','year'])['suicides_no'].sum().reset_index().copy()\n",
    "df_new= df_new.rename(columns={'suicides_no': 'Total suicides', 'country':'Country','year':'Year'})\n",
    "df_new.head(5) "
   ]
  },
  {
   "cell_type": "markdown",
   "metadata": {
    "colab_type": "text",
    "id": "o4ylnt78NCAQ"
   },
   "source": [
    "#### b) A Table containing the columns ‘Country’, ‘Year’, ‘per capita gdp’."
   ]
  },
  {
   "cell_type": "code",
   "execution_count": 69,
   "metadata": {},
   "outputs": [
    {
     "data": {
      "text/html": [
       "<div>\n",
       "<style scoped>\n",
       "    .dataframe tbody tr th:only-of-type {\n",
       "        vertical-align: middle;\n",
       "    }\n",
       "\n",
       "    .dataframe tbody tr th {\n",
       "        vertical-align: top;\n",
       "    }\n",
       "\n",
       "    .dataframe thead th {\n",
       "        text-align: right;\n",
       "    }\n",
       "</style>\n",
       "<table border=\"1\" class=\"dataframe\">\n",
       "  <thead>\n",
       "    <tr style=\"text-align: right;\">\n",
       "      <th></th>\n",
       "      <th>Country</th>\n",
       "      <th>Year</th>\n",
       "      <th>per capita gdp</th>\n",
       "    </tr>\n",
       "  </thead>\n",
       "  <tbody>\n",
       "    <tr>\n",
       "      <td>0</td>\n",
       "      <td>Albania</td>\n",
       "      <td>1987</td>\n",
       "      <td>796</td>\n",
       "    </tr>\n",
       "    <tr>\n",
       "      <td>1</td>\n",
       "      <td>Albania</td>\n",
       "      <td>1988</td>\n",
       "      <td>769</td>\n",
       "    </tr>\n",
       "    <tr>\n",
       "      <td>2</td>\n",
       "      <td>Albania</td>\n",
       "      <td>1989</td>\n",
       "      <td>833</td>\n",
       "    </tr>\n",
       "    <tr>\n",
       "      <td>3</td>\n",
       "      <td>Albania</td>\n",
       "      <td>1992</td>\n",
       "      <td>251</td>\n",
       "    </tr>\n",
       "    <tr>\n",
       "      <td>4</td>\n",
       "      <td>Albania</td>\n",
       "      <td>1993</td>\n",
       "      <td>437</td>\n",
       "    </tr>\n",
       "  </tbody>\n",
       "</table>\n",
       "</div>"
      ],
      "text/plain": [
       "   Country  Year  per capita gdp\n",
       "0  Albania  1987             796\n",
       "1  Albania  1988             769\n",
       "2  Albania  1989             833\n",
       "3  Albania  1992             251\n",
       "4  Albania  1993             437"
      ]
     },
     "execution_count": 69,
     "metadata": {},
     "output_type": "execute_result"
    }
   ],
   "source": [
    "df_new2 = df_suicide.groupby(['country','year'])['gdp_per_capita ($)'].first().reset_index().copy()\n",
    "df_new2= df_new2.rename(columns={'gdp_per_capita ($)': 'per capita gdp', 'country':'Country','year':'Year'})\n",
    "df_new2.head(5)"
   ]
  },
  {
   "cell_type": "markdown",
   "metadata": {
    "colab_type": "text",
    "id": "QW_JzmKCNCAl"
   },
   "source": [
    "#### c) Merge the above two tables using ‘Country’ as the merge column."
   ]
  },
  {
   "cell_type": "code",
   "execution_count": 70,
   "metadata": {},
   "outputs": [
    {
     "data": {
      "text/html": [
       "<div>\n",
       "<style scoped>\n",
       "    .dataframe tbody tr th:only-of-type {\n",
       "        vertical-align: middle;\n",
       "    }\n",
       "\n",
       "    .dataframe tbody tr th {\n",
       "        vertical-align: top;\n",
       "    }\n",
       "\n",
       "    .dataframe thead th {\n",
       "        text-align: right;\n",
       "    }\n",
       "</style>\n",
       "<table border=\"1\" class=\"dataframe\">\n",
       "  <thead>\n",
       "    <tr style=\"text-align: right;\">\n",
       "      <th></th>\n",
       "      <th>Country</th>\n",
       "      <th>Year</th>\n",
       "      <th>Total suicides</th>\n",
       "      <th>per capita gdp</th>\n",
       "    </tr>\n",
       "  </thead>\n",
       "  <tbody>\n",
       "    <tr>\n",
       "      <td>0</td>\n",
       "      <td>Albania</td>\n",
       "      <td>1987</td>\n",
       "      <td>73</td>\n",
       "      <td>796</td>\n",
       "    </tr>\n",
       "    <tr>\n",
       "      <td>1</td>\n",
       "      <td>Albania</td>\n",
       "      <td>1988</td>\n",
       "      <td>63</td>\n",
       "      <td>769</td>\n",
       "    </tr>\n",
       "    <tr>\n",
       "      <td>2</td>\n",
       "      <td>Albania</td>\n",
       "      <td>1989</td>\n",
       "      <td>68</td>\n",
       "      <td>833</td>\n",
       "    </tr>\n",
       "    <tr>\n",
       "      <td>3</td>\n",
       "      <td>Albania</td>\n",
       "      <td>1992</td>\n",
       "      <td>47</td>\n",
       "      <td>251</td>\n",
       "    </tr>\n",
       "    <tr>\n",
       "      <td>4</td>\n",
       "      <td>Albania</td>\n",
       "      <td>1993</td>\n",
       "      <td>73</td>\n",
       "      <td>437</td>\n",
       "    </tr>\n",
       "  </tbody>\n",
       "</table>\n",
       "</div>"
      ],
      "text/plain": [
       "   Country  Year  Total suicides  per capita gdp\n",
       "0  Albania  1987              73             796\n",
       "1  Albania  1988              63             769\n",
       "2  Albania  1989              68             833\n",
       "3  Albania  1992              47             251\n",
       "4  Albania  1993              73             437"
      ]
     },
     "execution_count": 70,
     "metadata": {},
     "output_type": "execute_result"
    }
   ],
   "source": [
    "merged = pd.merge(df_new, df_new2, on='Country', how=\"inner\").rename(columns={'Year_x':'Year'}).drop_duplicates(subset=('Country','Year','per capita gdp'), keep='first', inplace=False).drop_duplicates(subset=('Country','Year','per capita gdp'), keep='first', inplace=False)\n",
    "merged = merged[merged['Year'] == merged['Year_y']].drop(columns=['Year_y']).reset_index().drop(columns=['index'])\n",
    "merged.head()"
   ]
  },
  {
   "cell_type": "markdown",
   "metadata": {},
   "source": [
    "------------------------------"
   ]
  },
  {
   "cell_type": "markdown",
   "metadata": {
    "colab": {},
    "colab_type": "code",
    "id": "kLzpIh7sNCAs"
   },
   "source": [
    "# ----------------------------------- Happy Learning -----------------------------------------"
   ]
  }
 ],
 "metadata": {
  "colab": {
   "name": "EDA_set1_answers.ipynb",
   "provenance": [],
   "version": "0.3.2"
  },
  "kernelspec": {
   "display_name": "Python 3",
   "language": "python",
   "name": "python3"
  },
  "language_info": {
   "codemirror_mode": {
    "name": "ipython",
    "version": 3
   },
   "file_extension": ".py",
   "mimetype": "text/x-python",
   "name": "python",
   "nbconvert_exporter": "python",
   "pygments_lexer": "ipython3",
   "version": "3.7.4"
  }
 },
 "nbformat": 4,
 "nbformat_minor": 1
}
